{
 "cells": [
  {
   "cell_type": "markdown",
   "metadata": {},
   "source": [
    "# Dagster Example\n",
    "\n",
    "This is an example in the notebook."
   ]
  },
  {
   "cell_type": "code",
   "execution_count": 8,
   "metadata": {},
   "outputs": [],
   "source": [
    "from dagster import (\n",
    "    InputDefinition,\n",
    "    Output,\n",
    "    OutputDefinition,\n",
    "    execute_pipeline,\n",
    "    pipeline,\n",
    "    solid\n",
    ")\n",
    "from dagster_pandas import DataFrame\n",
    "\n",
    "from darts import models\n",
    "import pandas as pd\n",
    "\n",
    "from soam.forecaster import Forecaster\n",
    "from soam.savers import CSVSaver"
   ]
  },
  {
   "cell_type": "code",
   "execution_count": 10,
   "metadata": {},
   "outputs": [],
   "source": [
    "@solid(output_defs=[OutputDefinition(name=\"forecaster\")])\n",
    "def crete_model(context) -> Forecaster:\n",
    "    my_model = models.Prophet(weekly_seasonality=False, daily_seasonality=False)\n",
    "    forecaster = Forecaster(my_model)\n",
    "    return forecaster"
   ]
  },
  {
   "cell_type": "code",
   "execution_count": null,
   "metadata": {},
   "outputs": [],
   "source": [
    "@solid(output_defs=[OutputDefinition(name=\"retail_dataset\", dagster_type=DataFrame)])\n",
    "def read_csv(context):\n",
    "    return pd.read_csv(\"./example_retail_sales.csv\")"
   ]
  },
  {
   "cell_type": "code",
   "execution_count": null,
   "metadata": {},
   "outputs": [],
   "source": [
    "@solid(input_defs=[\n",
    "       InputDefinition(\"forecaster\"),\n",
    "       InputDefinition(\"retail_dataset\")\n",
    "       ])\n",
    "def forecast_save(context, forecaster, retail_dataset):\n",
    "    prediction = forecaster.run(raw_series=retail_dataset, output_length=7)\n",
    "    prediction.to_csv(\"./example_retail_predictions.csv\", index=False)"
   ]
  },
  {
   "cell_type": "code",
   "execution_count": 14,
   "metadata": {
    "tags": []
   },
   "outputs": [],
   "source": [
    "@pipeline\n",
    "def serial_pipeline():\n",
    "    forecast_save(crete_model(),read_csv())"
   ]
  },
  {
   "cell_type": "code",
   "execution_count": 15,
   "metadata": {
    "tags": []
   },
   "outputs": [
    {
     "output_type": "stream",
     "name": "stderr",
     "text": "2020-08-21 10:23:11 - dagster - DEBUG - serial_pipeline - a0f411d7-c849-4bfe-a26a-adf3db748551 - PIPELINE_START - Started execution of pipeline \"serial_pipeline\".\n                 pid = 7672\n2020-08-21 10:23:11 - dagster - DEBUG - serial_pipeline - a0f411d7-c849-4bfe-a26a-adf3db748551 - ENGINE_EVENT - Executing steps in process (pid: 7672)\n event_specific_data = {\"error\": null, \"marker_end\": null, \"marker_start\": null, \"metadata_entries\": [[\"pid\", null, [\"7672\"]], [\"step_keys\", null, [\"['crete_model.compute', 'read_csv.compute', 'forecast_save.compute']\"]]]}\n                 pid = 7672\n2020-08-21 10:23:11 - dagster - DEBUG - serial_pipeline - a0f411d7-c849-4bfe-a26a-adf3db748551 - STEP_START - Started execution of step \"crete_model.compute\".\n                 pid = 7672\n               solid = \"crete_model\"\n    solid_definition = \"crete_model\"\n            step_key = \"crete_model.compute\"\n2020-08-21 10:23:11 - dagster - DEBUG - serial_pipeline - a0f411d7-c849-4bfe-a26a-adf3db748551 - STEP_OUTPUT - Yielded output \"forecaster\" of type \"Any\". (Type check passed).\n event_specific_data = {\"intermediate_materialization\": null, \"step_output_handle\": [\"crete_model.compute\", \"forecaster\"], \"type_check_data\": [true, \"forecaster\", null, []]}\n                 pid = 7672\n               solid = \"crete_model\"\n    solid_definition = \"crete_model\"\n            step_key = \"crete_model.compute\"\n2020-08-21 10:23:11 - dagster - DEBUG - serial_pipeline - a0f411d7-c849-4bfe-a26a-adf3db748551 - STEP_SUCCESS - Finished execution of step \"crete_model.compute\" in 2.66ms.\n event_specific_data = {\"duration_ms\": 2.658453000094596}\n                 pid = 7672\n               solid = \"crete_model\"\n    solid_definition = \"crete_model\"\n            step_key = \"crete_model.compute\"\n2020-08-21 10:23:11 - dagster - DEBUG - serial_pipeline - a0f411d7-c849-4bfe-a26a-adf3db748551 - STEP_START - Started execution of step \"read_csv.compute\".\n                 pid = 7672\n               solid = \"read_csv\"\n    solid_definition = \"read_csv\"\n            step_key = \"read_csv.compute\"\n2020-08-21 10:23:11 - dagster - DEBUG - serial_pipeline - a0f411d7-c849-4bfe-a26a-adf3db748551 - STEP_OUTPUT - Yielded output \"retail_dataset\" of type \"PandasDataFrame\". (Type check passed).\n event_specific_data = {\"intermediate_materialization\": null, \"step_output_handle\": [\"read_csv.compute\", \"retail_dataset\"], \"type_check_data\": [true, \"retail_dataset\", null, [[\"row_count\", \"Number of rows in DataFrame\", [\"293\"]], [\"metadata\", null, [{\"columns\": [\"ds\", \"y\"]}]]]]}\n                 pid = 7672\n               solid = \"read_csv\"\n    solid_definition = \"read_csv\"\n            step_key = \"read_csv.compute\"\n2020-08-21 10:23:11 - dagster - DEBUG - serial_pipeline - a0f411d7-c849-4bfe-a26a-adf3db748551 - STEP_SUCCESS - Finished execution of step \"read_csv.compute\" in 7.91ms.\n event_specific_data = {\"duration_ms\": 7.909851000022172}\n                 pid = 7672\n               solid = \"read_csv\"\n    solid_definition = \"read_csv\"\n            step_key = \"read_csv.compute\"\n2020-08-21 10:23:11 - dagster - DEBUG - serial_pipeline - a0f411d7-c849-4bfe-a26a-adf3db748551 - STEP_START - Started execution of step \"forecast_save.compute\".\n                 pid = 7672\n               solid = \"forecast_save\"\n    solid_definition = \"forecast_save\"\n            step_key = \"forecast_save.compute\"\n2020-08-21 10:23:11 - dagster - DEBUG - serial_pipeline - a0f411d7-c849-4bfe-a26a-adf3db748551 - STEP_INPUT - Got input \"forecaster\" of type \"Any\". (Type check passed).\n event_specific_data = {\"input_name\": \"forecaster\", \"type_check_data\": [true, \"forecaster\", null, []]}\n                 pid = 7672\n               solid = \"forecast_save\"\n    solid_definition = \"forecast_save\"\n            step_key = \"forecast_save.compute\"\n2020-08-21 10:23:11 - dagster - DEBUG - serial_pipeline - a0f411d7-c849-4bfe-a26a-adf3db748551 - STEP_INPUT - Got input \"retail_dataset\" of type \"Any\". (Type check passed).\n event_specific_data = {\"input_name\": \"retail_dataset\", \"type_check_data\": [true, \"retail_dataset\", null, []]}\n                 pid = 7672\n               solid = \"forecast_save\"\n    solid_definition = \"forecast_save\"\n            step_key = \"forecast_save.compute\"\n2020-08-21 10:23:14 - dagster - DEBUG - serial_pipeline - a0f411d7-c849-4bfe-a26a-adf3db748551 - STEP_OUTPUT - Yielded output \"result\" of type \"Any\". (Type check passed).\n event_specific_data = {\"intermediate_materialization\": null, \"step_output_handle\": [\"forecast_save.compute\", \"result\"], \"type_check_data\": [true, \"result\", null, []]}\n                 pid = 7672\n               solid = \"forecast_save\"\n    solid_definition = \"forecast_save\"\n            step_key = \"forecast_save.compute\"\n2020-08-21 10:23:14 - dagster - DEBUG - serial_pipeline - a0f411d7-c849-4bfe-a26a-adf3db748551 - STEP_SUCCESS - Finished execution of step \"forecast_save.compute\" in 2.76s.\n event_specific_data = {\"duration_ms\": 2757.600729999922}\n                 pid = 7672\n               solid = \"forecast_save\"\n    solid_definition = \"forecast_save\"\n            step_key = \"forecast_save.compute\"\n2020-08-21 10:23:14 - dagster - DEBUG - serial_pipeline - a0f411d7-c849-4bfe-a26a-adf3db748551 - ENGINE_EVENT - Finished steps in process (pid: 7672) in 2.79s\n event_specific_data = {\"error\": null, \"marker_end\": null, \"marker_start\": null, \"metadata_entries\": [[\"pid\", null, [\"7672\"]], [\"step_keys\", null, [\"['crete_model.compute', 'read_csv.compute', 'forecast_save.compute']\"]]]}\n                 pid = 7672\n2020-08-21 10:23:14 - dagster - DEBUG - serial_pipeline - a0f411d7-c849-4bfe-a26a-adf3db748551 - PIPELINE_SUCCESS - Finished execution of pipeline \"serial_pipeline\".\n                 pid = 7672\n"
    },
    {
     "output_type": "execute_result",
     "data": {
      "text/plain": "<dagster.core.execution.results.PipelineExecutionResult at 0x7f909de31210>"
     },
     "metadata": {},
     "execution_count": 15
    }
   ],
   "source": [
    "execute_pipeline(serial_pipeline)"
   ]
  }
 ],
 "metadata": {
  "hide_input": false,
  "kernelspec": {
   "display_name": "Python 3",
   "language": "python",
   "name": "python3"
  },
  "language_info": {
   "codemirror_mode": {
    "name": "ipython",
    "version": 3
   },
   "file_extension": ".py",
   "mimetype": "text/x-python",
   "name": "python",
   "nbconvert_exporter": "python",
   "pygments_lexer": "ipython3",
   "version": "3.7.6"
  },
  "toc": {
   "base_numbering": 1,
   "nav_menu": {},
   "number_sections": true,
   "sideBar": true,
   "skip_h1_title": false,
   "title_cell": "Table of Contents",
   "title_sidebar": "Contents",
   "toc_cell": false,
   "toc_position": {},
   "toc_section_display": true,
   "toc_window_display": false
  },
  "varInspector": {
   "cols": {
    "lenName": 16,
    "lenType": 16,
    "lenVar": 40
   },
   "kernels_config": {
    "python": {
     "delete_cmd_postfix": "",
     "delete_cmd_prefix": "del ",
     "library": "var_list.py",
     "varRefreshCmd": "print(var_dic_list())"
    },
    "r": {
     "delete_cmd_postfix": ") ",
     "delete_cmd_prefix": "rm(",
     "library": "var_list.r",
     "varRefreshCmd": "cat(var_dic_list()) "
    }
   },
   "types_to_exclude": [
    "module",
    "function",
    "builtin_function_or_method",
    "instance",
    "_Feature"
   ],
   "window_display": false
  }
 },
 "nbformat": 4,
 "nbformat_minor": 1
}