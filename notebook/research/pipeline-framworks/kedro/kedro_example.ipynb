{
 "cells": [
  {
   "cell_type": "markdown",
   "metadata": {},
   "source": [
    "# Kedro Example\n",
    "\n",
    "This is an example in the notebook, Kedro expect you to use it with them folders structure"
   ]
  },
  {
   "cell_type": "code",
   "execution_count": 1,
   "metadata": {
    "tags": []
   },
   "outputs": [
    {
     "output_type": "stream",
     "name": "stderr",
     "text": "/home/fabian/anaconda3/lib/python3.7/site-packages/patsy/constraint.py:13: DeprecationWarning: Using or importing the ABCs from 'collections' instead of from 'collections.abc' is deprecated since Python 3.3,and in 3.9 it will stop working\n  from collections import Mapping\n"
    }
   ],
   "source": [
    "from kedro.extras.datasets.pandas import CSVDataSet\n",
    "from kedro.io import DataCatalog, MemoryDataSet\n",
    "from kedro.pipeline import node, Pipeline\n",
    "from kedro.runner import SequentialRunner\n",
    "\n",
    "from darts import models\n",
    "\n",
    "from soam.forecaster import Forecaster\n",
    "from soam.savers import CSVSaver"
   ]
  },
  {
   "cell_type": "code",
   "execution_count": 42,
   "metadata": {
    "tags": []
   },
   "outputs": [
    {
     "output_type": "stream",
     "name": "stdout",
     "text": "--2020-08-19 13:26:34--  https://raw.githubusercontent.com/facebook/prophet/master/examples/example_retail_sales.csv\nResolving raw.githubusercontent.com (raw.githubusercontent.com)...151.101.216.133\nConnecting to raw.githubusercontent.com (raw.githubusercontent.com)|151.101.216.133|:443...connected.\nHTTP request sent, awaiting response...200 OK\nLength: 5279 (5,2K) [text/plain]\nSaving to: ‘example_retail_sales.csv’\n\nexample_retail_sale 100%[===================>]   5,16K  --.-KB/s    in 0,002s  \n\n2020-08-19 13:26:35 (3,28 MB/s) - ‘example_retail_sales.csv’ saved [5279/5279]\n\n"
    }
   ],
   "source": [
    "!wget https://raw.githubusercontent.com/facebook/prophet/master/examples/example_retail_sales.csv"
   ]
  },
  {
   "cell_type": "code",
   "execution_count": 12,
   "metadata": {},
   "outputs": [
    {
     "output_type": "execute_result",
     "data": {
      "text/plain": "             ds       y\n288  2016-01-01  400928\n289  2016-02-01  413554\n290  2016-03-01  460093\n291  2016-04-01  450935\n292  2016-05-01  471421",
      "text/html": "<div>\n<style scoped>\n    .dataframe tbody tr th:only-of-type {\n        vertical-align: middle;\n    }\n\n    .dataframe tbody tr th {\n        vertical-align: top;\n    }\n\n    .dataframe thead th {\n        text-align: right;\n    }\n</style>\n<table border=\"1\" class=\"dataframe\">\n  <thead>\n    <tr style=\"text-align: right;\">\n      <th></th>\n      <th>ds</th>\n      <th>y</th>\n    </tr>\n  </thead>\n  <tbody>\n    <tr>\n      <th>288</th>\n      <td>2016-01-01</td>\n      <td>400928</td>\n    </tr>\n    <tr>\n      <th>289</th>\n      <td>2016-02-01</td>\n      <td>413554</td>\n    </tr>\n    <tr>\n      <th>290</th>\n      <td>2016-03-01</td>\n      <td>460093</td>\n    </tr>\n    <tr>\n      <th>291</th>\n      <td>2016-04-01</td>\n      <td>450935</td>\n    </tr>\n    <tr>\n      <th>292</th>\n      <td>2016-05-01</td>\n      <td>471421</td>\n    </tr>\n  </tbody>\n</table>\n</div>"
     },
     "metadata": {},
     "execution_count": 12
    }
   ],
   "source": [
    "data_catalog = DataCatalog(\n",
    "    {\n",
    "        \"retail\": CSVDataSet(filepath=\"./example_retail_sales.csv\"), \n",
    "    }\n",
    ")\n",
    "retail_df = data_catalog.load(\"retail\")\n",
    "retail_df.tail()"
   ]
  },
  {
   "cell_type": "code",
   "execution_count": 52,
   "metadata": {
    "tags": []
   },
   "outputs": [
    {
     "output_type": "stream",
     "name": "stderr",
     "text": "INFO:kedro.pipeline.node:Running node: create_forecaster(None) -> [forecaster]\nINFO:kedro.io.data_catalog:Saving data to `forecaster` (MemoryDataSet)...\nINFO:kedro.runner.sequential_runner:Completed 1 out of 3 tasks\nINFO:kedro.io.data_catalog:Loading data from `forecaster` (MemoryDataSet)...\nINFO:kedro.pipeline.node:Running node: run_forecaster([forecaster]) -> [preds]\nINFO:kedro.io.data_catalog:Loading data from `retail` (CSVDataSet)...\nINFO:kedro.io.data_catalog:Saving data to `preds` (MemoryDataSet)...\nINFO:kedro.runner.sequential_runner:Completed 2 out of 3 tasks\nINFO:kedro.io.data_catalog:Loading data from `preds` (MemoryDataSet)...\nINFO:kedro.pipeline.node:Running node: save_preds([preds]) -> None\nINFO:kedro.io.data_catalog:Saving data to `predictions` (CSVDataSet)...\nINFO:kedro.runner.sequential_runner:Completed 3 out of 3 tasks\nINFO:kedro.runner.sequential_runner:Pipeline execution completed successfully.\n  forecast_date           yhat\n0    2016-06-01  466987.624670\n1    2016-07-01  468057.237735\n2    2016-08-01  475685.920274\n3    2016-09-01  456200.008411\n4    2016-10-01  467425.928359\n5    2016-11-01  469837.702104\n6    2016-12-01  517161.721280\n"
    },
    {
     "output_type": "execute_result",
     "data": {
      "text/plain": "{}"
     },
     "metadata": {},
     "execution_count": 52
    }
   ],
   "source": [
    "data_catalog = DataCatalog(\n",
    "    {\n",
    "        \"retail\": CSVDataSet(filepath=\"./example_retail_sales.csv\"), \n",
    "        \"predictions\": CSVDataSet(filepath=\"./preds.csv\")\n",
    "    }\n",
    ")\n",
    "\n",
    "def create_forecaster():\n",
    "    my_model = models.Prophet(weekly_seasonality=False, daily_seasonality=False)\n",
    "    forecaster = Forecaster(my_model)\n",
    "    return forecaster\n",
    "\n",
    "create_forecaster_node = node(create_forecaster, inputs=None, outputs=\"forecaster\")\n",
    "\n",
    "def run_forecaster(forecaster):\n",
    "    return forecaster.run(raw_series=data_catalog.load(\"retail\"), output_length=7)\n",
    "\n",
    "run_forecaster_node = node(run_forecaster, inputs=\"forecaster\", outputs=\"preds\")\n",
    "\n",
    "def save_preds(prediction):\n",
    "    data_catalog.save(\"predictions\", prediction)\n",
    "    \n",
    "\n",
    "save_preds_node = node(save_preds, inputs=\"preds\", outputs=None)\n",
    "\n",
    "# Assemble nodes into a pipeline\n",
    "pipeline = Pipeline([create_forecaster_node, run_forecaster_node, save_preds_node])\n",
    "\n",
    "# Create a runner\n",
    "runner = SequentialRunner()\n",
    "\n",
    "# Run the pipeline\n",
    "runner.run(pipeline, data_catalog)"
   ]
  }
 ],
 "metadata": {
  "hide_input": false,
  "kernelspec": {
   "display_name": "Python 3",
   "language": "python",
   "name": "python3"
  },
  "language_info": {
   "codemirror_mode": {
    "name": "ipython",
    "version": 3
   },
   "file_extension": ".py",
   "mimetype": "text/x-python",
   "name": "python",
   "nbconvert_exporter": "python",
   "pygments_lexer": "ipython3",
   "version": "3.7.6"
  },
  "toc": {
   "base_numbering": 1,
   "nav_menu": {},
   "number_sections": true,
   "sideBar": true,
   "skip_h1_title": false,
   "title_cell": "Table of Contents",
   "title_sidebar": "Contents",
   "toc_cell": false,
   "toc_position": {},
   "toc_section_display": true,
   "toc_window_display": false
  },
  "varInspector": {
   "cols": {
    "lenName": 16,
    "lenType": 16,
    "lenVar": 40
   },
   "kernels_config": {
    "python": {
     "delete_cmd_postfix": "",
     "delete_cmd_prefix": "del ",
     "library": "var_list.py",
     "varRefreshCmd": "print(var_dic_list())"
    },
    "r": {
     "delete_cmd_postfix": ") ",
     "delete_cmd_prefix": "rm(",
     "library": "var_list.r",
     "varRefreshCmd": "cat(var_dic_list()) "
    }
   },
   "types_to_exclude": [
    "module",
    "function",
    "builtin_function_or_method",
    "instance",
    "_Feature"
   ],
   "window_display": false
  }
 },
 "nbformat": 4,
 "nbformat_minor": 1
}