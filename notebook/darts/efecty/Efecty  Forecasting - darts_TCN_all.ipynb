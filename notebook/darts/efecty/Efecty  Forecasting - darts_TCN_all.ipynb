{
 "cells": [
  {
   "cell_type": "markdown",
   "metadata": {},
   "source": [
    "# Time Series Forecasting with Dart TCN model"
   ]
  },
  {
   "cell_type": "code",
   "execution_count": 1,
   "metadata": {},
   "outputs": [],
   "source": [
    "import matplotlib.pyplot as plt\n",
    "import pandas as pd\n",
    "import numpy as np\n",
    "from darts import TimeSeries\n",
    "from typing import Optional\n",
    "from darts import models, backtesting\n",
    "from darts.preprocessing import ScalerWrapper\n",
    "from darts.utils import missing_values\n",
    "from custom_code import sumape, create_fortnights\n",
    "%matplotlib inline"
   ]
  },
  {
   "cell_type": "code",
   "execution_count": 2,
   "metadata": {},
   "outputs": [],
   "source": [
    "pd.plotting.register_matplotlib_converters()\n"
   ]
  },
  {
   "cell_type": "markdown",
   "metadata": {},
   "source": [
    "# Dart"
   ]
  },
  {
   "cell_type": "markdown",
   "metadata": {},
   "source": [
    "## Train one model for each entity"
   ]
  },
  {
   "cell_type": "code",
   "execution_count": 3,
   "metadata": {},
   "outputs": [
    {
     "output_type": "execute_result",
     "data": {
      "text/plain": "          ds          y  entity_id\n0 2019-02-05  3383730.0     995152\n1 2019-02-05   988994.0     992133\n2 2019-02-05   597150.0     995388\n3 2019-02-05    50000.0     902343\n4 2019-02-05  1426410.0     993733",
      "text/html": "<div>\n<style scoped>\n    .dataframe tbody tr th:only-of-type {\n        vertical-align: middle;\n    }\n\n    .dataframe tbody tr th {\n        vertical-align: top;\n    }\n\n    .dataframe thead th {\n        text-align: right;\n    }\n</style>\n<table border=\"1\" class=\"dataframe\">\n  <thead>\n    <tr style=\"text-align: right;\">\n      <th></th>\n      <th>ds</th>\n      <th>y</th>\n      <th>entity_id</th>\n    </tr>\n  </thead>\n  <tbody>\n    <tr>\n      <th>0</th>\n      <td>2019-02-05</td>\n      <td>3383730.0</td>\n      <td>995152</td>\n    </tr>\n    <tr>\n      <th>1</th>\n      <td>2019-02-05</td>\n      <td>988994.0</td>\n      <td>992133</td>\n    </tr>\n    <tr>\n      <th>2</th>\n      <td>2019-02-05</td>\n      <td>597150.0</td>\n      <td>995388</td>\n    </tr>\n    <tr>\n      <th>3</th>\n      <td>2019-02-05</td>\n      <td>50000.0</td>\n      <td>902343</td>\n    </tr>\n    <tr>\n      <th>4</th>\n      <td>2019-02-05</td>\n      <td>1426410.0</td>\n      <td>993733</td>\n    </tr>\n  </tbody>\n</table>\n</div>"
     },
     "metadata": {},
     "execution_count": 3
    }
   ],
   "source": [
    "df_all = pd.read_csv(\"efecty_drawdowns.csv\", dtype={\"y\":float, \"entity_id\":int, \"ds\":str}, index_col=0)\n",
    "df_all[\"ds\"] = pd.to_datetime(df_all[\"ds\"], format='%Y-%m-%d')\n",
    "df_all.head()"
   ]
  },
  {
   "cell_type": "code",
   "execution_count": 4,
   "metadata": {},
   "outputs": [
    {
     "output_type": "execute_result",
     "data": {
      "text/plain": "254"
     },
     "metadata": {},
     "execution_count": 4
    }
   ],
   "source": [
    "len(df_all.entity_id.unique())"
   ]
  },
  {
   "cell_type": "markdown",
   "metadata": {},
   "source": [
    "## Fill missing values\n",
    "TimeSeries add missing date with nan values, and you have to fillna values with `auto_fillna` function"
   ]
  },
  {
   "cell_type": "code",
   "execution_count": 5,
   "metadata": {},
   "outputs": [],
   "source": [
    "def create_time_series(df:pd.DataFrame) -> TimeSeries:\n",
    "    \"\"\"\n",
    "    Create a time series filling missing dates and filling the values of those mising dates.\n",
    "\n",
    "    Parameters\n",
    "    ----------\n",
    "    df\n",
    "        pandas dataframe.\n",
    "    Returns\n",
    "    -------\n",
    "    TimeSeries\n",
    "        The TimeSeries filled.\n",
    "    \"\"\"\n",
    "    series = TimeSeries.from_dataframe(df, \"ds\", \"y\" )\n",
    "    series = missing_values.auto_fillna(series, method=\"slinear\")\n",
    "    return series"
   ]
  },
  {
   "cell_type": "code",
   "execution_count": 6,
   "metadata": {},
   "outputs": [],
   "source": [
    "def create_quincenas_ts(series: TimeSeries) -> TimeSeries: \n",
    "    \"\"\"\n",
    "    Train a TCN Model for the given time series and hyperparameters.\n",
    "    \n",
    "    Parameters\n",
    "    ----------\n",
    "    epochs\n",
    "        number of epochs to train \n",
    "    pred_length\n",
    "        length of the prediction\n",
    "    entity_name\n",
    "        name of the entity to add it to the model\n",
    "    train_transformed\n",
    "        TimeSeries to train with\n",
    "    val_transformed\n",
    "        TimeSeries for validation\n",
    "    Returns\n",
    "    -------\n",
    "    TCNModel\n",
    "        A TCNModel to trained\n",
    "    \"\"\"\n",
    "    df_quincenas = create_fortnights(series.pd_dataframe().index[0].date(), series.pd_dataframe().index[-1].date())\n",
    "    df_quincenas.set_index(\"ds\", inplace=True)\n",
    "    df_quincenas.replace(to_replace=\"quincena\", value=1, inplace=True)\n",
    "\n",
    "    df_quincena_full = pd.DataFrame({\n",
    "        \"ds\":pd.date_range(start=series.pd_dataframe().index[0].date(), end=series.pd_dataframe().index[-1].date()),\n",
    "        \"holiday\":0\n",
    "    })\n",
    "    df_quincena_full.set_index(\"ds\", inplace=True)\n",
    "    df_quincena_full.update(df_quincenas)\n",
    "\n",
    "    return TimeSeries.from_dataframe(df_quincena_full, time_col=None, value_cols=\"holiday\" )"
   ]
  },
  {
   "cell_type": "code",
   "execution_count": 7,
   "metadata": {},
   "outputs": [],
   "source": [
    "def preprocess_data(series: TimeSeries, date_division: str) -> (TimeSeries , TimeSeries , TimeSeries):\n",
    "    \"\"\"\n",
    "    For a gived TimeSeries and a date division will normalize and add quincenas\n",
    "    and then split the entire ts in val and train.\n",
    "\n",
    "    Parameters\n",
    "    ----------\n",
    "    series\n",
    "        The TimeSeries to procces\n",
    "    date_division\n",
    "        A string of dateTime for split the series.\n",
    "    Returns\n",
    "    -------\n",
    "    TimeSeries\n",
    "        The gived TimeSeries with attributes and normalized\n",
    "    TimeSeries\n",
    "        A new TimeSeries, for training.\n",
    "    TimeSeries\n",
    "        A new TimeSeries, for validation\n",
    "    \"\"\"\n",
    "    \n",
    "    ts_enhanced = series.add_holidays(country_code=\"COL\")\n",
    "    quincena_ts = create_quincenas_ts(ts_enhanced)\n",
    "    ts_enhanced = ts_enhanced.stack(quincena_ts)\n",
    "    train, val = ts_enhanced.split_after(pd.Timestamp(date_division))\n",
    "    transformer = ScalerWrapper()\n",
    "    train_transformed = transformer.fit_transform(train)\n",
    "    val_transformed = transformer.transform(val)\n",
    "    ts_transformed = transformer.transform(ts_enhanced)\n",
    "\n",
    "    return ts_transformed, train_transformed, val_transformed\n"
   ]
  },
  {
   "cell_type": "code",
   "execution_count": 8,
   "metadata": {
    "tags": []
   },
   "outputs": [],
   "source": [
    "def train_model(\n",
    "    epochs:int, \n",
    "    pred_length: int,\n",
    "    entity_name:str, \n",
    "    train_transformed:TimeSeries , \n",
    "    val_transformed:TimeSeries) -> models.TCNModel :\n",
    "    \"\"\"\n",
    "    Train a TCN Model for the given time series and hyperparameters.\n",
    "    \n",
    "    Parameters\n",
    "    ----------\n",
    "    epochs\n",
    "        number of epochs to train \n",
    "    pred_length\n",
    "        length of the prediction\n",
    "    entity_name\n",
    "        name of the entity to add it to the model\n",
    "    train_transformed\n",
    "        TimeSeries to train with\n",
    "    val_transformed\n",
    "        TimeSeries for validation\n",
    "    Returns\n",
    "    -------\n",
    "    TCNModel\n",
    "        A TCNModel to trained\n",
    "    \"\"\"\n",
    "    my_model_2 = models.TCNModel(\n",
    "        input_size = 3 ,\n",
    "        n_epochs = epochs,\n",
    "        input_length = 15,\n",
    "        output_length = pred_length,\n",
    "        dropout = 0.1,\n",
    "        dilation_base = 1,\n",
    "        weight_norm = True,\n",
    "        kernel_size = 7,\n",
    "        num_filters = 4,\n",
    "        model_name=\"TCN_\" + entity_name\n",
    "    )\n",
    "    # fit the model\n",
    "    my_model_2.fit(train_transformed, val_series=val_transformed, target_indices=[0])\n",
    "\n",
    "    return my_model_2"
   ]
  },
  {
   "cell_type": "code",
   "execution_count": 9,
   "metadata": {},
   "outputs": [],
   "source": [
    "def predict_multivariante_model(\n",
    "    val_transformed:TimeSeries,\n",
    "    model:models.TCNModel,\n",
    "    pred_length: int ) -> float:\n",
    "    \"\"\"\n",
    "    predict for a gived TCN model and a multivariante TimeSeries, return the sumape error\n",
    "\n",
    "    Parameters\n",
    "    ----------\n",
    "    val_transformed\n",
    "        number of epochs to train \n",
    "    model\n",
    "        length of the prediction\n",
    "    pred_length\n",
    "        name of the entity to add it to the model\n",
    "    \n",
    "    Returns\n",
    "    -------\n",
    "    float\n",
    "        the error of the prediction in the model\n",
    "    \"\"\"\n",
    "\n",
    "\n",
    "    prediction = model.predict(pred_length, use_full_output_length=True)\n",
    "    error = sumape(\n",
    "        prediction.slice_intersect(val_transformed), val_transformed.univariate_component(0)\n",
    "        )\n",
    "    return error"
   ]
  },
  {
   "cell_type": "code",
   "execution_count": 10,
   "metadata": {
    "tags": []
   },
   "outputs": [
    {
     "output_type": "stream",
     "name": "stdout",
     "text": "992133\n[2020-07-23 15:02:35,286] INFO | darts.models.tcn_model | Number of layers chosen: 2\n992133 49.678959595611076\n992807\n[2020-07-23 15:03:14,068] ERROR | darts.timeseries | ValueError: Could not infer explicit frequency. Observed frequencies: {'D', '2D'}. Is Series too short (n=2)?\nerror in entity: 992807\n997611\n[2020-07-23 15:03:14,498] INFO | darts.models.tcn_model | Number of layers chosen: 2\n997611 100.0\n992440\n[2020-07-23 15:03:56,698] INFO | darts.models.tcn_model | Number of layers chosen: 2\n992440 44.04296881313929\n901703\n[2020-07-23 15:04:37,824] INFO | darts.models.tcn_model | Number of layers chosen: 2\n901703 41.25191763256943\n904458\n[2020-07-23 15:05:18,895] INFO | darts.models.tcn_model | Number of layers chosen: 2\n904458 15.167049209226633\n995567\n[2020-07-23 15:05:58,042] INFO | darts.models.tcn_model | Number of layers chosen: 2\n995567 21.211260327071162\n10434\n[2020-07-23 15:06:32,493] INFO | darts.models.tcn_model | Number of layers chosen: 2\n10434 35.47663107839332\n999100\n[2020-07-23 15:07:10,941] INFO | darts.models.tcn_model | Number of layers chosen: 2\n999100 21.062553948519113\n995627\n[2020-07-23 15:07:44,427] INFO | darts.models.tcn_model | Number of layers chosen: 2\n995627 44.62089548099634\n991476\n[2020-07-23 15:08:12,824] INFO | darts.models.tcn_model | Number of layers chosen: 2\n991476 44.975735267391336\n70015\n[2020-07-23 15:08:38,070] INFO | darts.models.tcn_model | Number of layers chosen: 2\n70015 39.900931978691695\n995363\n[2020-07-23 15:09:09,858] INFO | darts.models.tcn_model | Number of layers chosen: 2\n995363 30.613348652801736\n992521\n[2020-07-23 15:09:43,827] INFO | darts.models.tcn_model | Number of layers chosen: 2\n992521 47.629546243528196\n904095\n[2020-07-23 15:10:15,040] INFO | darts.models.tcn_model | Number of layers chosen: 2\n904095 33.14630526812899\n18001\n[2020-07-23 15:10:43,915] INFO | darts.models.tcn_model | Number of layers chosen: 2\n18001 21.4072240654673\n996986\n[2020-07-23 15:11:16,793] INFO | darts.models.tcn_model | Number of layers chosen: 2\n996986 32.49975942782687\n993619\n[2020-07-23 15:11:45,941] INFO | darts.models.tcn_model | Number of layers chosen: 2\n993619 37.568587080299395\n46001\n[2020-07-23 15:12:19,993] INFO | darts.models.tcn_model | Number of layers chosen: 2\n46001 11.754186113678394\n996490\n[2020-07-23 15:12:50,006] INFO | darts.models.tcn_model | Number of layers chosen: 2\n996490 30.38019280079588\n902247\n[2020-07-23 15:13:21,023] INFO | darts.models.tcn_model | Number of layers chosen: 2\n902247 30.66322791554309\n903545\n[2020-07-23 15:13:54,749] INFO | darts.models.tcn_model | Number of layers chosen: 2\n903545 16.1473695731815\n800263\n[2020-07-23 15:14:28,937] INFO | darts.models.tcn_model | Number of layers chosen: 2\n[2020-07-23 15:15:06,601] ERROR | darts.timeseries | ValueError: Could not infer explicit frequency. Observed frequencies: {'D', 'B'}. Is Series too short (n=2)?\n800263 41.75344742189638\n904493\nerror in entity: 904493\n[2020-07-23 15:15:06,877] INFO | darts.models.tcn_model | Number of layers chosen: 2\n902647\n902647 52.17879701369187\n904236\n[2020-07-23 15:15:44,121] INFO | darts.models.tcn_model | Number of layers chosen: 2\n904236 31.783611546063266\n800244\n[2020-07-23 15:16:23,939] INFO | darts.models.tcn_model | Number of layers chosen: 2\n800244 24.22318190411239\n991947\n[2020-07-23 15:17:04,461] INFO | darts.models.tcn_model | Number of layers chosen: 2\n991947 52.466361816979614\n900333\n[2020-07-23 15:17:47,113] INFO | darts.models.tcn_model | Number of layers chosen: 2\n900333 11.296263090253502\n992032\n[2020-07-23 15:18:23,791] INFO | darts.models.tcn_model | Number of layers chosen: 2\n992032 15.657689515132395\n902987\n[2020-07-23 15:19:13,585] INFO | darts.models.tcn_model | Number of layers chosen: 2\n902987 67.22745102284577\n904446\n[2020-07-23 15:19:56,418] INFO | darts.models.tcn_model | Number of layers chosen: 2\n904446 12.997884493100944\n900057\n[2020-07-23 15:20:34,404] INFO | darts.models.tcn_model | Number of layers chosen: 2\n900057 22.01089038842498\n903787\n[2020-07-23 15:21:15,022] INFO | darts.models.tcn_model | Number of layers chosen: 2\n903787 10.15212693373368\n904954\n[2020-07-23 15:21:56,703] INFO | darts.models.tcn_model | Number of layers chosen: 2\n904954 46.955783094851625\n904872\n[2020-07-23 15:22:31,293] INFO | darts.models.tcn_model | Number of layers chosen: 2\n904872 30.11545493022385\n"
    }
   ],
   "source": [
    "entities = df_all.entity_id.unique()\n",
    "error_dict_3 = {} # change the pred_length and rerun it\n",
    "date_division = \"20200113\"\n",
    "epochs = 200\n",
    "pred_length = 3 # has to be less than input_length\n",
    "# 5 / 3 \n",
    "a = 0\n",
    "\n",
    "for entity in entities:\n",
    "    df_entity = df_all[df_all.entity_id == entity]\n",
    "    if len(df_entity) > 370 :\n",
    "        print(entity)\n",
    "        try :\n",
    "            ts, train, val = preprocess_data(create_time_series(df_entity), date_division)\n",
    "            trained_model = train_model(200, pred_length, str(entity), train, val)\n",
    "            error = predict_multivariante_model(val, trained_model, pred_length)\n",
    "            print(entity, error)\n",
    "            error_dict_3[entity] = error\n",
    "        except:\n",
    "            print(\"error in entity: \" + str(entity))\n",
    "            pass"
   ]
  },
  {
   "cell_type": "code",
   "execution_count": 11,
   "metadata": {},
   "outputs": [],
   "source": [
    "# error_dict_12"
   ]
  },
  {
   "cell_type": "code",
   "execution_count": 12,
   "metadata": {},
   "outputs": [
    {
     "output_type": "execute_result",
     "data": {
      "text/plain": "{992133: 49.678959595611076,\n 997611: 100.0,\n 992440: 44.04296881313929,\n 901703: 41.25191763256943,\n 904458: 15.167049209226633,\n 995567: 21.211260327071162,\n 10434: 35.47663107839332,\n 999100: 21.062553948519113,\n 995627: 44.62089548099634,\n 991476: 44.975735267391336,\n 70015: 39.900931978691695,\n 995363: 30.613348652801736,\n 992521: 47.629546243528196,\n 904095: 33.14630526812899,\n 18001: 21.4072240654673,\n 996986: 32.49975942782687,\n 993619: 37.568587080299395,\n 46001: 11.754186113678394,\n 996490: 30.38019280079588,\n 902247: 30.66322791554309,\n 903545: 16.1473695731815,\n 800263: 41.75344742189638,\n 902647: 52.17879701369187,\n 904236: 31.783611546063266,\n 800244: 24.22318190411239,\n 991947: 52.466361816979614,\n 900333: 11.296263090253502,\n 992032: 15.657689515132395,\n 902987: 67.22745102284577,\n 904446: 12.997884493100944,\n 900057: 22.01089038842498,\n 903787: 10.15212693373368,\n 904954: 46.955783094851625,\n 904872: 30.11545493022385}"
     },
     "metadata": {},
     "execution_count": 12
    }
   ],
   "source": [
    "error_dict_3"
   ]
  },
  {
   "cell_type": "code",
   "execution_count": 13,
   "metadata": {},
   "outputs": [
    {
     "output_type": "execute_result",
     "data": {
      "text/plain": "Text(0.5, 1.0, 'Average SuMAPE Error TCN: 34.35%')"
     },
     "metadata": {},
     "execution_count": 13
    },
    {
     "output_type": "display_data",
     "data": {
      "text/plain": "<Figure size 432x288 with 1 Axes>",
      "image/svg+xml": "<?xml version=\"1.0\" encoding=\"utf-8\" standalone=\"no\"?>\n<!DOCTYPE svg PUBLIC \"-//W3C//DTD SVG 1.1//EN\"\n  \"http://www.w3.org/Graphics/SVG/1.1/DTD/svg11.dtd\">\n<!-- Created with matplotlib (https://matplotlib.org/) -->\n<svg height=\"263.63625pt\" version=\"1.1\" viewBox=\"0 0 379.156818 263.63625\" width=\"379.156818pt\" xmlns=\"http://www.w3.org/2000/svg\" xmlns:xlink=\"http://www.w3.org/1999/xlink\">\n <metadata>\n  <rdf:RDF xmlns:cc=\"http://creativecommons.org/ns#\" xmlns:dc=\"http://purl.org/dc/elements/1.1/\" xmlns:rdf=\"http://www.w3.org/1999/02/22-rdf-syntax-ns#\">\n   <cc:Work>\n    <dc:type rdf:resource=\"http://purl.org/dc/dcmitype/StillImage\"/>\n    <dc:date>2020-07-23T15:23:08.410296</dc:date>\n    <dc:format>image/svg+xml</dc:format>\n    <dc:creator>\n     <cc:Agent>\n      <dc:title>Matplotlib v3.3.0, https://matplotlib.org/</dc:title>\n     </cc:Agent>\n    </dc:creator>\n   </cc:Work>\n  </rdf:RDF>\n </metadata>\n <defs>\n  <style type=\"text/css\">*{stroke-linecap:butt;stroke-linejoin:round;}</style>\n </defs>\n <g id=\"figure_1\">\n  <g id=\"patch_1\">\n   <path d=\"M 0 263.63625 \nL 379.156818 263.63625 \nL 379.156818 0 \nL 0 0 \nz\n\" style=\"fill:none;\"/>\n  </g>\n  <g id=\"axes_1\">\n   <g id=\"patch_2\">\n    <path d=\"M 33.2875 239.758125 \nL 368.0875 239.758125 \nL 368.0875 22.318125 \nL 33.2875 22.318125 \nz\n\" style=\"fill:#ffffff;\"/>\n   </g>\n   <g id=\"PathCollection_1\">\n    <defs>\n     <path d=\"M 0 3 \nC 0.795609 3 1.55874 2.683901 2.12132 2.12132 \nC 2.683901 1.55874 3 0.795609 3 0 \nC 3 -0.795609 2.683901 -1.55874 2.12132 -2.12132 \nC 1.55874 -2.683901 0.795609 -3 0 -3 \nC -0.795609 -3 -1.55874 -2.683901 -2.12132 -2.12132 \nC -2.683901 -1.55874 -3 -0.795609 -3 0 \nC -3 0.795609 -2.683901 1.55874 -2.12132 2.12132 \nC -1.55874 2.683901 -0.795609 3 0 3 \nz\n\" id=\"m9af9e25d44\" style=\"stroke:#1f77b4;\"/>\n    </defs>\n    <g clip-path=\"url(#pe48eff7c34)\">\n     <use style=\"fill:#1f77b4;stroke:#1f77b4;\" x=\"48.505682\" xlink:href=\"#m9af9e25d44\" y=\"142.912198\"/>\n     <use style=\"fill:#1f77b4;stroke:#1f77b4;\" x=\"57.728822\" xlink:href=\"#m9af9e25d44\" y=\"32.201761\"/>\n     <use style=\"fill:#1f77b4;stroke:#1f77b4;\" x=\"66.951963\" xlink:href=\"#m9af9e25d44\" y=\"155.311843\"/>\n     <use style=\"fill:#1f77b4;stroke:#1f77b4;\" x=\"76.175103\" xlink:href=\"#m9af9e25d44\" y=\"161.452385\"/>\n     <use style=\"fill:#1f77b4;stroke:#1f77b4;\" x=\"85.398244\" xlink:href=\"#m9af9e25d44\" y=\"218.841246\"/>\n     <use style=\"fill:#1f77b4;stroke:#1f77b4;\" x=\"94.621384\" xlink:href=\"#m9af9e25d44\" y=\"205.543484\"/>\n     <use style=\"fill:#1f77b4;stroke:#1f77b4;\" x=\"103.844525\" xlink:href=\"#m9af9e25d44\" y=\"174.158492\"/>\n     <use style=\"fill:#1f77b4;stroke:#1f77b4;\" x=\"113.067665\" xlink:href=\"#m9af9e25d44\" y=\"205.87065\"/>\n     <use style=\"fill:#1f77b4;stroke:#1f77b4;\" x=\"122.290806\" xlink:href=\"#m9af9e25d44\" y=\"154.040356\"/>\n     <use style=\"fill:#1f77b4;stroke:#1f77b4;\" x=\"131.513946\" xlink:href=\"#m9af9e25d44\" y=\"153.25968\"/>\n     <use style=\"fill:#1f77b4;stroke:#1f77b4;\" x=\"140.737087\" xlink:href=\"#m9af9e25d44\" y=\"164.424665\"/>\n     <use style=\"fill:#1f77b4;stroke:#1f77b4;\" x=\"149.960227\" xlink:href=\"#m9af9e25d44\" y=\"184.858114\"/>\n     <use style=\"fill:#1f77b4;stroke:#1f77b4;\" x=\"159.183368\" xlink:href=\"#m9af9e25d44\" y=\"147.421077\"/>\n     <use style=\"fill:#1f77b4;stroke:#1f77b4;\" x=\"168.406508\" xlink:href=\"#m9af9e25d44\" y=\"179.285401\"/>\n     <use style=\"fill:#1f77b4;stroke:#1f77b4;\" x=\"177.629649\" xlink:href=\"#m9af9e25d44\" y=\"205.112347\"/>\n     <use style=\"fill:#1f77b4;stroke:#1f77b4;\" x=\"186.852789\" xlink:href=\"#m9af9e25d44\" y=\"180.707855\"/>\n     <use style=\"fill:#1f77b4;stroke:#1f77b4;\" x=\"196.07593\" xlink:href=\"#m9af9e25d44\" y=\"169.556016\"/>\n     <use style=\"fill:#1f77b4;stroke:#1f77b4;\" x=\"205.29907\" xlink:href=\"#m9af9e25d44\" y=\"226.349826\"/>\n     <use style=\"fill:#1f77b4;stroke:#1f77b4;\" x=\"214.522211\" xlink:href=\"#m9af9e25d44\" y=\"185.371076\"/>\n     <use style=\"fill:#1f77b4;stroke:#1f77b4;\" x=\"223.745351\" xlink:href=\"#m9af9e25d44\" y=\"184.748376\"/>\n     <use style=\"fill:#1f77b4;stroke:#1f77b4;\" x=\"232.968492\" xlink:href=\"#m9af9e25d44\" y=\"216.684461\"/>\n     <use style=\"fill:#1f77b4;stroke:#1f77b4;\" x=\"242.191632\" xlink:href=\"#m9af9e25d44\" y=\"160.348979\"/>\n     <use style=\"fill:#1f77b4;stroke:#1f77b4;\" x=\"251.414773\" xlink:href=\"#m9af9e25d44\" y=\"137.41235\"/>\n     <use style=\"fill:#1f77b4;stroke:#1f77b4;\" x=\"260.637913\" xlink:href=\"#m9af9e25d44\" y=\"182.283439\"/>\n     <use style=\"fill:#1f77b4;stroke:#1f77b4;\" x=\"269.861054\" xlink:href=\"#m9af9e25d44\" y=\"198.917008\"/>\n     <use style=\"fill:#1f77b4;stroke:#1f77b4;\" x=\"279.084194\" xlink:href=\"#m9af9e25d44\" y=\"136.779684\"/>\n     <use style=\"fill:#1f77b4;stroke:#1f77b4;\" x=\"288.307335\" xlink:href=\"#m9af9e25d44\" y=\"227.357295\"/>\n     <use style=\"fill:#1f77b4;stroke:#1f77b4;\" x=\"297.530475\" xlink:href=\"#m9af9e25d44\" y=\"217.761797\"/>\n     <use style=\"fill:#1f77b4;stroke:#1f77b4;\" x=\"306.753616\" xlink:href=\"#m9af9e25d44\" y=\"104.304071\"/>\n     <use style=\"fill:#1f77b4;stroke:#1f77b4;\" x=\"315.976756\" xlink:href=\"#m9af9e25d44\" y=\"223.613587\"/>\n     <use style=\"fill:#1f77b4;stroke:#1f77b4;\" x=\"325.199897\" xlink:href=\"#m9af9e25d44\" y=\"203.784231\"/>\n     <use style=\"fill:#1f77b4;stroke:#1f77b4;\" x=\"334.423037\" xlink:href=\"#m9af9e25d44\" y=\"229.874489\"/>\n     <use style=\"fill:#1f77b4;stroke:#1f77b4;\" x=\"343.646178\" xlink:href=\"#m9af9e25d44\" y=\"148.903411\"/>\n     <use style=\"fill:#1f77b4;stroke:#1f77b4;\" x=\"352.869318\" xlink:href=\"#m9af9e25d44\" y=\"185.953521\"/>\n    </g>\n   </g>\n   <g id=\"matplotlib.axis_1\">\n    <g id=\"xtick_1\">\n     <g id=\"line2d_1\">\n      <defs>\n       <path d=\"M 0 0 \nL 0 3.5 \n\" id=\"me6a8a86e3e\" style=\"stroke:#000000;stroke-width:0.8;\"/>\n      </defs>\n      <g>\n       <use style=\"stroke:#000000;stroke-width:0.8;\" x=\"48.505682\" xlink:href=\"#me6a8a86e3e\" y=\"239.758125\"/>\n      </g>\n     </g>\n     <g id=\"text_1\">\n      <!-- 992133 -->\n      <g transform=\"translate(29.418182 254.356563)scale(0.1 -0.1)\">\n       <defs>\n        <path d=\"M 10.984375 1.515625 \nL 10.984375 10.5 \nQ 14.703125 8.734375 18.5 7.8125 \nQ 22.3125 6.890625 25.984375 6.890625 \nQ 35.75 6.890625 40.890625 13.453125 \nQ 46.046875 20.015625 46.78125 33.40625 \nQ 43.953125 29.203125 39.59375 26.953125 \nQ 35.25 24.703125 29.984375 24.703125 \nQ 19.046875 24.703125 12.671875 31.3125 \nQ 6.296875 37.9375 6.296875 49.421875 \nQ 6.296875 60.640625 12.9375 67.421875 \nQ 19.578125 74.21875 30.609375 74.21875 \nQ 43.265625 74.21875 49.921875 64.515625 \nQ 56.59375 54.828125 56.59375 36.375 \nQ 56.59375 19.140625 48.40625 8.859375 \nQ 40.234375 -1.421875 26.421875 -1.421875 \nQ 22.703125 -1.421875 18.890625 -0.6875 \nQ 15.09375 0.046875 10.984375 1.515625 \nz\nM 30.609375 32.421875 \nQ 37.25 32.421875 41.125 36.953125 \nQ 45.015625 41.5 45.015625 49.421875 \nQ 45.015625 57.28125 41.125 61.84375 \nQ 37.25 66.40625 30.609375 66.40625 \nQ 23.96875 66.40625 20.09375 61.84375 \nQ 16.21875 57.28125 16.21875 49.421875 \nQ 16.21875 41.5 20.09375 36.953125 \nQ 23.96875 32.421875 30.609375 32.421875 \nz\n\" id=\"DejaVuSans-57\"/>\n        <path d=\"M 19.1875 8.296875 \nL 53.609375 8.296875 \nL 53.609375 0 \nL 7.328125 0 \nL 7.328125 8.296875 \nQ 12.9375 14.109375 22.625 23.890625 \nQ 32.328125 33.6875 34.8125 36.53125 \nQ 39.546875 41.84375 41.421875 45.53125 \nQ 43.3125 49.21875 43.3125 52.78125 \nQ 43.3125 58.59375 39.234375 62.25 \nQ 35.15625 65.921875 28.609375 65.921875 \nQ 23.96875 65.921875 18.8125 64.3125 \nQ 13.671875 62.703125 7.8125 59.421875 \nL 7.8125 69.390625 \nQ 13.765625 71.78125 18.9375 73 \nQ 24.125 74.21875 28.421875 74.21875 \nQ 39.75 74.21875 46.484375 68.546875 \nQ 53.21875 62.890625 53.21875 53.421875 \nQ 53.21875 48.921875 51.53125 44.890625 \nQ 49.859375 40.875 45.40625 35.40625 \nQ 44.1875 33.984375 37.640625 27.21875 \nQ 31.109375 20.453125 19.1875 8.296875 \nz\n\" id=\"DejaVuSans-50\"/>\n        <path d=\"M 12.40625 8.296875 \nL 28.515625 8.296875 \nL 28.515625 63.921875 \nL 10.984375 60.40625 \nL 10.984375 69.390625 \nL 28.421875 72.90625 \nL 38.28125 72.90625 \nL 38.28125 8.296875 \nL 54.390625 8.296875 \nL 54.390625 0 \nL 12.40625 0 \nz\n\" id=\"DejaVuSans-49\"/>\n        <path d=\"M 40.578125 39.3125 \nQ 47.65625 37.796875 51.625 33 \nQ 55.609375 28.21875 55.609375 21.1875 \nQ 55.609375 10.40625 48.1875 4.484375 \nQ 40.765625 -1.421875 27.09375 -1.421875 \nQ 22.515625 -1.421875 17.65625 -0.515625 \nQ 12.796875 0.390625 7.625 2.203125 \nL 7.625 11.71875 \nQ 11.71875 9.328125 16.59375 8.109375 \nQ 21.484375 6.890625 26.8125 6.890625 \nQ 36.078125 6.890625 40.9375 10.546875 \nQ 45.796875 14.203125 45.796875 21.1875 \nQ 45.796875 27.640625 41.28125 31.265625 \nQ 36.765625 34.90625 28.71875 34.90625 \nL 20.21875 34.90625 \nL 20.21875 43.015625 \nL 29.109375 43.015625 \nQ 36.375 43.015625 40.234375 45.921875 \nQ 44.09375 48.828125 44.09375 54.296875 \nQ 44.09375 59.90625 40.109375 62.90625 \nQ 36.140625 65.921875 28.71875 65.921875 \nQ 24.65625 65.921875 20.015625 65.03125 \nQ 15.375 64.15625 9.8125 62.3125 \nL 9.8125 71.09375 \nQ 15.4375 72.65625 20.34375 73.4375 \nQ 25.25 74.21875 29.59375 74.21875 \nQ 40.828125 74.21875 47.359375 69.109375 \nQ 53.90625 64.015625 53.90625 55.328125 \nQ 53.90625 49.265625 50.4375 45.09375 \nQ 46.96875 40.921875 40.578125 39.3125 \nz\n\" id=\"DejaVuSans-51\"/>\n       </defs>\n       <use xlink:href=\"#DejaVuSans-57\"/>\n       <use x=\"63.623047\" xlink:href=\"#DejaVuSans-57\"/>\n       <use x=\"127.246094\" xlink:href=\"#DejaVuSans-50\"/>\n       <use x=\"190.869141\" xlink:href=\"#DejaVuSans-49\"/>\n       <use x=\"254.492188\" xlink:href=\"#DejaVuSans-51\"/>\n       <use x=\"318.115234\" xlink:href=\"#DejaVuSans-51\"/>\n      </g>\n     </g>\n    </g>\n    <g id=\"xtick_2\">\n     <g id=\"line2d_2\">\n      <g>\n       <use style=\"stroke:#000000;stroke-width:0.8;\" x=\"57.728822\" xlink:href=\"#me6a8a86e3e\" y=\"239.758125\"/>\n      </g>\n     </g>\n     <g id=\"text_2\">\n      <!-- 997611 -->\n      <g transform=\"translate(38.641322 254.356563)scale(0.1 -0.1)\">\n       <defs>\n        <path d=\"M 8.203125 72.90625 \nL 55.078125 72.90625 \nL 55.078125 68.703125 \nL 28.609375 0 \nL 18.3125 0 \nL 43.21875 64.59375 \nL 8.203125 64.59375 \nz\n\" id=\"DejaVuSans-55\"/>\n        <path d=\"M 33.015625 40.375 \nQ 26.375 40.375 22.484375 35.828125 \nQ 18.609375 31.296875 18.609375 23.390625 \nQ 18.609375 15.53125 22.484375 10.953125 \nQ 26.375 6.390625 33.015625 6.390625 \nQ 39.65625 6.390625 43.53125 10.953125 \nQ 47.40625 15.53125 47.40625 23.390625 \nQ 47.40625 31.296875 43.53125 35.828125 \nQ 39.65625 40.375 33.015625 40.375 \nz\nM 52.59375 71.296875 \nL 52.59375 62.3125 \nQ 48.875 64.0625 45.09375 64.984375 \nQ 41.3125 65.921875 37.59375 65.921875 \nQ 27.828125 65.921875 22.671875 59.328125 \nQ 17.53125 52.734375 16.796875 39.40625 \nQ 19.671875 43.65625 24.015625 45.921875 \nQ 28.375 48.1875 33.59375 48.1875 \nQ 44.578125 48.1875 50.953125 41.515625 \nQ 57.328125 34.859375 57.328125 23.390625 \nQ 57.328125 12.15625 50.6875 5.359375 \nQ 44.046875 -1.421875 33.015625 -1.421875 \nQ 20.359375 -1.421875 13.671875 8.265625 \nQ 6.984375 17.96875 6.984375 36.375 \nQ 6.984375 53.65625 15.1875 63.9375 \nQ 23.390625 74.21875 37.203125 74.21875 \nQ 40.921875 74.21875 44.703125 73.484375 \nQ 48.484375 72.75 52.59375 71.296875 \nz\n\" id=\"DejaVuSans-54\"/>\n       </defs>\n       <use xlink:href=\"#DejaVuSans-57\"/>\n       <use x=\"63.623047\" xlink:href=\"#DejaVuSans-57\"/>\n       <use x=\"127.246094\" xlink:href=\"#DejaVuSans-55\"/>\n       <use x=\"190.869141\" xlink:href=\"#DejaVuSans-54\"/>\n       <use x=\"254.492188\" xlink:href=\"#DejaVuSans-49\"/>\n       <use x=\"318.115234\" xlink:href=\"#DejaVuSans-49\"/>\n      </g>\n     </g>\n    </g>\n    <g id=\"xtick_3\">\n     <g id=\"line2d_3\">\n      <g>\n       <use style=\"stroke:#000000;stroke-width:0.8;\" x=\"66.951963\" xlink:href=\"#me6a8a86e3e\" y=\"239.758125\"/>\n      </g>\n     </g>\n     <g id=\"text_3\">\n      <!-- 992440 -->\n      <g transform=\"translate(47.864463 254.356563)scale(0.1 -0.1)\">\n       <defs>\n        <path d=\"M 37.796875 64.3125 \nL 12.890625 25.390625 \nL 37.796875 25.390625 \nz\nM 35.203125 72.90625 \nL 47.609375 72.90625 \nL 47.609375 25.390625 \nL 58.015625 25.390625 \nL 58.015625 17.1875 \nL 47.609375 17.1875 \nL 47.609375 0 \nL 37.796875 0 \nL 37.796875 17.1875 \nL 4.890625 17.1875 \nL 4.890625 26.703125 \nz\n\" id=\"DejaVuSans-52\"/>\n        <path d=\"M 31.78125 66.40625 \nQ 24.171875 66.40625 20.328125 58.90625 \nQ 16.5 51.421875 16.5 36.375 \nQ 16.5 21.390625 20.328125 13.890625 \nQ 24.171875 6.390625 31.78125 6.390625 \nQ 39.453125 6.390625 43.28125 13.890625 \nQ 47.125 21.390625 47.125 36.375 \nQ 47.125 51.421875 43.28125 58.90625 \nQ 39.453125 66.40625 31.78125 66.40625 \nz\nM 31.78125 74.21875 \nQ 44.046875 74.21875 50.515625 64.515625 \nQ 56.984375 54.828125 56.984375 36.375 \nQ 56.984375 17.96875 50.515625 8.265625 \nQ 44.046875 -1.421875 31.78125 -1.421875 \nQ 19.53125 -1.421875 13.0625 8.265625 \nQ 6.59375 17.96875 6.59375 36.375 \nQ 6.59375 54.828125 13.0625 64.515625 \nQ 19.53125 74.21875 31.78125 74.21875 \nz\n\" id=\"DejaVuSans-48\"/>\n       </defs>\n       <use xlink:href=\"#DejaVuSans-57\"/>\n       <use x=\"63.623047\" xlink:href=\"#DejaVuSans-57\"/>\n       <use x=\"127.246094\" xlink:href=\"#DejaVuSans-50\"/>\n       <use x=\"190.869141\" xlink:href=\"#DejaVuSans-52\"/>\n       <use x=\"254.492188\" xlink:href=\"#DejaVuSans-52\"/>\n       <use x=\"318.115234\" xlink:href=\"#DejaVuSans-48\"/>\n      </g>\n     </g>\n    </g>\n    <g id=\"xtick_4\">\n     <g id=\"line2d_4\">\n      <g>\n       <use style=\"stroke:#000000;stroke-width:0.8;\" x=\"76.175103\" xlink:href=\"#me6a8a86e3e\" y=\"239.758125\"/>\n      </g>\n     </g>\n     <g id=\"text_4\">\n      <!-- 901703 -->\n      <g transform=\"translate(57.087603 254.356563)scale(0.1 -0.1)\">\n       <use xlink:href=\"#DejaVuSans-57\"/>\n       <use x=\"63.623047\" xlink:href=\"#DejaVuSans-48\"/>\n       <use x=\"127.246094\" xlink:href=\"#DejaVuSans-49\"/>\n       <use x=\"190.869141\" xlink:href=\"#DejaVuSans-55\"/>\n       <use x=\"254.492188\" xlink:href=\"#DejaVuSans-48\"/>\n       <use x=\"318.115234\" xlink:href=\"#DejaVuSans-51\"/>\n      </g>\n     </g>\n    </g>\n    <g id=\"xtick_5\">\n     <g id=\"line2d_5\">\n      <g>\n       <use style=\"stroke:#000000;stroke-width:0.8;\" x=\"85.398244\" xlink:href=\"#me6a8a86e3e\" y=\"239.758125\"/>\n      </g>\n     </g>\n     <g id=\"text_5\">\n      <!-- 904458 -->\n      <g transform=\"translate(66.310744 254.356563)scale(0.1 -0.1)\">\n       <defs>\n        <path d=\"M 10.796875 72.90625 \nL 49.515625 72.90625 \nL 49.515625 64.59375 \nL 19.828125 64.59375 \nL 19.828125 46.734375 \nQ 21.96875 47.46875 24.109375 47.828125 \nQ 26.265625 48.1875 28.421875 48.1875 \nQ 40.625 48.1875 47.75 41.5 \nQ 54.890625 34.8125 54.890625 23.390625 \nQ 54.890625 11.625 47.5625 5.09375 \nQ 40.234375 -1.421875 26.90625 -1.421875 \nQ 22.3125 -1.421875 17.546875 -0.640625 \nQ 12.796875 0.140625 7.71875 1.703125 \nL 7.71875 11.625 \nQ 12.109375 9.234375 16.796875 8.0625 \nQ 21.484375 6.890625 26.703125 6.890625 \nQ 35.15625 6.890625 40.078125 11.328125 \nQ 45.015625 15.765625 45.015625 23.390625 \nQ 45.015625 31 40.078125 35.4375 \nQ 35.15625 39.890625 26.703125 39.890625 \nQ 22.75 39.890625 18.8125 39.015625 \nQ 14.890625 38.140625 10.796875 36.28125 \nz\n\" id=\"DejaVuSans-53\"/>\n        <path d=\"M 31.78125 34.625 \nQ 24.75 34.625 20.71875 30.859375 \nQ 16.703125 27.09375 16.703125 20.515625 \nQ 16.703125 13.921875 20.71875 10.15625 \nQ 24.75 6.390625 31.78125 6.390625 \nQ 38.8125 6.390625 42.859375 10.171875 \nQ 46.921875 13.96875 46.921875 20.515625 \nQ 46.921875 27.09375 42.890625 30.859375 \nQ 38.875 34.625 31.78125 34.625 \nz\nM 21.921875 38.8125 \nQ 15.578125 40.375 12.03125 44.71875 \nQ 8.5 49.078125 8.5 55.328125 \nQ 8.5 64.0625 14.71875 69.140625 \nQ 20.953125 74.21875 31.78125 74.21875 \nQ 42.671875 74.21875 48.875 69.140625 \nQ 55.078125 64.0625 55.078125 55.328125 \nQ 55.078125 49.078125 51.53125 44.71875 \nQ 48 40.375 41.703125 38.8125 \nQ 48.828125 37.15625 52.796875 32.3125 \nQ 56.78125 27.484375 56.78125 20.515625 \nQ 56.78125 9.90625 50.3125 4.234375 \nQ 43.84375 -1.421875 31.78125 -1.421875 \nQ 19.734375 -1.421875 13.25 4.234375 \nQ 6.78125 9.90625 6.78125 20.515625 \nQ 6.78125 27.484375 10.78125 32.3125 \nQ 14.796875 37.15625 21.921875 38.8125 \nz\nM 18.3125 54.390625 \nQ 18.3125 48.734375 21.84375 45.5625 \nQ 25.390625 42.390625 31.78125 42.390625 \nQ 38.140625 42.390625 41.71875 45.5625 \nQ 45.3125 48.734375 45.3125 54.390625 \nQ 45.3125 60.0625 41.71875 63.234375 \nQ 38.140625 66.40625 31.78125 66.40625 \nQ 25.390625 66.40625 21.84375 63.234375 \nQ 18.3125 60.0625 18.3125 54.390625 \nz\n\" id=\"DejaVuSans-56\"/>\n       </defs>\n       <use xlink:href=\"#DejaVuSans-57\"/>\n       <use x=\"63.623047\" xlink:href=\"#DejaVuSans-48\"/>\n       <use x=\"127.246094\" xlink:href=\"#DejaVuSans-52\"/>\n       <use x=\"190.869141\" xlink:href=\"#DejaVuSans-52\"/>\n       <use x=\"254.492188\" xlink:href=\"#DejaVuSans-53\"/>\n       <use x=\"318.115234\" xlink:href=\"#DejaVuSans-56\"/>\n      </g>\n     </g>\n    </g>\n    <g id=\"xtick_6\">\n     <g id=\"line2d_6\">\n      <g>\n       <use style=\"stroke:#000000;stroke-width:0.8;\" x=\"94.621384\" xlink:href=\"#me6a8a86e3e\" y=\"239.758125\"/>\n      </g>\n     </g>\n     <g id=\"text_6\">\n      <!-- 995567 -->\n      <g transform=\"translate(75.533884 254.356563)scale(0.1 -0.1)\">\n       <use xlink:href=\"#DejaVuSans-57\"/>\n       <use x=\"63.623047\" xlink:href=\"#DejaVuSans-57\"/>\n       <use x=\"127.246094\" xlink:href=\"#DejaVuSans-53\"/>\n       <use x=\"190.869141\" xlink:href=\"#DejaVuSans-53\"/>\n       <use x=\"254.492188\" xlink:href=\"#DejaVuSans-54\"/>\n       <use x=\"318.115234\" xlink:href=\"#DejaVuSans-55\"/>\n      </g>\n     </g>\n    </g>\n    <g id=\"xtick_7\">\n     <g id=\"line2d_7\">\n      <g>\n       <use style=\"stroke:#000000;stroke-width:0.8;\" x=\"103.844525\" xlink:href=\"#me6a8a86e3e\" y=\"239.758125\"/>\n      </g>\n     </g>\n     <g id=\"text_7\">\n      <!-- 10434 -->\n      <g transform=\"translate(87.938275 254.356563)scale(0.1 -0.1)\">\n       <use xlink:href=\"#DejaVuSans-49\"/>\n       <use x=\"63.623047\" xlink:href=\"#DejaVuSans-48\"/>\n       <use x=\"127.246094\" xlink:href=\"#DejaVuSans-52\"/>\n       <use x=\"190.869141\" xlink:href=\"#DejaVuSans-51\"/>\n       <use x=\"254.492188\" xlink:href=\"#DejaVuSans-52\"/>\n      </g>\n     </g>\n    </g>\n    <g id=\"xtick_8\">\n     <g id=\"line2d_8\">\n      <g>\n       <use style=\"stroke:#000000;stroke-width:0.8;\" x=\"113.067665\" xlink:href=\"#me6a8a86e3e\" y=\"239.758125\"/>\n      </g>\n     </g>\n     <g id=\"text_8\">\n      <!-- 999100 -->\n      <g transform=\"translate(93.980165 254.356563)scale(0.1 -0.1)\">\n       <use xlink:href=\"#DejaVuSans-57\"/>\n       <use x=\"63.623047\" xlink:href=\"#DejaVuSans-57\"/>\n       <use x=\"127.246094\" xlink:href=\"#DejaVuSans-57\"/>\n       <use x=\"190.869141\" xlink:href=\"#DejaVuSans-49\"/>\n       <use x=\"254.492188\" xlink:href=\"#DejaVuSans-48\"/>\n       <use x=\"318.115234\" xlink:href=\"#DejaVuSans-48\"/>\n      </g>\n     </g>\n    </g>\n    <g id=\"xtick_9\">\n     <g id=\"line2d_9\">\n      <g>\n       <use style=\"stroke:#000000;stroke-width:0.8;\" x=\"122.290806\" xlink:href=\"#me6a8a86e3e\" y=\"239.758125\"/>\n      </g>\n     </g>\n     <g id=\"text_9\">\n      <!-- 995627 -->\n      <g transform=\"translate(103.203306 254.356563)scale(0.1 -0.1)\">\n       <use xlink:href=\"#DejaVuSans-57\"/>\n       <use x=\"63.623047\" xlink:href=\"#DejaVuSans-57\"/>\n       <use x=\"127.246094\" xlink:href=\"#DejaVuSans-53\"/>\n       <use x=\"190.869141\" xlink:href=\"#DejaVuSans-54\"/>\n       <use x=\"254.492188\" xlink:href=\"#DejaVuSans-50\"/>\n       <use x=\"318.115234\" xlink:href=\"#DejaVuSans-55\"/>\n      </g>\n     </g>\n    </g>\n    <g id=\"xtick_10\">\n     <g id=\"line2d_10\">\n      <g>\n       <use style=\"stroke:#000000;stroke-width:0.8;\" x=\"131.513946\" xlink:href=\"#me6a8a86e3e\" y=\"239.758125\"/>\n      </g>\n     </g>\n     <g id=\"text_10\">\n      <!-- 991476 -->\n      <g transform=\"translate(112.426446 254.356563)scale(0.1 -0.1)\">\n       <use xlink:href=\"#DejaVuSans-57\"/>\n       <use x=\"63.623047\" xlink:href=\"#DejaVuSans-57\"/>\n       <use x=\"127.246094\" xlink:href=\"#DejaVuSans-49\"/>\n       <use x=\"190.869141\" xlink:href=\"#DejaVuSans-52\"/>\n       <use x=\"254.492188\" xlink:href=\"#DejaVuSans-55\"/>\n       <use x=\"318.115234\" xlink:href=\"#DejaVuSans-54\"/>\n      </g>\n     </g>\n    </g>\n    <g id=\"xtick_11\">\n     <g id=\"line2d_11\">\n      <g>\n       <use style=\"stroke:#000000;stroke-width:0.8;\" x=\"140.737087\" xlink:href=\"#me6a8a86e3e\" y=\"239.758125\"/>\n      </g>\n     </g>\n     <g id=\"text_11\">\n      <!-- 70015 -->\n      <g transform=\"translate(124.830837 254.356563)scale(0.1 -0.1)\">\n       <use xlink:href=\"#DejaVuSans-55\"/>\n       <use x=\"63.623047\" xlink:href=\"#DejaVuSans-48\"/>\n       <use x=\"127.246094\" xlink:href=\"#DejaVuSans-48\"/>\n       <use x=\"190.869141\" xlink:href=\"#DejaVuSans-49\"/>\n       <use x=\"254.492188\" xlink:href=\"#DejaVuSans-53\"/>\n      </g>\n     </g>\n    </g>\n    <g id=\"xtick_12\">\n     <g id=\"line2d_12\">\n      <g>\n       <use style=\"stroke:#000000;stroke-width:0.8;\" x=\"149.960227\" xlink:href=\"#me6a8a86e3e\" y=\"239.758125\"/>\n      </g>\n     </g>\n     <g id=\"text_12\">\n      <!-- 995363 -->\n      <g transform=\"translate(130.872727 254.356563)scale(0.1 -0.1)\">\n       <use xlink:href=\"#DejaVuSans-57\"/>\n       <use x=\"63.623047\" xlink:href=\"#DejaVuSans-57\"/>\n       <use x=\"127.246094\" xlink:href=\"#DejaVuSans-53\"/>\n       <use x=\"190.869141\" xlink:href=\"#DejaVuSans-51\"/>\n       <use x=\"254.492188\" xlink:href=\"#DejaVuSans-54\"/>\n       <use x=\"318.115234\" xlink:href=\"#DejaVuSans-51\"/>\n      </g>\n     </g>\n    </g>\n    <g id=\"xtick_13\">\n     <g id=\"line2d_13\">\n      <g>\n       <use style=\"stroke:#000000;stroke-width:0.8;\" x=\"159.183368\" xlink:href=\"#me6a8a86e3e\" y=\"239.758125\"/>\n      </g>\n     </g>\n     <g id=\"text_13\">\n      <!-- 992521 -->\n      <g transform=\"translate(140.095868 254.356563)scale(0.1 -0.1)\">\n       <use xlink:href=\"#DejaVuSans-57\"/>\n       <use x=\"63.623047\" xlink:href=\"#DejaVuSans-57\"/>\n       <use x=\"127.246094\" xlink:href=\"#DejaVuSans-50\"/>\n       <use x=\"190.869141\" xlink:href=\"#DejaVuSans-53\"/>\n       <use x=\"254.492188\" xlink:href=\"#DejaVuSans-50\"/>\n       <use x=\"318.115234\" xlink:href=\"#DejaVuSans-49\"/>\n      </g>\n     </g>\n    </g>\n    <g id=\"xtick_14\">\n     <g id=\"line2d_14\">\n      <g>\n       <use style=\"stroke:#000000;stroke-width:0.8;\" x=\"168.406508\" xlink:href=\"#me6a8a86e3e\" y=\"239.758125\"/>\n      </g>\n     </g>\n     <g id=\"text_14\">\n      <!-- 904095 -->\n      <g transform=\"translate(149.319008 254.356563)scale(0.1 -0.1)\">\n       <use xlink:href=\"#DejaVuSans-57\"/>\n       <use x=\"63.623047\" xlink:href=\"#DejaVuSans-48\"/>\n       <use x=\"127.246094\" xlink:href=\"#DejaVuSans-52\"/>\n       <use x=\"190.869141\" xlink:href=\"#DejaVuSans-48\"/>\n       <use x=\"254.492188\" xlink:href=\"#DejaVuSans-57\"/>\n       <use x=\"318.115234\" xlink:href=\"#DejaVuSans-53\"/>\n      </g>\n     </g>\n    </g>\n    <g id=\"xtick_15\">\n     <g id=\"line2d_15\">\n      <g>\n       <use style=\"stroke:#000000;stroke-width:0.8;\" x=\"177.629649\" xlink:href=\"#me6a8a86e3e\" y=\"239.758125\"/>\n      </g>\n     </g>\n     <g id=\"text_15\">\n      <!-- 18001 -->\n      <g transform=\"translate(161.723399 254.356563)scale(0.1 -0.1)\">\n       <use xlink:href=\"#DejaVuSans-49\"/>\n       <use x=\"63.623047\" xlink:href=\"#DejaVuSans-56\"/>\n       <use x=\"127.246094\" xlink:href=\"#DejaVuSans-48\"/>\n       <use x=\"190.869141\" xlink:href=\"#DejaVuSans-48\"/>\n       <use x=\"254.492188\" xlink:href=\"#DejaVuSans-49\"/>\n      </g>\n     </g>\n    </g>\n    <g id=\"xtick_16\">\n     <g id=\"line2d_16\">\n      <g>\n       <use style=\"stroke:#000000;stroke-width:0.8;\" x=\"186.852789\" xlink:href=\"#me6a8a86e3e\" y=\"239.758125\"/>\n      </g>\n     </g>\n     <g id=\"text_16\">\n      <!-- 996986 -->\n      <g transform=\"translate(167.765289 254.356563)scale(0.1 -0.1)\">\n       <use xlink:href=\"#DejaVuSans-57\"/>\n       <use x=\"63.623047\" xlink:href=\"#DejaVuSans-57\"/>\n       <use x=\"127.246094\" xlink:href=\"#DejaVuSans-54\"/>\n       <use x=\"190.869141\" xlink:href=\"#DejaVuSans-57\"/>\n       <use x=\"254.492188\" xlink:href=\"#DejaVuSans-56\"/>\n       <use x=\"318.115234\" xlink:href=\"#DejaVuSans-54\"/>\n      </g>\n     </g>\n    </g>\n    <g id=\"xtick_17\">\n     <g id=\"line2d_17\">\n      <g>\n       <use style=\"stroke:#000000;stroke-width:0.8;\" x=\"196.07593\" xlink:href=\"#me6a8a86e3e\" y=\"239.758125\"/>\n      </g>\n     </g>\n     <g id=\"text_17\">\n      <!-- 993619 -->\n      <g transform=\"translate(176.98843 254.356563)scale(0.1 -0.1)\">\n       <use xlink:href=\"#DejaVuSans-57\"/>\n       <use x=\"63.623047\" xlink:href=\"#DejaVuSans-57\"/>\n       <use x=\"127.246094\" xlink:href=\"#DejaVuSans-51\"/>\n       <use x=\"190.869141\" xlink:href=\"#DejaVuSans-54\"/>\n       <use x=\"254.492188\" xlink:href=\"#DejaVuSans-49\"/>\n       <use x=\"318.115234\" xlink:href=\"#DejaVuSans-57\"/>\n      </g>\n     </g>\n    </g>\n    <g id=\"xtick_18\">\n     <g id=\"line2d_18\">\n      <g>\n       <use style=\"stroke:#000000;stroke-width:0.8;\" x=\"205.29907\" xlink:href=\"#me6a8a86e3e\" y=\"239.758125\"/>\n      </g>\n     </g>\n     <g id=\"text_18\">\n      <!-- 46001 -->\n      <g transform=\"translate(189.39282 254.356563)scale(0.1 -0.1)\">\n       <use xlink:href=\"#DejaVuSans-52\"/>\n       <use x=\"63.623047\" xlink:href=\"#DejaVuSans-54\"/>\n       <use x=\"127.246094\" xlink:href=\"#DejaVuSans-48\"/>\n       <use x=\"190.869141\" xlink:href=\"#DejaVuSans-48\"/>\n       <use x=\"254.492188\" xlink:href=\"#DejaVuSans-49\"/>\n      </g>\n     </g>\n    </g>\n    <g id=\"xtick_19\">\n     <g id=\"line2d_19\">\n      <g>\n       <use style=\"stroke:#000000;stroke-width:0.8;\" x=\"214.522211\" xlink:href=\"#me6a8a86e3e\" y=\"239.758125\"/>\n      </g>\n     </g>\n     <g id=\"text_19\">\n      <!-- 996490 -->\n      <g transform=\"translate(195.434711 254.356563)scale(0.1 -0.1)\">\n       <use xlink:href=\"#DejaVuSans-57\"/>\n       <use x=\"63.623047\" xlink:href=\"#DejaVuSans-57\"/>\n       <use x=\"127.246094\" xlink:href=\"#DejaVuSans-54\"/>\n       <use x=\"190.869141\" xlink:href=\"#DejaVuSans-52\"/>\n       <use x=\"254.492188\" xlink:href=\"#DejaVuSans-57\"/>\n       <use x=\"318.115234\" xlink:href=\"#DejaVuSans-48\"/>\n      </g>\n     </g>\n    </g>\n    <g id=\"xtick_20\">\n     <g id=\"line2d_20\">\n      <g>\n       <use style=\"stroke:#000000;stroke-width:0.8;\" x=\"223.745351\" xlink:href=\"#me6a8a86e3e\" y=\"239.758125\"/>\n      </g>\n     </g>\n     <g id=\"text_20\">\n      <!-- 902247 -->\n      <g transform=\"translate(204.657851 254.356563)scale(0.1 -0.1)\">\n       <use xlink:href=\"#DejaVuSans-57\"/>\n       <use x=\"63.623047\" xlink:href=\"#DejaVuSans-48\"/>\n       <use x=\"127.246094\" xlink:href=\"#DejaVuSans-50\"/>\n       <use x=\"190.869141\" xlink:href=\"#DejaVuSans-50\"/>\n       <use x=\"254.492188\" xlink:href=\"#DejaVuSans-52\"/>\n       <use x=\"318.115234\" xlink:href=\"#DejaVuSans-55\"/>\n      </g>\n     </g>\n    </g>\n    <g id=\"xtick_21\">\n     <g id=\"line2d_21\">\n      <g>\n       <use style=\"stroke:#000000;stroke-width:0.8;\" x=\"232.968492\" xlink:href=\"#me6a8a86e3e\" y=\"239.758125\"/>\n      </g>\n     </g>\n     <g id=\"text_21\">\n      <!-- 903545 -->\n      <g transform=\"translate(213.880992 254.356563)scale(0.1 -0.1)\">\n       <use xlink:href=\"#DejaVuSans-57\"/>\n       <use x=\"63.623047\" xlink:href=\"#DejaVuSans-48\"/>\n       <use x=\"127.246094\" xlink:href=\"#DejaVuSans-51\"/>\n       <use x=\"190.869141\" xlink:href=\"#DejaVuSans-53\"/>\n       <use x=\"254.492188\" xlink:href=\"#DejaVuSans-52\"/>\n       <use x=\"318.115234\" xlink:href=\"#DejaVuSans-53\"/>\n      </g>\n     </g>\n    </g>\n    <g id=\"xtick_22\">\n     <g id=\"line2d_22\">\n      <g>\n       <use style=\"stroke:#000000;stroke-width:0.8;\" x=\"242.191632\" xlink:href=\"#me6a8a86e3e\" y=\"239.758125\"/>\n      </g>\n     </g>\n     <g id=\"text_22\">\n      <!-- 800263 -->\n      <g transform=\"translate(223.104132 254.356563)scale(0.1 -0.1)\">\n       <use xlink:href=\"#DejaVuSans-56\"/>\n       <use x=\"63.623047\" xlink:href=\"#DejaVuSans-48\"/>\n       <use x=\"127.246094\" xlink:href=\"#DejaVuSans-48\"/>\n       <use x=\"190.869141\" xlink:href=\"#DejaVuSans-50\"/>\n       <use x=\"254.492188\" xlink:href=\"#DejaVuSans-54\"/>\n       <use x=\"318.115234\" xlink:href=\"#DejaVuSans-51\"/>\n      </g>\n     </g>\n    </g>\n    <g id=\"xtick_23\">\n     <g id=\"line2d_23\">\n      <g>\n       <use style=\"stroke:#000000;stroke-width:0.8;\" x=\"251.414773\" xlink:href=\"#me6a8a86e3e\" y=\"239.758125\"/>\n      </g>\n     </g>\n     <g id=\"text_23\">\n      <!-- 902647 -->\n      <g transform=\"translate(232.327273 254.356563)scale(0.1 -0.1)\">\n       <use xlink:href=\"#DejaVuSans-57\"/>\n       <use x=\"63.623047\" xlink:href=\"#DejaVuSans-48\"/>\n       <use x=\"127.246094\" xlink:href=\"#DejaVuSans-50\"/>\n       <use x=\"190.869141\" xlink:href=\"#DejaVuSans-54\"/>\n       <use x=\"254.492188\" xlink:href=\"#DejaVuSans-52\"/>\n       <use x=\"318.115234\" xlink:href=\"#DejaVuSans-55\"/>\n      </g>\n     </g>\n    </g>\n    <g id=\"xtick_24\">\n     <g id=\"line2d_24\">\n      <g>\n       <use style=\"stroke:#000000;stroke-width:0.8;\" x=\"260.637913\" xlink:href=\"#me6a8a86e3e\" y=\"239.758125\"/>\n      </g>\n     </g>\n     <g id=\"text_24\">\n      <!-- 904236 -->\n      <g transform=\"translate(241.550413 254.356563)scale(0.1 -0.1)\">\n       <use xlink:href=\"#DejaVuSans-57\"/>\n       <use x=\"63.623047\" xlink:href=\"#DejaVuSans-48\"/>\n       <use x=\"127.246094\" xlink:href=\"#DejaVuSans-52\"/>\n       <use x=\"190.869141\" xlink:href=\"#DejaVuSans-50\"/>\n       <use x=\"254.492188\" xlink:href=\"#DejaVuSans-51\"/>\n       <use x=\"318.115234\" xlink:href=\"#DejaVuSans-54\"/>\n      </g>\n     </g>\n    </g>\n    <g id=\"xtick_25\">\n     <g id=\"line2d_25\">\n      <g>\n       <use style=\"stroke:#000000;stroke-width:0.8;\" x=\"269.861054\" xlink:href=\"#me6a8a86e3e\" y=\"239.758125\"/>\n      </g>\n     </g>\n     <g id=\"text_25\">\n      <!-- 800244 -->\n      <g transform=\"translate(250.773554 254.356563)scale(0.1 -0.1)\">\n       <use xlink:href=\"#DejaVuSans-56\"/>\n       <use x=\"63.623047\" xlink:href=\"#DejaVuSans-48\"/>\n       <use x=\"127.246094\" xlink:href=\"#DejaVuSans-48\"/>\n       <use x=\"190.869141\" xlink:href=\"#DejaVuSans-50\"/>\n       <use x=\"254.492188\" xlink:href=\"#DejaVuSans-52\"/>\n       <use x=\"318.115234\" xlink:href=\"#DejaVuSans-52\"/>\n      </g>\n     </g>\n    </g>\n    <g id=\"xtick_26\">\n     <g id=\"line2d_26\">\n      <g>\n       <use style=\"stroke:#000000;stroke-width:0.8;\" x=\"279.084194\" xlink:href=\"#me6a8a86e3e\" y=\"239.758125\"/>\n      </g>\n     </g>\n     <g id=\"text_26\">\n      <!-- 991947 -->\n      <g transform=\"translate(259.996694 254.356563)scale(0.1 -0.1)\">\n       <use xlink:href=\"#DejaVuSans-57\"/>\n       <use x=\"63.623047\" xlink:href=\"#DejaVuSans-57\"/>\n       <use x=\"127.246094\" xlink:href=\"#DejaVuSans-49\"/>\n       <use x=\"190.869141\" xlink:href=\"#DejaVuSans-57\"/>\n       <use x=\"254.492188\" xlink:href=\"#DejaVuSans-52\"/>\n       <use x=\"318.115234\" xlink:href=\"#DejaVuSans-55\"/>\n      </g>\n     </g>\n    </g>\n    <g id=\"xtick_27\">\n     <g id=\"line2d_27\">\n      <g>\n       <use style=\"stroke:#000000;stroke-width:0.8;\" x=\"288.307335\" xlink:href=\"#me6a8a86e3e\" y=\"239.758125\"/>\n      </g>\n     </g>\n     <g id=\"text_27\">\n      <!-- 900333 -->\n      <g transform=\"translate(269.219835 254.356563)scale(0.1 -0.1)\">\n       <use xlink:href=\"#DejaVuSans-57\"/>\n       <use x=\"63.623047\" xlink:href=\"#DejaVuSans-48\"/>\n       <use x=\"127.246094\" xlink:href=\"#DejaVuSans-48\"/>\n       <use x=\"190.869141\" xlink:href=\"#DejaVuSans-51\"/>\n       <use x=\"254.492188\" xlink:href=\"#DejaVuSans-51\"/>\n       <use x=\"318.115234\" xlink:href=\"#DejaVuSans-51\"/>\n      </g>\n     </g>\n    </g>\n    <g id=\"xtick_28\">\n     <g id=\"line2d_28\">\n      <g>\n       <use style=\"stroke:#000000;stroke-width:0.8;\" x=\"297.530475\" xlink:href=\"#me6a8a86e3e\" y=\"239.758125\"/>\n      </g>\n     </g>\n     <g id=\"text_28\">\n      <!-- 992032 -->\n      <g transform=\"translate(278.442975 254.356563)scale(0.1 -0.1)\">\n       <use xlink:href=\"#DejaVuSans-57\"/>\n       <use x=\"63.623047\" xlink:href=\"#DejaVuSans-57\"/>\n       <use x=\"127.246094\" xlink:href=\"#DejaVuSans-50\"/>\n       <use x=\"190.869141\" xlink:href=\"#DejaVuSans-48\"/>\n       <use x=\"254.492188\" xlink:href=\"#DejaVuSans-51\"/>\n       <use x=\"318.115234\" xlink:href=\"#DejaVuSans-50\"/>\n      </g>\n     </g>\n    </g>\n    <g id=\"xtick_29\">\n     <g id=\"line2d_29\">\n      <g>\n       <use style=\"stroke:#000000;stroke-width:0.8;\" x=\"306.753616\" xlink:href=\"#me6a8a86e3e\" y=\"239.758125\"/>\n      </g>\n     </g>\n     <g id=\"text_29\">\n      <!-- 902987 -->\n      <g transform=\"translate(287.666116 254.356563)scale(0.1 -0.1)\">\n       <use xlink:href=\"#DejaVuSans-57\"/>\n       <use x=\"63.623047\" xlink:href=\"#DejaVuSans-48\"/>\n       <use x=\"127.246094\" xlink:href=\"#DejaVuSans-50\"/>\n       <use x=\"190.869141\" xlink:href=\"#DejaVuSans-57\"/>\n       <use x=\"254.492188\" xlink:href=\"#DejaVuSans-56\"/>\n       <use x=\"318.115234\" xlink:href=\"#DejaVuSans-55\"/>\n      </g>\n     </g>\n    </g>\n    <g id=\"xtick_30\">\n     <g id=\"line2d_30\">\n      <g>\n       <use style=\"stroke:#000000;stroke-width:0.8;\" x=\"315.976756\" xlink:href=\"#me6a8a86e3e\" y=\"239.758125\"/>\n      </g>\n     </g>\n     <g id=\"text_30\">\n      <!-- 904446 -->\n      <g transform=\"translate(296.889256 254.356563)scale(0.1 -0.1)\">\n       <use xlink:href=\"#DejaVuSans-57\"/>\n       <use x=\"63.623047\" xlink:href=\"#DejaVuSans-48\"/>\n       <use x=\"127.246094\" xlink:href=\"#DejaVuSans-52\"/>\n       <use x=\"190.869141\" xlink:href=\"#DejaVuSans-52\"/>\n       <use x=\"254.492188\" xlink:href=\"#DejaVuSans-52\"/>\n       <use x=\"318.115234\" xlink:href=\"#DejaVuSans-54\"/>\n      </g>\n     </g>\n    </g>\n    <g id=\"xtick_31\">\n     <g id=\"line2d_31\">\n      <g>\n       <use style=\"stroke:#000000;stroke-width:0.8;\" x=\"325.199897\" xlink:href=\"#me6a8a86e3e\" y=\"239.758125\"/>\n      </g>\n     </g>\n     <g id=\"text_31\">\n      <!-- 900057 -->\n      <g transform=\"translate(306.112397 254.356563)scale(0.1 -0.1)\">\n       <use xlink:href=\"#DejaVuSans-57\"/>\n       <use x=\"63.623047\" xlink:href=\"#DejaVuSans-48\"/>\n       <use x=\"127.246094\" xlink:href=\"#DejaVuSans-48\"/>\n       <use x=\"190.869141\" xlink:href=\"#DejaVuSans-48\"/>\n       <use x=\"254.492188\" xlink:href=\"#DejaVuSans-53\"/>\n       <use x=\"318.115234\" xlink:href=\"#DejaVuSans-55\"/>\n      </g>\n     </g>\n    </g>\n    <g id=\"xtick_32\">\n     <g id=\"line2d_32\">\n      <g>\n       <use style=\"stroke:#000000;stroke-width:0.8;\" x=\"334.423037\" xlink:href=\"#me6a8a86e3e\" y=\"239.758125\"/>\n      </g>\n     </g>\n     <g id=\"text_32\">\n      <!-- 903787 -->\n      <g transform=\"translate(315.335537 254.356563)scale(0.1 -0.1)\">\n       <use xlink:href=\"#DejaVuSans-57\"/>\n       <use x=\"63.623047\" xlink:href=\"#DejaVuSans-48\"/>\n       <use x=\"127.246094\" xlink:href=\"#DejaVuSans-51\"/>\n       <use x=\"190.869141\" xlink:href=\"#DejaVuSans-55\"/>\n       <use x=\"254.492188\" xlink:href=\"#DejaVuSans-56\"/>\n       <use x=\"318.115234\" xlink:href=\"#DejaVuSans-55\"/>\n      </g>\n     </g>\n    </g>\n    <g id=\"xtick_33\">\n     <g id=\"line2d_33\">\n      <g>\n       <use style=\"stroke:#000000;stroke-width:0.8;\" x=\"343.646178\" xlink:href=\"#me6a8a86e3e\" y=\"239.758125\"/>\n      </g>\n     </g>\n     <g id=\"text_33\">\n      <!-- 904954 -->\n      <g transform=\"translate(324.558678 254.356563)scale(0.1 -0.1)\">\n       <use xlink:href=\"#DejaVuSans-57\"/>\n       <use x=\"63.623047\" xlink:href=\"#DejaVuSans-48\"/>\n       <use x=\"127.246094\" xlink:href=\"#DejaVuSans-52\"/>\n       <use x=\"190.869141\" xlink:href=\"#DejaVuSans-57\"/>\n       <use x=\"254.492188\" xlink:href=\"#DejaVuSans-53\"/>\n       <use x=\"318.115234\" xlink:href=\"#DejaVuSans-52\"/>\n      </g>\n     </g>\n    </g>\n    <g id=\"xtick_34\">\n     <g id=\"line2d_34\">\n      <g>\n       <use style=\"stroke:#000000;stroke-width:0.8;\" x=\"352.869318\" xlink:href=\"#me6a8a86e3e\" y=\"239.758125\"/>\n      </g>\n     </g>\n     <g id=\"text_34\">\n      <!-- 904872 -->\n      <g transform=\"translate(333.781818 254.356563)scale(0.1 -0.1)\">\n       <use xlink:href=\"#DejaVuSans-57\"/>\n       <use x=\"63.623047\" xlink:href=\"#DejaVuSans-48\"/>\n       <use x=\"127.246094\" xlink:href=\"#DejaVuSans-52\"/>\n       <use x=\"190.869141\" xlink:href=\"#DejaVuSans-56\"/>\n       <use x=\"254.492188\" xlink:href=\"#DejaVuSans-55\"/>\n       <use x=\"318.115234\" xlink:href=\"#DejaVuSans-50\"/>\n      </g>\n     </g>\n    </g>\n   </g>\n   <g id=\"matplotlib.axis_2\">\n    <g id=\"ytick_1\">\n     <g id=\"line2d_35\">\n      <defs>\n       <path d=\"M 0 0 \nL -3.5 0 \n\" id=\"mcc3d421432\" style=\"stroke:#000000;stroke-width:0.8;\"/>\n      </defs>\n      <g>\n       <use style=\"stroke:#000000;stroke-width:0.8;\" x=\"33.2875\" xlink:href=\"#mcc3d421432\" y=\"208.208356\"/>\n      </g>\n     </g>\n     <g id=\"text_35\">\n      <!-- 20 -->\n      <g transform=\"translate(13.5625 212.007575)scale(0.1 -0.1)\">\n       <use xlink:href=\"#DejaVuSans-50\"/>\n       <use x=\"63.623047\" xlink:href=\"#DejaVuSans-48\"/>\n      </g>\n     </g>\n    </g>\n    <g id=\"ytick_2\">\n     <g id=\"line2d_36\">\n      <g>\n       <use style=\"stroke:#000000;stroke-width:0.8;\" x=\"33.2875\" xlink:href=\"#mcc3d421432\" y=\"164.206707\"/>\n      </g>\n     </g>\n     <g id=\"text_36\">\n      <!-- 40 -->\n      <g transform=\"translate(13.5625 168.005926)scale(0.1 -0.1)\">\n       <use xlink:href=\"#DejaVuSans-52\"/>\n       <use x=\"63.623047\" xlink:href=\"#DejaVuSans-48\"/>\n      </g>\n     </g>\n    </g>\n    <g id=\"ytick_3\">\n     <g id=\"line2d_37\">\n      <g>\n       <use style=\"stroke:#000000;stroke-width:0.8;\" x=\"33.2875\" xlink:href=\"#mcc3d421432\" y=\"120.205059\"/>\n      </g>\n     </g>\n     <g id=\"text_37\">\n      <!-- 60 -->\n      <g transform=\"translate(13.5625 124.004277)scale(0.1 -0.1)\">\n       <use xlink:href=\"#DejaVuSans-54\"/>\n       <use x=\"63.623047\" xlink:href=\"#DejaVuSans-48\"/>\n      </g>\n     </g>\n    </g>\n    <g id=\"ytick_4\">\n     <g id=\"line2d_38\">\n      <g>\n       <use style=\"stroke:#000000;stroke-width:0.8;\" x=\"33.2875\" xlink:href=\"#mcc3d421432\" y=\"76.20341\"/>\n      </g>\n     </g>\n     <g id=\"text_38\">\n      <!-- 80 -->\n      <g transform=\"translate(13.5625 80.002629)scale(0.1 -0.1)\">\n       <use xlink:href=\"#DejaVuSans-56\"/>\n       <use x=\"63.623047\" xlink:href=\"#DejaVuSans-48\"/>\n      </g>\n     </g>\n    </g>\n    <g id=\"ytick_5\">\n     <g id=\"line2d_39\">\n      <g>\n       <use style=\"stroke:#000000;stroke-width:0.8;\" x=\"33.2875\" xlink:href=\"#mcc3d421432\" y=\"32.201761\"/>\n      </g>\n     </g>\n     <g id=\"text_39\">\n      <!-- 100 -->\n      <g transform=\"translate(7.2 36.00098)scale(0.1 -0.1)\">\n       <use xlink:href=\"#DejaVuSans-49\"/>\n       <use x=\"63.623047\" xlink:href=\"#DejaVuSans-48\"/>\n       <use x=\"127.246094\" xlink:href=\"#DejaVuSans-48\"/>\n      </g>\n     </g>\n    </g>\n   </g>\n   <g id=\"patch_3\">\n    <path d=\"M 33.2875 239.758125 \nL 33.2875 22.318125 \n\" style=\"fill:none;stroke:#000000;stroke-linecap:square;stroke-linejoin:miter;stroke-width:0.8;\"/>\n   </g>\n   <g id=\"patch_4\">\n    <path d=\"M 368.0875 239.758125 \nL 368.0875 22.318125 \n\" style=\"fill:none;stroke:#000000;stroke-linecap:square;stroke-linejoin:miter;stroke-width:0.8;\"/>\n   </g>\n   <g id=\"patch_5\">\n    <path d=\"M 33.2875 239.758125 \nL 368.0875 239.758125 \n\" style=\"fill:none;stroke:#000000;stroke-linecap:square;stroke-linejoin:miter;stroke-width:0.8;\"/>\n   </g>\n   <g id=\"patch_6\">\n    <path d=\"M 33.2875 22.318125 \nL 368.0875 22.318125 \n\" style=\"fill:none;stroke:#000000;stroke-linecap:square;stroke-linejoin:miter;stroke-width:0.8;\"/>\n   </g>\n   <g id=\"text_40\">\n    <!-- Average SuMAPE Error TCN: 34.35% -->\n    <g transform=\"translate(92.606875 16.318125)scale(0.12 -0.12)\">\n     <defs>\n      <path d=\"M 34.1875 63.1875 \nL 20.796875 26.90625 \nL 47.609375 26.90625 \nz\nM 28.609375 72.90625 \nL 39.796875 72.90625 \nL 67.578125 0 \nL 57.328125 0 \nL 50.6875 18.703125 \nL 17.828125 18.703125 \nL 11.1875 0 \nL 0.78125 0 \nz\n\" id=\"DejaVuSans-65\"/>\n      <path d=\"M 2.984375 54.6875 \nL 12.5 54.6875 \nL 29.59375 8.796875 \nL 46.6875 54.6875 \nL 56.203125 54.6875 \nL 35.6875 0 \nL 23.484375 0 \nz\n\" id=\"DejaVuSans-118\"/>\n      <path d=\"M 56.203125 29.59375 \nL 56.203125 25.203125 \nL 14.890625 25.203125 \nQ 15.484375 15.921875 20.484375 11.0625 \nQ 25.484375 6.203125 34.421875 6.203125 \nQ 39.59375 6.203125 44.453125 7.46875 \nQ 49.3125 8.734375 54.109375 11.28125 \nL 54.109375 2.78125 \nQ 49.265625 0.734375 44.1875 -0.34375 \nQ 39.109375 -1.421875 33.890625 -1.421875 \nQ 20.796875 -1.421875 13.15625 6.1875 \nQ 5.515625 13.8125 5.515625 26.8125 \nQ 5.515625 40.234375 12.765625 48.109375 \nQ 20.015625 56 32.328125 56 \nQ 43.359375 56 49.78125 48.890625 \nQ 56.203125 41.796875 56.203125 29.59375 \nz\nM 47.21875 32.234375 \nQ 47.125 39.59375 43.09375 43.984375 \nQ 39.0625 48.390625 32.421875 48.390625 \nQ 24.90625 48.390625 20.390625 44.140625 \nQ 15.875 39.890625 15.1875 32.171875 \nz\n\" id=\"DejaVuSans-101\"/>\n      <path d=\"M 41.109375 46.296875 \nQ 39.59375 47.171875 37.8125 47.578125 \nQ 36.03125 48 33.890625 48 \nQ 26.265625 48 22.1875 43.046875 \nQ 18.109375 38.09375 18.109375 28.8125 \nL 18.109375 0 \nL 9.078125 0 \nL 9.078125 54.6875 \nL 18.109375 54.6875 \nL 18.109375 46.1875 \nQ 20.953125 51.171875 25.484375 53.578125 \nQ 30.03125 56 36.53125 56 \nQ 37.453125 56 38.578125 55.875 \nQ 39.703125 55.765625 41.0625 55.515625 \nz\n\" id=\"DejaVuSans-114\"/>\n      <path d=\"M 34.28125 27.484375 \nQ 23.390625 27.484375 19.1875 25 \nQ 14.984375 22.515625 14.984375 16.5 \nQ 14.984375 11.71875 18.140625 8.90625 \nQ 21.296875 6.109375 26.703125 6.109375 \nQ 34.1875 6.109375 38.703125 11.40625 \nQ 43.21875 16.703125 43.21875 25.484375 \nL 43.21875 27.484375 \nz\nM 52.203125 31.203125 \nL 52.203125 0 \nL 43.21875 0 \nL 43.21875 8.296875 \nQ 40.140625 3.328125 35.546875 0.953125 \nQ 30.953125 -1.421875 24.3125 -1.421875 \nQ 15.921875 -1.421875 10.953125 3.296875 \nQ 6 8.015625 6 15.921875 \nQ 6 25.140625 12.171875 29.828125 \nQ 18.359375 34.515625 30.609375 34.515625 \nL 43.21875 34.515625 \nL 43.21875 35.40625 \nQ 43.21875 41.609375 39.140625 45 \nQ 35.0625 48.390625 27.6875 48.390625 \nQ 23 48.390625 18.546875 47.265625 \nQ 14.109375 46.140625 10.015625 43.890625 \nL 10.015625 52.203125 \nQ 14.9375 54.109375 19.578125 55.046875 \nQ 24.21875 56 28.609375 56 \nQ 40.484375 56 46.34375 49.84375 \nQ 52.203125 43.703125 52.203125 31.203125 \nz\n\" id=\"DejaVuSans-97\"/>\n      <path d=\"M 45.40625 27.984375 \nQ 45.40625 37.75 41.375 43.109375 \nQ 37.359375 48.484375 30.078125 48.484375 \nQ 22.859375 48.484375 18.828125 43.109375 \nQ 14.796875 37.75 14.796875 27.984375 \nQ 14.796875 18.265625 18.828125 12.890625 \nQ 22.859375 7.515625 30.078125 7.515625 \nQ 37.359375 7.515625 41.375 12.890625 \nQ 45.40625 18.265625 45.40625 27.984375 \nz\nM 54.390625 6.78125 \nQ 54.390625 -7.171875 48.1875 -13.984375 \nQ 42 -20.796875 29.203125 -20.796875 \nQ 24.46875 -20.796875 20.265625 -20.09375 \nQ 16.0625 -19.390625 12.109375 -17.921875 \nL 12.109375 -9.1875 \nQ 16.0625 -11.328125 19.921875 -12.34375 \nQ 23.78125 -13.375 27.78125 -13.375 \nQ 36.625 -13.375 41.015625 -8.765625 \nQ 45.40625 -4.15625 45.40625 5.171875 \nL 45.40625 9.625 \nQ 42.625 4.78125 38.28125 2.390625 \nQ 33.9375 0 27.875 0 \nQ 17.828125 0 11.671875 7.65625 \nQ 5.515625 15.328125 5.515625 27.984375 \nQ 5.515625 40.671875 11.671875 48.328125 \nQ 17.828125 56 27.875 56 \nQ 33.9375 56 38.28125 53.609375 \nQ 42.625 51.21875 45.40625 46.390625 \nL 45.40625 54.6875 \nL 54.390625 54.6875 \nz\n\" id=\"DejaVuSans-103\"/>\n      <path id=\"DejaVuSans-32\"/>\n      <path d=\"M 53.515625 70.515625 \nL 53.515625 60.890625 \nQ 47.90625 63.578125 42.921875 64.890625 \nQ 37.9375 66.21875 33.296875 66.21875 \nQ 25.25 66.21875 20.875 63.09375 \nQ 16.5 59.96875 16.5 54.203125 \nQ 16.5 49.359375 19.40625 46.890625 \nQ 22.3125 44.4375 30.421875 42.921875 \nL 36.375 41.703125 \nQ 47.40625 39.59375 52.65625 34.296875 \nQ 57.90625 29 57.90625 20.125 \nQ 57.90625 9.515625 50.796875 4.046875 \nQ 43.703125 -1.421875 29.984375 -1.421875 \nQ 24.8125 -1.421875 18.96875 -0.25 \nQ 13.140625 0.921875 6.890625 3.21875 \nL 6.890625 13.375 \nQ 12.890625 10.015625 18.65625 8.296875 \nQ 24.421875 6.59375 29.984375 6.59375 \nQ 38.421875 6.59375 43.015625 9.90625 \nQ 47.609375 13.234375 47.609375 19.390625 \nQ 47.609375 24.75 44.3125 27.78125 \nQ 41.015625 30.8125 33.5 32.328125 \nL 27.484375 33.5 \nQ 16.453125 35.6875 11.515625 40.375 \nQ 6.59375 45.0625 6.59375 53.421875 \nQ 6.59375 63.09375 13.40625 68.65625 \nQ 20.21875 74.21875 32.171875 74.21875 \nQ 37.3125 74.21875 42.625 73.28125 \nQ 47.953125 72.359375 53.515625 70.515625 \nz\n\" id=\"DejaVuSans-83\"/>\n      <path d=\"M 8.5 21.578125 \nL 8.5 54.6875 \nL 17.484375 54.6875 \nL 17.484375 21.921875 \nQ 17.484375 14.15625 20.5 10.265625 \nQ 23.53125 6.390625 29.59375 6.390625 \nQ 36.859375 6.390625 41.078125 11.03125 \nQ 45.3125 15.671875 45.3125 23.6875 \nL 45.3125 54.6875 \nL 54.296875 54.6875 \nL 54.296875 0 \nL 45.3125 0 \nL 45.3125 8.40625 \nQ 42.046875 3.421875 37.71875 1 \nQ 33.40625 -1.421875 27.6875 -1.421875 \nQ 18.265625 -1.421875 13.375 4.4375 \nQ 8.5 10.296875 8.5 21.578125 \nz\nM 31.109375 56 \nz\n\" id=\"DejaVuSans-117\"/>\n      <path d=\"M 9.8125 72.90625 \nL 24.515625 72.90625 \nL 43.109375 23.296875 \nL 61.8125 72.90625 \nL 76.515625 72.90625 \nL 76.515625 0 \nL 66.890625 0 \nL 66.890625 64.015625 \nL 48.09375 14.015625 \nL 38.1875 14.015625 \nL 19.390625 64.015625 \nL 19.390625 0 \nL 9.8125 0 \nz\n\" id=\"DejaVuSans-77\"/>\n      <path d=\"M 19.671875 64.796875 \nL 19.671875 37.40625 \nL 32.078125 37.40625 \nQ 38.96875 37.40625 42.71875 40.96875 \nQ 46.484375 44.53125 46.484375 51.125 \nQ 46.484375 57.671875 42.71875 61.234375 \nQ 38.96875 64.796875 32.078125 64.796875 \nz\nM 9.8125 72.90625 \nL 32.078125 72.90625 \nQ 44.34375 72.90625 50.609375 67.359375 \nQ 56.890625 61.8125 56.890625 51.125 \nQ 56.890625 40.328125 50.609375 34.8125 \nQ 44.34375 29.296875 32.078125 29.296875 \nL 19.671875 29.296875 \nL 19.671875 0 \nL 9.8125 0 \nz\n\" id=\"DejaVuSans-80\"/>\n      <path d=\"M 9.8125 72.90625 \nL 55.90625 72.90625 \nL 55.90625 64.59375 \nL 19.671875 64.59375 \nL 19.671875 43.015625 \nL 54.390625 43.015625 \nL 54.390625 34.71875 \nL 19.671875 34.71875 \nL 19.671875 8.296875 \nL 56.78125 8.296875 \nL 56.78125 0 \nL 9.8125 0 \nz\n\" id=\"DejaVuSans-69\"/>\n      <path d=\"M 30.609375 48.390625 \nQ 23.390625 48.390625 19.1875 42.75 \nQ 14.984375 37.109375 14.984375 27.296875 \nQ 14.984375 17.484375 19.15625 11.84375 \nQ 23.34375 6.203125 30.609375 6.203125 \nQ 37.796875 6.203125 41.984375 11.859375 \nQ 46.1875 17.53125 46.1875 27.296875 \nQ 46.1875 37.015625 41.984375 42.703125 \nQ 37.796875 48.390625 30.609375 48.390625 \nz\nM 30.609375 56 \nQ 42.328125 56 49.015625 48.375 \nQ 55.71875 40.765625 55.71875 27.296875 \nQ 55.71875 13.875 49.015625 6.21875 \nQ 42.328125 -1.421875 30.609375 -1.421875 \nQ 18.84375 -1.421875 12.171875 6.21875 \nQ 5.515625 13.875 5.515625 27.296875 \nQ 5.515625 40.765625 12.171875 48.375 \nQ 18.84375 56 30.609375 56 \nz\n\" id=\"DejaVuSans-111\"/>\n      <path d=\"M -0.296875 72.90625 \nL 61.375 72.90625 \nL 61.375 64.59375 \nL 35.5 64.59375 \nL 35.5 0 \nL 25.59375 0 \nL 25.59375 64.59375 \nL -0.296875 64.59375 \nz\n\" id=\"DejaVuSans-84\"/>\n      <path d=\"M 64.40625 67.28125 \nL 64.40625 56.890625 \nQ 59.421875 61.53125 53.78125 63.8125 \nQ 48.140625 66.109375 41.796875 66.109375 \nQ 29.296875 66.109375 22.65625 58.46875 \nQ 16.015625 50.828125 16.015625 36.375 \nQ 16.015625 21.96875 22.65625 14.328125 \nQ 29.296875 6.6875 41.796875 6.6875 \nQ 48.140625 6.6875 53.78125 8.984375 \nQ 59.421875 11.28125 64.40625 15.921875 \nL 64.40625 5.609375 \nQ 59.234375 2.09375 53.4375 0.328125 \nQ 47.65625 -1.421875 41.21875 -1.421875 \nQ 24.65625 -1.421875 15.125 8.703125 \nQ 5.609375 18.84375 5.609375 36.375 \nQ 5.609375 53.953125 15.125 64.078125 \nQ 24.65625 74.21875 41.21875 74.21875 \nQ 47.75 74.21875 53.53125 72.484375 \nQ 59.328125 70.75 64.40625 67.28125 \nz\n\" id=\"DejaVuSans-67\"/>\n      <path d=\"M 9.8125 72.90625 \nL 23.09375 72.90625 \nL 55.421875 11.921875 \nL 55.421875 72.90625 \nL 64.984375 72.90625 \nL 64.984375 0 \nL 51.703125 0 \nL 19.390625 60.984375 \nL 19.390625 0 \nL 9.8125 0 \nz\n\" id=\"DejaVuSans-78\"/>\n      <path d=\"M 11.71875 12.40625 \nL 22.015625 12.40625 \nL 22.015625 0 \nL 11.71875 0 \nz\nM 11.71875 51.703125 \nL 22.015625 51.703125 \nL 22.015625 39.3125 \nL 11.71875 39.3125 \nz\n\" id=\"DejaVuSans-58\"/>\n      <path d=\"M 10.6875 12.40625 \nL 21 12.40625 \nL 21 0 \nL 10.6875 0 \nz\n\" id=\"DejaVuSans-46\"/>\n      <path d=\"M 72.703125 32.078125 \nQ 68.453125 32.078125 66.03125 28.46875 \nQ 63.625 24.859375 63.625 18.40625 \nQ 63.625 12.0625 66.03125 8.421875 \nQ 68.453125 4.78125 72.703125 4.78125 \nQ 76.859375 4.78125 79.265625 8.421875 \nQ 81.6875 12.0625 81.6875 18.40625 \nQ 81.6875 24.8125 79.265625 28.4375 \nQ 76.859375 32.078125 72.703125 32.078125 \nz\nM 72.703125 38.28125 \nQ 80.421875 38.28125 84.953125 32.90625 \nQ 89.5 27.546875 89.5 18.40625 \nQ 89.5 9.28125 84.9375 3.921875 \nQ 80.375 -1.421875 72.703125 -1.421875 \nQ 64.890625 -1.421875 60.34375 3.921875 \nQ 55.8125 9.28125 55.8125 18.40625 \nQ 55.8125 27.59375 60.375 32.9375 \nQ 64.9375 38.28125 72.703125 38.28125 \nz\nM 22.3125 68.015625 \nQ 18.109375 68.015625 15.6875 64.375 \nQ 13.28125 60.75 13.28125 54.390625 \nQ 13.28125 47.953125 15.671875 44.328125 \nQ 18.0625 40.71875 22.3125 40.71875 \nQ 26.5625 40.71875 28.96875 44.328125 \nQ 31.390625 47.953125 31.390625 54.390625 \nQ 31.390625 60.6875 28.953125 64.34375 \nQ 26.515625 68.015625 22.3125 68.015625 \nz\nM 66.40625 74.21875 \nL 74.21875 74.21875 \nL 28.609375 -1.421875 \nL 20.796875 -1.421875 \nz\nM 22.3125 74.21875 \nQ 30.03125 74.21875 34.609375 68.875 \nQ 39.203125 63.53125 39.203125 54.390625 \nQ 39.203125 45.171875 34.640625 39.84375 \nQ 30.078125 34.515625 22.3125 34.515625 \nQ 14.546875 34.515625 10.03125 39.859375 \nQ 5.515625 45.21875 5.515625 54.390625 \nQ 5.515625 63.484375 10.046875 68.84375 \nQ 14.59375 74.21875 22.3125 74.21875 \nz\n\" id=\"DejaVuSans-37\"/>\n     </defs>\n     <use xlink:href=\"#DejaVuSans-65\"/>\n     <use x=\"62.533203\" xlink:href=\"#DejaVuSans-118\"/>\n     <use x=\"121.712891\" xlink:href=\"#DejaVuSans-101\"/>\n     <use x=\"183.236328\" xlink:href=\"#DejaVuSans-114\"/>\n     <use x=\"224.349609\" xlink:href=\"#DejaVuSans-97\"/>\n     <use x=\"285.628906\" xlink:href=\"#DejaVuSans-103\"/>\n     <use x=\"349.105469\" xlink:href=\"#DejaVuSans-101\"/>\n     <use x=\"410.628906\" xlink:href=\"#DejaVuSans-32\"/>\n     <use x=\"442.416016\" xlink:href=\"#DejaVuSans-83\"/>\n     <use x=\"505.892578\" xlink:href=\"#DejaVuSans-117\"/>\n     <use x=\"569.271484\" xlink:href=\"#DejaVuSans-77\"/>\n     <use x=\"655.550781\" xlink:href=\"#DejaVuSans-65\"/>\n     <use x=\"723.958984\" xlink:href=\"#DejaVuSans-80\"/>\n     <use x=\"784.261719\" xlink:href=\"#DejaVuSans-69\"/>\n     <use x=\"847.445312\" xlink:href=\"#DejaVuSans-32\"/>\n     <use x=\"879.232422\" xlink:href=\"#DejaVuSans-69\"/>\n     <use x=\"942.416016\" xlink:href=\"#DejaVuSans-114\"/>\n     <use x=\"981.779297\" xlink:href=\"#DejaVuSans-114\"/>\n     <use x=\"1020.642578\" xlink:href=\"#DejaVuSans-111\"/>\n     <use x=\"1081.824219\" xlink:href=\"#DejaVuSans-114\"/>\n     <use x=\"1122.9375\" xlink:href=\"#DejaVuSans-32\"/>\n     <use x=\"1154.724609\" xlink:href=\"#DejaVuSans-84\"/>\n     <use x=\"1209.933594\" xlink:href=\"#DejaVuSans-67\"/>\n     <use x=\"1279.757812\" xlink:href=\"#DejaVuSans-78\"/>\n     <use x=\"1354.5625\" xlink:href=\"#DejaVuSans-58\"/>\n     <use x=\"1388.253906\" xlink:href=\"#DejaVuSans-32\"/>\n     <use x=\"1420.041016\" xlink:href=\"#DejaVuSans-51\"/>\n     <use x=\"1483.664062\" xlink:href=\"#DejaVuSans-52\"/>\n     <use x=\"1547.287109\" xlink:href=\"#DejaVuSans-46\"/>\n     <use x=\"1579.074219\" xlink:href=\"#DejaVuSans-51\"/>\n     <use x=\"1642.697266\" xlink:href=\"#DejaVuSans-53\"/>\n     <use x=\"1706.320312\" xlink:href=\"#DejaVuSans-37\"/>\n    </g>\n   </g>\n  </g>\n </g>\n <defs>\n  <clipPath id=\"pe48eff7c34\">\n   <rect height=\"217.44\" width=\"334.8\" x=\"33.2875\" y=\"22.318125\"/>\n  </clipPath>\n </defs>\n</svg>\n",
      "image/png": "[encoded data removed]"
     },
     "metadata": {
      "needs_background": "light"
     }
    }
   ],
   "source": [
    "x = [*map(str,error_dict_3.keys())]\n",
    "y = error_dict_3.values()\n",
    "plt.scatter(x,y )\n",
    "plt.title('Average SuMAPE Error TCN: {:.2f}%'.format(np.mean(list(y))))"
   ]
  }
 ],
 "metadata": {
  "hide_input": false,
  "kernelspec": {
   "display_name": "Python 3",
   "language": "python",
   "name": "python3"
  },
  "language_info": {
   "codemirror_mode": {
    "name": "ipython",
    "version": 3
   },
   "file_extension": ".py",
   "mimetype": "text/x-python",
   "name": "python",
   "nbconvert_exporter": "python",
   "pygments_lexer": "ipython3",
   "version": "3.7.6"
  },
  "toc": {
   "base_numbering": 1,
   "nav_menu": {},
   "number_sections": true,
   "sideBar": true,
   "skip_h1_title": false,
   "title_cell": "Table of Contents",
   "title_sidebar": "Contents",
   "toc_cell": false,
   "toc_position": {},
   "toc_section_display": true,
   "toc_window_display": false
  },
  "varInspector": {
   "cols": {
    "lenName": 16,
    "lenType": 16,
    "lenVar": 40
   },
   "kernels_config": {
    "python": {
     "delete_cmd_postfix": "",
     "delete_cmd_prefix": "del ",
     "library": "var_list.py",
     "varRefreshCmd": "print(var_dic_list())"
    },
    "r": {
     "delete_cmd_postfix": ") ",
     "delete_cmd_prefix": "rm(",
     "library": "var_list.r",
     "varRefreshCmd": "cat(var_dic_list()) "
    }
   },
   "types_to_exclude": [
    "module",
    "function",
    "builtin_function_or_method",
    "instance",
    "_Feature"
   ],
   "window_display": false
  }
 },
 "nbformat": 4,
 "nbformat_minor": 1
}