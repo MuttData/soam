{
 "metadata": {
  "language_info": {
   "codemirror_mode": {
    "name": "ipython",
    "version": 3
   },
   "file_extension": ".py",
   "mimetype": "text/x-python",
   "name": "python",
   "nbconvert_exporter": "python",
   "pygments_lexer": "ipython3",
   "version": "3.8.5"
  },
  "orig_nbformat": 2,
  "kernelspec": {
   "name": "python385jvsc74a57bd07b8b98885937d7220c00c37adb9e1629103b742b5a64a4a49ca800714039f475",
   "display_name": "Python 3.8.5 64-bit ('soam_venv')"
  },
  "metadata": {
   "interpreter": {
    "hash": "a592e344e9682ec7defbe41adb0850cbb96f0240cf35d555f698d4919a4d2fb7"
   }
  }
 },
 "nbformat": 4,
 "nbformat_minor": 2,
 "cells": [
  {
   "cell_type": "code",
   "execution_count": 1,
   "metadata": {},
   "outputs": [],
   "source": [
    "from soam.utilities.utils import add_future_dates\n",
    "import matplotlib.pyplot as plt\n",
    "import pandas as pd\n",
    "\n",
    "from soam.workflow.forecaster import Forecaster\n",
    "from soam.plotting.forecast_plotter import ForecastPlotterTask"
   ]
  },
  {
   "cell_type": "code",
   "execution_count": 2,
   "metadata": {},
   "outputs": [
    {
     "output_type": "execute_result",
     "data": {
      "text/plain": [
       "            ds       y\n",
       "288 2016-01-01  400928\n",
       "289 2016-02-01  413554\n",
       "290 2016-03-01  460093\n",
       "291 2016-04-01  450935\n",
       "292 2016-05-01  471421"
      ],
      "text/html": "<div>\n<style scoped>\n    .dataframe tbody tr th:only-of-type {\n        vertical-align: middle;\n    }\n\n    .dataframe tbody tr th {\n        vertical-align: top;\n    }\n\n    .dataframe thead th {\n        text-align: right;\n    }\n</style>\n<table border=\"1\" class=\"dataframe\">\n  <thead>\n    <tr style=\"text-align: right;\">\n      <th></th>\n      <th>ds</th>\n      <th>y</th>\n    </tr>\n  </thead>\n  <tbody>\n    <tr>\n      <th>288</th>\n      <td>2016-01-01</td>\n      <td>400928</td>\n    </tr>\n    <tr>\n      <th>289</th>\n      <td>2016-02-01</td>\n      <td>413554</td>\n    </tr>\n    <tr>\n      <th>290</th>\n      <td>2016-03-01</td>\n      <td>460093</td>\n    </tr>\n    <tr>\n      <th>291</th>\n      <td>2016-04-01</td>\n      <td>450935</td>\n    </tr>\n    <tr>\n      <th>292</th>\n      <td>2016-05-01</td>\n      <td>471421</td>\n    </tr>\n  </tbody>\n</table>\n</div>"
     },
     "metadata": {},
     "execution_count": 2
    }
   ],
   "source": [
    "url = \"https://raw.githubusercontent.com/facebook/prophet/master/examples/example_retail_sales.csv\"\n",
    "df = pd.read_csv(url)\n",
    "df[\"ds\"] = pd.to_datetime(df.ds)\n",
    "df.tail()"
   ]
  },
  {
   "cell_type": "code",
   "execution_count": 3,
   "metadata": {},
   "outputs": [
    {
     "output_type": "stream",
     "name": "stderr",
     "text": [
      "ERROR:fbprophet.plot:Importing plotly failed. Interactive plots will not work.\n"
     ]
    }
   ],
   "source": [
    "from soam.models import SkExponentialSmoothing"
   ]
  },
  {
   "cell_type": "code",
   "execution_count": 4,
   "metadata": {},
   "outputs": [],
   "source": [
    "my_model = SkExponentialSmoothing()"
   ]
  },
  {
   "cell_type": "code",
   "execution_count": 5,
   "metadata": {},
   "outputs": [],
   "source": [
    "forecaster = Forecaster(my_model, output_length=7)"
   ]
  },
  {
   "cell_type": "code",
   "execution_count": 6,
   "metadata": {},
   "outputs": [
    {
     "output_type": "stream",
     "name": "stdout",
     "text": [
      "0      146376.0\n",
      "1      147079.0\n",
      "2      159336.0\n",
      "3      163669.0\n",
      "4      170068.0\n",
      "         ...   \n",
      "288    400928.0\n",
      "289    413554.0\n",
      "290    460093.0\n",
      "291    450935.0\n",
      "292    471421.0\n",
      "Name: y, Length: 293, dtype: float64\n",
      "/home/eugenio/MUTT/soam/soam_venv/lib/python3.8/site-packages/statsmodels/tsa/base/tsa_model.py:524: ValueWarning: No frequency information was provided, so inferred frequency MS will be used.\n",
      "  warnings.warn('No frequency information was'\n",
      "/home/eugenio/MUTT/soam/soam_venv/lib/python3.8/site-packages/statsmodels/tsa/holtwinters/model.py:920: ConvergenceWarning: Optimization failed to converge. Check mle_retvals.\n",
      "  warnings.warn(\n"
     ]
    }
   ],
   "source": [
    "df = add_future_dates(df, periods=7)\n",
    "predictions, time_series, model = forecaster.run(time_series=df)"
   ]
  },
  {
   "cell_type": "code",
   "execution_count": 7,
   "metadata": {},
   "outputs": [
    {
     "output_type": "execute_result",
     "data": {
      "text/plain": [
       "          ds           yhat\n",
       "0 2016-06-01  450456.604059\n",
       "1 2016-07-01  450456.604059\n",
       "2 2016-08-01  450456.604059\n",
       "3 2016-09-01  450456.604059\n",
       "4 2016-10-01  450456.604059\n",
       "5 2016-11-01  450456.604059\n",
       "6 2016-12-01  450456.604059"
      ],
      "text/html": "<div>\n<style scoped>\n    .dataframe tbody tr th:only-of-type {\n        vertical-align: middle;\n    }\n\n    .dataframe tbody tr th {\n        vertical-align: top;\n    }\n\n    .dataframe thead th {\n        text-align: right;\n    }\n</style>\n<table border=\"1\" class=\"dataframe\">\n  <thead>\n    <tr style=\"text-align: right;\">\n      <th></th>\n      <th>ds</th>\n      <th>yhat</th>\n    </tr>\n  </thead>\n  <tbody>\n    <tr>\n      <th>0</th>\n      <td>2016-06-01</td>\n      <td>450456.604059</td>\n    </tr>\n    <tr>\n      <th>1</th>\n      <td>2016-07-01</td>\n      <td>450456.604059</td>\n    </tr>\n    <tr>\n      <th>2</th>\n      <td>2016-08-01</td>\n      <td>450456.604059</td>\n    </tr>\n    <tr>\n      <th>3</th>\n      <td>2016-09-01</td>\n      <td>450456.604059</td>\n    </tr>\n    <tr>\n      <th>4</th>\n      <td>2016-10-01</td>\n      <td>450456.604059</td>\n    </tr>\n    <tr>\n      <th>5</th>\n      <td>2016-11-01</td>\n      <td>450456.604059</td>\n    </tr>\n    <tr>\n      <th>6</th>\n      <td>2016-12-01</td>\n      <td>450456.604059</td>\n    </tr>\n  </tbody>\n</table>\n</div>"
     },
     "metadata": {},
     "execution_count": 7
    }
   ],
   "source": [
    "predictions"
   ]
  },
  {
   "cell_type": "code",
   "execution_count": null,
   "metadata": {},
   "outputs": [],
   "source": []
  }
 ]
}