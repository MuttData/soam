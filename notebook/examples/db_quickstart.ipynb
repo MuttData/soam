{
 "metadata": {
  "language_info": {
   "codemirror_mode": {
    "name": "ipython",
    "version": 3
   },
   "file_extension": ".py",
   "mimetype": "text/x-python",
   "name": "python",
   "nbconvert_exporter": "python",
   "pygments_lexer": "ipython3",
   "version": "3.8.5"
  },
  "orig_nbformat": 2,
  "kernelspec": {
   "name": "python385jvsc74a57bd04c0e08b2857be3c186965140c9502d7b9e7afc0bbaaa128ae7b94ab9f857ef32",
   "display_name": "Python 3.8.5 64-bit"
  }
 },
 "nbformat": 4,
 "nbformat_minor": 2,
 "cells": [
  {
   "source": [
    "### Quickstart dummy database generation"
   ],
   "cell_type": "markdown",
   "metadata": {}
  },
  {
   "source": [
    "To use SQLite3 in Python, first of all, you will have to import the sqlite3 module and then create a connection object which will connect us to the database and will let us execute the SQL statements.\n",
    "\n",
    "That will create a new file with the name ‘mydatabase.db’.\n",
    "\n",
    "To execute SQLite statements in Python, you need a cursor object. You can create it using the cursor() method. \n",
    "\n",
    "That will let you use the cursor object to call the execute() method to execute any SQL queries.\n",
    "\n",
    "Lets create the table stock with the following attributes:\n",
    "\n",
    "    stock (id, date, symbol, avg_num_trades, avg_price)\n",
    "    "
   ],
   "cell_type": "markdown",
   "metadata": {}
  },
  {
   "cell_type": "code",
   "execution_count": 2,
   "metadata": {},
   "outputs": [],
   "source": [
    "# NBVAL_SKIP\n",
    "\n",
    "import sqlite3\n",
    "from sqlite3 import Error\n",
    "\n",
    "def sql_connection():\n",
    "    try:\n",
    "        con = sqlite3.connect('soam_quickstart.db')\n",
    "        return con\n",
    "    except Error:\n",
    "        print(Error)\n",
    "\n",
    "def sql_table(con):\n",
    "    cursorObj = con.cursor()\n",
    "    cursorObj.execute(\"CREATE TABLE stock(id integer PRIMARY KEY, date datetime, symbol text, avg_num_trades real, avg_price real)\")\n",
    "    con.commit()\n",
    "\n",
    "con = sql_connection()\n",
    "sql_table(con)"
   ]
  },
  {
   "source": [
    "#### Insert data"
   ],
   "cell_type": "markdown",
   "metadata": {}
  },
  {
   "cell_type": "code",
   "execution_count": 3,
   "metadata": {},
   "outputs": [
    {
     "output_type": "stream",
     "name": "stdout",
     "text": [
      "We have inserted 30 records to the table.\n"
     ]
    }
   ],
   "source": [
    "# NBVAL_SKIP\n",
    "\n",
    "cursorObj = con.cursor()\n",
    "\n",
    "#records or rows in a list\n",
    "records = [\n",
    "    (1, '2021-03-01', 'AAPL', 80000, 125),\n",
    "    (2, '2021-03-02', 'AAPL', 70000, 126),\n",
    "    (3, '2021-03-03', 'AAPL', 80000, 123),\n",
    "    (4, '2021-03-04', 'AAPL', 70000, 121),\n",
    "    (5, '2021-03-05', 'AAPL', 80000, 119),\n",
    "    (6, '2021-03-06', 'AAPL', 85000, 116),\n",
    "    (7, '2021-03-07', 'AAPL', 80000, 124),\n",
    "    (8, '2021-03-08', 'AAPL', 70000, 125),\n",
    "    (9, '2021-03-09', 'AAPL', 87000, 128),\n",
    "    (10, '2021-03-10', 'AAPL', 90000, 135),\n",
    "    (11, '2021-03-11', 'AAPL', 90000, 132),\n",
    "    (12, '2021-03-12', 'AAPL', 85000, 126),\n",
    "    (13, '2021-03-13', 'AAPL', 75000, 120),\n",
    "    (14, '2021-03-14', 'AAPL', 80000, 125),\n",
    "    (15, '2021-03-15', 'AAPL', 100000, 135),\n",
    "    (16, '2021-03-16', 'AAPL', 105000, 136),\n",
    "    (17, '2021-03-17', 'AAPL', 110000, 138),\n",
    "    (18, '2021-03-18', 'AAPL', 110000, 129),\n",
    "    (19, '2021-03-19', 'AAPL', 120000, 136),\n",
    "    (20, '2021-03-20', 'AAPL', 120000, 136),\n",
    "    (21, '2021-03-21', 'AAPL', 130000, 138),\n",
    "    (22, '2021-03-22', 'AAPL', 150000, 142),\n",
    "    (23, '2021-03-01', 'TSLA', 60000, 105),\n",
    "    (24, '2021-03-02', 'TSLA', 62000, 104),\n",
    "    (25, '2021-03-03', 'TSLA', 64000, 101),\n",
    "    (26, '2021-03-04', 'TSLA', 69000, 108),\n",
    "    (27, '2021-03-05', 'TSLA', 80000, 115),\n",
    "    (28, '2021-03-06', 'TSLA', 85000, 114),\n",
    "    (29, '2021-03-07', 'TSLA', 77000, 105),\n",
    "    (30, '2021-03-08', 'TSLA', 89000, 116),\n",
    "]\n",
    "\n",
    "#insert multiple records in a single query\n",
    "cursorObj.executemany('INSERT INTO stock VALUES(?,?,?,?,?);',records);\n",
    "\n",
    "print('We have inserted', cursorObj.rowcount, 'records to the table.')\n",
    "\n",
    "#commit the changes to db\t\t\t\n",
    "con.commit()"
   ]
  }
 ]
}