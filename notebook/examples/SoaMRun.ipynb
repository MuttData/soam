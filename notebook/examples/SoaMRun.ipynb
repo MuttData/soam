{
  "cells": [
    {
      "cell_type": "markdown",
      "metadata": {
        "id": "wC2Nxna3qHWv",
        "colab_type": "text"
      },
      "source": [
        "# Time Series Forecasting with SoaM\n",
        "\n",
        "In this notebook we will show how to make predictions and persist them using SoaM Forcaster."
      ]
    },
    {
      "cell_type": "code",
      "metadata": {
        "id": "wQYMELXKqHW1",
        "colab_type": "code",
        "colab": {}
      },
      "source": [
        "import io\n",
        "\n",
        "from darts import models\n",
        "import matplotlib.pyplot as plt\n",
        "from muttlib.dbconn import PgClient\n",
        "import pandas as pd\n",
        "import requests\n",
        "\n",
        "from soam.cfg import get_db_cred\n",
        "from soam.forecaster import Forecaster\n",
        "from soam.runner import PipelineRun, StepRun\n",
        "from soam.savers import CSVSaver, DBSaver"
      ],
      "execution_count": 1,
      "outputs": []
    },
    {
      "cell_type": "code",
      "metadata": {
        "id": "GDRh3EP3qHXT",
        "colab_type": "code",
        "colab": {}
      },
      "source": [
        "url = \"https://raw.githubusercontent.com/facebook/prophet/master/examples/example_retail_sales.csv\"\n",
        "df = pd.read_csv(url)\n",
        "df.tail()"
      ],
      "execution_count": 2,
      "outputs": [
        {
          "output_type": "execute_result",
          "data": {
            "text/plain": "             ds       y\n288  2016-01-01  400928\n289  2016-02-01  413554\n290  2016-03-01  460093\n291  2016-04-01  450935\n292  2016-05-01  471421",
            "text/html": "<div>\n<style scoped>\n    .dataframe tbody tr th:only-of-type {\n        vertical-align: middle;\n    }\n\n    .dataframe tbody tr th {\n        vertical-align: top;\n    }\n\n    .dataframe thead th {\n        text-align: right;\n    }\n</style>\n<table border=\"1\" class=\"dataframe\">\n  <thead>\n    <tr style=\"text-align: right;\">\n      <th></th>\n      <th>ds</th>\n      <th>y</th>\n    </tr>\n  </thead>\n  <tbody>\n    <tr>\n      <th>288</th>\n      <td>2016-01-01</td>\n      <td>400928</td>\n    </tr>\n    <tr>\n      <th>289</th>\n      <td>2016-02-01</td>\n      <td>413554</td>\n    </tr>\n    <tr>\n      <th>290</th>\n      <td>2016-03-01</td>\n      <td>460093</td>\n    </tr>\n    <tr>\n      <th>291</th>\n      <td>2016-04-01</td>\n      <td>450935</td>\n    </tr>\n    <tr>\n      <th>292</th>\n      <td>2016-05-01</td>\n      <td>471421</td>\n    </tr>\n  </tbody>\n</table>\n</div>"
          },
          "metadata": {},
          "execution_count": 2
        }
      ]
    },
    {
      "cell_type": "markdown",
      "metadata": {
        "id": "wi2jhRT8qHXo",
        "colab_type": "text"
      },
      "source": [
        "We plot the sample data:"
      ]
    },
    {
      "cell_type": "code",
      "metadata": {
        "id": "1PpL-pa1qHX8",
        "colab_type": "code",
        "colab": {}
      },
      "source": [
        "my_model = models.Prophet(weekly_seasonality=False, daily_seasonality=False)"
      ],
      "execution_count": 3,
      "outputs": []
    },
    {
      "cell_type": "code",
      "metadata": {
        "id": "bVOrb3aAqHYO",
        "colab_type": "code",
        "colab": {}
      },
      "source": [
        "forecaster = Forecaster(my_model)"
      ],
      "execution_count": 4,
      "outputs": []
    },
    {
      "cell_type": "code",
      "metadata": {
        "tags": [],
        "id": "NdeoYIQmqHYg",
        "colab_type": "code",
        "colab": {},
        "outputId": "9ba999aa-1490-4e6a-829f-6219498c85ac"
      },
      "source": [
        "predictions = forecaster.run(raw_series=df, output_length=7)"
      ],
      "execution_count": 5,
      "outputs": [
        {
          "output_type": "stream",
          "name": "stderr",
          "text": "INFO:numexpr.utils:NumExpr defaulting to 8 threads.\n"
        }
      ]
    },
    {
      "cell_type": "code",
      "metadata": {
        "id": "UQXXmYVNqHYw",
        "colab_type": "code",
        "colab": {}
      },
      "source": [
        "db_cred = get_db_cred(\"../../soam/settings.ini\")\n",
        "db = PgClient(**db_cred)"
      ],
      "execution_count": 6,
      "outputs": []
    },
    {
      "cell_type": "code",
      "metadata": {
        "tags": [],
        "id": "Fv5US3kTqHY_",
        "colab_type": "code",
        "colab": {}
      },
      "source": [
        "saver = DBSaver(db)\n",
        "pipe = PipelineRun()\n",
        "run_id = saver.save_pipeline_run(pipe)\n",
        "step_run = StepRun(forecaster, run_id)\n",
        "step_run_id = saver.save_step_run(step_run)\n",
        "saver.save_forecaster(forecaster, step_run_id)"
      ],
      "execution_count": 8,
      "outputs": []
    }
  ],
  "metadata": {
    "hide_input": false,
    "kernelspec": {
      "display_name": "Python 3",
      "language": "python",
      "name": "python3"
    },
    "language_info": {
      "codemirror_mode": {
        "name": "ipython",
        "version": 3
      },
      "file_extension": ".py",
      "mimetype": "text/x-python",
      "name": "python",
      "nbconvert_exporter": "python",
      "pygments_lexer": "ipython3",
      "version": "3.7.6"
    },
    "toc": {
      "base_numbering": 1,
      "nav_menu": {},
      "number_sections": true,
      "sideBar": true,
      "skip_h1_title": false,
      "title_cell": "Table of Contents",
      "title_sidebar": "Contents",
      "toc_cell": false,
      "toc_position": {},
      "toc_section_display": true,
      "toc_window_display": false
    },
    "varInspector": {
      "cols": {
        "lenName": 16,
        "lenType": 16,
        "lenVar": 40
      },
      "kernels_config": {
        "python": {
          "delete_cmd_postfix": "",
          "delete_cmd_prefix": "del ",
          "library": "var_list.py",
          "varRefreshCmd": "print(var_dic_list())"
        },
        "r": {
          "delete_cmd_postfix": ") ",
          "delete_cmd_prefix": "rm(",
          "library": "var_list.r",
          "varRefreshCmd": "cat(var_dic_list()) "
        }
      },
      "types_to_exclude": [
        "module",
        "function",
        "builtin_function_or_method",
        "instance",
        "_Feature"
      ],
      "window_display": false
    },
    "colab": {
      "name": "forecaster.ipynb",
      "provenance": [],
      "collapsed_sections": []
    }
  },
  "nbformat": 4,
  "nbformat_minor": 0
}