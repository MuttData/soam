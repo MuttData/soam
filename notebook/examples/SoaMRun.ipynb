{
 "cells": [
  {
   "cell_type": "markdown",
   "metadata": {
    "colab_type": "text",
    "id": "wC2Nxna3qHWv"
   },
   "source": [
    "# Time Series Forecasting with SoaM\n",
    "\n",
    "In this notebook we will show how to make predictions and persist them using SoaM Forcaster."
   ]
  },
  {
   "cell_type": "code",
   "execution_count": 2,
   "metadata": {
    "colab": {},
    "colab_type": "code",
    "id": "wQYMELXKqHW1"
   },
   "outputs": [],
   "source": [
    "import io\n",
    "\n",
    "from soam.models.prophet import SkProphet\n",
    "import matplotlib.pyplot as plt\n",
    "from muttlib.dbconn import PgClient\n",
    "import pandas as pd\n",
    "import requests\n",
    "from soam.utilities.utils import add_future_dates\n",
    "from soam.cfg import get_db_cred\n",
    "from soam.workflow.forecaster import Forecaster\n",
    "# from soam.core.runner import PipelineRun, StepRun\n",
    "from soam.savers import CSVSaver, DBSaver"
   ]
  },
  {
   "cell_type": "markdown",
   "metadata": {},
   "source": [
    "First we fit a forecaster model."
   ]
  },
  {
   "cell_type": "code",
   "execution_count": 3,
   "metadata": {
    "colab": {},
    "colab_type": "code",
    "id": "GDRh3EP3qHXT"
   },
   "outputs": [
    {
     "data": {
      "text/html": [
       "<div>\n",
       "<style scoped>\n",
       "    .dataframe tbody tr th:only-of-type {\n",
       "        vertical-align: middle;\n",
       "    }\n",
       "\n",
       "    .dataframe tbody tr th {\n",
       "        vertical-align: top;\n",
       "    }\n",
       "\n",
       "    .dataframe thead th {\n",
       "        text-align: right;\n",
       "    }\n",
       "</style>\n",
       "<table border=\"1\" class=\"dataframe\">\n",
       "  <thead>\n",
       "    <tr style=\"text-align: right;\">\n",
       "      <th></th>\n",
       "      <th>ds</th>\n",
       "      <th>y</th>\n",
       "    </tr>\n",
       "  </thead>\n",
       "  <tbody>\n",
       "    <tr>\n",
       "      <th>288</th>\n",
       "      <td>2016-01-01</td>\n",
       "      <td>400928</td>\n",
       "    </tr>\n",
       "    <tr>\n",
       "      <th>289</th>\n",
       "      <td>2016-02-01</td>\n",
       "      <td>413554</td>\n",
       "    </tr>\n",
       "    <tr>\n",
       "      <th>290</th>\n",
       "      <td>2016-03-01</td>\n",
       "      <td>460093</td>\n",
       "    </tr>\n",
       "    <tr>\n",
       "      <th>291</th>\n",
       "      <td>2016-04-01</td>\n",
       "      <td>450935</td>\n",
       "    </tr>\n",
       "    <tr>\n",
       "      <th>292</th>\n",
       "      <td>2016-05-01</td>\n",
       "      <td>471421</td>\n",
       "    </tr>\n",
       "  </tbody>\n",
       "</table>\n",
       "</div>"
      ],
      "text/plain": [
       "             ds       y\n",
       "288  2016-01-01  400928\n",
       "289  2016-02-01  413554\n",
       "290  2016-03-01  460093\n",
       "291  2016-04-01  450935\n",
       "292  2016-05-01  471421"
      ]
     },
     "execution_count": 3,
     "metadata": {},
     "output_type": "execute_result"
    }
   ],
   "source": [
    "url = \"https://raw.githubusercontent.com/facebook/prophet/master/examples/example_retail_sales.csv\"\n",
    "df = pd.read_csv(url)\n",
    "df[\"ds\"] = pd.to_datetime(df.ds)\n",
    "df.tail()"
   ]
  },
  {
   "cell_type": "markdown",
   "metadata": {
    "colab_type": "text",
    "id": "wi2jhRT8qHXo"
   },
   "source": [
    "We plot the sample data:"
   ]
  },
  {
   "cell_type": "code",
   "execution_count": 4,
   "metadata": {
    "colab": {},
    "colab_type": "code",
    "id": "1PpL-pa1qHX8"
   },
   "outputs": [],
   "source": [
    "my_model = SkProphet(weekly_seasonality=False, daily_seasonality=False)"
   ]
  },
  {
   "cell_type": "code",
   "execution_count": 5,
   "metadata": {
    "colab": {},
    "colab_type": "code",
    "id": "bVOrb3aAqHYO"
   },
   "outputs": [],
   "source": [
    "df = add_future_dates(df, periods=7)\n",
    "forecaster = Forecaster(my_model)"
   ]
  },
  {
   "cell_type": "code",
   "execution_count": 6,
   "metadata": {
    "colab": {},
    "colab_type": "code",
    "id": "NdeoYIQmqHYg",
    "outputId": "9ba999aa-1490-4e6a-829f-6219498c85ac",
    "tags": []
   },
   "outputs": [],
   "source": [
    "predictions = forecaster.run(time_series=df)"
   ]
  },
  {
   "cell_type": "markdown",
   "metadata": {},
   "source": [
    "Saving to the DB"
   ]
  },
  {
   "cell_type": "code",
   "execution_count": null,
   "metadata": {
    "colab": {},
    "colab_type": "code",
    "id": "UQXXmYVNqHYw"
   },
   "outputs": [],
   "source": [
    "# NBVAL_SKIP\n",
    "\n",
    "db_cred = get_db_cred(\"../../soam/settings.ini\")\n",
    "db = PgClient(**db_cred)"
   ]
  },
  {
   "cell_type": "code",
   "execution_count": null,
   "metadata": {
    "colab": {},
    "colab_type": "code",
    "id": "Fv5US3kTqHY_",
    "scrolled": true,
    "tags": []
   },
   "outputs": [],
   "source": [
    "# NBVAL_SKIP\n",
    "\n",
    "db_saver = DBSaver(db)\n",
    "pipe = PipelineRun(\"full_pipeline_save\")\n",
    "db_saver.save_pipeline_run(pipe)\n",
    "step_run = StepRun(forecaster, pipe)\n",
    "db_saver.save_step_run(step_run)"
   ]
  },
  {
   "cell_type": "code",
   "execution_count": 7,
   "metadata": {},
   "outputs": [
    {
     "ename": "NameError",
     "evalue": "name 'dbsaver' is not defined",
     "output_type": "error",
     "traceback": [
      "\u001b[0;31m---------------------------------------------------------------------------\u001b[0m",
      "\u001b[0;31mNameError\u001b[0m                                 Traceback (most recent call last)",
      "\u001b[0;32m<ipython-input-7-5b14dd050b25>\u001b[0m in \u001b[0;36m<module>\u001b[0;34m\u001b[0m\n\u001b[0;32m----> 1\u001b[0;31m \u001b[0mdbsaver\u001b[0m\u001b[0;34m.\u001b[0m\u001b[0msave_single_step\u001b[0m\u001b[0;34m(\u001b[0m\u001b[0mforecaster\u001b[0m\u001b[0;34m,\u001b[0m \u001b[0;34m\"single_step_save\"\u001b[0m\u001b[0;34m)\u001b[0m\u001b[0;34m\u001b[0m\u001b[0;34m\u001b[0m\u001b[0m\n\u001b[0m",
      "\u001b[0;31mNameError\u001b[0m: name 'dbsaver' is not defined"
     ]
    }
   ],
   "source": [
    "# NBVAL_SKIP\n",
    "\n",
    "dbsaver.save_single_step(forecaster, \"single_step_save\")"
   ]
  },
  {
   "cell_type": "markdown",
   "metadata": {},
   "source": [
    "Save to CSV file"
   ]
  },
  {
   "cell_type": "code",
   "execution_count": 7,
   "metadata": {},
   "outputs": [],
   "source": [
    "# NBVAL_SKIP\n",
    "\n",
    "csv_saver = CSVSaver('/tmp/')\n",
    "pipe = PipelineRun(\"full_pipeline_save\")\n",
    "csv_saver.save_pipeline_run(pipe)\n",
    "step_run = StepRun(forecaster, pipe)\n",
    "csv_saver.save_step_run(step_run)"
   ]
  },
  {
   "cell_type": "code",
   "execution_count": 8,
   "metadata": {},
   "outputs": [],
   "source": [
    "# NBVAL_SKIP\n",
    "\n",
    "csv_saver.save_single_step(forecaster, \"single_step_save\")"
   ]
  }
 ],
 "metadata": {
  "colab": {
   "collapsed_sections": [],
   "name": "forecaster.ipynb",
   "provenance": []
  },
  "hide_input": false,
  "kernelspec": {
   "display_name": "Python 3",
   "language": "python",
   "name": "python3"
  },
  "language_info": {
   "codemirror_mode": {
    "name": "ipython",
    "version": 3
   },
   "file_extension": ".py",
   "mimetype": "text/x-python",
   "name": "python",
   "nbconvert_exporter": "python",
   "pygments_lexer": "ipython3",
   "version": "3.7.9"
  },
  "toc": {
   "base_numbering": 1,
   "nav_menu": {},
   "number_sections": true,
   "sideBar": true,
   "skip_h1_title": false,
   "title_cell": "Table of Contents",
   "title_sidebar": "Contents",
   "toc_cell": false,
   "toc_position": {},
   "toc_section_display": true,
   "toc_window_display": false
  },
  "varInspector": {
   "cols": {
    "lenName": 16,
    "lenType": 16,
    "lenVar": 40
   },
   "kernels_config": {
    "python": {
     "delete_cmd_postfix": "",
     "delete_cmd_prefix": "del ",
     "library": "var_list.py",
     "varRefreshCmd": "print(var_dic_list())"
    },
    "r": {
     "delete_cmd_postfix": ") ",
     "delete_cmd_prefix": "rm(",
     "library": "var_list.r",
     "varRefreshCmd": "cat(var_dic_list()) "
    }
   },
   "types_to_exclude": [
    "module",
    "function",
    "builtin_function_or_method",
    "instance",
    "_Feature"
   ],
   "window_display": false
  }
 },
 "nbformat": 4,
 "nbformat_minor": 1
}