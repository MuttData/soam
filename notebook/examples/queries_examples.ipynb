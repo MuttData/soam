{
 "cells": [
  {
   "cell_type": "code",
   "execution_count": 1,
   "metadata": {},
   "outputs": [],
   "source": [
    "from soam.workflow.time_series_extractor import TimeSeriesExtractor\n",
    "from muttlib.dbconn import get_client"
   ]
  },
  {
   "cell_type": "code",
   "execution_count": 2,
   "metadata": {},
   "outputs": [],
   "source": [
    "sqlite_cfg = {\n",
    "    \"db_type\": \"sqlite\",\n",
    "    \"database\": \"soam_quickstart.db\"\n",
    "}\n",
    "\n",
    "sqlite_client = get_client(sqlite_cfg)[1]"
   ]
  },
  {
   "cell_type": "code",
   "execution_count": 3,
   "metadata": {},
   "outputs": [],
   "source": [
    "extractor = TimeSeriesExtractor(db=sqlite_client, table_name='stock')"
   ]
  },
  {
   "cell_type": "markdown",
   "metadata": {},
   "source": [
    "### Query 1\n",
    "\n",
    "Simple query, just retrieving all the data from the database.\n",
    "\n",
    "Query shape: build_query_kwargs: dict of {str: obj}\n",
    "            Configuration of the extraction query to be used for the extraction."
   ]
  },
  {
   "cell_type": "code",
   "execution_count": 4,
   "metadata": {},
   "outputs": [],
   "source": [
    "query={\n",
    "    'columns': '*'\n",
    "}"
   ]
  },
  {
   "cell_type": "code",
   "execution_count": 5,
   "metadata": {},
   "outputs": [
    {
     "data": {
      "text/html": "<div>\n<style scoped>\n    .dataframe tbody tr th:only-of-type {\n        vertical-align: middle;\n    }\n\n    .dataframe tbody tr th {\n        vertical-align: top;\n    }\n\n    .dataframe thead th {\n        text-align: right;\n    }\n</style>\n<table border=\"1\" class=\"dataframe\">\n  <thead>\n    <tr style=\"text-align: right;\">\n      <th></th>\n      <th>id</th>\n      <th>date</th>\n      <th>symbol</th>\n      <th>avg_num_trades</th>\n      <th>avg_price</th>\n    </tr>\n  </thead>\n  <tbody>\n    <tr>\n      <th>0</th>\n      <td>1</td>\n      <td>2021-03-01</td>\n      <td>AAPL</td>\n      <td>80000.0</td>\n      <td>125.0</td>\n    </tr>\n    <tr>\n      <th>1</th>\n      <td>2</td>\n      <td>2021-03-02</td>\n      <td>AAPL</td>\n      <td>70000.0</td>\n      <td>126.0</td>\n    </tr>\n    <tr>\n      <th>2</th>\n      <td>3</td>\n      <td>2021-03-03</td>\n      <td>AAPL</td>\n      <td>80000.0</td>\n      <td>123.0</td>\n    </tr>\n    <tr>\n      <th>3</th>\n      <td>4</td>\n      <td>2021-03-04</td>\n      <td>AAPL</td>\n      <td>70000.0</td>\n      <td>121.0</td>\n    </tr>\n    <tr>\n      <th>4</th>\n      <td>5</td>\n      <td>2021-03-05</td>\n      <td>AAPL</td>\n      <td>80000.0</td>\n      <td>119.0</td>\n    </tr>\n  </tbody>\n</table>\n</div>",
      "text/plain": "   id        date symbol  avg_num_trades  avg_price\n0   1  2021-03-01   AAPL         80000.0      125.0\n1   2  2021-03-02   AAPL         70000.0      126.0\n2   3  2021-03-03   AAPL         80000.0      123.0\n3   4  2021-03-04   AAPL         70000.0      121.0\n4   5  2021-03-05   AAPL         80000.0      119.0"
     },
     "execution_count": 5,
     "metadata": {},
     "output_type": "execute_result"
    }
   ],
   "source": [
    "df = extractor.run(build_query_kwargs = query)\n",
    "\n",
    "df.head()"
   ]
  },
  {
   "cell_type": "markdown",
   "metadata": {},
   "source": [
    "### Query 2\n",
    "Adding some extra conditionals:\n",
    "- Filtering data by just retrieving Apple's stock valuations.\n",
    "- Querying only a subset of the columns.\n",
    "- Renaming some columns with aliases."
   ]
  },
  {
   "cell_type": "code",
   "execution_count": 6,
   "metadata": {},
   "outputs": [],
   "source": [
    "query={\n",
    "    'columns': ['date', 'symbol', 'avg_price AS Valuation'],\n",
    "    'extra_where_conditions': [\"symbol = 'AAPL'\"]\n",
    "}"
   ]
  },
  {
   "cell_type": "code",
   "execution_count": 7,
   "metadata": {},
   "outputs": [
    {
     "data": {
      "text/html": "<div>\n<style scoped>\n    .dataframe tbody tr th:only-of-type {\n        vertical-align: middle;\n    }\n\n    .dataframe tbody tr th {\n        vertical-align: top;\n    }\n\n    .dataframe thead th {\n        text-align: right;\n    }\n</style>\n<table border=\"1\" class=\"dataframe\">\n  <thead>\n    <tr style=\"text-align: right;\">\n      <th></th>\n      <th>date</th>\n      <th>symbol</th>\n      <th>Valuation</th>\n    </tr>\n  </thead>\n  <tbody>\n    <tr>\n      <th>0</th>\n      <td>2021-03-01</td>\n      <td>AAPL</td>\n      <td>125.0</td>\n    </tr>\n    <tr>\n      <th>1</th>\n      <td>2021-03-02</td>\n      <td>AAPL</td>\n      <td>126.0</td>\n    </tr>\n    <tr>\n      <th>2</th>\n      <td>2021-03-03</td>\n      <td>AAPL</td>\n      <td>123.0</td>\n    </tr>\n    <tr>\n      <th>3</th>\n      <td>2021-03-04</td>\n      <td>AAPL</td>\n      <td>121.0</td>\n    </tr>\n    <tr>\n      <th>4</th>\n      <td>2021-03-05</td>\n      <td>AAPL</td>\n      <td>119.0</td>\n    </tr>\n  </tbody>\n</table>\n</div>",
      "text/plain": "         date symbol  Valuation\n0  2021-03-01   AAPL      125.0\n1  2021-03-02   AAPL      126.0\n2  2021-03-03   AAPL      123.0\n3  2021-03-04   AAPL      121.0\n4  2021-03-05   AAPL      119.0"
     },
     "execution_count": 7,
     "metadata": {},
     "output_type": "execute_result"
    }
   ],
   "source": [
    "df = extractor.run(build_query_kwargs = query)\n",
    "df.head()"
   ]
  },
  {
   "cell_type": "markdown",
   "metadata": {},
   "source": [
    "### Query 3\n",
    "Adding some extra conditionals:\n",
    "- Filtering data by certain days.\n",
    "- Ordering results based on their dates."
   ]
  },
  {
   "cell_type": "code",
   "execution_count": 8,
   "metadata": {},
   "outputs": [],
   "source": [
    "query={\n",
    "    'columns': ['date', 'symbol', 'avg_price AS Valuation'],\n",
    "    'timestamp_col': 'date',\n",
    "    'start_date': \"2021-03-01\",\n",
    "    'end_date': \"2021-03-20\",\n",
    "    'extra_where_conditions': [\"symbol = 'AAPL'\"],\n",
    "    'order_by': [\"date ASC\"]\n",
    "}"
   ]
  },
  {
   "cell_type": "code",
   "execution_count": 9,
   "metadata": {},
   "outputs": [
    {
     "data": {
      "text/html": "<div>\n<style scoped>\n    .dataframe tbody tr th:only-of-type {\n        vertical-align: middle;\n    }\n\n    .dataframe tbody tr th {\n        vertical-align: top;\n    }\n\n    .dataframe thead th {\n        text-align: right;\n    }\n</style>\n<table border=\"1\" class=\"dataframe\">\n  <thead>\n    <tr style=\"text-align: right;\">\n      <th></th>\n      <th>date</th>\n      <th>symbol</th>\n      <th>Valuation</th>\n    </tr>\n  </thead>\n  <tbody>\n    <tr>\n      <th>0</th>\n      <td>2021-03-01</td>\n      <td>AAPL</td>\n      <td>125.0</td>\n    </tr>\n    <tr>\n      <th>1</th>\n      <td>2021-03-02</td>\n      <td>AAPL</td>\n      <td>126.0</td>\n    </tr>\n    <tr>\n      <th>2</th>\n      <td>2021-03-03</td>\n      <td>AAPL</td>\n      <td>123.0</td>\n    </tr>\n    <tr>\n      <th>3</th>\n      <td>2021-03-04</td>\n      <td>AAPL</td>\n      <td>121.0</td>\n    </tr>\n    <tr>\n      <th>4</th>\n      <td>2021-03-05</td>\n      <td>AAPL</td>\n      <td>119.0</td>\n    </tr>\n  </tbody>\n</table>\n</div>",
      "text/plain": "         date symbol  Valuation\n0  2021-03-01   AAPL      125.0\n1  2021-03-02   AAPL      126.0\n2  2021-03-03   AAPL      123.0\n3  2021-03-04   AAPL      121.0\n4  2021-03-05   AAPL      119.0"
     },
     "execution_count": 9,
     "metadata": {},
     "output_type": "execute_result"
    }
   ],
   "source": [
    "df = extractor.run(build_query_kwargs = query)\n",
    "df.head()"
   ]
  },
  {
   "cell_type": "markdown",
   "metadata": {},
   "source": [
    "### Query 4\n",
    "\n",
    "Adding some aggregated data.\n",
    "- Multiply the average valuation with the amount of trades to obtain the transactional volume of the day.\n",
    "- Group by date and symbol, this logic is implicit in the class, you don't need to specify it.\n",
    "- Filter by a certain level of volume by using the having method."
   ]
  },
  {
   "cell_type": "code",
   "execution_count": 40,
   "metadata": {},
   "outputs": [],
   "source": [
    "query={\n",
    "    'columns': ['date', 'symbol', 'avg_num_trades * avg_price AS Volume'],\n",
    "    'dimensions': ['date','symbol'],\n",
    "    'timestamp_col': 'date',\n",
    "    'start_date': \"2021-03-01\",\n",
    "    'end_date': \"2021-03-20\",\n",
    "    'order_by': [\"date ASC\"],\n",
    "    'extra_having_conditions': ['Volume > 1000000']\n",
    "}"
   ]
  },
  {
   "cell_type": "code",
   "execution_count": 41,
   "metadata": {},
   "outputs": [
    {
     "data": {
      "text/html": "<div>\n<style scoped>\n    .dataframe tbody tr th:only-of-type {\n        vertical-align: middle;\n    }\n\n    .dataframe tbody tr th {\n        vertical-align: top;\n    }\n\n    .dataframe thead th {\n        text-align: right;\n    }\n</style>\n<table border=\"1\" class=\"dataframe\">\n  <thead>\n    <tr style=\"text-align: right;\">\n      <th></th>\n      <th>date</th>\n      <th>symbol</th>\n      <th>Volume</th>\n    </tr>\n  </thead>\n  <tbody>\n    <tr>\n      <th>0</th>\n      <td>2021-03-01</td>\n      <td>AAPL</td>\n      <td>10000000.0</td>\n    </tr>\n    <tr>\n      <th>1</th>\n      <td>2021-03-01</td>\n      <td>TSLA</td>\n      <td>6300000.0</td>\n    </tr>\n    <tr>\n      <th>2</th>\n      <td>2021-03-02</td>\n      <td>AAPL</td>\n      <td>8820000.0</td>\n    </tr>\n    <tr>\n      <th>3</th>\n      <td>2021-03-02</td>\n      <td>TSLA</td>\n      <td>6448000.0</td>\n    </tr>\n    <tr>\n      <th>4</th>\n      <td>2021-03-03</td>\n      <td>AAPL</td>\n      <td>9840000.0</td>\n    </tr>\n  </tbody>\n</table>\n</div>",
      "text/plain": "         date symbol      Volume\n0  2021-03-01   AAPL  10000000.0\n1  2021-03-01   TSLA   6300000.0\n2  2021-03-02   AAPL   8820000.0\n3  2021-03-02   TSLA   6448000.0\n4  2021-03-03   AAPL   9840000.0"
     },
     "execution_count": 41,
     "metadata": {},
     "output_type": "execute_result"
    }
   ],
   "source": [
    "df = extractor.run(build_query_kwargs = query)\n",
    "df.head()"
   ]
  },
  {
   "cell_type": "markdown",
   "metadata": {},
   "source": [
    "### Query 5\n",
    "\n",
    "Adding some aggregated data.\n",
    "- Retrieve the day with the biggest transactional volume for each company."
   ]
  },
  {
   "cell_type": "code",
   "execution_count": 47,
   "metadata": {},
   "outputs": [],
   "source": [
    "query={\n",
    "    'columns': ['date', 'symbol', 'max(avg_num_trades * avg_price) AS Max_Volume'],\n",
    "    'dimensions': ['symbol']\n",
    "}"
   ]
  },
  {
   "cell_type": "code",
   "execution_count": 48,
   "metadata": {},
   "outputs": [
    {
     "data": {
      "text/html": "<div>\n<style scoped>\n    .dataframe tbody tr th:only-of-type {\n        vertical-align: middle;\n    }\n\n    .dataframe tbody tr th {\n        vertical-align: top;\n    }\n\n    .dataframe thead th {\n        text-align: right;\n    }\n</style>\n<table border=\"1\" class=\"dataframe\">\n  <thead>\n    <tr style=\"text-align: right;\">\n      <th></th>\n      <th>date</th>\n      <th>symbol</th>\n      <th>Max_Volume</th>\n    </tr>\n  </thead>\n  <tbody>\n    <tr>\n      <th>0</th>\n      <td>2021-03-22</td>\n      <td>AAPL</td>\n      <td>21300000.0</td>\n    </tr>\n    <tr>\n      <th>1</th>\n      <td>2021-03-08</td>\n      <td>TSLA</td>\n      <td>10324000.0</td>\n    </tr>\n  </tbody>\n</table>\n</div>",
      "text/plain": "         date symbol  Max_Volume\n0  2021-03-22   AAPL  21300000.0\n1  2021-03-08   TSLA  10324000.0"
     },
     "execution_count": 48,
     "metadata": {},
     "output_type": "execute_result"
    }
   ],
   "source": [
    "df = extractor.run(build_query_kwargs = query)\n",
    "df.head()"
   ]
  }
 ],
 "metadata": {
  "kernelspec": {
   "display_name": "Python 3",
   "language": "python",
   "name": "python3"
  },
  "language_info": {
   "codemirror_mode": {
    "name": "ipython",
    "version": 3
   },
   "file_extension": ".py",
   "mimetype": "text/x-python",
   "name": "python",
   "nbconvert_exporter": "python",
   "pygments_lexer": "ipython3",
   "version": "3.8.10"
  },
  "orig_nbformat": 2
 },
 "nbformat": 4,
 "nbformat_minor": 2
}