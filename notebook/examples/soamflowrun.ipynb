{
 "metadata": {
  "language_info": {
   "codemirror_mode": {
    "name": "ipython",
    "version": 3
   },
   "file_extension": ".py",
   "mimetype": "text/x-python",
   "name": "python",
   "nbconvert_exporter": "python",
   "pygments_lexer": "ipython3",
   "version": "3.8.2-final"
  },
  "orig_nbformat": 2,
  "kernelspec": {
   "name": "python38264bitsoampipenvd935c3e85a8642968f9f9240671058a4",
   "display_name": "Python 3.8.2 64-bit ('quickstart_env': venv)"
  }
 },
 "nbformat": 4,
 "nbformat_minor": 2,
 "cells": [
  {
   "source": [
    "# SOAM FLOW RUN QUICKSTART\n",
    "\n",
    "In the following notebook we present a simple quickstart to expose how to make a connection with a database, extract the data, transform it, generate a forecast, plot it and send a mail report using soam modules and methods in simple steps by using our soam flow.\n",
    "\n",
    "To see these modules and methods in a disaggregated manner and further explained check the [quickstart notebook](notebook/examples/quickstart.ipynb)\n",
    "\n",
    "Our Soam Flows are based on Prefect Flows. To see further info on these please check this [prefect docs](https://docs.prefect.io/core/concepts/flows.html)."
   ],
   "cell_type": "markdown",
   "metadata": {}
  },
  {
   "cell_type": "code",
   "execution_count": 5,
   "metadata": {},
   "outputs": [],
   "source": [
    "%%capture #hide\n",
    "\n",
    "from soam.workflow.time_series_extractor import TimeSeriesExtractor\n",
    "from muttlib.dbconn import get_client\n",
    "import pandas as pd\n",
    "from soam.workflow import Transformer\n",
    "from sklearn.preprocessing import MinMaxScaler\n",
    "import numpy as np\n",
    "from soam.workflow.forecaster import Forecaster\n",
    "from soam.models import SkProphet\n",
    "from soam.utilities.utils import add_future_dates\n",
    "import matplotlib.pyplot as plt\n",
    "from soam.reporting import mail_report\n",
    "import datetime\n",
    "from soam.core import SoamFlow\n",
    "from prefect import task\n",
    "from soam.plotting.forecast_plotter import ForecastPlotterTask\n",
    "from soam.constants import PLOT_CONFIG\n",
    "from copy import deepcopy\n",
    "from pathlib import Path"
   ]
  },
  {
   "source": [
    "## Extraction\n",
    "DB Connection using `muttlib`. <br>\n",
    "`SQL Query` constructed <br>\n",
    "`SOAM Extractor` object initialization."
   ],
   "cell_type": "markdown",
   "metadata": {}
  },
  {
   "cell_type": "code",
   "execution_count": 14,
   "metadata": {},
   "outputs": [],
   "source": [
    "pg_cfg = {\n",
    "    \"host\": \"localhost\",\n",
    "    \"port\": 5432,\n",
    "    \"db_type\": \"postgres\",\n",
    "    \"username\": \"mutt\",\n",
    "    \"password\": \"mutt\",\n",
    "    \"database\": \"sqlalchemy\"\n",
    "}\n",
    "pg_client = get_client(pg_cfg)[1]"
   ]
  },
  {
   "cell_type": "code",
   "execution_count": 15,
   "metadata": {},
   "outputs": [],
   "source": [
    "build_query_kwargs={\n",
    "    'columns': '*',\n",
    "    'timestamp_col': 'date',\n",
    "    'start_date': \"2021-03-01\",\n",
    "    'end_date': \"2021-03-20\",\n",
    "    'extra_where_conditions': [\"symbol = 'AAPL'\"],\n",
    "    'order_by': [\"date ASC\"]\n",
    "}"
   ]
  },
  {
   "cell_type": "code",
   "execution_count": 16,
   "metadata": {},
   "outputs": [],
   "source": [
    "extractor = TimeSeriesExtractor(db=pg_client, table_name='stocks_valuation')"
   ]
  },
  {
   "source": [
    "## Preprocessing\n",
    "`SOAM Transformer` object initialization. <br>\n",
    "Tasks created upon functions based on custom transformations."
   ],
   "cell_type": "markdown",
   "metadata": {}
  },
  {
   "cell_type": "code",
   "execution_count": 17,
   "metadata": {},
   "outputs": [],
   "source": [
    "scaler = MinMaxScaler()\n",
    "ts = Transformer(transformer = scaler)\n",
    "\n",
    "@task()\n",
    "def transform_df_for_scaler(df: pd.DataFrame):\n",
    "    data = np.array([df.avg_price])\n",
    "    data = np.swapaxes(data, 0, 1)\n",
    "    return data\n",
    "\n",
    "@task()\n",
    "def transform_df_format(df: pd.DataFrame):    \n",
    "    df = df[['date', 'avg_price']]\n",
    "    df.rename(columns = {\n",
    "        'date': 'ds',\n",
    "        'avg_price': 'y'}, inplace = True)\n",
    "    df.ds =  pd.to_datetime(df.ds, infer_datetime_format=True)\n",
    "    df = add_future_dates(df, periods=7, frequency=\"d\")\n",
    "    return df"
   ]
  },
  {
   "source": [
    "## Forecasting\n",
    "Forecasting model selected: `FBProphet`. <br>\n",
    "`SOAM Forecaster` object initialization."
   ],
   "cell_type": "markdown",
   "metadata": {}
  },
  {
   "cell_type": "code",
   "execution_count": 18,
   "metadata": {},
   "outputs": [],
   "source": [
    "my_model = SkProphet(weekly_seasonality=False, daily_seasonality=False)\n",
    "forecaster = Forecaster(my_model, output_length=7)"
   ]
  },
  {
   "source": [
    "## Plotting and Reporting\n",
    "Plotting task based on the `SOAM Forecast Plotter` object."
   ],
   "cell_type": "markdown",
   "metadata": {}
  },
  {
   "cell_type": "code",
   "execution_count": 19,
   "metadata": {},
   "outputs": [],
   "source": [
    "plot_config = deepcopy(PLOT_CONFIG)\n",
    "forecast_plotter = ForecastPlotterTask(path = Path('img/applestockprice'), metric_name = 'Retail Sales', plot_config = plot_config)"
   ]
  },
  {
   "source": [
    "`SOAM Mail Report` object initialization."
   ],
   "cell_type": "markdown",
   "metadata": {}
  },
  {
   "cell_type": "code",
   "execution_count": 20,
   "metadata": {},
   "outputs": [],
   "source": [
    "mr = mail_report.MailReportTask(\n",
    "    # recipients mails separated by commas\n",
    "    mail_recipients_list = [\"scafatieugenio@gmail.com\"],\n",
    "    # the metric name will be in the title\n",
    "    metric_name = \"Stocks Forecast\" \n",
    ")\n",
    "\n",
    "# this refer to the start and end of the historic values. they are used since they are part of plot filename. format: yyyymmddhh.\n",
    "start_date='2021030100'\n",
    "end_date='2021031900'"
   ]
  },
  {
   "source": [
    "# SoaMFlow\n",
    "\n",
    "Putting all together using `SoaMFlow`."
   ],
   "cell_type": "markdown",
   "metadata": {}
  },
  {
   "cell_type": "code",
   "execution_count": 24,
   "metadata": {},
   "outputs": [],
   "source": [
    "with SoamFlow(name = \"flow\") as flow:\n",
    "    # EXTRACTION\n",
    "    df = extractor(build_query_kwargs)\n",
    "    # PRE PROCESSING\n",
    "    data = transform_df_for_scaler(df = df)\n",
    "    df.avg_price = ts(data)[0]\n",
    "    df = transform_df_format(df = df)\n",
    "    # FORECASTING\n",
    "    predictions, time_series, model = forecaster(time_series=df)\n",
    "    # PLOTTING\n",
    "    forecast_plotter(forecaster.time_series, forecaster.prediction)\n",
    "    # REPORTING\n",
    "    mr(\n",
    "    current_date = \"2021-04-12\",\n",
    "    plot_filename = f'img/applestockprice/0_forecast_{start_date}_{end_date}_.png'\n",
    ")"
   ]
  },
  {
   "cell_type": "code",
   "execution_count": 25,
   "metadata": {},
   "outputs": [
    {
     "output_type": "stream",
     "name": "stdout",
     "text": [
      "[2021-04-13 13:26:27-0300] INFO - prefect.FlowRunner | Beginning Flow run for 'flow'\n",
      "[2021-04-13 13:26:27-0300] INFO - prefect.TaskRunner | Task 'TimeSeriesExtractor': Starting task run...\n",
      "[2021-04-13 13:26:27-0300] INFO - prefect.TaskRunner | Task 'TimeSeriesExtractor': Finished task run for task with final state: 'Success'\n",
      "[2021-04-13 13:26:27-0300] INFO - prefect.TaskRunner | Task 'transform_df_for_scaler': Starting task run...\n",
      "[2021-04-13 13:26:27-0300] INFO - prefect.TaskRunner | Task 'transform_df_for_scaler': Finished task run for task with final state: 'Success'\n",
      "[2021-04-13 13:26:27-0300] INFO - prefect.TaskRunner | Task 'ForecastPlotterTask': Starting task run...\n",
      "[2021-04-13 13:26:27-0300] ERROR - prefect.TaskRunner | Unexpected error: KeyError('ds')\n",
      "Traceback (most recent call last):\n",
      "  File \"/home/scafati98/MUTT/soam/quickstart_env/lib/python3.8/site-packages/pandas/core/indexes/base.py\", line 2889, in get_loc\n",
      "    return self._engine.get_loc(casted_key)\n",
      "  File \"pandas/_libs/index.pyx\", line 70, in pandas._libs.index.IndexEngine.get_loc\n",
      "  File \"pandas/_libs/index.pyx\", line 97, in pandas._libs.index.IndexEngine.get_loc\n",
      "  File \"pandas/_libs/hashtable_class_helper.pxi\", line 1675, in pandas._libs.hashtable.PyObjectHashTable.get_item\n",
      "  File \"pandas/_libs/hashtable_class_helper.pxi\", line 1683, in pandas._libs.hashtable.PyObjectHashTable.get_item\n",
      "KeyError: 'ds'\n",
      "\n",
      "The above exception was the direct cause of the following exception:\n",
      "\n",
      "Traceback (most recent call last):\n",
      "  File \"/home/scafati98/MUTT/soam/quickstart_env/lib/python3.8/site-packages/prefect/engine/runner.py\", line 48, in inner\n",
      "    new_state = method(self, state, *args, **kwargs)\n",
      "  File \"/home/scafati98/MUTT/soam/quickstart_env/lib/python3.8/site-packages/prefect/engine/task_runner.py\", line 865, in get_task_run_state\n",
      "    value = prefect.utilities.executors.run_task_with_timeout(\n",
      "  File \"/home/scafati98/MUTT/soam/quickstart_env/lib/python3.8/site-packages/prefect/utilities/executors.py\", line 299, in run_task_with_timeout\n",
      "    return task.run(*args, **kwargs)  # type: ignore\n",
      "  File \"/home/scafati98/MUTT/soam/quickstart_env/lib/python3.8/site-packages/prefect/utilities/tasks.py\", line 454, in method\n",
      "    return run_method(self, *args, **kwargs)\n",
      "  File \"/home/scafati98/MUTT/soam/soam/plotting/forecast_plotter.py\", line 108, in run\n",
      "    full_series[DS_COL] = pd.to_datetime(full_series[DS_COL])\n",
      "  File \"/home/scafati98/MUTT/soam/quickstart_env/lib/python3.8/site-packages/pandas/core/frame.py\", line 2899, in __getitem__\n",
      "    indexer = self.columns.get_loc(key)\n",
      "  File \"/home/scafati98/MUTT/soam/quickstart_env/lib/python3.8/site-packages/pandas/core/indexes/base.py\", line 2891, in get_loc\n",
      "    raise KeyError(key) from err\n",
      "KeyError: 'ds'\n",
      "[2021-04-13 13:26:27-0300] INFO - prefect.TaskRunner | Task 'ForecastPlotterTask': Finished task run for task with final state: 'Failed'\n",
      "[2021-04-13 13:26:27-0300] INFO - prefect.TaskRunner | Task 'transform_df_format': Starting task run...\n",
      "[2021-04-13 13:26:27-0300] INFO - prefect.TaskRunner | Task 'transform_df_format': Finished task run for task with final state: 'Success'\n",
      "[2021-04-13 13:26:27-0300] INFO - prefect.TaskRunner | Task 'MailReportTask': Starting task run...\n",
      "/home/scafati98/MUTT/soam/quickstart_env/lib/python3.8/site-packages/pandas/core/frame.py:4290: SettingWithCopyWarning: \n",
      "A value is trying to be set on a copy of a slice from a DataFrame\n",
      "\n",
      "See the caveats in the documentation: https://pandas.pydata.org/pandas-docs/stable/user_guide/indexing.html#returning-a-view-versus-a-copy\n",
      "  return super().rename(\n",
      "/home/scafati98/MUTT/soam/quickstart_env/lib/python3.8/site-packages/pandas/core/generic.py:5159: SettingWithCopyWarning: \n",
      "A value is trying to be set on a copy of a slice from a DataFrame.\n",
      "Try using .loc[row_indexer,col_indexer] = value instead\n",
      "\n",
      "See the caveats in the documentation: https://pandas.pydata.org/pandas-docs/stable/user_guide/indexing.html#returning-a-view-versus-a-copy\n",
      "  self[name] = value\n",
      "[2021-04-13 13:26:30-0300] INFO - prefect.TaskRunner | Task 'MailReportTask': Finished task run for task with final state: 'Success'\n",
      "[2021-04-13 13:26:30-0300] INFO - prefect.TaskRunner | Task 'Transformer': Starting task run...\n",
      "[2021-04-13 13:26:30-0300] INFO - prefect.TaskRunner | Task 'Transformer': Finished task run for task with final state: 'Success'\n",
      "[2021-04-13 13:26:30-0300] INFO - prefect.TaskRunner | Task 'Forecaster': Starting task run...\n",
      "[2021-04-13 13:26:32-0300] INFO - prefect.TaskRunner | Task 'Forecaster': Finished task run for task with final state: 'Success'\n",
      "[2021-04-13 13:26:32-0300] INFO - prefect.TaskRunner | Task 'Forecaster[0]': Starting task run...\n",
      "[2021-04-13 13:26:32-0300] INFO - prefect.TaskRunner | Task 'Forecaster[0]': Finished task run for task with final state: 'Success'\n",
      "[2021-04-13 13:26:32-0300] INFO - prefect.TaskRunner | Task 'Forecaster[1]': Starting task run...\n",
      "[2021-04-13 13:26:32-0300] INFO - prefect.TaskRunner | Task 'Forecaster[1]': Finished task run for task with final state: 'Success'\n",
      "[2021-04-13 13:26:32-0300] INFO - prefect.TaskRunner | Task 'Forecaster[2]': Starting task run...\n",
      "[2021-04-13 13:26:32-0300] INFO - prefect.TaskRunner | Task 'Forecaster[2]': Finished task run for task with final state: 'Success'\n",
      "[2021-04-13 13:26:32-0300] INFO - prefect.TaskRunner | Task 'Transformer[0]': Starting task run...\n",
      "[2021-04-13 13:26:32-0300] INFO - prefect.TaskRunner | Task 'Transformer[0]': Finished task run for task with final state: 'Success'\n",
      "[2021-04-13 13:26:32-0300] INFO - prefect.FlowRunner | Flow run FAILED: some reference tasks failed.\n"
     ]
    },
    {
     "output_type": "execute_result",
     "data": {
      "text/plain": [
       "<Failed: \"Some reference tasks failed.\">"
      ]
     },
     "metadata": {},
     "execution_count": 25
    }
   ],
   "source": [
    "flow.run()"
   ]
  },
  {
   "source": [
    "Voilà!"
   ],
   "cell_type": "markdown",
   "metadata": {}
  }
 ]
}