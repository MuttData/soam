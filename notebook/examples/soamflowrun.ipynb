{
 "metadata": {
  "language_info": {
   "codemirror_mode": {
    "name": "ipython",
    "version": 3
   },
   "file_extension": ".py",
   "mimetype": "text/x-python",
   "name": "python",
   "nbconvert_exporter": "python",
   "pygments_lexer": "ipython3",
<<<<<<< HEAD
   "version": "3.8.2-final"
  },
  "orig_nbformat": 2,
  "kernelspec": {
   "name": "python38264bitsoampipenvd935c3e85a8642968f9f9240671058a4",
   "display_name": "Python 3.8.2 64-bit ('quickstart_env': venv)"
=======
   "version": "3.8.5"
  },
  "orig_nbformat": 2,
  "kernelspec": {
   "name": "python385jvsc74a57bd031f2aee4e71d21fbe5cf8b01ff0e069b9275f58929596ceb00d14d90e3e16cd6",
   "display_name": "Python 3.8.5 64-bit"
  },
  "metadata": {
   "interpreter": {
    "hash": "31f2aee4e71d21fbe5cf8b01ff0e069b9275f58929596ceb00d14d90e3e16cd6"
   }
>>>>>>> a1117bfa4197e6178d42153603357301c6bb8f27
  }
 },
 "nbformat": 4,
 "nbformat_minor": 2,
 "cells": [
  {
   "source": [
    "# SOAM FLOW RUN QUICKSTART\n",
    "\n",
    "In the following notebook we present a simple quickstart to expose how to make a connection with a database, extract the data, transform it, generate a forecast, plot it and send a mail report using soam modules and methods in simple steps by using our soam flow.\n",
    "\n",
    "To see these modules and methods in a disaggregated manner and further explained check the [quickstart notebook](notebook/examples/quickstart.ipynb)\n",
    "\n",
<<<<<<< HEAD
    "Our Soam Flows are based on Prefect Flows. To see further info on these please check this [prefect docs](https://docs.prefect.io/core/concepts/flows.html)."
=======
    "Our Soam Flows are based on Prefect Flows. To see further info on these please check this [prefect docs](https://docs.prefect.io/core/concepts/flows.html).\n",
    "\n",
    "*Note: please ignore the # NBVAL_SKIP at the beginning of the cells!*"
>>>>>>> a1117bfa4197e6178d42153603357301c6bb8f27
   ],
   "cell_type": "markdown",
   "metadata": {}
  },
  {
   "cell_type": "code",
   "execution_count": 2,
   "metadata": {},
   "outputs": [],
   "source": [
    "%%capture #hide\n",
<<<<<<< HEAD
    "\n",
=======
>>>>>>> a1117bfa4197e6178d42153603357301c6bb8f27
    "from soam.workflow.time_series_extractor import TimeSeriesExtractor\n",
    "from muttlib.dbconn import get_client\n",
    "import pandas as pd\n",
    "import numpy as np\n",
    "from soam.workflow.forecaster import Forecaster\n",
    "from soam.models import SkProphet\n",
    "from soam.utilities.utils import add_future_dates\n",
    "from soam.reporting import mail_report\n",
    "import datetime\n",
    "from soam.core import SoamFlow\n",
    "from prefect import task\n",
    "from soam.plotting.forecast_plotter import ForecastPlotterTask\n",
    "from soam.constants import PLOT_CONFIG\n",
    "from copy import deepcopy\n",
    "from pathlib import Path"
   ]
  },
  {
   "source": [
    "## Extraction\n",
    "DB Connection using `muttlib`. <br>\n",
    "`SQL Query` constructed <br>\n",
    "`SOAM Extractor` object initialization."
   ],
   "cell_type": "markdown",
   "metadata": {}
  },
  {
   "cell_type": "code",
<<<<<<< HEAD
   "execution_count": 3,
   "metadata": {},
   "outputs": [],
   "source": [
=======
   "execution_count": 2,
   "metadata": {},
   "outputs": [],
   "source": [
    "# NBVAL_SKIP\n",
>>>>>>> a1117bfa4197e6178d42153603357301c6bb8f27
    "pg_cfg = {\n",
    "    \"host\": \"localhost\",\n",
    "    \"port\": 5432,\n",
    "    \"db_type\": \"postgres\",\n",
    "    \"username\": \"mutt\",\n",
    "    \"password\": \"mutt\",\n",
    "    \"database\": \"sqlalchemy\"\n",
    "}\n",
    "pg_client = get_client(pg_cfg)[1]"
   ]
  },
  {
   "cell_type": "code",
<<<<<<< HEAD
   "execution_count": 4,
=======
   "execution_count": 3,
>>>>>>> a1117bfa4197e6178d42153603357301c6bb8f27
   "metadata": {},
   "outputs": [],
   "source": [
    "build_query_kwargs={\n",
    "    'columns': '*',\n",
    "    'timestamp_col': 'date',\n",
    "    'start_date': \"2021-03-01\",\n",
    "    'end_date': \"2021-03-20\",\n",
    "    'extra_where_conditions': [\"symbol = 'AAPL'\"],\n",
    "    'order_by': [\"date ASC\"]\n",
    "}"
   ]
  },
  {
   "cell_type": "code",
<<<<<<< HEAD
   "execution_count": 5,
   "metadata": {},
   "outputs": [],
   "source": [
=======
   "execution_count": 4,
   "metadata": {},
   "outputs": [],
   "source": [
    "# NBVAL_SKIP\n",
>>>>>>> a1117bfa4197e6178d42153603357301c6bb8f27
    "extractor = TimeSeriesExtractor(db=pg_client, table_name='stocks_valuation')"
   ]
  },
  {
   "source": [
<<<<<<< HEAD
    "The following cell is just so that you can take a look at the data set."
   ],
   "cell_type": "markdown",
   "metadata": {}
  },
  {
   "cell_type": "code",
   "execution_count": 7,
   "metadata": {},
   "outputs": [
    {
     "output_type": "execute_result",
     "data": {
      "text/plain": [
       "    index        date symbol  avg_num_trades  avg_price\n",
       "9       4  2021-03-12   AAPL    61184.062500  120.16500\n",
       "10      3  2021-03-15   AAPL    64298.996528  122.21000\n",
       "11      2  2021-03-16   AAPL    80019.400000  125.96750\n",
       "12      1  2021-03-17   AAPL    77730.997222  124.09795\n",
       "13      0  2021-03-18   AAPL    84353.996528  121.75000"
      ],
      "text/html": "<div>\n<style scoped>\n    .dataframe tbody tr th:only-of-type {\n        vertical-align: middle;\n    }\n\n    .dataframe tbody tr th {\n        vertical-align: top;\n    }\n\n    .dataframe thead th {\n        text-align: right;\n    }\n</style>\n<table border=\"1\" class=\"dataframe\">\n  <thead>\n    <tr style=\"text-align: right;\">\n      <th></th>\n      <th>index</th>\n      <th>date</th>\n      <th>symbol</th>\n      <th>avg_num_trades</th>\n      <th>avg_price</th>\n    </tr>\n  </thead>\n  <tbody>\n    <tr>\n      <th>9</th>\n      <td>4</td>\n      <td>2021-03-12</td>\n      <td>AAPL</td>\n      <td>61184.062500</td>\n      <td>120.16500</td>\n    </tr>\n    <tr>\n      <th>10</th>\n      <td>3</td>\n      <td>2021-03-15</td>\n      <td>AAPL</td>\n      <td>64298.996528</td>\n      <td>122.21000</td>\n    </tr>\n    <tr>\n      <th>11</th>\n      <td>2</td>\n      <td>2021-03-16</td>\n      <td>AAPL</td>\n      <td>80019.400000</td>\n      <td>125.96750</td>\n    </tr>\n    <tr>\n      <th>12</th>\n      <td>1</td>\n      <td>2021-03-17</td>\n      <td>AAPL</td>\n      <td>77730.997222</td>\n      <td>124.09795</td>\n    </tr>\n    <tr>\n      <th>13</th>\n      <td>0</td>\n      <td>2021-03-18</td>\n      <td>AAPL</td>\n      <td>84353.996528</td>\n      <td>121.75000</td>\n    </tr>\n  </tbody>\n</table>\n</div>"
     },
     "metadata": {},
     "execution_count": 7
    }
   ],
   "source": [
    "extractor.run(build_query_kwargs).tail()"
   ]
  },
  {
   "source": [
=======
>>>>>>> a1117bfa4197e6178d42153603357301c6bb8f27
    "## Preprocessing\n",
    "Tasks created upon functions based on custom transformations."
   ],
   "cell_type": "markdown",
   "metadata": {}
  },
  {
   "cell_type": "code",
   "execution_count": 5,
   "metadata": {},
   "outputs": [],
   "source": [
    "@task()\n",
    "def transform_df_for_scaler(df: pd.DataFrame):\n",
    "    data = np.array([df.avg_price])\n",
    "    data = np.swapaxes(data, 0, 1)\n",
    "    return data\n",
    "\n",
    "@task()\n",
    "def transform_df_format(df: pd.DataFrame):    \n",
    "    df = df[['date', 'avg_price']]\n",
    "    df.rename(columns = {\n",
    "        'date': 'ds',\n",
    "        'avg_price': 'y'}, inplace = True)\n",
    "    df.ds =  pd.to_datetime(df.ds, infer_datetime_format=True)\n",
    "    df = add_future_dates(df, periods=7, frequency=\"d\")\n",
    "    return df"
   ]
  },
  {
   "source": [
    "## Forecasting\n",
    "Forecasting model selected: `FBProphet`. <br>\n",
    "`SOAM Forecaster` object initialization."
   ],
   "cell_type": "markdown",
   "metadata": {}
  },
  {
   "cell_type": "code",
   "execution_count": 6,
   "metadata": {},
   "outputs": [],
   "source": [
    "my_model = SkProphet(weekly_seasonality=False, daily_seasonality=True)\n",
    "forecaster = Forecaster(my_model, output_length=7)"
   ]
  },
  {
   "source": [
    "## Plotting and Reporting\n",
    "Plotting task based on the `SOAM Forecast Plotter` object."
   ],
   "cell_type": "markdown",
   "metadata": {}
  },
  {
   "cell_type": "code",
   "execution_count": 7,
   "metadata": {},
   "outputs": [],
   "source": [
    "plot_config = deepcopy(PLOT_CONFIG)\n",
    "forecast_plotter = ForecastPlotterTask(path = Path('img/applestockprice'), metric_name = \"Apple's Stock Price\", plot_config = plot_config)"
   ]
  },
  {
   "source": [
    "`SOAM Mail Report` object initialization."
   ],
   "cell_type": "markdown",
   "metadata": {}
  },
  {
   "cell_type": "code",
   "execution_count": 8,
   "metadata": {},
   "outputs": [],
   "source": [
<<<<<<< HEAD
=======
    "# NBVAL_SKIP\n",
>>>>>>> a1117bfa4197e6178d42153603357301c6bb8f27
    "mr = mail_report.MailReportTask(\n",
    "    # recipients mails separated by commas\n",
    "    mail_recipients_list = [\"mail@gmail.com\"],\n",
    "    # the metric name will be in the title\n",
    "    metric_name = \"Stocks Forecast\" \n",
    ")\n",
    "\n",
    "# this refer to the start and end of the historic values. they are used since they are part of plot filename. format: yyyymmddhh.\n",
    "start_date='2021030100'\n",
    "end_date='2021031900'"
   ]
  },
  {
   "source": [
    "# SoaMFlow\n",
    "\n",
    "Putting all together using `SoaMFlow`."
   ],
   "cell_type": "markdown",
   "metadata": {}
  },
  {
   "cell_type": "code",
   "execution_count": 10,
   "metadata": {},
   "outputs": [],
   "source": [
<<<<<<< HEAD
=======
    "# NBVAL_SKIP\n",
>>>>>>> a1117bfa4197e6178d42153603357301c6bb8f27
    "with SoamFlow(name = \"flow\") as flow:\n",
    "    # EXTRACTION\n",
    "    df = extractor(build_query_kwargs)\n",
    "    # PRE PROCESSING\n",
    "    data = transform_df_for_scaler(df = df)\n",
    "    df = transform_df_format(df = df)\n",
    "    # FORECASTING\n",
    "    predictions, time_series, model = forecaster(time_series=df)\n",
    "    # PLOTTING\n",
    "    forecast_plotter(time_series, predictions)\n",
    "    # REPORTING\n",
    "    mr(\n",
    "    current_date = \"2021-04-12\",\n",
    "    plot_filename = f'img/applestockprice/0_forecast_{start_date}_{end_date}_.png'\n",
    ")"
   ]
  },
  {
   "cell_type": "code",
   "execution_count": 11,
   "metadata": {},
   "outputs": [
    {
     "output_type": "stream",
     "name": "stderr",
     "text": [
      "/home/scafati98/MUTT/soam/quickstart_env/lib/python3.8/site-packages/pandas/core/frame.py:4290: SettingWithCopyWarning: \n",
      "A value is trying to be set on a copy of a slice from a DataFrame\n",
      "\n",
      "See the caveats in the documentation: https://pandas.pydata.org/pandas-docs/stable/user_guide/indexing.html#returning-a-view-versus-a-copy\n",
      "  return super().rename(\n",
      "/home/scafati98/MUTT/soam/quickstart_env/lib/python3.8/site-packages/pandas/core/generic.py:5159: SettingWithCopyWarning: \n",
      "A value is trying to be set on a copy of a slice from a DataFrame.\n",
      "Try using .loc[row_indexer,col_indexer] = value instead\n",
      "\n",
      "See the caveats in the documentation: https://pandas.pydata.org/pandas-docs/stable/user_guide/indexing.html#returning-a-view-versus-a-copy\n",
      "  self[name] = value\n",
      "With the following body: \n",
      " <!DOCTYPE html>\n",
      "\n",
      "<head>\n",
      "  <meta charset='UTF-8'>\n",
      "  <style type='text/css'>\n",
      "    .maindiv {\n",
      "      height: 100%;\n",
      "      width: 100% !important;\n",
      "      background-color: #f7f7f7;\n",
      "      margin: 0;\n",
      "      padding: 0;\n",
      "      overflow: auto;\n",
      "    }\n",
      "\n",
      "    .contentdiv {\n",
      "      background-size: cover;\n",
      "      background-color: #ffffff;\n",
      "      width: 90%;\n",
      "      margin: 14px auto 0 auto;\n",
      "      padding: 14px;\n",
      "    }\n",
      "\n",
      "    .header {\n",
      "      font-size: 16px;\n",
      "      line-height: 22px;\n",
      "      font-family: 'Open Sans', 'Helvetica Neue', Helvetica, Arial, sans-serif;\n",
      "      color: #666;\n",
      "      background: #fff;\n",
      "    }\n",
      "\n",
      "    .underline {\n",
      "      width: 100px;\n",
      "      border-bottom: 2px solid #FF9900;\n",
      "      margin-top: 10px;\n",
      "    }\n",
      "\n",
      "    img,\n",
      "    a img {\n",
      "      margin: 0px 0 10px 0;\n",
      "      border: 0;\n",
      "      outline: none;\n",
      "      text-decoration: none;\n",
      "    }\n",
      "\n",
      "    p {\n",
      "      margin: 1em 0;\n",
      "      padding: 0;\n",
      "      font-family: 'Open Sans', 'Helvetica Neue', Helvetica, Arial, sans-serif;\n",
      "      color: #666;\n",
      "    }\n",
      "\n",
      "    .subtitle {\n",
      "      font-size: 24px;\n",
      "      text-align: left;\n",
      "    }\n",
      "\n",
      "    body,\n",
      "    table,\n",
      "    td,\n",
      "    p,\n",
      "    a,\n",
      "    li,\n",
      "    blockquote {\n",
      "      -ms-text-size-adjust: 100%;\n",
      "      -webkit-text-size-adjust: 100%;\n",
      "    }\n",
      "\n",
      "    .footer {\n",
      "      margin-bottom: 15px;\n",
      "      margin-top: 15px;\n",
      "      text-align: left;\n",
      "      font-size: 16px;\n",
      "      line-height: 22px;\n",
      "      font-family: 'Open Sans', 'Helvetica Neue', Helvetica, Arial, sans-serif;\n",
      "      color: #666;\n",
      "      background: #fff;\n",
      "    }\n",
      "\n",
      "    .footer img,\n",
      "    .footer span {\n",
      "      display: inline-block;\n",
      "      vertical-align: middle;\n",
      "    }\n",
      "\n",
      "    table {\n",
      "      font-family: 'Open Sans', 'Helvetica Neue', Helvetica, Arial, sans-serif;\n",
      "      font-size: 16px;\n",
      "      color: #666;\n",
      "      border: solid 1px;\n",
      "      border-collapse: collapse;\n",
      "      border-spacing: 0;\n",
      "    }\n",
      "\n",
      "    table td,\n",
      "    table th {\n",
      "      padding: 8px;\n",
      "    }\n",
      "  </style>\n",
      "</head>\n",
      "\n",
      "<body>\n",
      "\n",
      "  <div class='maindiv'>\n",
      "    <div class='contentdiv'>\n",
      "      <div class='header'>\n",
      "        <span>Hi there,</span>\n",
      "        <p>Here is the forecast made on the 2021-04-12 for the metric: <b>Stocks Forecast</b>.</p>\n",
      "      </div>\n",
      "\n",
      "\n",
      "      <span class='subtitle'>Analysis for Stocks Forecast</a></span>\n",
      "      <div class='underline'></div>\n",
      "      <div>\n",
      "        <img src='cid:img/applestockprice/0_forecast_2021030100_2021031900_.png' />\n",
      "      </div>\n",
      "\n",
      "      <div class='footer'>\n",
      "        <span>Cheers,</span>\n",
      "        <span>SoaM</span>\n",
      "      </div>\n",
      "    </div>\n",
      "  </div>\n",
      "</body>\n",
      "\n",
      "</html>\n",
      "\n",
      "INFO:fbprophet:Disabling yearly seasonality. Run prophet with yearly_seasonality=True to override this.\n",
      "INFO:fbprophet:n_changepoints greater than number of observations. Using 10.\n",
      "INFO:prefect.TaskRunner:Task 'Forecaster': Finished task run for task with final state: 'Success'\n",
      "INFO:prefect.TaskRunner:Task 'Forecaster[1]': Starting task run...\n",
      "INFO:prefect.TaskRunner:Task 'Forecaster[1]': Finished task run for task with final state: 'Success'\n",
      "INFO:prefect.TaskRunner:Task 'Forecaster[2]': Starting task run...\n",
      "INFO:prefect.TaskRunner:Task 'Forecaster[2]': Finished task run for task with final state: 'Success'\n",
      "INFO:prefect.TaskRunner:Task 'Forecaster[0]': Starting task run...\n",
      "INFO:prefect.TaskRunner:Task 'Forecaster[0]': Finished task run for task with final state: 'Success'\n",
      "INFO:prefect.TaskRunner:Task 'ForecastPlotterTask': Starting task run...\n",
      "INFO:prefect.TaskRunner:Task 'ForecastPlotterTask': Finished task run for task with final state: 'Success'\n",
      "INFO:prefect.FlowRunner:Flow run SUCCESS: all reference tasks succeeded\n"
     ]
    },
    {
     "output_type": "execute_result",
     "data": {
      "text/plain": [
       "<Success: \"All reference tasks succeeded.\">"
      ]
     },
     "metadata": {},
     "execution_count": 11
    },
    {
     "output_type": "display_data",
     "data": {
      "text/plain": "<Figure size 720x432 with 1 Axes>",
      "image/svg+xml": "<?xml version=\"1.0\" encoding=\"utf-8\" standalone=\"no\"?>\n<!DOCTYPE svg PUBLIC \"-//W3C//DTD SVG 1.1//EN\"\n  \"http://www.w3.org/Graphics/SVG/1.1/DTD/svg11.dtd\">\n<!-- Created with matplotlib (https://matplotlib.org/) -->\n<svg height=\"423.274375pt\" version=\"1.1\" viewBox=\"0 0 712.546875 423.274375\" width=\"712.546875pt\" xmlns=\"http://www.w3.org/2000/svg\" xmlns:xlink=\"http://www.w3.org/1999/xlink\">\n <defs>\n  <style type=\"text/css\">\n*{stroke-linecap:butt;stroke-linejoin:round;}\n  </style>\n </defs>\n <g id=\"figure_1\">\n  <g id=\"patch_1\">\n   <path d=\"M 0 423.274375 \nL 712.546875 423.274375 \nL 712.546875 0 \nL 0 0 \nz\n\" style=\"fill:none;\"/>\n  </g>\n  <g id=\"axes_1\">\n   <g id=\"patch_2\">\n    <path d=\"M 50.14375 385.718125 \nL 622.04375 385.718125 \nL 622.04375 22.318125 \nL 50.14375 22.318125 \nz\n\" style=\"fill:#ffffff;\"/>\n   </g>\n   <g id=\"matplotlib.axis_1\">\n    <g id=\"xtick_1\">\n     <g id=\"line2d_1\">\n      <path clip-path=\"url(#p28ed62a568)\" d=\"M 50.14375 385.718125 \nL 50.14375 22.318125 \n\" style=\"fill:none;stroke:#808080;stroke-linecap:square;stroke-opacity:0.2;\"/>\n     </g>\n     <g id=\"line2d_2\">\n      <defs>\n       <path d=\"M 0 0 \nL 0 3.5 \n\" id=\"mdfe1485d85\" style=\"stroke:#000000;stroke-width:0.8;\"/>\n      </defs>\n      <g>\n       <use style=\"stroke:#000000;stroke-width:0.8;\" x=\"50.14375\" xlink:href=\"#mdfe1485d85\" y=\"385.718125\"/>\n      </g>\n     </g>\n     <g id=\"text_1\">\n      <!-- 2021-03-01 -->\n      <defs>\n       <path d=\"M 19.1875 8.296875 \nL 53.609375 8.296875 \nL 53.609375 0 \nL 7.328125 0 \nL 7.328125 8.296875 \nQ 12.9375 14.109375 22.625 23.890625 \nQ 32.328125 33.6875 34.8125 36.53125 \nQ 39.546875 41.84375 41.421875 45.53125 \nQ 43.3125 49.21875 43.3125 52.78125 \nQ 43.3125 58.59375 39.234375 62.25 \nQ 35.15625 65.921875 28.609375 65.921875 \nQ 23.96875 65.921875 18.8125 64.3125 \nQ 13.671875 62.703125 7.8125 59.421875 \nL 7.8125 69.390625 \nQ 13.765625 71.78125 18.9375 73 \nQ 24.125 74.21875 28.421875 74.21875 \nQ 39.75 74.21875 46.484375 68.546875 \nQ 53.21875 62.890625 53.21875 53.421875 \nQ 53.21875 48.921875 51.53125 44.890625 \nQ 49.859375 40.875 45.40625 35.40625 \nQ 44.1875 33.984375 37.640625 27.21875 \nQ 31.109375 20.453125 19.1875 8.296875 \nz\n\" id=\"DejaVuSans-50\"/>\n       <path d=\"M 31.78125 66.40625 \nQ 24.171875 66.40625 20.328125 58.90625 \nQ 16.5 51.421875 16.5 36.375 \nQ 16.5 21.390625 20.328125 13.890625 \nQ 24.171875 6.390625 31.78125 6.390625 \nQ 39.453125 6.390625 43.28125 13.890625 \nQ 47.125 21.390625 47.125 36.375 \nQ 47.125 51.421875 43.28125 58.90625 \nQ 39.453125 66.40625 31.78125 66.40625 \nz\nM 31.78125 74.21875 \nQ 44.046875 74.21875 50.515625 64.515625 \nQ 56.984375 54.828125 56.984375 36.375 \nQ 56.984375 17.96875 50.515625 8.265625 \nQ 44.046875 -1.421875 31.78125 -1.421875 \nQ 19.53125 -1.421875 13.0625 8.265625 \nQ 6.59375 17.96875 6.59375 36.375 \nQ 6.59375 54.828125 13.0625 64.515625 \nQ 19.53125 74.21875 31.78125 74.21875 \nz\n\" id=\"DejaVuSans-48\"/>\n       <path d=\"M 12.40625 8.296875 \nL 28.515625 8.296875 \nL 28.515625 63.921875 \nL 10.984375 60.40625 \nL 10.984375 69.390625 \nL 28.421875 72.90625 \nL 38.28125 72.90625 \nL 38.28125 8.296875 \nL 54.390625 8.296875 \nL 54.390625 0 \nL 12.40625 0 \nz\n\" id=\"DejaVuSans-49\"/>\n       <path d=\"M 4.890625 31.390625 \nL 31.203125 31.390625 \nL 31.203125 23.390625 \nL 4.890625 23.390625 \nz\n\" id=\"DejaVuSans-45\"/>\n       <path d=\"M 40.578125 39.3125 \nQ 47.65625 37.796875 51.625 33 \nQ 55.609375 28.21875 55.609375 21.1875 \nQ 55.609375 10.40625 48.1875 4.484375 \nQ 40.765625 -1.421875 27.09375 -1.421875 \nQ 22.515625 -1.421875 17.65625 -0.515625 \nQ 12.796875 0.390625 7.625 2.203125 \nL 7.625 11.71875 \nQ 11.71875 9.328125 16.59375 8.109375 \nQ 21.484375 6.890625 26.8125 6.890625 \nQ 36.078125 6.890625 40.9375 10.546875 \nQ 45.796875 14.203125 45.796875 21.1875 \nQ 45.796875 27.640625 41.28125 31.265625 \nQ 36.765625 34.90625 28.71875 34.90625 \nL 20.21875 34.90625 \nL 20.21875 43.015625 \nL 29.109375 43.015625 \nQ 36.375 43.015625 40.234375 45.921875 \nQ 44.09375 48.828125 44.09375 54.296875 \nQ 44.09375 59.90625 40.109375 62.90625 \nQ 36.140625 65.921875 28.71875 65.921875 \nQ 24.65625 65.921875 20.015625 65.03125 \nQ 15.375 64.15625 9.8125 62.3125 \nL 9.8125 71.09375 \nQ 15.4375 72.65625 20.34375 73.4375 \nQ 25.25 74.21875 29.59375 74.21875 \nQ 40.828125 74.21875 47.359375 69.109375 \nQ 53.90625 64.015625 53.90625 55.328125 \nQ 53.90625 49.265625 50.4375 45.09375 \nQ 46.96875 40.921875 40.578125 39.3125 \nz\n\" id=\"DejaVuSans-51\"/>\n      </defs>\n      <g transform=\"translate(21.085938 400.316562)scale(0.1 -0.1)\">\n       <use xlink:href=\"#DejaVuSans-50\"/>\n       <use x=\"63.623047\" xlink:href=\"#DejaVuSans-48\"/>\n       <use x=\"127.246094\" xlink:href=\"#DejaVuSans-50\"/>\n       <use x=\"190.869141\" xlink:href=\"#DejaVuSans-49\"/>\n       <use x=\"254.492188\" xlink:href=\"#DejaVuSans-45\"/>\n       <use x=\"290.576172\" xlink:href=\"#DejaVuSans-48\"/>\n       <use x=\"354.199219\" xlink:href=\"#DejaVuSans-51\"/>\n       <use x=\"417.822266\" xlink:href=\"#DejaVuSans-45\"/>\n       <use x=\"453.90625\" xlink:href=\"#DejaVuSans-48\"/>\n       <use x=\"517.529297\" xlink:href=\"#DejaVuSans-49\"/>\n      </g>\n     </g>\n    </g>\n    <g id=\"xtick_2\">\n     <g id=\"line2d_3\">\n      <path clip-path=\"url(#p28ed62a568)\" d=\"M 145.460417 385.718125 \nL 145.460417 22.318125 \n\" style=\"fill:none;stroke:#808080;stroke-linecap:square;stroke-opacity:0.2;\"/>\n     </g>\n     <g id=\"line2d_4\">\n      <g>\n       <use style=\"stroke:#000000;stroke-width:0.8;\" x=\"145.460417\" xlink:href=\"#mdfe1485d85\" y=\"385.718125\"/>\n      </g>\n     </g>\n     <g id=\"text_2\">\n      <!-- 2021-03-05 -->\n      <defs>\n       <path d=\"M 10.796875 72.90625 \nL 49.515625 72.90625 \nL 49.515625 64.59375 \nL 19.828125 64.59375 \nL 19.828125 46.734375 \nQ 21.96875 47.46875 24.109375 47.828125 \nQ 26.265625 48.1875 28.421875 48.1875 \nQ 40.625 48.1875 47.75 41.5 \nQ 54.890625 34.8125 54.890625 23.390625 \nQ 54.890625 11.625 47.5625 5.09375 \nQ 40.234375 -1.421875 26.90625 -1.421875 \nQ 22.3125 -1.421875 17.546875 -0.640625 \nQ 12.796875 0.140625 7.71875 1.703125 \nL 7.71875 11.625 \nQ 12.109375 9.234375 16.796875 8.0625 \nQ 21.484375 6.890625 26.703125 6.890625 \nQ 35.15625 6.890625 40.078125 11.328125 \nQ 45.015625 15.765625 45.015625 23.390625 \nQ 45.015625 31 40.078125 35.4375 \nQ 35.15625 39.890625 26.703125 39.890625 \nQ 22.75 39.890625 18.8125 39.015625 \nQ 14.890625 38.140625 10.796875 36.28125 \nz\n\" id=\"DejaVuSans-53\"/>\n      </defs>\n      <g transform=\"translate(116.402604 400.316562)scale(0.1 -0.1)\">\n       <use xlink:href=\"#DejaVuSans-50\"/>\n       <use x=\"63.623047\" xlink:href=\"#DejaVuSans-48\"/>\n       <use x=\"127.246094\" xlink:href=\"#DejaVuSans-50\"/>\n       <use x=\"190.869141\" xlink:href=\"#DejaVuSans-49\"/>\n       <use x=\"254.492188\" xlink:href=\"#DejaVuSans-45\"/>\n       <use x=\"290.576172\" xlink:href=\"#DejaVuSans-48\"/>\n       <use x=\"354.199219\" xlink:href=\"#DejaVuSans-51\"/>\n       <use x=\"417.822266\" xlink:href=\"#DejaVuSans-45\"/>\n       <use x=\"453.90625\" xlink:href=\"#DejaVuSans-48\"/>\n       <use x=\"517.529297\" xlink:href=\"#DejaVuSans-53\"/>\n      </g>\n     </g>\n    </g>\n    <g id=\"xtick_3\">\n     <g id=\"line2d_5\">\n      <path clip-path=\"url(#p28ed62a568)\" d=\"M 240.777083 385.718125 \nL 240.777083 22.318125 \n\" style=\"fill:none;stroke:#808080;stroke-linecap:square;stroke-opacity:0.2;\"/>\n     </g>\n     <g id=\"line2d_6\">\n      <g>\n       <use style=\"stroke:#000000;stroke-width:0.8;\" x=\"240.777083\" xlink:href=\"#mdfe1485d85\" y=\"385.718125\"/>\n      </g>\n     </g>\n     <g id=\"text_3\">\n      <!-- 2021-03-09 -->\n      <defs>\n       <path d=\"M 10.984375 1.515625 \nL 10.984375 10.5 \nQ 14.703125 8.734375 18.5 7.8125 \nQ 22.3125 6.890625 25.984375 6.890625 \nQ 35.75 6.890625 40.890625 13.453125 \nQ 46.046875 20.015625 46.78125 33.40625 \nQ 43.953125 29.203125 39.59375 26.953125 \nQ 35.25 24.703125 29.984375 24.703125 \nQ 19.046875 24.703125 12.671875 31.3125 \nQ 6.296875 37.9375 6.296875 49.421875 \nQ 6.296875 60.640625 12.9375 67.421875 \nQ 19.578125 74.21875 30.609375 74.21875 \nQ 43.265625 74.21875 49.921875 64.515625 \nQ 56.59375 54.828125 56.59375 36.375 \nQ 56.59375 19.140625 48.40625 8.859375 \nQ 40.234375 -1.421875 26.421875 -1.421875 \nQ 22.703125 -1.421875 18.890625 -0.6875 \nQ 15.09375 0.046875 10.984375 1.515625 \nz\nM 30.609375 32.421875 \nQ 37.25 32.421875 41.125 36.953125 \nQ 45.015625 41.5 45.015625 49.421875 \nQ 45.015625 57.28125 41.125 61.84375 \nQ 37.25 66.40625 30.609375 66.40625 \nQ 23.96875 66.40625 20.09375 61.84375 \nQ 16.21875 57.28125 16.21875 49.421875 \nQ 16.21875 41.5 20.09375 36.953125 \nQ 23.96875 32.421875 30.609375 32.421875 \nz\n\" id=\"DejaVuSans-57\"/>\n      </defs>\n      <g transform=\"translate(211.719271 400.316562)scale(0.1 -0.1)\">\n       <use xlink:href=\"#DejaVuSans-50\"/>\n       <use x=\"63.623047\" xlink:href=\"#DejaVuSans-48\"/>\n       <use x=\"127.246094\" xlink:href=\"#DejaVuSans-50\"/>\n       <use x=\"190.869141\" xlink:href=\"#DejaVuSans-49\"/>\n       <use x=\"254.492188\" xlink:href=\"#DejaVuSans-45\"/>\n       <use x=\"290.576172\" xlink:href=\"#DejaVuSans-48\"/>\n       <use x=\"354.199219\" xlink:href=\"#DejaVuSans-51\"/>\n       <use x=\"417.822266\" xlink:href=\"#DejaVuSans-45\"/>\n       <use x=\"453.90625\" xlink:href=\"#DejaVuSans-48\"/>\n       <use x=\"517.529297\" xlink:href=\"#DejaVuSans-57\"/>\n      </g>\n     </g>\n    </g>\n    <g id=\"xtick_4\">\n     <g id=\"line2d_7\">\n      <path clip-path=\"url(#p28ed62a568)\" d=\"M 336.09375 385.718125 \nL 336.09375 22.318125 \n\" style=\"fill:none;stroke:#808080;stroke-linecap:square;stroke-opacity:0.2;\"/>\n     </g>\n     <g id=\"line2d_8\">\n      <g>\n       <use style=\"stroke:#000000;stroke-width:0.8;\" x=\"336.09375\" xlink:href=\"#mdfe1485d85\" y=\"385.718125\"/>\n      </g>\n     </g>\n     <g id=\"text_4\">\n      <!-- 2021-03-13 -->\n      <g transform=\"translate(307.035937 400.316562)scale(0.1 -0.1)\">\n       <use xlink:href=\"#DejaVuSans-50\"/>\n       <use x=\"63.623047\" xlink:href=\"#DejaVuSans-48\"/>\n       <use x=\"127.246094\" xlink:href=\"#DejaVuSans-50\"/>\n       <use x=\"190.869141\" xlink:href=\"#DejaVuSans-49\"/>\n       <use x=\"254.492188\" xlink:href=\"#DejaVuSans-45\"/>\n       <use x=\"290.576172\" xlink:href=\"#DejaVuSans-48\"/>\n       <use x=\"354.199219\" xlink:href=\"#DejaVuSans-51\"/>\n       <use x=\"417.822266\" xlink:href=\"#DejaVuSans-45\"/>\n       <use x=\"453.90625\" xlink:href=\"#DejaVuSans-49\"/>\n       <use x=\"517.529297\" xlink:href=\"#DejaVuSans-51\"/>\n      </g>\n     </g>\n    </g>\n    <g id=\"xtick_5\">\n     <g id=\"line2d_9\">\n      <path clip-path=\"url(#p28ed62a568)\" d=\"M 431.410417 385.718125 \nL 431.410417 22.318125 \n\" style=\"fill:none;stroke:#808080;stroke-linecap:square;stroke-opacity:0.2;\"/>\n     </g>\n     <g id=\"line2d_10\">\n      <g>\n       <use style=\"stroke:#000000;stroke-width:0.8;\" x=\"431.410417\" xlink:href=\"#mdfe1485d85\" y=\"385.718125\"/>\n      </g>\n     </g>\n     <g id=\"text_5\">\n      <!-- 2021-03-17 -->\n      <defs>\n       <path d=\"M 8.203125 72.90625 \nL 55.078125 72.90625 \nL 55.078125 68.703125 \nL 28.609375 0 \nL 18.3125 0 \nL 43.21875 64.59375 \nL 8.203125 64.59375 \nz\n\" id=\"DejaVuSans-55\"/>\n      </defs>\n      <g transform=\"translate(402.352604 400.316562)scale(0.1 -0.1)\">\n       <use xlink:href=\"#DejaVuSans-50\"/>\n       <use x=\"63.623047\" xlink:href=\"#DejaVuSans-48\"/>\n       <use x=\"127.246094\" xlink:href=\"#DejaVuSans-50\"/>\n       <use x=\"190.869141\" xlink:href=\"#DejaVuSans-49\"/>\n       <use x=\"254.492188\" xlink:href=\"#DejaVuSans-45\"/>\n       <use x=\"290.576172\" xlink:href=\"#DejaVuSans-48\"/>\n       <use x=\"354.199219\" xlink:href=\"#DejaVuSans-51\"/>\n       <use x=\"417.822266\" xlink:href=\"#DejaVuSans-45\"/>\n       <use x=\"453.90625\" xlink:href=\"#DejaVuSans-49\"/>\n       <use x=\"517.529297\" xlink:href=\"#DejaVuSans-55\"/>\n      </g>\n     </g>\n    </g>\n    <g id=\"xtick_6\">\n     <g id=\"line2d_11\">\n      <path clip-path=\"url(#p28ed62a568)\" d=\"M 526.727083 385.718125 \nL 526.727083 22.318125 \n\" style=\"fill:none;stroke:#808080;stroke-linecap:square;stroke-opacity:0.2;\"/>\n     </g>\n     <g id=\"line2d_12\">\n      <g>\n       <use style=\"stroke:#000000;stroke-width:0.8;\" x=\"526.727083\" xlink:href=\"#mdfe1485d85\" y=\"385.718125\"/>\n      </g>\n     </g>\n     <g id=\"text_6\">\n      <!-- 2021-03-21 -->\n      <g transform=\"translate(497.669271 400.316562)scale(0.1 -0.1)\">\n       <use xlink:href=\"#DejaVuSans-50\"/>\n       <use x=\"63.623047\" xlink:href=\"#DejaVuSans-48\"/>\n       <use x=\"127.246094\" xlink:href=\"#DejaVuSans-50\"/>\n       <use x=\"190.869141\" xlink:href=\"#DejaVuSans-49\"/>\n       <use x=\"254.492188\" xlink:href=\"#DejaVuSans-45\"/>\n       <use x=\"290.576172\" xlink:href=\"#DejaVuSans-48\"/>\n       <use x=\"354.199219\" xlink:href=\"#DejaVuSans-51\"/>\n       <use x=\"417.822266\" xlink:href=\"#DejaVuSans-45\"/>\n       <use x=\"453.90625\" xlink:href=\"#DejaVuSans-50\"/>\n       <use x=\"517.529297\" xlink:href=\"#DejaVuSans-49\"/>\n      </g>\n     </g>\n    </g>\n    <g id=\"xtick_7\">\n     <g id=\"line2d_13\">\n      <path clip-path=\"url(#p28ed62a568)\" d=\"M 622.04375 385.718125 \nL 622.04375 22.318125 \n\" style=\"fill:none;stroke:#808080;stroke-linecap:square;stroke-opacity:0.2;\"/>\n     </g>\n     <g id=\"line2d_14\">\n      <g>\n       <use style=\"stroke:#000000;stroke-width:0.8;\" x=\"622.04375\" xlink:href=\"#mdfe1485d85\" y=\"385.718125\"/>\n      </g>\n     </g>\n     <g id=\"text_7\">\n      <!-- 2021-03-25 -->\n      <g transform=\"translate(592.985937 400.316562)scale(0.1 -0.1)\">\n       <use xlink:href=\"#DejaVuSans-50\"/>\n       <use x=\"63.623047\" xlink:href=\"#DejaVuSans-48\"/>\n       <use x=\"127.246094\" xlink:href=\"#DejaVuSans-50\"/>\n       <use x=\"190.869141\" xlink:href=\"#DejaVuSans-49\"/>\n       <use x=\"254.492188\" xlink:href=\"#DejaVuSans-45\"/>\n       <use x=\"290.576172\" xlink:href=\"#DejaVuSans-48\"/>\n       <use x=\"354.199219\" xlink:href=\"#DejaVuSans-51\"/>\n       <use x=\"417.822266\" xlink:href=\"#DejaVuSans-45\"/>\n       <use x=\"453.90625\" xlink:href=\"#DejaVuSans-50\"/>\n       <use x=\"517.529297\" xlink:href=\"#DejaVuSans-53\"/>\n      </g>\n     </g>\n    </g>\n    <g id=\"text_8\">\n     <!-- Date -->\n     <defs>\n      <path d=\"M 19.671875 64.796875 \nL 19.671875 8.109375 \nL 31.59375 8.109375 \nQ 46.6875 8.109375 53.6875 14.9375 \nQ 60.6875 21.78125 60.6875 36.53125 \nQ 60.6875 51.171875 53.6875 57.984375 \nQ 46.6875 64.796875 31.59375 64.796875 \nz\nM 9.8125 72.90625 \nL 30.078125 72.90625 \nQ 51.265625 72.90625 61.171875 64.09375 \nQ 71.09375 55.28125 71.09375 36.53125 \nQ 71.09375 17.671875 61.125 8.828125 \nQ 51.171875 0 30.078125 0 \nL 9.8125 0 \nz\n\" id=\"DejaVuSans-68\"/>\n      <path d=\"M 34.28125 27.484375 \nQ 23.390625 27.484375 19.1875 25 \nQ 14.984375 22.515625 14.984375 16.5 \nQ 14.984375 11.71875 18.140625 8.90625 \nQ 21.296875 6.109375 26.703125 6.109375 \nQ 34.1875 6.109375 38.703125 11.40625 \nQ 43.21875 16.703125 43.21875 25.484375 \nL 43.21875 27.484375 \nz\nM 52.203125 31.203125 \nL 52.203125 0 \nL 43.21875 0 \nL 43.21875 8.296875 \nQ 40.140625 3.328125 35.546875 0.953125 \nQ 30.953125 -1.421875 24.3125 -1.421875 \nQ 15.921875 -1.421875 10.953125 3.296875 \nQ 6 8.015625 6 15.921875 \nQ 6 25.140625 12.171875 29.828125 \nQ 18.359375 34.515625 30.609375 34.515625 \nL 43.21875 34.515625 \nL 43.21875 35.40625 \nQ 43.21875 41.609375 39.140625 45 \nQ 35.0625 48.390625 27.6875 48.390625 \nQ 23 48.390625 18.546875 47.265625 \nQ 14.109375 46.140625 10.015625 43.890625 \nL 10.015625 52.203125 \nQ 14.9375 54.109375 19.578125 55.046875 \nQ 24.21875 56 28.609375 56 \nQ 40.484375 56 46.34375 49.84375 \nQ 52.203125 43.703125 52.203125 31.203125 \nz\n\" id=\"DejaVuSans-97\"/>\n      <path d=\"M 18.3125 70.21875 \nL 18.3125 54.6875 \nL 36.8125 54.6875 \nL 36.8125 47.703125 \nL 18.3125 47.703125 \nL 18.3125 18.015625 \nQ 18.3125 11.328125 20.140625 9.421875 \nQ 21.96875 7.515625 27.59375 7.515625 \nL 36.8125 7.515625 \nL 36.8125 0 \nL 27.59375 0 \nQ 17.1875 0 13.234375 3.875 \nQ 9.28125 7.765625 9.28125 18.015625 \nL 9.28125 47.703125 \nL 2.6875 47.703125 \nL 2.6875 54.6875 \nL 9.28125 54.6875 \nL 9.28125 70.21875 \nz\n\" id=\"DejaVuSans-116\"/>\n      <path d=\"M 56.203125 29.59375 \nL 56.203125 25.203125 \nL 14.890625 25.203125 \nQ 15.484375 15.921875 20.484375 11.0625 \nQ 25.484375 6.203125 34.421875 6.203125 \nQ 39.59375 6.203125 44.453125 7.46875 \nQ 49.3125 8.734375 54.109375 11.28125 \nL 54.109375 2.78125 \nQ 49.265625 0.734375 44.1875 -0.34375 \nQ 39.109375 -1.421875 33.890625 -1.421875 \nQ 20.796875 -1.421875 13.15625 6.1875 \nQ 5.515625 13.8125 5.515625 26.8125 \nQ 5.515625 40.234375 12.765625 48.109375 \nQ 20.015625 56 32.328125 56 \nQ 43.359375 56 49.78125 48.890625 \nQ 56.203125 41.796875 56.203125 29.59375 \nz\nM 47.21875 32.234375 \nQ 47.125 39.59375 43.09375 43.984375 \nQ 39.0625 48.390625 32.421875 48.390625 \nQ 24.90625 48.390625 20.390625 44.140625 \nQ 15.875 39.890625 15.1875 32.171875 \nz\n\" id=\"DejaVuSans-101\"/>\n     </defs>\n     <g transform=\"translate(324.142969 413.994687)scale(0.1 -0.1)\">\n      <use xlink:href=\"#DejaVuSans-68\"/>\n      <use x=\"77.001953\" xlink:href=\"#DejaVuSans-97\"/>\n      <use x=\"138.28125\" xlink:href=\"#DejaVuSans-116\"/>\n      <use x=\"177.490234\" xlink:href=\"#DejaVuSans-101\"/>\n     </g>\n    </g>\n   </g>\n   <g id=\"matplotlib.axis_2\">\n    <g id=\"ytick_1\">\n     <g id=\"line2d_15\">\n      <path clip-path=\"url(#p28ed62a568)\" d=\"M 50.14375 313.406084 \nL 622.04375 313.406084 \n\" style=\"fill:none;stroke:#808080;stroke-linecap:square;stroke-opacity:0.2;\"/>\n     </g>\n     <g id=\"line2d_16\">\n      <defs>\n       <path d=\"M 0 0 \nL -3.5 0 \n\" id=\"me37f48901e\" style=\"stroke:#000000;stroke-width:0.8;\"/>\n      </defs>\n      <g>\n       <use style=\"stroke:#000000;stroke-width:0.8;\" x=\"50.14375\" xlink:href=\"#me37f48901e\" y=\"313.406084\"/>\n      </g>\n     </g>\n     <g id=\"text_9\">\n      <!-- 1.2 -->\n      <defs>\n       <path d=\"M 10.6875 12.40625 \nL 21 12.40625 \nL 21 0 \nL 10.6875 0 \nz\n\" id=\"DejaVuSans-46\"/>\n      </defs>\n      <g transform=\"translate(27.240625 317.205303)scale(0.1 -0.1)\">\n       <use xlink:href=\"#DejaVuSans-49\"/>\n       <use x=\"63.623047\" xlink:href=\"#DejaVuSans-46\"/>\n       <use x=\"95.410156\" xlink:href=\"#DejaVuSans-50\"/>\n      </g>\n     </g>\n    </g>\n    <g id=\"ytick_2\">\n     <g id=\"line2d_17\">\n      <path clip-path=\"url(#p28ed62a568)\" d=\"M 50.14375 233.414889 \nL 622.04375 233.414889 \n\" style=\"fill:none;stroke:#808080;stroke-linecap:square;stroke-opacity:0.2;\"/>\n     </g>\n     <g id=\"line2d_18\">\n      <g>\n       <use style=\"stroke:#000000;stroke-width:0.8;\" x=\"50.14375\" xlink:href=\"#me37f48901e\" y=\"233.414889\"/>\n      </g>\n     </g>\n     <g id=\"text_10\">\n      <!-- 1.22 -->\n      <g transform=\"translate(20.878125 237.214108)scale(0.1 -0.1)\">\n       <use xlink:href=\"#DejaVuSans-49\"/>\n       <use x=\"63.623047\" xlink:href=\"#DejaVuSans-46\"/>\n       <use x=\"95.410156\" xlink:href=\"#DejaVuSans-50\"/>\n       <use x=\"159.033203\" xlink:href=\"#DejaVuSans-50\"/>\n      </g>\n     </g>\n    </g>\n    <g id=\"ytick_3\">\n     <g id=\"line2d_19\">\n      <path clip-path=\"url(#p28ed62a568)\" d=\"M 50.14375 153.423694 \nL 622.04375 153.423694 \n\" style=\"fill:none;stroke:#808080;stroke-linecap:square;stroke-opacity:0.2;\"/>\n     </g>\n     <g id=\"line2d_20\">\n      <g>\n       <use style=\"stroke:#000000;stroke-width:0.8;\" x=\"50.14375\" xlink:href=\"#me37f48901e\" y=\"153.423694\"/>\n      </g>\n     </g>\n     <g id=\"text_11\">\n      <!-- 1.24 -->\n      <defs>\n       <path d=\"M 37.796875 64.3125 \nL 12.890625 25.390625 \nL 37.796875 25.390625 \nz\nM 35.203125 72.90625 \nL 47.609375 72.90625 \nL 47.609375 25.390625 \nL 58.015625 25.390625 \nL 58.015625 17.1875 \nL 47.609375 17.1875 \nL 47.609375 0 \nL 37.796875 0 \nL 37.796875 17.1875 \nL 4.890625 17.1875 \nL 4.890625 26.703125 \nz\n\" id=\"DejaVuSans-52\"/>\n      </defs>\n      <g transform=\"translate(20.878125 157.222913)scale(0.1 -0.1)\">\n       <use xlink:href=\"#DejaVuSans-49\"/>\n       <use x=\"63.623047\" xlink:href=\"#DejaVuSans-46\"/>\n       <use x=\"95.410156\" xlink:href=\"#DejaVuSans-50\"/>\n       <use x=\"159.033203\" xlink:href=\"#DejaVuSans-52\"/>\n      </g>\n     </g>\n    </g>\n    <g id=\"ytick_4\">\n     <g id=\"line2d_21\">\n      <path clip-path=\"url(#p28ed62a568)\" d=\"M 50.14375 73.432499 \nL 622.04375 73.432499 \n\" style=\"fill:none;stroke:#808080;stroke-linecap:square;stroke-opacity:0.2;\"/>\n     </g>\n     <g id=\"line2d_22\">\n      <g>\n       <use style=\"stroke:#000000;stroke-width:0.8;\" x=\"50.14375\" xlink:href=\"#me37f48901e\" y=\"73.432499\"/>\n      </g>\n     </g>\n     <g id=\"text_12\">\n      <!-- 1.26 -->\n      <defs>\n       <path d=\"M 33.015625 40.375 \nQ 26.375 40.375 22.484375 35.828125 \nQ 18.609375 31.296875 18.609375 23.390625 \nQ 18.609375 15.53125 22.484375 10.953125 \nQ 26.375 6.390625 33.015625 6.390625 \nQ 39.65625 6.390625 43.53125 10.953125 \nQ 47.40625 15.53125 47.40625 23.390625 \nQ 47.40625 31.296875 43.53125 35.828125 \nQ 39.65625 40.375 33.015625 40.375 \nz\nM 52.59375 71.296875 \nL 52.59375 62.3125 \nQ 48.875 64.0625 45.09375 64.984375 \nQ 41.3125 65.921875 37.59375 65.921875 \nQ 27.828125 65.921875 22.671875 59.328125 \nQ 17.53125 52.734375 16.796875 39.40625 \nQ 19.671875 43.65625 24.015625 45.921875 \nQ 28.375 48.1875 33.59375 48.1875 \nQ 44.578125 48.1875 50.953125 41.515625 \nQ 57.328125 34.859375 57.328125 23.390625 \nQ 57.328125 12.15625 50.6875 5.359375 \nQ 44.046875 -1.421875 33.015625 -1.421875 \nQ 20.359375 -1.421875 13.671875 8.265625 \nQ 6.984375 17.96875 6.984375 36.375 \nQ 6.984375 53.65625 15.1875 63.9375 \nQ 23.390625 74.21875 37.203125 74.21875 \nQ 40.921875 74.21875 44.703125 73.484375 \nQ 48.484375 72.75 52.59375 71.296875 \nz\n\" id=\"DejaVuSans-54\"/>\n      </defs>\n      <g transform=\"translate(20.878125 77.231718)scale(0.1 -0.1)\">\n       <use xlink:href=\"#DejaVuSans-49\"/>\n       <use x=\"63.623047\" xlink:href=\"#DejaVuSans-46\"/>\n       <use x=\"95.410156\" xlink:href=\"#DejaVuSans-50\"/>\n       <use x=\"159.033203\" xlink:href=\"#DejaVuSans-54\"/>\n      </g>\n     </g>\n    </g>\n    <g id=\"text_13\">\n     <!-- Apple's Stock Price (00s) -->\n     <defs>\n      <path d=\"M 34.1875 63.1875 \nL 20.796875 26.90625 \nL 47.609375 26.90625 \nz\nM 28.609375 72.90625 \nL 39.796875 72.90625 \nL 67.578125 0 \nL 57.328125 0 \nL 50.6875 18.703125 \nL 17.828125 18.703125 \nL 11.1875 0 \nL 0.78125 0 \nz\n\" id=\"DejaVuSans-65\"/>\n      <path d=\"M 18.109375 8.203125 \nL 18.109375 -20.796875 \nL 9.078125 -20.796875 \nL 9.078125 54.6875 \nL 18.109375 54.6875 \nL 18.109375 46.390625 \nQ 20.953125 51.265625 25.265625 53.625 \nQ 29.59375 56 35.59375 56 \nQ 45.5625 56 51.78125 48.09375 \nQ 58.015625 40.1875 58.015625 27.296875 \nQ 58.015625 14.40625 51.78125 6.484375 \nQ 45.5625 -1.421875 35.59375 -1.421875 \nQ 29.59375 -1.421875 25.265625 0.953125 \nQ 20.953125 3.328125 18.109375 8.203125 \nz\nM 48.6875 27.296875 \nQ 48.6875 37.203125 44.609375 42.84375 \nQ 40.53125 48.484375 33.40625 48.484375 \nQ 26.265625 48.484375 22.1875 42.84375 \nQ 18.109375 37.203125 18.109375 27.296875 \nQ 18.109375 17.390625 22.1875 11.75 \nQ 26.265625 6.109375 33.40625 6.109375 \nQ 40.53125 6.109375 44.609375 11.75 \nQ 48.6875 17.390625 48.6875 27.296875 \nz\n\" id=\"DejaVuSans-112\"/>\n      <path d=\"M 9.421875 75.984375 \nL 18.40625 75.984375 \nL 18.40625 0 \nL 9.421875 0 \nz\n\" id=\"DejaVuSans-108\"/>\n      <path d=\"M 17.921875 72.90625 \nL 17.921875 45.796875 \nL 9.625 45.796875 \nL 9.625 72.90625 \nz\n\" id=\"DejaVuSans-39\"/>\n      <path d=\"M 44.28125 53.078125 \nL 44.28125 44.578125 \nQ 40.484375 46.53125 36.375 47.5 \nQ 32.28125 48.484375 27.875 48.484375 \nQ 21.1875 48.484375 17.84375 46.4375 \nQ 14.5 44.390625 14.5 40.28125 \nQ 14.5 37.15625 16.890625 35.375 \nQ 19.28125 33.59375 26.515625 31.984375 \nL 29.59375 31.296875 \nQ 39.15625 29.25 43.1875 25.515625 \nQ 47.21875 21.78125 47.21875 15.09375 \nQ 47.21875 7.46875 41.1875 3.015625 \nQ 35.15625 -1.421875 24.609375 -1.421875 \nQ 20.21875 -1.421875 15.453125 -0.5625 \nQ 10.6875 0.296875 5.421875 2 \nL 5.421875 11.28125 \nQ 10.40625 8.6875 15.234375 7.390625 \nQ 20.0625 6.109375 24.8125 6.109375 \nQ 31.15625 6.109375 34.5625 8.28125 \nQ 37.984375 10.453125 37.984375 14.40625 \nQ 37.984375 18.0625 35.515625 20.015625 \nQ 33.0625 21.96875 24.703125 23.78125 \nL 21.578125 24.515625 \nQ 13.234375 26.265625 9.515625 29.90625 \nQ 5.8125 33.546875 5.8125 39.890625 \nQ 5.8125 47.609375 11.28125 51.796875 \nQ 16.75 56 26.8125 56 \nQ 31.78125 56 36.171875 55.265625 \nQ 40.578125 54.546875 44.28125 53.078125 \nz\n\" id=\"DejaVuSans-115\"/>\n      <path id=\"DejaVuSans-32\"/>\n      <path d=\"M 53.515625 70.515625 \nL 53.515625 60.890625 \nQ 47.90625 63.578125 42.921875 64.890625 \nQ 37.9375 66.21875 33.296875 66.21875 \nQ 25.25 66.21875 20.875 63.09375 \nQ 16.5 59.96875 16.5 54.203125 \nQ 16.5 49.359375 19.40625 46.890625 \nQ 22.3125 44.4375 30.421875 42.921875 \nL 36.375 41.703125 \nQ 47.40625 39.59375 52.65625 34.296875 \nQ 57.90625 29 57.90625 20.125 \nQ 57.90625 9.515625 50.796875 4.046875 \nQ 43.703125 -1.421875 29.984375 -1.421875 \nQ 24.8125 -1.421875 18.96875 -0.25 \nQ 13.140625 0.921875 6.890625 3.21875 \nL 6.890625 13.375 \nQ 12.890625 10.015625 18.65625 8.296875 \nQ 24.421875 6.59375 29.984375 6.59375 \nQ 38.421875 6.59375 43.015625 9.90625 \nQ 47.609375 13.234375 47.609375 19.390625 \nQ 47.609375 24.75 44.3125 27.78125 \nQ 41.015625 30.8125 33.5 32.328125 \nL 27.484375 33.5 \nQ 16.453125 35.6875 11.515625 40.375 \nQ 6.59375 45.0625 6.59375 53.421875 \nQ 6.59375 63.09375 13.40625 68.65625 \nQ 20.21875 74.21875 32.171875 74.21875 \nQ 37.3125 74.21875 42.625 73.28125 \nQ 47.953125 72.359375 53.515625 70.515625 \nz\n\" id=\"DejaVuSans-83\"/>\n      <path d=\"M 30.609375 48.390625 \nQ 23.390625 48.390625 19.1875 42.75 \nQ 14.984375 37.109375 14.984375 27.296875 \nQ 14.984375 17.484375 19.15625 11.84375 \nQ 23.34375 6.203125 30.609375 6.203125 \nQ 37.796875 6.203125 41.984375 11.859375 \nQ 46.1875 17.53125 46.1875 27.296875 \nQ 46.1875 37.015625 41.984375 42.703125 \nQ 37.796875 48.390625 30.609375 48.390625 \nz\nM 30.609375 56 \nQ 42.328125 56 49.015625 48.375 \nQ 55.71875 40.765625 55.71875 27.296875 \nQ 55.71875 13.875 49.015625 6.21875 \nQ 42.328125 -1.421875 30.609375 -1.421875 \nQ 18.84375 -1.421875 12.171875 6.21875 \nQ 5.515625 13.875 5.515625 27.296875 \nQ 5.515625 40.765625 12.171875 48.375 \nQ 18.84375 56 30.609375 56 \nz\n\" id=\"DejaVuSans-111\"/>\n      <path d=\"M 48.78125 52.59375 \nL 48.78125 44.1875 \nQ 44.96875 46.296875 41.140625 47.34375 \nQ 37.3125 48.390625 33.40625 48.390625 \nQ 24.65625 48.390625 19.8125 42.84375 \nQ 14.984375 37.3125 14.984375 27.296875 \nQ 14.984375 17.28125 19.8125 11.734375 \nQ 24.65625 6.203125 33.40625 6.203125 \nQ 37.3125 6.203125 41.140625 7.25 \nQ 44.96875 8.296875 48.78125 10.40625 \nL 48.78125 2.09375 \nQ 45.015625 0.34375 40.984375 -0.53125 \nQ 36.96875 -1.421875 32.421875 -1.421875 \nQ 20.0625 -1.421875 12.78125 6.34375 \nQ 5.515625 14.109375 5.515625 27.296875 \nQ 5.515625 40.671875 12.859375 48.328125 \nQ 20.21875 56 33.015625 56 \nQ 37.15625 56 41.109375 55.140625 \nQ 45.0625 54.296875 48.78125 52.59375 \nz\n\" id=\"DejaVuSans-99\"/>\n      <path d=\"M 9.078125 75.984375 \nL 18.109375 75.984375 \nL 18.109375 31.109375 \nL 44.921875 54.6875 \nL 56.390625 54.6875 \nL 27.390625 29.109375 \nL 57.625 0 \nL 45.90625 0 \nL 18.109375 26.703125 \nL 18.109375 0 \nL 9.078125 0 \nz\n\" id=\"DejaVuSans-107\"/>\n      <path d=\"M 19.671875 64.796875 \nL 19.671875 37.40625 \nL 32.078125 37.40625 \nQ 38.96875 37.40625 42.71875 40.96875 \nQ 46.484375 44.53125 46.484375 51.125 \nQ 46.484375 57.671875 42.71875 61.234375 \nQ 38.96875 64.796875 32.078125 64.796875 \nz\nM 9.8125 72.90625 \nL 32.078125 72.90625 \nQ 44.34375 72.90625 50.609375 67.359375 \nQ 56.890625 61.8125 56.890625 51.125 \nQ 56.890625 40.328125 50.609375 34.8125 \nQ 44.34375 29.296875 32.078125 29.296875 \nL 19.671875 29.296875 \nL 19.671875 0 \nL 9.8125 0 \nz\n\" id=\"DejaVuSans-80\"/>\n      <path d=\"M 41.109375 46.296875 \nQ 39.59375 47.171875 37.8125 47.578125 \nQ 36.03125 48 33.890625 48 \nQ 26.265625 48 22.1875 43.046875 \nQ 18.109375 38.09375 18.109375 28.8125 \nL 18.109375 0 \nL 9.078125 0 \nL 9.078125 54.6875 \nL 18.109375 54.6875 \nL 18.109375 46.1875 \nQ 20.953125 51.171875 25.484375 53.578125 \nQ 30.03125 56 36.53125 56 \nQ 37.453125 56 38.578125 55.875 \nQ 39.703125 55.765625 41.0625 55.515625 \nz\n\" id=\"DejaVuSans-114\"/>\n      <path d=\"M 9.421875 54.6875 \nL 18.40625 54.6875 \nL 18.40625 0 \nL 9.421875 0 \nz\nM 9.421875 75.984375 \nL 18.40625 75.984375 \nL 18.40625 64.59375 \nL 9.421875 64.59375 \nz\n\" id=\"DejaVuSans-105\"/>\n      <path d=\"M 31 75.875 \nQ 24.46875 64.65625 21.28125 53.65625 \nQ 18.109375 42.671875 18.109375 31.390625 \nQ 18.109375 20.125 21.3125 9.0625 \nQ 24.515625 -2 31 -13.1875 \nL 23.1875 -13.1875 \nQ 15.875 -1.703125 12.234375 9.375 \nQ 8.59375 20.453125 8.59375 31.390625 \nQ 8.59375 42.28125 12.203125 53.3125 \nQ 15.828125 64.359375 23.1875 75.875 \nz\n\" id=\"DejaVuSans-40\"/>\n      <path d=\"M 8.015625 75.875 \nL 15.828125 75.875 \nQ 23.140625 64.359375 26.78125 53.3125 \nQ 30.421875 42.28125 30.421875 31.390625 \nQ 30.421875 20.453125 26.78125 9.375 \nQ 23.140625 -1.703125 15.828125 -13.1875 \nL 8.015625 -13.1875 \nQ 14.5 -2 17.703125 9.0625 \nQ 20.90625 20.125 20.90625 31.390625 \nQ 20.90625 42.671875 17.703125 53.65625 \nQ 14.5 64.65625 8.015625 75.875 \nz\n\" id=\"DejaVuSans-41\"/>\n     </defs>\n     <g transform=\"translate(14.798438 265.903281)rotate(-90)scale(0.1 -0.1)\">\n      <use xlink:href=\"#DejaVuSans-65\"/>\n      <use x=\"68.408203\" xlink:href=\"#DejaVuSans-112\"/>\n      <use x=\"131.884766\" xlink:href=\"#DejaVuSans-112\"/>\n      <use x=\"195.361328\" xlink:href=\"#DejaVuSans-108\"/>\n      <use x=\"223.144531\" xlink:href=\"#DejaVuSans-101\"/>\n      <use x=\"284.667969\" xlink:href=\"#DejaVuSans-39\"/>\n      <use x=\"312.158203\" xlink:href=\"#DejaVuSans-115\"/>\n      <use x=\"364.257812\" xlink:href=\"#DejaVuSans-32\"/>\n      <use x=\"396.044922\" xlink:href=\"#DejaVuSans-83\"/>\n      <use x=\"459.521484\" xlink:href=\"#DejaVuSans-116\"/>\n      <use x=\"498.730469\" xlink:href=\"#DejaVuSans-111\"/>\n      <use x=\"559.912109\" xlink:href=\"#DejaVuSans-99\"/>\n      <use x=\"614.892578\" xlink:href=\"#DejaVuSans-107\"/>\n      <use x=\"672.802734\" xlink:href=\"#DejaVuSans-32\"/>\n      <use x=\"704.589844\" xlink:href=\"#DejaVuSans-80\"/>\n      <use x=\"763.142578\" xlink:href=\"#DejaVuSans-114\"/>\n      <use x=\"804.255859\" xlink:href=\"#DejaVuSans-105\"/>\n      <use x=\"832.039062\" xlink:href=\"#DejaVuSans-99\"/>\n      <use x=\"887.019531\" xlink:href=\"#DejaVuSans-101\"/>\n      <use x=\"948.542969\" xlink:href=\"#DejaVuSans-32\"/>\n      <use x=\"980.330078\" xlink:href=\"#DejaVuSans-40\"/>\n      <use x=\"1019.34375\" xlink:href=\"#DejaVuSans-48\"/>\n      <use x=\"1082.966797\" xlink:href=\"#DejaVuSans-48\"/>\n      <use x=\"1146.589844\" xlink:href=\"#DejaVuSans-115\"/>\n      <use x=\"1198.689453\" xlink:href=\"#DejaVuSans-41\"/>\n     </g>\n    </g>\n   </g>\n   <g id=\"line2d_23\">\n    <path clip-path=\"url(#p28ed62a568)\" d=\"M 50.14375 99.029681 \nL 73.972917 38.836307 \nL 97.802083 162.422703 \nL 121.63125 269.010971 \nL 145.460417 323.304995 \nL 216.947917 369.199943 \nL 240.777083 296.407956 \nL 264.60625 281.00965 \nL 288.435417 224.015924 \nL 312.264583 306.806811 \nL 383.752083 225.015814 \nL 407.58125 74.732356 \nL 431.410417 149.506125 \nL 455.239583 243.413789 \n\" style=\"fill:none;stroke:#ffa500;stroke-linecap:square;stroke-width:1.5;\"/>\n   </g>\n   <g id=\"line2d_24\">\n    <path clip-path=\"url(#p28ed62a568)\" d=\"M 479.06875 144.463979 \nL 502.897917 128.21633 \nL 526.727083 111.968681 \nL 550.55625 95.721033 \nL 574.385417 79.473384 \nL 598.214583 63.225735 \nL 622.04375 46.978087 \n\" style=\"fill:none;stroke:#0000ff;stroke-dasharray:7.4,3.2;stroke-dashoffset:0;stroke-width:2;\"/>\n   </g>\n   <g id=\"patch_3\">\n    <path d=\"M 50.14375 385.718125 \nL 50.14375 22.318125 \n\" style=\"fill:none;stroke:#000000;stroke-linecap:square;stroke-linejoin:miter;stroke-width:0.8;\"/>\n   </g>\n   <g id=\"patch_4\">\n    <path d=\"M 622.04375 385.718125 \nL 622.04375 22.318125 \n\" style=\"fill:none;stroke:#000000;stroke-linecap:square;stroke-linejoin:miter;stroke-width:0.8;\"/>\n   </g>\n   <g id=\"patch_5\">\n    <path d=\"M 50.14375 385.718125 \nL 622.04375 385.718125 \n\" style=\"fill:none;stroke:#000000;stroke-linecap:square;stroke-linejoin:miter;stroke-width:0.8;\"/>\n   </g>\n   <g id=\"patch_6\">\n    <path d=\"M 50.14375 22.318125 \nL 622.04375 22.318125 \n\" style=\"fill:none;stroke:#000000;stroke-linecap:square;stroke-linejoin:miter;stroke-width:0.8;\"/>\n   </g>\n   <g id=\"text_14\">\n    <!-- Forecast for Apple's Stock Price 20-Mar to 25-Mar -->\n    <defs>\n     <path d=\"M 9.8125 72.90625 \nL 51.703125 72.90625 \nL 51.703125 64.59375 \nL 19.671875 64.59375 \nL 19.671875 43.109375 \nL 48.578125 43.109375 \nL 48.578125 34.8125 \nL 19.671875 34.8125 \nL 19.671875 0 \nL 9.8125 0 \nz\n\" id=\"DejaVuSans-70\"/>\n     <path d=\"M 37.109375 75.984375 \nL 37.109375 68.5 \nL 28.515625 68.5 \nQ 23.6875 68.5 21.796875 66.546875 \nQ 19.921875 64.59375 19.921875 59.515625 \nL 19.921875 54.6875 \nL 34.71875 54.6875 \nL 34.71875 47.703125 \nL 19.921875 47.703125 \nL 19.921875 0 \nL 10.890625 0 \nL 10.890625 47.703125 \nL 2.296875 47.703125 \nL 2.296875 54.6875 \nL 10.890625 54.6875 \nL 10.890625 58.5 \nQ 10.890625 67.625 15.140625 71.796875 \nQ 19.390625 75.984375 28.609375 75.984375 \nz\n\" id=\"DejaVuSans-102\"/>\n     <path d=\"M 9.8125 72.90625 \nL 24.515625 72.90625 \nL 43.109375 23.296875 \nL 61.8125 72.90625 \nL 76.515625 72.90625 \nL 76.515625 0 \nL 66.890625 0 \nL 66.890625 64.015625 \nL 48.09375 14.015625 \nL 38.1875 14.015625 \nL 19.390625 64.015625 \nL 19.390625 0 \nL 9.8125 0 \nz\n\" id=\"DejaVuSans-77\"/>\n    </defs>\n    <g transform=\"translate(187.75125 16.318125)scale(0.12 -0.12)\">\n     <use xlink:href=\"#DejaVuSans-70\"/>\n     <use x=\"53.894531\" xlink:href=\"#DejaVuSans-111\"/>\n     <use x=\"115.076172\" xlink:href=\"#DejaVuSans-114\"/>\n     <use x=\"153.939453\" xlink:href=\"#DejaVuSans-101\"/>\n     <use x=\"215.462891\" xlink:href=\"#DejaVuSans-99\"/>\n     <use x=\"270.443359\" xlink:href=\"#DejaVuSans-97\"/>\n     <use x=\"331.722656\" xlink:href=\"#DejaVuSans-115\"/>\n     <use x=\"383.822266\" xlink:href=\"#DejaVuSans-116\"/>\n     <use x=\"423.03125\" xlink:href=\"#DejaVuSans-32\"/>\n     <use x=\"454.818359\" xlink:href=\"#DejaVuSans-102\"/>\n     <use x=\"490.023438\" xlink:href=\"#DejaVuSans-111\"/>\n     <use x=\"551.205078\" xlink:href=\"#DejaVuSans-114\"/>\n     <use x=\"592.318359\" xlink:href=\"#DejaVuSans-32\"/>\n     <use x=\"624.105469\" xlink:href=\"#DejaVuSans-65\"/>\n     <use x=\"692.513672\" xlink:href=\"#DejaVuSans-112\"/>\n     <use x=\"755.990234\" xlink:href=\"#DejaVuSans-112\"/>\n     <use x=\"819.466797\" xlink:href=\"#DejaVuSans-108\"/>\n     <use x=\"847.25\" xlink:href=\"#DejaVuSans-101\"/>\n     <use x=\"908.773438\" xlink:href=\"#DejaVuSans-39\"/>\n     <use x=\"936.263672\" xlink:href=\"#DejaVuSans-115\"/>\n     <use x=\"988.363281\" xlink:href=\"#DejaVuSans-32\"/>\n     <use x=\"1020.150391\" xlink:href=\"#DejaVuSans-83\"/>\n     <use x=\"1083.626953\" xlink:href=\"#DejaVuSans-116\"/>\n     <use x=\"1122.835938\" xlink:href=\"#DejaVuSans-111\"/>\n     <use x=\"1184.017578\" xlink:href=\"#DejaVuSans-99\"/>\n     <use x=\"1238.998047\" xlink:href=\"#DejaVuSans-107\"/>\n     <use x=\"1296.908203\" xlink:href=\"#DejaVuSans-32\"/>\n     <use x=\"1328.695312\" xlink:href=\"#DejaVuSans-80\"/>\n     <use x=\"1387.248047\" xlink:href=\"#DejaVuSans-114\"/>\n     <use x=\"1428.361328\" xlink:href=\"#DejaVuSans-105\"/>\n     <use x=\"1456.144531\" xlink:href=\"#DejaVuSans-99\"/>\n     <use x=\"1511.125\" xlink:href=\"#DejaVuSans-101\"/>\n     <use x=\"1572.648438\" xlink:href=\"#DejaVuSans-32\"/>\n     <use x=\"1604.435547\" xlink:href=\"#DejaVuSans-50\"/>\n     <use x=\"1668.058594\" xlink:href=\"#DejaVuSans-48\"/>\n     <use x=\"1731.681641\" xlink:href=\"#DejaVuSans-45\"/>\n     <use x=\"1767.765625\" xlink:href=\"#DejaVuSans-77\"/>\n     <use x=\"1854.044922\" xlink:href=\"#DejaVuSans-97\"/>\n     <use x=\"1915.324219\" xlink:href=\"#DejaVuSans-114\"/>\n     <use x=\"1956.4375\" xlink:href=\"#DejaVuSans-32\"/>\n     <use x=\"1988.224609\" xlink:href=\"#DejaVuSans-116\"/>\n     <use x=\"2027.433594\" xlink:href=\"#DejaVuSans-111\"/>\n     <use x=\"2088.615234\" xlink:href=\"#DejaVuSans-32\"/>\n     <use x=\"2120.402344\" xlink:href=\"#DejaVuSans-50\"/>\n     <use x=\"2184.025391\" xlink:href=\"#DejaVuSans-53\"/>\n     <use x=\"2247.648438\" xlink:href=\"#DejaVuSans-45\"/>\n     <use x=\"2283.732422\" xlink:href=\"#DejaVuSans-77\"/>\n     <use x=\"2370.011719\" xlink:href=\"#DejaVuSans-97\"/>\n     <use x=\"2431.291016\" xlink:href=\"#DejaVuSans-114\"/>\n    </g>\n   </g>\n   <g id=\"legend_1\">\n    <g id=\"patch_7\">\n     <path d=\"M 629.04375 59.674375 \nL 703.346875 59.674375 \nQ 705.346875 59.674375 705.346875 57.674375 \nL 705.346875 29.318125 \nQ 705.346875 27.318125 703.346875 27.318125 \nL 629.04375 27.318125 \nQ 627.04375 27.318125 627.04375 29.318125 \nL 627.04375 57.674375 \nQ 627.04375 59.674375 629.04375 59.674375 \nz\n\" style=\"fill:#ffffff;opacity:0.8;stroke:#cccccc;stroke-linejoin:miter;\"/>\n    </g>\n    <g id=\"line2d_25\">\n     <path d=\"M 631.04375 35.416562 \nL 651.04375 35.416562 \n\" style=\"fill:none;stroke:#ffa500;stroke-linecap:square;stroke-width:1.5;\"/>\n    </g>\n    <g id=\"line2d_26\"/>\n    <g id=\"text_15\">\n     <!-- History -->\n     <defs>\n      <path d=\"M 9.8125 72.90625 \nL 19.671875 72.90625 \nL 19.671875 43.015625 \nL 55.515625 43.015625 \nL 55.515625 72.90625 \nL 65.375 72.90625 \nL 65.375 0 \nL 55.515625 0 \nL 55.515625 34.71875 \nL 19.671875 34.71875 \nL 19.671875 0 \nL 9.8125 0 \nz\n\" id=\"DejaVuSans-72\"/>\n      <path d=\"M 32.171875 -5.078125 \nQ 28.375 -14.84375 24.75 -17.8125 \nQ 21.140625 -20.796875 15.09375 -20.796875 \nL 7.90625 -20.796875 \nL 7.90625 -13.28125 \nL 13.1875 -13.28125 \nQ 16.890625 -13.28125 18.9375 -11.515625 \nQ 21 -9.765625 23.484375 -3.21875 \nL 25.09375 0.875 \nL 2.984375 54.6875 \nL 12.5 54.6875 \nL 29.59375 11.921875 \nL 46.6875 54.6875 \nL 56.203125 54.6875 \nz\n\" id=\"DejaVuSans-121\"/>\n     </defs>\n     <g transform=\"translate(659.04375 38.916562)scale(0.1 -0.1)\">\n      <use xlink:href=\"#DejaVuSans-72\"/>\n      <use x=\"75.195312\" xlink:href=\"#DejaVuSans-105\"/>\n      <use x=\"102.978516\" xlink:href=\"#DejaVuSans-115\"/>\n      <use x=\"155.078125\" xlink:href=\"#DejaVuSans-116\"/>\n      <use x=\"194.287109\" xlink:href=\"#DejaVuSans-111\"/>\n      <use x=\"255.46875\" xlink:href=\"#DejaVuSans-114\"/>\n      <use x=\"296.582031\" xlink:href=\"#DejaVuSans-121\"/>\n     </g>\n    </g>\n    <g id=\"line2d_27\">\n     <path d=\"M 631.04375 50.094687 \nL 651.04375 50.094687 \n\" style=\"fill:none;stroke:#0000ff;stroke-dasharray:7.4,3.2;stroke-dashoffset:0;stroke-width:2;\"/>\n    </g>\n    <g id=\"line2d_28\"/>\n    <g id=\"text_16\">\n     <!-- Forecast -->\n     <g transform=\"translate(659.04375 53.594687)scale(0.1 -0.1)\">\n      <use xlink:href=\"#DejaVuSans-70\"/>\n      <use x=\"53.894531\" xlink:href=\"#DejaVuSans-111\"/>\n      <use x=\"115.076172\" xlink:href=\"#DejaVuSans-114\"/>\n      <use x=\"153.939453\" xlink:href=\"#DejaVuSans-101\"/>\n      <use x=\"215.462891\" xlink:href=\"#DejaVuSans-99\"/>\n      <use x=\"270.443359\" xlink:href=\"#DejaVuSans-97\"/>\n      <use x=\"331.722656\" xlink:href=\"#DejaVuSans-115\"/>\n      <use x=\"383.822266\" xlink:href=\"#DejaVuSans-116\"/>\n     </g>\n    </g>\n   </g>\n  </g>\n </g>\n <defs>\n  <clipPath id=\"p28ed62a568\">\n   <rect height=\"363.4\" width=\"571.9\" x=\"50.14375\" y=\"22.318125\"/>\n  </clipPath>\n </defs>\n</svg>\n",
      "image/png": "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\n"
     },
     "metadata": {
      "needs_background": "light"
     }
    }
   ],
   "source": [
<<<<<<< HEAD
=======
    "# NBVAL_SKIP\n",
>>>>>>> a1117bfa4197e6178d42153603357301c6bb8f27
    "flow.run()"
   ]
  },
  {
   "source": [
    "<center>Voilà!</center>"
   ],
   "cell_type": "markdown",
   "metadata": {}
  }
 ]
}