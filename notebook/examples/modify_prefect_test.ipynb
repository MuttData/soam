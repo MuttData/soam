{
 "cells": [
  {
   "cell_type": "markdown",
   "metadata": {
    "colab_type": "text",
    "id": "wC2Nxna3qHWv"
   },
   "source": [
    "# Time Series Forecasting with SoaM\n",
    "\n",
    "In this notebook we will show how to make predictions and persist them using SoaM Forcaster."
   ]
  },
  {
   "cell_type": "code",
   "execution_count": 4,
   "metadata": {
    "colab": {},
    "colab_type": "code",
    "id": "wQYMELXKqHW1"
   },
   "outputs": [],
   "source": [
    "import io\n",
    "\n",
    "from soam.models import SkProphet\n",
    "from soam.utilities.utils import add_future_dates\n",
    "import matplotlib.pyplot as plt\n",
    "from muttlib.dbconn import PgClient\n",
    "import pandas as pd\n",
    "\n",
    "from soam.cfg import get_db_cred\n",
    "from soam.workflow.forecaster import Forecaster\n",
    "from soam.savers import CSVSaver, DBSaver, Saver\n",
    "from soam.plotting.forecast_plotter import ForecastPlotterTask\n",
    "from soam.reporting.mail_report import MailReport\n",
    "from prefect.utilities.debug import raise_on_exception\n",
    "from prefect import Flow, Task, context, task\n",
    "from soam.core.runner import SoamFlow\n",
    "# from soam.slack_report import SlackReport\n",
    "\n",
    "import datetime"
   ]
  },
  {
   "cell_type": "code",
   "execution_count": 2,
   "metadata": {},
   "outputs": [],
   "source": [
    "# NBVAL_SKIP\n",
    "\n",
    "saver_data = CSVSaver(\"/tmp/soam_data/\")\n",
    "# saver_runs = CSVSaver(\"/tmp/soam_run/\")\n",
    "db_cred = get_db_cred(\"../../soam/settings.ini\")\n",
    "db = PgClient(**db_cred)\n",
    "saver_runs = DBSaver(db)"
   ]
  },
  {
   "cell_type": "code",
   "execution_count": 3,
   "metadata": {
    "colab": {},
    "colab_type": "code",
    "id": "v2-RVXn93ipk"
   },
   "outputs": [],
   "source": [
    "# NBVAL_SKIP\n",
    "\n",
    "my_model = SkProphet(weekly_seasonality=False, daily_seasonality=False)\n",
    "forecaster = Forecaster(my_model, savers=[saver_runs])\n",
    "\n",
    "@task()\n",
    "def read_csv_data(path: str)-> pd.DataFrame :\n",
    "    print(context[\"date\"])\n",
    "    return add_future_dates(pd.read_csv(path), output_length=7)\n",
    "\n",
    "@task()\n",
    "def print_csv_data(predictions: pd.DataFrame):\n",
    "        print(predictions)\n",
    "    # return pd.read_csv(path) \n",
    "\n",
    "@task\n",
    "def store_preds(saver: CSVSaver, predictions: pd.DataFrame):\n",
    "    saver.save_forecaster_impl(predictions, 4)\n",
    "\n",
    "@task\n",
    "def print_model(model: SkProphet):\n",
    "    print(model)\n",
    "\n",
    "url = \"https://raw.githubusercontent.com/facebook/prophet/master/examples/example_retail_sales.csv\""
   ]
  },
  {
   "cell_type": "code",
   "execution_count": 4,
   "metadata": {
    "tags": []
   },
   "outputs": [
    {
     "name": "stdout",
     "output_type": "stream",
     "text": [
      "[2020-08-31 19:49:18] INFO - prefect.FlowRunner | Beginning Flow run for 'test'\n",
      "[2020-08-31 19:49:18] INFO - prefect.TaskRunner | Task 'read_csv_data': Starting task run...\n",
      "2020-08-31T19:49:18.244433+00:00\n",
      "[2020-08-31 19:49:18] INFO - prefect.TaskRunner | Task 'read_csv_data': finished task run for task with final state: 'Success'\n",
      "[2020-08-31 19:49:18] INFO - prefect.TaskRunner | Task 'Forecaster': Starting task run...\n",
      "INFO:numexpr.utils:NumExpr defaulting to 8 threads.\n",
      "[2020-08-31 19:49:22] INFO - prefect.TaskRunner | Task 'Forecaster': finished task run for task with final state: 'Success'\n",
      "INFO:prefect.TaskRunner:Task 'Forecaster': finished task run for task with final state: 'Success'\n",
      "[2020-08-31 19:49:22] INFO - prefect.TaskRunner | Task 'GetItem': Starting task run...\n",
      "INFO:prefect.TaskRunner:Task 'GetItem': Starting task run...\n",
      "[2020-08-31 19:49:22] INFO - prefect.TaskRunner | Task 'GetItem': finished task run for task with final state: 'Success'\n",
      "INFO:prefect.TaskRunner:Task 'GetItem': finished task run for task with final state: 'Success'\n",
      "[2020-08-31 19:49:22] INFO - prefect.TaskRunner | Task 'print_model': Starting task run...\n",
      "INFO:prefect.TaskRunner:Task 'print_model': Starting task run...\n",
      "Prophet\n",
      "[2020-08-31 19:49:22] INFO - prefect.TaskRunner | Task 'print_model': finished task run for task with final state: 'Success'\n",
      "INFO:prefect.TaskRunner:Task 'print_model': finished task run for task with final state: 'Success'\n",
      "[2020-08-31 19:49:22] INFO - prefect.FlowRunner | Flow run SUCCESS: all reference tasks succeeded\n",
      "INFO:prefect.FlowRunner:Flow run SUCCESS: all reference tasks succeeded\n"
     ]
    }
   ],
   "source": [
    "# NBVAL_SKIP\n",
    "\n",
    "now = datetime.datetime.today()\n",
    "with SoamFlow(name=\"test\", saver= saver_runs) as f:\n",
    "    f.start_datetime = now\n",
    "    f.end_datetime = now\n",
    "    df = read_csv_data(path=url)\n",
    "    preds_model = forecaster(time_series=df)\n",
    "    print_model(preds_model[1])\n",
    "\n",
    "with raise_on_exception(): \n",
    "     f.run()"
   ]
  },
  {
   "cell_type": "code",
   "execution_count": 5,
   "metadata": {},
   "outputs": [
    {
     "data": {
      "image/svg+xml": [
       "<?xml version=\"1.0\" encoding=\"UTF-8\" standalone=\"no\"?>\n",
       "<!DOCTYPE svg PUBLIC \"-//W3C//DTD SVG 1.1//EN\"\n",
       " \"http://www.w3.org/Graphics/SVG/1.1/DTD/svg11.dtd\">\n",
       "<!-- Generated by graphviz version 2.43.0 (0)\n",
       " -->\n",
       "<!-- Title: %3 Pages: 1 -->\n",
       "<svg width=\"166pt\" height=\"305pt\"\n",
       " viewBox=\"0.00 0.00 166.04 305.00\" xmlns=\"http://www.w3.org/2000/svg\" xmlns:xlink=\"http://www.w3.org/1999/xlink\">\n",
       "<g id=\"graph0\" class=\"graph\" transform=\"scale(1 1) rotate(0) translate(4 301)\">\n",
       "<title>%3</title>\n",
       "<polygon fill=\"white\" stroke=\"transparent\" points=\"-4,4 -4,-301 162.04,-301 162.04,4 -4,4\"/>\n",
       "<!-- 139837644345872 -->\n",
       "<g id=\"node1\" class=\"node\">\n",
       "<title>139837644345872</title>\n",
       "<ellipse fill=\"none\" stroke=\"black\" cx=\"76.04\" cy=\"-279\" rx=\"76.09\" ry=\"18\"/>\n",
       "<text text-anchor=\"middle\" x=\"76.04\" y=\"-275.3\" font-family=\"Times,serif\" font-size=\"14.00\">read_csv_data</text>\n",
       "</g>\n",
       "<!-- 139840109861456 -->\n",
       "<g id=\"node3\" class=\"node\">\n",
       "<title>139840109861456</title>\n",
       "<ellipse fill=\"none\" stroke=\"black\" cx=\"76.04\" cy=\"-192\" rx=\"60.39\" ry=\"18\"/>\n",
       "<text text-anchor=\"middle\" x=\"76.04\" y=\"-188.3\" font-family=\"Times,serif\" font-size=\"14.00\">Forecaster</text>\n",
       "</g>\n",
       "<!-- 139837644345872&#45;&gt;139840109861456 -->\n",
       "<g id=\"edge2\" class=\"edge\">\n",
       "<title>139837644345872&#45;&gt;139840109861456</title>\n",
       "<path fill=\"none\" stroke=\"black\" d=\"M76.04,-260.8C76.04,-249.16 76.04,-233.55 76.04,-220.24\"/>\n",
       "<polygon fill=\"black\" stroke=\"black\" points=\"79.54,-220.18 76.04,-210.18 72.54,-220.18 79.54,-220.18\"/>\n",
       "<text text-anchor=\"middle\" x=\"117.04\" y=\"-231.8\" font-family=\"Times,serif\" font-size=\"14.00\">time_series</text>\n",
       "</g>\n",
       "<!-- 139837645037072 -->\n",
       "<g id=\"node2\" class=\"node\">\n",
       "<title>139837645037072</title>\n",
       "<ellipse fill=\"none\" stroke=\"black\" cx=\"76.04\" cy=\"-105\" rx=\"48.99\" ry=\"18\"/>\n",
       "<text text-anchor=\"middle\" x=\"76.04\" y=\"-101.3\" font-family=\"Times,serif\" font-size=\"14.00\">GetItem</text>\n",
       "</g>\n",
       "<!-- 139837644347600 -->\n",
       "<g id=\"node4\" class=\"node\">\n",
       "<title>139837644347600</title>\n",
       "<ellipse fill=\"none\" stroke=\"black\" cx=\"76.04\" cy=\"-18\" rx=\"66.09\" ry=\"18\"/>\n",
       "<text text-anchor=\"middle\" x=\"76.04\" y=\"-14.3\" font-family=\"Times,serif\" font-size=\"14.00\">print_model</text>\n",
       "</g>\n",
       "<!-- 139837645037072&#45;&gt;139837644347600 -->\n",
       "<g id=\"edge3\" class=\"edge\">\n",
       "<title>139837645037072&#45;&gt;139837644347600</title>\n",
       "<path fill=\"none\" stroke=\"black\" d=\"M76.04,-86.8C76.04,-75.16 76.04,-59.55 76.04,-46.24\"/>\n",
       "<polygon fill=\"black\" stroke=\"black\" points=\"79.54,-46.18 76.04,-36.18 72.54,-46.18 79.54,-46.18\"/>\n",
       "<text text-anchor=\"middle\" x=\"98.04\" y=\"-57.8\" font-family=\"Times,serif\" font-size=\"14.00\">model</text>\n",
       "</g>\n",
       "<!-- 139840109861456&#45;&gt;139837645037072 -->\n",
       "<g id=\"edge1\" class=\"edge\">\n",
       "<title>139840109861456&#45;&gt;139837645037072</title>\n",
       "<path fill=\"none\" stroke=\"black\" d=\"M76.04,-173.8C76.04,-162.16 76.04,-146.55 76.04,-133.24\"/>\n",
       "<polygon fill=\"black\" stroke=\"black\" points=\"79.54,-133.18 76.04,-123.18 72.54,-133.18 79.54,-133.18\"/>\n",
       "<text text-anchor=\"middle\" x=\"115.54\" y=\"-144.8\" font-family=\"Times,serif\" font-size=\"14.00\">task_result</text>\n",
       "</g>\n",
       "</g>\n",
       "</svg>\n"
      ],
      "text/plain": [
       "<graphviz.dot.Digraph at 0x7f2f1012d790>"
      ]
     },
     "execution_count": 5,
     "metadata": {},
     "output_type": "execute_result"
    }
   ],
   "source": [
    "# NBVAL_SKIP\n",
    "\n",
    "f.visualize()"
   ]
  },
  {
   "cell_type": "code",
   "execution_count": null,
   "metadata": {},
   "outputs": [],
   "source": []
  }
 ],
 "metadata": {
  "colab": {
   "collapsed_sections": [],
   "name": "forecaster.ipynb",
   "provenance": []
  },
  "hide_input": false,
  "kernelspec": {
   "display_name": "Python 3",
   "language": "python",
   "name": "python3"
  },
  "language_info": {
   "codemirror_mode": {
    "name": "ipython",
    "version": 3
   },
   "file_extension": ".py",
   "mimetype": "text/x-python",
   "name": "python",
   "nbconvert_exporter": "python",
   "pygments_lexer": "ipython3",
   "version": "3.7.9"
  },
  "toc": {
   "base_numbering": 1,
   "nav_menu": {},
   "number_sections": true,
   "sideBar": true,
   "skip_h1_title": false,
   "title_cell": "Table of Contents",
   "title_sidebar": "Contents",
   "toc_cell": false,
   "toc_position": {},
   "toc_section_display": true,
   "toc_window_display": false
  },
  "varInspector": {
   "cols": {
    "lenName": 16,
    "lenType": 16,
    "lenVar": 40
   },
   "kernels_config": {
    "python": {
     "delete_cmd_postfix": "",
     "delete_cmd_prefix": "del ",
     "library": "var_list.py",
     "varRefreshCmd": "print(var_dic_list())"
    },
    "r": {
     "delete_cmd_postfix": ") ",
     "delete_cmd_prefix": "rm(",
     "library": "var_list.r",
     "varRefreshCmd": "cat(var_dic_list()) "
    }
   },
   "types_to_exclude": [
    "module",
    "function",
    "builtin_function_or_method",
    "instance",
    "_Feature"
   ],
   "window_display": false
  }
 },
 "nbformat": 4,
 "nbformat_minor": 1
}