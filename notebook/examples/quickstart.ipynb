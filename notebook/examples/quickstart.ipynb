{
 "metadata": {
  "language_info": {
   "codemirror_mode": {
    "name": "ipython",
    "version": 3
   },
   "file_extension": ".py",
   "mimetype": "text/x-python",
   "name": "python",
   "nbconvert_exporter": "python",
   "pygments_lexer": "ipython3",
   "version": "3.8.2-final"
  },
  "orig_nbformat": 2,
  "kernelspec": {
   "name": "python38264bitsoampipenvd935c3e85a8642968f9f9240671058a4",
   "display_name": "Python 3.8.2 64-bit ('soam': pipenv)",
   "language": "python"
  }
 },
 "nbformat": 4,
 "nbformat_minor": 2,
 "cells": [
  {
   "source": [
    "# SOAM Quickstart\n",
    "How to make an end to end project using SOAM modules and tools.\n",
    "\n",
    "![soam_pipeline](documentation/images/SoaM_diagram.png)\n",
    "\n",
    "\n",
    "This library pipeline supports any data source.\n",
    "The process is structured in different stages:\n",
    "* Extraction: manages the connection with the database, the time granularity and the aggregation level of the input data.\n",
    "* Preprocessing: lets select among out of the box tools to perform standard tasks as normalization or fill nan values.\n",
    "* Forecasting: fits a model and predict results.\n",
    "* Postprocessing: modifies the results based on business/real information or create analysis with the predicted values,\n",
    " such as an anomaly detection.\n"
   ],
   "cell_type": "markdown",
   "metadata": {}
  },
  {
   "source": [
    "## Extraction"
   ],
   "cell_type": "markdown",
   "metadata": {}
  },
  {
   "source": [
    "This stage extracts data from the needed sources to build the condensed dataset for the next steps. This tends to be project dependent."
   ],
   "cell_type": "markdown",
   "metadata": {}
  },
  {
   "source": [
    "### Establish the connection with the database"
   ],
   "cell_type": "markdown",
   "metadata": {}
  },
  {
   "cell_type": "code",
   "execution_count": 1,
   "metadata": {},
   "outputs": [],
   "source": [
    "from soam.workflow.time_series_extractor import TimeSeriesExtractor\n",
    "from muttlib.dbconn import get_client"
   ]
  },
  {
   "source": [
    "Postgres config set up"
   ],
   "cell_type": "markdown",
   "metadata": {}
  },
  {
   "cell_type": "code",
   "execution_count": 2,
   "metadata": {},
   "outputs": [],
   "source": [
    "pg_cfg = {\n",
    "    \"host\": \"localhost\",\n",
    "    \"port\": 5432,\n",
    "    \"db_type\": \"postgres\",\n",
    "    \"username\": \"mutt\",\n",
    "    \"password\": \"mutt\",\n",
    "    \"database\": \"sqlalchemy\"\n",
    "}"
   ]
  },
  {
   "cell_type": "code",
   "execution_count": 3,
   "metadata": {},
   "outputs": [],
   "source": [
    "pg_client = get_client(pg_cfg)[1]"
   ]
  },
  {
   "cell_type": "code",
   "execution_count": 4,
   "metadata": {},
   "outputs": [
    {
     "output_type": "execute_result",
     "data": {
      "text/plain": [
       "<muttlib.dbconn.postgres.PgClient at 0x7f5de3bc2ac0>"
      ]
     },
     "metadata": {},
     "execution_count": 4
    }
   ],
   "source": [
    "pg_client"
   ]
  },
  {
   "cell_type": "code",
   "execution_count": 5,
   "metadata": {},
   "outputs": [],
   "source": [
    "extractor = TimeSeriesExtractor(db=pg_client, table_name='stocks_valuation')"
   ]
  },
  {
   "source": [
    "#### Then it converts the full dataset to the desired time granularity and aggregation level by some categorical attribute/s and return it as a pandas data frame.\n",
    "In this case we define the following: <br>\n",
    "- Time granularity: <br>\n",
    "     - Start date: 2021-03-01 <br>\n",
    "     - End date: 2021-03-20\n",
    "- Aggregation Level:\n",
    "    - Order the date ascendantly.\n",
    "    - Just stay with Apple's (AAPL) stock information."
   ],
   "cell_type": "markdown",
   "metadata": {}
  },
  {
   "cell_type": "code",
   "execution_count": 132,
   "metadata": {},
   "outputs": [],
   "source": [
    "build_query_kwargs={\n",
    "    'columns': '*',\n",
    "    'timestamp_col': 'date',\n",
    "    'start_date': \"2021-03-01\",\n",
    "    'end_date': \"2021-03-20\",\n",
    "    'extra_where_conditions': [\"symbol = 'AAPL'\"],\n",
    "    'order_by': [\"date ASC\"]\n",
    "}"
   ]
  },
  {
   "cell_type": "code",
   "execution_count": 178,
   "metadata": {},
   "outputs": [
    {
     "output_type": "execute_result",
     "data": {
      "text/plain": [
       "   index        date symbol  avg_num_trades  avg_price\n",
       "0     13  2021-03-01   AAPL    80769.369444   125.3600\n",
       "1     12  2021-03-02   AAPL    71014.545139   126.8650\n",
       "2     11  2021-03-03   AAPL    78448.847222   123.7750\n",
       "3     10  2021-03-04   AAPL   123718.732639   121.1100\n",
       "4      9  2021-03-05   AAPL   106782.361806   119.7525"
      ],
      "text/html": "<div>\n<style scoped>\n    .dataframe tbody tr th:only-of-type {\n        vertical-align: middle;\n    }\n\n    .dataframe tbody tr th {\n        vertical-align: top;\n    }\n\n    .dataframe thead th {\n        text-align: right;\n    }\n</style>\n<table border=\"1\" class=\"dataframe\">\n  <thead>\n    <tr style=\"text-align: right;\">\n      <th></th>\n      <th>index</th>\n      <th>date</th>\n      <th>symbol</th>\n      <th>avg_num_trades</th>\n      <th>avg_price</th>\n    </tr>\n  </thead>\n  <tbody>\n    <tr>\n      <th>0</th>\n      <td>13</td>\n      <td>2021-03-01</td>\n      <td>AAPL</td>\n      <td>80769.369444</td>\n      <td>125.3600</td>\n    </tr>\n    <tr>\n      <th>1</th>\n      <td>12</td>\n      <td>2021-03-02</td>\n      <td>AAPL</td>\n      <td>71014.545139</td>\n      <td>126.8650</td>\n    </tr>\n    <tr>\n      <th>2</th>\n      <td>11</td>\n      <td>2021-03-03</td>\n      <td>AAPL</td>\n      <td>78448.847222</td>\n      <td>123.7750</td>\n    </tr>\n    <tr>\n      <th>3</th>\n      <td>10</td>\n      <td>2021-03-04</td>\n      <td>AAPL</td>\n      <td>123718.732639</td>\n      <td>121.1100</td>\n    </tr>\n    <tr>\n      <th>4</th>\n      <td>9</td>\n      <td>2021-03-05</td>\n      <td>AAPL</td>\n      <td>106782.361806</td>\n      <td>119.7525</td>\n    </tr>\n  </tbody>\n</table>\n</div>"
     },
     "metadata": {},
     "execution_count": 178
    }
   ],
   "source": [
    "extractor.run(build_query_kwargs=build_query_kwargs).head()"
   ]
  },
  {
   "source": [
    "Store the query into a <b>pandas dataframe</b> to facilitate data manipulation."
   ],
   "cell_type": "markdown",
   "metadata": {}
  },
  {
   "cell_type": "code",
   "execution_count": 179,
   "metadata": {},
   "outputs": [
    {
     "output_type": "execute_result",
     "data": {
      "text/plain": [
       "   index        date symbol  avg_num_trades  avg_price\n",
       "0     13  2021-03-01   AAPL    80769.369444   125.3600\n",
       "1     12  2021-03-02   AAPL    71014.545139   126.8650\n",
       "2     11  2021-03-03   AAPL    78448.847222   123.7750\n",
       "3     10  2021-03-04   AAPL   123718.732639   121.1100\n",
       "4      9  2021-03-05   AAPL   106782.361806   119.7525"
      ],
      "text/html": "<div>\n<style scoped>\n    .dataframe tbody tr th:only-of-type {\n        vertical-align: middle;\n    }\n\n    .dataframe tbody tr th {\n        vertical-align: top;\n    }\n\n    .dataframe thead th {\n        text-align: right;\n    }\n</style>\n<table border=\"1\" class=\"dataframe\">\n  <thead>\n    <tr style=\"text-align: right;\">\n      <th></th>\n      <th>index</th>\n      <th>date</th>\n      <th>symbol</th>\n      <th>avg_num_trades</th>\n      <th>avg_price</th>\n    </tr>\n  </thead>\n  <tbody>\n    <tr>\n      <th>0</th>\n      <td>13</td>\n      <td>2021-03-01</td>\n      <td>AAPL</td>\n      <td>80769.369444</td>\n      <td>125.3600</td>\n    </tr>\n    <tr>\n      <th>1</th>\n      <td>12</td>\n      <td>2021-03-02</td>\n      <td>AAPL</td>\n      <td>71014.545139</td>\n      <td>126.8650</td>\n    </tr>\n    <tr>\n      <th>2</th>\n      <td>11</td>\n      <td>2021-03-03</td>\n      <td>AAPL</td>\n      <td>78448.847222</td>\n      <td>123.7750</td>\n    </tr>\n    <tr>\n      <th>3</th>\n      <td>10</td>\n      <td>2021-03-04</td>\n      <td>AAPL</td>\n      <td>123718.732639</td>\n      <td>121.1100</td>\n    </tr>\n    <tr>\n      <th>4</th>\n      <td>9</td>\n      <td>2021-03-05</td>\n      <td>AAPL</td>\n      <td>106782.361806</td>\n      <td>119.7525</td>\n    </tr>\n  </tbody>\n</table>\n</div>"
     },
     "metadata": {},
     "execution_count": 179
    }
   ],
   "source": [
    "import pandas as pd\n",
    "df = extractor.run(build_query_kwargs = build_query_kwargs)\n",
    "\n",
    "df.head()"
   ]
  },
  {
   "source": [
    "## Preprocessing"
   ],
   "cell_type": "markdown",
   "metadata": {}
  },
  {
   "cell_type": "code",
   "execution_count": 180,
   "metadata": {},
   "outputs": [],
   "source": [
    "from soam.workflow import Transformer"
   ]
  },
  {
   "source": [
    "Import the MinMaxScaler from Scikit-Learn"
   ],
   "cell_type": "markdown",
   "metadata": {}
  },
  {
   "cell_type": "code",
   "execution_count": 181,
   "metadata": {},
   "outputs": [],
   "source": [
    "from sklearn.preprocessing import MinMaxScaler\n",
    "scaler = MinMaxScaler()"
   ]
  },
  {
   "source": [
    "Create the Transformer object and pass the scaler as the transformer parameter."
   ],
   "cell_type": "markdown",
   "metadata": {}
  },
  {
   "cell_type": "code",
   "execution_count": 182,
   "metadata": {},
   "outputs": [],
   "source": [
    "ts = Transformer(transformer = scaler)"
   ]
  },
  {
   "source": [
    "We want to normalize the average price values.\n",
    "\n",
    "We convert the column to an array and swap the axes to pass it to the scaler."
   ],
   "cell_type": "markdown",
   "metadata": {}
  },
  {
   "cell_type": "code",
   "execution_count": 183,
   "metadata": {},
   "outputs": [],
   "source": [
    "import numpy as np\n",
    "data = np.array([df.avg_price])\n",
    "data = np.swapaxes(data, 0, 1)"
   ]
  },
  {
   "source": [
    "Run the soam transform object."
   ],
   "cell_type": "markdown",
   "metadata": {}
  },
  {
   "cell_type": "code",
   "execution_count": 184,
   "metadata": {},
   "outputs": [
    {
     "output_type": "execute_result",
     "data": {
      "text/plain": [
       "(array([[0.81779661],\n",
       "        [1.        ],\n",
       "        [0.62590799],\n",
       "        [0.30326877],\n",
       "        [0.13892252],\n",
       "        [0.        ],\n",
       "        [0.22033898],\n",
       "        [0.26694915],\n",
       "        [0.43946731],\n",
       "        [0.18886199],\n",
       "        [0.43644068],\n",
       "        [0.89134383],\n",
       "        [0.66500605],\n",
       "        [0.38075061]]),\n",
       " MinMaxScaler())"
      ]
     },
     "metadata": {},
     "execution_count": 184
    }
   ],
   "source": [
    "ts.run(data)"
   ]
  },
  {
   "source": [
    "Change the values of avg_price for the scaled ones."
   ],
   "cell_type": "markdown",
   "metadata": {}
  },
  {
   "cell_type": "code",
   "execution_count": 185,
   "metadata": {},
   "outputs": [
    {
     "output_type": "execute_result",
     "data": {
      "text/plain": [
       "   index        date symbol  avg_num_trades  avg_price\n",
       "0     13  2021-03-01   AAPL    80769.369444   0.817797\n",
       "1     12  2021-03-02   AAPL    71014.545139   1.000000\n",
       "2     11  2021-03-03   AAPL    78448.847222   0.625908\n",
       "3     10  2021-03-04   AAPL   123718.732639   0.303269\n",
       "4      9  2021-03-05   AAPL   106782.361806   0.138923"
      ],
      "text/html": "<div>\n<style scoped>\n    .dataframe tbody tr th:only-of-type {\n        vertical-align: middle;\n    }\n\n    .dataframe tbody tr th {\n        vertical-align: top;\n    }\n\n    .dataframe thead th {\n        text-align: right;\n    }\n</style>\n<table border=\"1\" class=\"dataframe\">\n  <thead>\n    <tr style=\"text-align: right;\">\n      <th></th>\n      <th>index</th>\n      <th>date</th>\n      <th>symbol</th>\n      <th>avg_num_trades</th>\n      <th>avg_price</th>\n    </tr>\n  </thead>\n  <tbody>\n    <tr>\n      <th>0</th>\n      <td>13</td>\n      <td>2021-03-01</td>\n      <td>AAPL</td>\n      <td>80769.369444</td>\n      <td>0.817797</td>\n    </tr>\n    <tr>\n      <th>1</th>\n      <td>12</td>\n      <td>2021-03-02</td>\n      <td>AAPL</td>\n      <td>71014.545139</td>\n      <td>1.000000</td>\n    </tr>\n    <tr>\n      <th>2</th>\n      <td>11</td>\n      <td>2021-03-03</td>\n      <td>AAPL</td>\n      <td>78448.847222</td>\n      <td>0.625908</td>\n    </tr>\n    <tr>\n      <th>3</th>\n      <td>10</td>\n      <td>2021-03-04</td>\n      <td>AAPL</td>\n      <td>123718.732639</td>\n      <td>0.303269</td>\n    </tr>\n    <tr>\n      <th>4</th>\n      <td>9</td>\n      <td>2021-03-05</td>\n      <td>AAPL</td>\n      <td>106782.361806</td>\n      <td>0.138923</td>\n    </tr>\n  </tbody>\n</table>\n</div>"
     },
     "metadata": {},
     "execution_count": 185
    }
   ],
   "source": [
    "df.avg_price = ts.run(data)[0]\n",
    "df.head()"
   ]
  },
  {
   "source": [
    "We drop the unnecesary columns and adapt the column names for the Fb Prophet for the Forecasting.\n",
    "\n",
    "\n",
    "\n",
    "We need a `ds` column of type DateTime to indicate the moment of observation in the time series and a `y` column for it's value.\n",
    "\n"
   ],
   "cell_type": "markdown",
   "metadata": {}
  },
  {
   "cell_type": "code",
   "execution_count": 186,
   "metadata": {},
   "outputs": [
    {
     "output_type": "execute_result",
     "data": {
      "text/plain": [
       "          ds         y\n",
       "0 2021-03-01  0.817797\n",
       "1 2021-03-02  1.000000\n",
       "2 2021-03-03  0.625908\n",
       "3 2021-03-04  0.303269\n",
       "4 2021-03-05  0.138923"
      ],
      "text/html": "<div>\n<style scoped>\n    .dataframe tbody tr th:only-of-type {\n        vertical-align: middle;\n    }\n\n    .dataframe tbody tr th {\n        vertical-align: top;\n    }\n\n    .dataframe thead th {\n        text-align: right;\n    }\n</style>\n<table border=\"1\" class=\"dataframe\">\n  <thead>\n    <tr style=\"text-align: right;\">\n      <th></th>\n      <th>ds</th>\n      <th>y</th>\n    </tr>\n  </thead>\n  <tbody>\n    <tr>\n      <th>0</th>\n      <td>2021-03-01</td>\n      <td>0.817797</td>\n    </tr>\n    <tr>\n      <th>1</th>\n      <td>2021-03-02</td>\n      <td>1.000000</td>\n    </tr>\n    <tr>\n      <th>2</th>\n      <td>2021-03-03</td>\n      <td>0.625908</td>\n    </tr>\n    <tr>\n      <th>3</th>\n      <td>2021-03-04</td>\n      <td>0.303269</td>\n    </tr>\n    <tr>\n      <th>4</th>\n      <td>2021-03-05</td>\n      <td>0.138923</td>\n    </tr>\n  </tbody>\n</table>\n</div>"
     },
     "metadata": {},
     "execution_count": 186
    }
   ],
   "source": [
    "df = df[['date', 'avg_price']]\n",
    "df.rename(columns = {\n",
    "    'date': 'ds',\n",
    "    'avg_price': 'y'}, inplace = True)\n",
    "df.ds =  pd.to_datetime(df.ds, infer_datetime_format=True)\n",
    "df.head()"
   ]
  },
  {
   "source": [
    "## Forecasting\n",
    "Now we have to create a model, for this we use [Darts models](https://github.com/unit8co/darts/tree/master/darts/models).\n",
    "\n",
    "In this example we will use the fbprophet model provided by Darts."
   ],
   "cell_type": "markdown",
   "metadata": {}
  },
  {
   "cell_type": "code",
   "execution_count": 187,
   "metadata": {},
   "outputs": [],
   "source": [
    "from soam.workflow.forecaster import Forecaster\n",
    "from soam.models import SkProphet"
   ]
  },
  {
   "cell_type": "code",
   "execution_count": 188,
   "metadata": {},
   "outputs": [],
   "source": [
    "my_model = SkProphet(weekly_seasonality=False, daily_seasonality=False)"
   ]
  },
  {
   "source": [
    "Then we create a `Forecaster` and pass the Darts model to the constructor. "
   ],
   "cell_type": "markdown",
   "metadata": {}
  },
  {
   "cell_type": "code",
   "execution_count": 189,
   "metadata": {},
   "outputs": [],
   "source": [
    "forecaster = Forecaster(my_model, output_length=7)"
   ]
  },
  {
   "source": [
    "Now we use the `run` method of the forecaster instance that we just created to fit the model to the data and make a prediction.  \n",
    "\n",
    "The `run` method requires as input a Pandas DataFrame with at least a `ds` column of type DateTime to indicate the moment of observation in the time series and a `y` column for it's value.  \n",
    "[`Multivariate`](https://unit8co.github.io/darts/generated_api/darts.models.forecasting_model.html#darts.models.forecasting_model.MultivariateForecastingModel) models also accept other timeseries appart from the one in the `y` column we just mentioned. \n",
    "\n",
    "Note that both prediction and trained model will be initially stored as attributes of the `Forecaster` instance.\n",
    "\n",
    "The output length parameter is passed to indicate the number of points that we want to predict in the future.\n",
    "\n",
    "In the `add_future_dates` method, the amount of periods to predict is passed as a parameter as well as the frequency (time granularity) of those periods. In this case we use 7 days.\n",
    "\n",
    "*Note that some models may fails if output lenght is larger than input lenght.*\n"
   ],
   "cell_type": "markdown",
   "metadata": {}
  },
  {
   "cell_type": "code",
   "execution_count": 190,
   "metadata": {},
   "outputs": [
    {
     "output_type": "stream",
     "name": "stderr",
     "text": [
      "INFO:fbprophet:Disabling yearly seasonality. Run prophet with yearly_seasonality=True to override this.\n",
      "INFO:fbprophet:n_changepoints greater than number of observations. Using 10.\n"
     ]
    }
   ],
   "source": [
    "from soam.utilities.utils import add_future_dates\n",
    "df = add_future_dates(df, periods=7, frequency=\"d\")\n",
    "predictions, time_series, model = forecaster.run(time_series=df)"
   ]
  },
  {
   "source": [
    "Note that both prediction and trained model will be initially stored as attributes of the `Forecaster` instance."
   ],
   "cell_type": "markdown",
   "metadata": {}
  },
  {
   "cell_type": "code",
   "execution_count": 191,
   "metadata": {},
   "outputs": [],
   "source": [
    "df[\"ds\"] = df[\"ds\"].dt.strftime(\"%d\")\n",
    "dfp = df.set_index(\"ds\")\n",
    "predictions[\"ds\"] = predictions[\"ds\"].dt.strftime(\"%d\")\n",
    "predp =  predictions.set_index(\"ds\")"
   ]
  },
  {
   "source": [
    "Now we plot the results to compare the predicted values with the expected ones visually."
   ],
   "cell_type": "markdown",
   "metadata": {}
  },
  {
   "cell_type": "code",
   "execution_count": 235,
   "metadata": {},
   "outputs": [
    {
     "output_type": "display_data",
     "data": {
      "text/plain": "<matplotlib.figure.Figure at 0x7f5dd8df2910>",
      "image/svg+xml": "<?xml version=\"1.0\" encoding=\"utf-8\" standalone=\"no\"?>\n<!DOCTYPE svg PUBLIC \"-//W3C//DTD SVG 1.1//EN\"\n  \"http://www.w3.org/Graphics/SVG/1.1/DTD/svg11.dtd\">\n<!-- Created with matplotlib (http://matplotlib.org/) -->\n<svg height=\"451pt\" version=\"1.1\" viewBox=\"0 0 1063 451\" width=\"1063pt\" xmlns=\"http://www.w3.org/2000/svg\" xmlns:xlink=\"http://www.w3.org/1999/xlink\">\n <defs>\n  <style type=\"text/css\">\n*{stroke-linecap:butt;stroke-linejoin:round;}\n  </style>\n </defs>\n <g id=\"figure_1\">\n  <g id=\"patch_1\">\n   <path d=\"M 0 451.312187 \nL 1063.720313 451.312187 \nL 1063.720313 0 \nL 0 0 \nz\n\" style=\"fill:none;\"/>\n  </g>\n  <g id=\"axes_1\">\n   <g id=\"patch_2\">\n    <path d=\"M 48.620313 408.916875 \nL 1053.020313 408.916875 \nL 1053.020313 28.396875 \nL 48.620313 28.396875 \nz\n\" style=\"fill:#ffffff;\"/>\n   </g>\n   <g id=\"matplotlib.axis_1\">\n    <g id=\"xtick_1\">\n     <g id=\"line2d_1\">\n      <defs>\n       <path d=\"M 0 0 \nL 0 3.5 \n\" id=\"m4b9b410528\" style=\"stroke:#000000;stroke-width:0.8;\"/>\n      </defs>\n      <g>\n       <use style=\"stroke:#000000;stroke-width:0.8;\" x=\"56.229403\" xlink:href=\"#m4b9b410528\" y=\"408.916875\"/>\n      </g>\n     </g>\n     <g id=\"text_1\">\n      <!-- 0 -->\n      <defs>\n       <path d=\"M 31.78125 66.40625 \nQ 24.171875 66.40625 20.328125 58.90625 \nQ 16.5 51.421875 16.5 36.375 \nQ 16.5 21.390625 20.328125 13.890625 \nQ 24.171875 6.390625 31.78125 6.390625 \nQ 39.453125 6.390625 43.28125 13.890625 \nQ 47.125 21.390625 47.125 36.375 \nQ 47.125 51.421875 43.28125 58.90625 \nQ 39.453125 66.40625 31.78125 66.40625 \nz\nM 31.78125 74.21875 \nQ 44.046875 74.21875 50.515625 64.515625 \nQ 56.984375 54.828125 56.984375 36.375 \nQ 56.984375 17.96875 50.515625 8.265625 \nQ 44.046875 -1.421875 31.78125 -1.421875 \nQ 19.53125 -1.421875 13.0625 8.265625 \nQ 6.59375 17.96875 6.59375 36.375 \nQ 6.59375 54.828125 13.0625 64.515625 \nQ 19.53125 74.21875 31.78125 74.21875 \nz\n\" id=\"DejaVuSans-30\"/>\n      </defs>\n      <g transform=\"translate(53.048153 423.515312)scale(0.1 -0.1)\">\n       <use xlink:href=\"#DejaVuSans-30\"/>\n      </g>\n     </g>\n    </g>\n    <g id=\"xtick_2\">\n     <g id=\"line2d_2\">\n      <g>\n       <use style=\"stroke:#000000;stroke-width:0.8;\" x=\"246.456676\" xlink:href=\"#m4b9b410528\" y=\"408.916875\"/>\n      </g>\n     </g>\n     <g id=\"text_2\">\n      <!-- 5 -->\n      <defs>\n       <path d=\"M 10.796875 72.90625 \nL 49.515625 72.90625 \nL 49.515625 64.59375 \nL 19.828125 64.59375 \nL 19.828125 46.734375 \nQ 21.96875 47.46875 24.109375 47.828125 \nQ 26.265625 48.1875 28.421875 48.1875 \nQ 40.625 48.1875 47.75 41.5 \nQ 54.890625 34.8125 54.890625 23.390625 \nQ 54.890625 11.625 47.5625 5.09375 \nQ 40.234375 -1.421875 26.90625 -1.421875 \nQ 22.3125 -1.421875 17.546875 -0.640625 \nQ 12.796875 0.140625 7.71875 1.703125 \nL 7.71875 11.625 \nQ 12.109375 9.234375 16.796875 8.0625 \nQ 21.484375 6.890625 26.703125 6.890625 \nQ 35.15625 6.890625 40.078125 11.328125 \nQ 45.015625 15.765625 45.015625 23.390625 \nQ 45.015625 31 40.078125 35.4375 \nQ 35.15625 39.890625 26.703125 39.890625 \nQ 22.75 39.890625 18.8125 39.015625 \nQ 14.890625 38.140625 10.796875 36.28125 \nz\n\" id=\"DejaVuSans-35\"/>\n      </defs>\n      <g transform=\"translate(243.275426 423.515312)scale(0.1 -0.1)\">\n       <use xlink:href=\"#DejaVuSans-35\"/>\n      </g>\n     </g>\n    </g>\n    <g id=\"xtick_3\">\n     <g id=\"line2d_3\">\n      <g>\n       <use style=\"stroke:#000000;stroke-width:0.8;\" x=\"436.683949\" xlink:href=\"#m4b9b410528\" y=\"408.916875\"/>\n      </g>\n     </g>\n     <g id=\"text_3\">\n      <!-- 10 -->\n      <defs>\n       <path d=\"M 12.40625 8.296875 \nL 28.515625 8.296875 \nL 28.515625 63.921875 \nL 10.984375 60.40625 \nL 10.984375 69.390625 \nL 28.421875 72.90625 \nL 38.28125 72.90625 \nL 38.28125 8.296875 \nL 54.390625 8.296875 \nL 54.390625 0 \nL 12.40625 0 \nz\n\" id=\"DejaVuSans-31\"/>\n      </defs>\n      <g transform=\"translate(430.321449 423.515312)scale(0.1 -0.1)\">\n       <use xlink:href=\"#DejaVuSans-31\"/>\n       <use x=\"63.623047\" xlink:href=\"#DejaVuSans-30\"/>\n      </g>\n     </g>\n    </g>\n    <g id=\"xtick_4\">\n     <g id=\"line2d_4\">\n      <g>\n       <use style=\"stroke:#000000;stroke-width:0.8;\" x=\"626.911222\" xlink:href=\"#m4b9b410528\" y=\"408.916875\"/>\n      </g>\n     </g>\n     <g id=\"text_4\">\n      <!-- 15 -->\n      <g transform=\"translate(620.548722 423.515312)scale(0.1 -0.1)\">\n       <use xlink:href=\"#DejaVuSans-31\"/>\n       <use x=\"63.623047\" xlink:href=\"#DejaVuSans-35\"/>\n      </g>\n     </g>\n    </g>\n    <g id=\"xtick_5\">\n     <g id=\"line2d_5\">\n      <g>\n       <use style=\"stroke:#000000;stroke-width:0.8;\" x=\"817.138494\" xlink:href=\"#m4b9b410528\" y=\"408.916875\"/>\n      </g>\n     </g>\n     <g id=\"text_5\">\n      <!-- 20 -->\n      <defs>\n       <path d=\"M 19.1875 8.296875 \nL 53.609375 8.296875 \nL 53.609375 0 \nL 7.328125 0 \nL 7.328125 8.296875 \nQ 12.9375 14.109375 22.625 23.890625 \nQ 32.328125 33.6875 34.8125 36.53125 \nQ 39.546875 41.84375 41.421875 45.53125 \nQ 43.3125 49.21875 43.3125 52.78125 \nQ 43.3125 58.59375 39.234375 62.25 \nQ 35.15625 65.921875 28.609375 65.921875 \nQ 23.96875 65.921875 18.8125 64.3125 \nQ 13.671875 62.703125 7.8125 59.421875 \nL 7.8125 69.390625 \nQ 13.765625 71.78125 18.9375 73 \nQ 24.125 74.21875 28.421875 74.21875 \nQ 39.75 74.21875 46.484375 68.546875 \nQ 53.21875 62.890625 53.21875 53.421875 \nQ 53.21875 48.921875 51.53125 44.890625 \nQ 49.859375 40.875 45.40625 35.40625 \nQ 44.1875 33.984375 37.640625 27.21875 \nQ 31.109375 20.453125 19.1875 8.296875 \nz\n\" id=\"DejaVuSans-32\"/>\n      </defs>\n      <g transform=\"translate(810.775994 423.515312)scale(0.1 -0.1)\">\n       <use xlink:href=\"#DejaVuSans-32\"/>\n       <use x=\"63.623047\" xlink:href=\"#DejaVuSans-30\"/>\n      </g>\n     </g>\n    </g>\n    <g id=\"xtick_6\">\n     <g id=\"line2d_6\">\n      <g>\n       <use style=\"stroke:#000000;stroke-width:0.8;\" x=\"1007.365767\" xlink:href=\"#m4b9b410528\" y=\"408.916875\"/>\n      </g>\n     </g>\n     <g id=\"text_6\">\n      <!-- 25 -->\n      <g transform=\"translate(1001.003267 423.515312)scale(0.1 -0.1)\">\n       <use xlink:href=\"#DejaVuSans-32\"/>\n       <use x=\"63.623047\" xlink:href=\"#DejaVuSans-35\"/>\n      </g>\n     </g>\n    </g>\n    <g id=\"text_7\">\n     <!-- Day of month -->\n     <defs>\n      <path d=\"M 19.671875 64.796875 \nL 19.671875 8.109375 \nL 31.59375 8.109375 \nQ 46.6875 8.109375 53.6875 14.9375 \nQ 60.6875 21.78125 60.6875 36.53125 \nQ 60.6875 51.171875 53.6875 57.984375 \nQ 46.6875 64.796875 31.59375 64.796875 \nz\nM 9.8125 72.90625 \nL 30.078125 72.90625 \nQ 51.265625 72.90625 61.171875 64.09375 \nQ 71.09375 55.28125 71.09375 36.53125 \nQ 71.09375 17.671875 61.125 8.828125 \nQ 51.171875 0 30.078125 0 \nL 9.8125 0 \nz\n\" id=\"DejaVuSans-44\"/>\n      <path d=\"M 34.28125 27.484375 \nQ 23.390625 27.484375 19.1875 25 \nQ 14.984375 22.515625 14.984375 16.5 \nQ 14.984375 11.71875 18.140625 8.90625 \nQ 21.296875 6.109375 26.703125 6.109375 \nQ 34.1875 6.109375 38.703125 11.40625 \nQ 43.21875 16.703125 43.21875 25.484375 \nL 43.21875 27.484375 \nz\nM 52.203125 31.203125 \nL 52.203125 0 \nL 43.21875 0 \nL 43.21875 8.296875 \nQ 40.140625 3.328125 35.546875 0.953125 \nQ 30.953125 -1.421875 24.3125 -1.421875 \nQ 15.921875 -1.421875 10.953125 3.296875 \nQ 6 8.015625 6 15.921875 \nQ 6 25.140625 12.171875 29.828125 \nQ 18.359375 34.515625 30.609375 34.515625 \nL 43.21875 34.515625 \nL 43.21875 35.40625 \nQ 43.21875 41.609375 39.140625 45 \nQ 35.0625 48.390625 27.6875 48.390625 \nQ 23 48.390625 18.546875 47.265625 \nQ 14.109375 46.140625 10.015625 43.890625 \nL 10.015625 52.203125 \nQ 14.9375 54.109375 19.578125 55.046875 \nQ 24.21875 56 28.609375 56 \nQ 40.484375 56 46.34375 49.84375 \nQ 52.203125 43.703125 52.203125 31.203125 \nz\n\" id=\"DejaVuSans-61\"/>\n      <path d=\"M 32.171875 -5.078125 \nQ 28.375 -14.84375 24.75 -17.8125 \nQ 21.140625 -20.796875 15.09375 -20.796875 \nL 7.90625 -20.796875 \nL 7.90625 -13.28125 \nL 13.1875 -13.28125 \nQ 16.890625 -13.28125 18.9375 -11.515625 \nQ 21 -9.765625 23.484375 -3.21875 \nL 25.09375 0.875 \nL 2.984375 54.6875 \nL 12.5 54.6875 \nL 29.59375 11.921875 \nL 46.6875 54.6875 \nL 56.203125 54.6875 \nz\n\" id=\"DejaVuSans-79\"/>\n      <path id=\"DejaVuSans-20\"/>\n      <path d=\"M 30.609375 48.390625 \nQ 23.390625 48.390625 19.1875 42.75 \nQ 14.984375 37.109375 14.984375 27.296875 \nQ 14.984375 17.484375 19.15625 11.84375 \nQ 23.34375 6.203125 30.609375 6.203125 \nQ 37.796875 6.203125 41.984375 11.859375 \nQ 46.1875 17.53125 46.1875 27.296875 \nQ 46.1875 37.015625 41.984375 42.703125 \nQ 37.796875 48.390625 30.609375 48.390625 \nz\nM 30.609375 56 \nQ 42.328125 56 49.015625 48.375 \nQ 55.71875 40.765625 55.71875 27.296875 \nQ 55.71875 13.875 49.015625 6.21875 \nQ 42.328125 -1.421875 30.609375 -1.421875 \nQ 18.84375 -1.421875 12.171875 6.21875 \nQ 5.515625 13.875 5.515625 27.296875 \nQ 5.515625 40.765625 12.171875 48.375 \nQ 18.84375 56 30.609375 56 \nz\n\" id=\"DejaVuSans-6f\"/>\n      <path d=\"M 37.109375 75.984375 \nL 37.109375 68.5 \nL 28.515625 68.5 \nQ 23.6875 68.5 21.796875 66.546875 \nQ 19.921875 64.59375 19.921875 59.515625 \nL 19.921875 54.6875 \nL 34.71875 54.6875 \nL 34.71875 47.703125 \nL 19.921875 47.703125 \nL 19.921875 0 \nL 10.890625 0 \nL 10.890625 47.703125 \nL 2.296875 47.703125 \nL 2.296875 54.6875 \nL 10.890625 54.6875 \nL 10.890625 58.5 \nQ 10.890625 67.625 15.140625 71.796875 \nQ 19.390625 75.984375 28.609375 75.984375 \nz\n\" id=\"DejaVuSans-66\"/>\n      <path d=\"M 52 44.1875 \nQ 55.375 50.25 60.0625 53.125 \nQ 64.75 56 71.09375 56 \nQ 79.640625 56 84.28125 50.015625 \nQ 88.921875 44.046875 88.921875 33.015625 \nL 88.921875 0 \nL 79.890625 0 \nL 79.890625 32.71875 \nQ 79.890625 40.578125 77.09375 44.375 \nQ 74.3125 48.1875 68.609375 48.1875 \nQ 61.625 48.1875 57.5625 43.546875 \nQ 53.515625 38.921875 53.515625 30.90625 \nL 53.515625 0 \nL 44.484375 0 \nL 44.484375 32.71875 \nQ 44.484375 40.625 41.703125 44.40625 \nQ 38.921875 48.1875 33.109375 48.1875 \nQ 26.21875 48.1875 22.15625 43.53125 \nQ 18.109375 38.875 18.109375 30.90625 \nL 18.109375 0 \nL 9.078125 0 \nL 9.078125 54.6875 \nL 18.109375 54.6875 \nL 18.109375 46.1875 \nQ 21.1875 51.21875 25.484375 53.609375 \nQ 29.78125 56 35.6875 56 \nQ 41.65625 56 45.828125 52.96875 \nQ 50 49.953125 52 44.1875 \nz\n\" id=\"DejaVuSans-6d\"/>\n      <path d=\"M 54.890625 33.015625 \nL 54.890625 0 \nL 45.90625 0 \nL 45.90625 32.71875 \nQ 45.90625 40.484375 42.875 44.328125 \nQ 39.84375 48.1875 33.796875 48.1875 \nQ 26.515625 48.1875 22.3125 43.546875 \nQ 18.109375 38.921875 18.109375 30.90625 \nL 18.109375 0 \nL 9.078125 0 \nL 9.078125 54.6875 \nL 18.109375 54.6875 \nL 18.109375 46.1875 \nQ 21.34375 51.125 25.703125 53.5625 \nQ 30.078125 56 35.796875 56 \nQ 45.21875 56 50.046875 50.171875 \nQ 54.890625 44.34375 54.890625 33.015625 \nz\n\" id=\"DejaVuSans-6e\"/>\n      <path d=\"M 18.3125 70.21875 \nL 18.3125 54.6875 \nL 36.8125 54.6875 \nL 36.8125 47.703125 \nL 18.3125 47.703125 \nL 18.3125 18.015625 \nQ 18.3125 11.328125 20.140625 9.421875 \nQ 21.96875 7.515625 27.59375 7.515625 \nL 36.8125 7.515625 \nL 36.8125 0 \nL 27.59375 0 \nQ 17.1875 0 13.234375 3.875 \nQ 9.28125 7.765625 9.28125 18.015625 \nL 9.28125 47.703125 \nL 2.6875 47.703125 \nL 2.6875 54.6875 \nL 9.28125 54.6875 \nL 9.28125 70.21875 \nz\n\" id=\"DejaVuSans-74\"/>\n      <path d=\"M 54.890625 33.015625 \nL 54.890625 0 \nL 45.90625 0 \nL 45.90625 32.71875 \nQ 45.90625 40.484375 42.875 44.328125 \nQ 39.84375 48.1875 33.796875 48.1875 \nQ 26.515625 48.1875 22.3125 43.546875 \nQ 18.109375 38.921875 18.109375 30.90625 \nL 18.109375 0 \nL 9.078125 0 \nL 9.078125 75.984375 \nL 18.109375 75.984375 \nL 18.109375 46.1875 \nQ 21.34375 51.125 25.703125 53.5625 \nQ 30.078125 56 35.796875 56 \nQ 45.21875 56 50.046875 50.171875 \nQ 54.890625 44.34375 54.890625 33.015625 \nz\n\" id=\"DejaVuSans-68\"/>\n     </defs>\n     <g transform=\"translate(499.672656 440.992656)scale(0.15 -0.15)\">\n      <use xlink:href=\"#DejaVuSans-44\"/>\n      <use x=\"77.001953\" xlink:href=\"#DejaVuSans-61\"/>\n      <use x=\"138.28125\" xlink:href=\"#DejaVuSans-79\"/>\n      <use x=\"197.460938\" xlink:href=\"#DejaVuSans-20\"/>\n      <use x=\"229.248047\" xlink:href=\"#DejaVuSans-6f\"/>\n      <use x=\"290.429688\" xlink:href=\"#DejaVuSans-66\"/>\n      <use x=\"325.634766\" xlink:href=\"#DejaVuSans-20\"/>\n      <use x=\"357.421875\" xlink:href=\"#DejaVuSans-6d\"/>\n      <use x=\"454.833984\" xlink:href=\"#DejaVuSans-6f\"/>\n      <use x=\"516.015625\" xlink:href=\"#DejaVuSans-6e\"/>\n      <use x=\"579.394531\" xlink:href=\"#DejaVuSans-74\"/>\n      <use x=\"618.603516\" xlink:href=\"#DejaVuSans-68\"/>\n     </g>\n    </g>\n   </g>\n   <g id=\"matplotlib.axis_2\">\n    <g id=\"ytick_1\">\n     <g id=\"line2d_7\">\n      <defs>\n       <path d=\"M 0 0 \nL -3.5 0 \n\" id=\"m111412d14e\" style=\"stroke:#000000;stroke-width:0.8;\"/>\n      </defs>\n      <g>\n       <use style=\"stroke:#000000;stroke-width:0.8;\" x=\"48.620313\" xlink:href=\"#m111412d14e\" y=\"391.620511\"/>\n      </g>\n     </g>\n     <g id=\"text_8\">\n      <!-- 0.0 -->\n      <defs>\n       <path d=\"M 10.6875 12.40625 \nL 21 12.40625 \nL 21 0 \nL 10.6875 0 \nz\n\" id=\"DejaVuSans-2e\"/>\n      </defs>\n      <g transform=\"translate(25.717188 395.41973)scale(0.1 -0.1)\">\n       <use xlink:href=\"#DejaVuSans-30\"/>\n       <use x=\"63.623047\" xlink:href=\"#DejaVuSans-2e\"/>\n       <use x=\"95.410156\" xlink:href=\"#DejaVuSans-30\"/>\n      </g>\n     </g>\n    </g>\n    <g id=\"ytick_2\">\n     <g id=\"line2d_8\">\n      <g>\n       <use style=\"stroke:#000000;stroke-width:0.8;\" x=\"48.620313\" xlink:href=\"#m111412d14e\" y=\"322.435057\"/>\n      </g>\n     </g>\n     <g id=\"text_9\">\n      <!-- 0.2 -->\n      <g transform=\"translate(25.717188 326.234276)scale(0.1 -0.1)\">\n       <use xlink:href=\"#DejaVuSans-30\"/>\n       <use x=\"63.623047\" xlink:href=\"#DejaVuSans-2e\"/>\n       <use x=\"95.410156\" xlink:href=\"#DejaVuSans-32\"/>\n      </g>\n     </g>\n    </g>\n    <g id=\"ytick_3\">\n     <g id=\"line2d_9\">\n      <g>\n       <use style=\"stroke:#000000;stroke-width:0.8;\" x=\"48.620313\" xlink:href=\"#m111412d14e\" y=\"253.249602\"/>\n      </g>\n     </g>\n     <g id=\"text_10\">\n      <!-- 0.4 -->\n      <defs>\n       <path d=\"M 37.796875 64.3125 \nL 12.890625 25.390625 \nL 37.796875 25.390625 \nz\nM 35.203125 72.90625 \nL 47.609375 72.90625 \nL 47.609375 25.390625 \nL 58.015625 25.390625 \nL 58.015625 17.1875 \nL 47.609375 17.1875 \nL 47.609375 0 \nL 37.796875 0 \nL 37.796875 17.1875 \nL 4.890625 17.1875 \nL 4.890625 26.703125 \nz\n\" id=\"DejaVuSans-34\"/>\n      </defs>\n      <g transform=\"translate(25.717188 257.048821)scale(0.1 -0.1)\">\n       <use xlink:href=\"#DejaVuSans-30\"/>\n       <use x=\"63.623047\" xlink:href=\"#DejaVuSans-2e\"/>\n       <use x=\"95.410156\" xlink:href=\"#DejaVuSans-34\"/>\n      </g>\n     </g>\n    </g>\n    <g id=\"ytick_4\">\n     <g id=\"line2d_10\">\n      <g>\n       <use style=\"stroke:#000000;stroke-width:0.8;\" x=\"48.620313\" xlink:href=\"#m111412d14e\" y=\"184.064148\"/>\n      </g>\n     </g>\n     <g id=\"text_11\">\n      <!-- 0.6 -->\n      <defs>\n       <path d=\"M 33.015625 40.375 \nQ 26.375 40.375 22.484375 35.828125 \nQ 18.609375 31.296875 18.609375 23.390625 \nQ 18.609375 15.53125 22.484375 10.953125 \nQ 26.375 6.390625 33.015625 6.390625 \nQ 39.65625 6.390625 43.53125 10.953125 \nQ 47.40625 15.53125 47.40625 23.390625 \nQ 47.40625 31.296875 43.53125 35.828125 \nQ 39.65625 40.375 33.015625 40.375 \nz\nM 52.59375 71.296875 \nL 52.59375 62.3125 \nQ 48.875 64.0625 45.09375 64.984375 \nQ 41.3125 65.921875 37.59375 65.921875 \nQ 27.828125 65.921875 22.671875 59.328125 \nQ 17.53125 52.734375 16.796875 39.40625 \nQ 19.671875 43.65625 24.015625 45.921875 \nQ 28.375 48.1875 33.59375 48.1875 \nQ 44.578125 48.1875 50.953125 41.515625 \nQ 57.328125 34.859375 57.328125 23.390625 \nQ 57.328125 12.15625 50.6875 5.359375 \nQ 44.046875 -1.421875 33.015625 -1.421875 \nQ 20.359375 -1.421875 13.671875 8.265625 \nQ 6.984375 17.96875 6.984375 36.375 \nQ 6.984375 53.65625 15.1875 63.9375 \nQ 23.390625 74.21875 37.203125 74.21875 \nQ 40.921875 74.21875 44.703125 73.484375 \nQ 48.484375 72.75 52.59375 71.296875 \nz\n\" id=\"DejaVuSans-36\"/>\n      </defs>\n      <g transform=\"translate(25.717188 187.863366)scale(0.1 -0.1)\">\n       <use xlink:href=\"#DejaVuSans-30\"/>\n       <use x=\"63.623047\" xlink:href=\"#DejaVuSans-2e\"/>\n       <use x=\"95.410156\" xlink:href=\"#DejaVuSans-36\"/>\n      </g>\n     </g>\n    </g>\n    <g id=\"ytick_5\">\n     <g id=\"line2d_11\">\n      <g>\n       <use style=\"stroke:#000000;stroke-width:0.8;\" x=\"48.620313\" xlink:href=\"#m111412d14e\" y=\"114.878693\"/>\n      </g>\n     </g>\n     <g id=\"text_12\">\n      <!-- 0.8 -->\n      <defs>\n       <path d=\"M 31.78125 34.625 \nQ 24.75 34.625 20.71875 30.859375 \nQ 16.703125 27.09375 16.703125 20.515625 \nQ 16.703125 13.921875 20.71875 10.15625 \nQ 24.75 6.390625 31.78125 6.390625 \nQ 38.8125 6.390625 42.859375 10.171875 \nQ 46.921875 13.96875 46.921875 20.515625 \nQ 46.921875 27.09375 42.890625 30.859375 \nQ 38.875 34.625 31.78125 34.625 \nz\nM 21.921875 38.8125 \nQ 15.578125 40.375 12.03125 44.71875 \nQ 8.5 49.078125 8.5 55.328125 \nQ 8.5 64.0625 14.71875 69.140625 \nQ 20.953125 74.21875 31.78125 74.21875 \nQ 42.671875 74.21875 48.875 69.140625 \nQ 55.078125 64.0625 55.078125 55.328125 \nQ 55.078125 49.078125 51.53125 44.71875 \nQ 48 40.375 41.703125 38.8125 \nQ 48.828125 37.15625 52.796875 32.3125 \nQ 56.78125 27.484375 56.78125 20.515625 \nQ 56.78125 9.90625 50.3125 4.234375 \nQ 43.84375 -1.421875 31.78125 -1.421875 \nQ 19.734375 -1.421875 13.25 4.234375 \nQ 6.78125 9.90625 6.78125 20.515625 \nQ 6.78125 27.484375 10.78125 32.3125 \nQ 14.796875 37.15625 21.921875 38.8125 \nz\nM 18.3125 54.390625 \nQ 18.3125 48.734375 21.84375 45.5625 \nQ 25.390625 42.390625 31.78125 42.390625 \nQ 38.140625 42.390625 41.71875 45.5625 \nQ 45.3125 48.734375 45.3125 54.390625 \nQ 45.3125 60.0625 41.71875 63.234375 \nQ 38.140625 66.40625 31.78125 66.40625 \nQ 25.390625 66.40625 21.84375 63.234375 \nQ 18.3125 60.0625 18.3125 54.390625 \nz\n\" id=\"DejaVuSans-38\"/>\n      </defs>\n      <g transform=\"translate(25.717188 118.677912)scale(0.1 -0.1)\">\n       <use xlink:href=\"#DejaVuSans-30\"/>\n       <use x=\"63.623047\" xlink:href=\"#DejaVuSans-2e\"/>\n       <use x=\"95.410156\" xlink:href=\"#DejaVuSans-38\"/>\n      </g>\n     </g>\n    </g>\n    <g id=\"ytick_6\">\n     <g id=\"line2d_12\">\n      <g>\n       <use style=\"stroke:#000000;stroke-width:0.8;\" x=\"48.620313\" xlink:href=\"#m111412d14e\" y=\"45.693239\"/>\n      </g>\n     </g>\n     <g id=\"text_13\">\n      <!-- 1.0 -->\n      <g transform=\"translate(25.717188 49.492457)scale(0.1 -0.1)\">\n       <use xlink:href=\"#DejaVuSans-31\"/>\n       <use x=\"63.623047\" xlink:href=\"#DejaVuSans-2e\"/>\n       <use x=\"95.410156\" xlink:href=\"#DejaVuSans-30\"/>\n      </g>\n     </g>\n    </g>\n    <g id=\"text_14\">\n     <!-- Normalized average price -->\n     <defs>\n      <path d=\"M 9.8125 72.90625 \nL 23.09375 72.90625 \nL 55.421875 11.921875 \nL 55.421875 72.90625 \nL 64.984375 72.90625 \nL 64.984375 0 \nL 51.703125 0 \nL 19.390625 60.984375 \nL 19.390625 0 \nL 9.8125 0 \nz\n\" id=\"DejaVuSans-4e\"/>\n      <path d=\"M 41.109375 46.296875 \nQ 39.59375 47.171875 37.8125 47.578125 \nQ 36.03125 48 33.890625 48 \nQ 26.265625 48 22.1875 43.046875 \nQ 18.109375 38.09375 18.109375 28.8125 \nL 18.109375 0 \nL 9.078125 0 \nL 9.078125 54.6875 \nL 18.109375 54.6875 \nL 18.109375 46.1875 \nQ 20.953125 51.171875 25.484375 53.578125 \nQ 30.03125 56 36.53125 56 \nQ 37.453125 56 38.578125 55.875 \nQ 39.703125 55.765625 41.0625 55.515625 \nz\n\" id=\"DejaVuSans-72\"/>\n      <path d=\"M 9.421875 75.984375 \nL 18.40625 75.984375 \nL 18.40625 0 \nL 9.421875 0 \nz\n\" id=\"DejaVuSans-6c\"/>\n      <path d=\"M 9.421875 54.6875 \nL 18.40625 54.6875 \nL 18.40625 0 \nL 9.421875 0 \nz\nM 9.421875 75.984375 \nL 18.40625 75.984375 \nL 18.40625 64.59375 \nL 9.421875 64.59375 \nz\n\" id=\"DejaVuSans-69\"/>\n      <path d=\"M 5.515625 54.6875 \nL 48.1875 54.6875 \nL 48.1875 46.484375 \nL 14.40625 7.171875 \nL 48.1875 7.171875 \nL 48.1875 0 \nL 4.296875 0 \nL 4.296875 8.203125 \nL 38.09375 47.515625 \nL 5.515625 47.515625 \nz\n\" id=\"DejaVuSans-7a\"/>\n      <path d=\"M 56.203125 29.59375 \nL 56.203125 25.203125 \nL 14.890625 25.203125 \nQ 15.484375 15.921875 20.484375 11.0625 \nQ 25.484375 6.203125 34.421875 6.203125 \nQ 39.59375 6.203125 44.453125 7.46875 \nQ 49.3125 8.734375 54.109375 11.28125 \nL 54.109375 2.78125 \nQ 49.265625 0.734375 44.1875 -0.34375 \nQ 39.109375 -1.421875 33.890625 -1.421875 \nQ 20.796875 -1.421875 13.15625 6.1875 \nQ 5.515625 13.8125 5.515625 26.8125 \nQ 5.515625 40.234375 12.765625 48.109375 \nQ 20.015625 56 32.328125 56 \nQ 43.359375 56 49.78125 48.890625 \nQ 56.203125 41.796875 56.203125 29.59375 \nz\nM 47.21875 32.234375 \nQ 47.125 39.59375 43.09375 43.984375 \nQ 39.0625 48.390625 32.421875 48.390625 \nQ 24.90625 48.390625 20.390625 44.140625 \nQ 15.875 39.890625 15.1875 32.171875 \nz\n\" id=\"DejaVuSans-65\"/>\n      <path d=\"M 45.40625 46.390625 \nL 45.40625 75.984375 \nL 54.390625 75.984375 \nL 54.390625 0 \nL 45.40625 0 \nL 45.40625 8.203125 \nQ 42.578125 3.328125 38.25 0.953125 \nQ 33.9375 -1.421875 27.875 -1.421875 \nQ 17.96875 -1.421875 11.734375 6.484375 \nQ 5.515625 14.40625 5.515625 27.296875 \nQ 5.515625 40.1875 11.734375 48.09375 \nQ 17.96875 56 27.875 56 \nQ 33.9375 56 38.25 53.625 \nQ 42.578125 51.265625 45.40625 46.390625 \nz\nM 14.796875 27.296875 \nQ 14.796875 17.390625 18.875 11.75 \nQ 22.953125 6.109375 30.078125 6.109375 \nQ 37.203125 6.109375 41.296875 11.75 \nQ 45.40625 17.390625 45.40625 27.296875 \nQ 45.40625 37.203125 41.296875 42.84375 \nQ 37.203125 48.484375 30.078125 48.484375 \nQ 22.953125 48.484375 18.875 42.84375 \nQ 14.796875 37.203125 14.796875 27.296875 \nz\n\" id=\"DejaVuSans-64\"/>\n      <path d=\"M 2.984375 54.6875 \nL 12.5 54.6875 \nL 29.59375 8.796875 \nL 46.6875 54.6875 \nL 56.203125 54.6875 \nL 35.6875 0 \nL 23.484375 0 \nz\n\" id=\"DejaVuSans-76\"/>\n      <path d=\"M 45.40625 27.984375 \nQ 45.40625 37.75 41.375 43.109375 \nQ 37.359375 48.484375 30.078125 48.484375 \nQ 22.859375 48.484375 18.828125 43.109375 \nQ 14.796875 37.75 14.796875 27.984375 \nQ 14.796875 18.265625 18.828125 12.890625 \nQ 22.859375 7.515625 30.078125 7.515625 \nQ 37.359375 7.515625 41.375 12.890625 \nQ 45.40625 18.265625 45.40625 27.984375 \nz\nM 54.390625 6.78125 \nQ 54.390625 -7.171875 48.1875 -13.984375 \nQ 42 -20.796875 29.203125 -20.796875 \nQ 24.46875 -20.796875 20.265625 -20.09375 \nQ 16.0625 -19.390625 12.109375 -17.921875 \nL 12.109375 -9.1875 \nQ 16.0625 -11.328125 19.921875 -12.34375 \nQ 23.78125 -13.375 27.78125 -13.375 \nQ 36.625 -13.375 41.015625 -8.765625 \nQ 45.40625 -4.15625 45.40625 5.171875 \nL 45.40625 9.625 \nQ 42.625 4.78125 38.28125 2.390625 \nQ 33.9375 0 27.875 0 \nQ 17.828125 0 11.671875 7.65625 \nQ 5.515625 15.328125 5.515625 27.984375 \nQ 5.515625 40.671875 11.671875 48.328125 \nQ 17.828125 56 27.875 56 \nQ 33.9375 56 38.28125 53.609375 \nQ 42.625 51.21875 45.40625 46.390625 \nL 45.40625 54.6875 \nL 54.390625 54.6875 \nz\n\" id=\"DejaVuSans-67\"/>\n      <path d=\"M 18.109375 8.203125 \nL 18.109375 -20.796875 \nL 9.078125 -20.796875 \nL 9.078125 54.6875 \nL 18.109375 54.6875 \nL 18.109375 46.390625 \nQ 20.953125 51.265625 25.265625 53.625 \nQ 29.59375 56 35.59375 56 \nQ 45.5625 56 51.78125 48.09375 \nQ 58.015625 40.1875 58.015625 27.296875 \nQ 58.015625 14.40625 51.78125 6.484375 \nQ 45.5625 -1.421875 35.59375 -1.421875 \nQ 29.59375 -1.421875 25.265625 0.953125 \nQ 20.953125 3.328125 18.109375 8.203125 \nz\nM 48.6875 27.296875 \nQ 48.6875 37.203125 44.609375 42.84375 \nQ 40.53125 48.484375 33.40625 48.484375 \nQ 26.265625 48.484375 22.1875 42.84375 \nQ 18.109375 37.203125 18.109375 27.296875 \nQ 18.109375 17.390625 22.1875 11.75 \nQ 26.265625 6.109375 33.40625 6.109375 \nQ 40.53125 6.109375 44.609375 11.75 \nQ 48.6875 17.390625 48.6875 27.296875 \nz\n\" id=\"DejaVuSans-70\"/>\n      <path d=\"M 48.78125 52.59375 \nL 48.78125 44.1875 \nQ 44.96875 46.296875 41.140625 47.34375 \nQ 37.3125 48.390625 33.40625 48.390625 \nQ 24.65625 48.390625 19.8125 42.84375 \nQ 14.984375 37.3125 14.984375 27.296875 \nQ 14.984375 17.28125 19.8125 11.734375 \nQ 24.65625 6.203125 33.40625 6.203125 \nQ 37.3125 6.203125 41.140625 7.25 \nQ 44.96875 8.296875 48.78125 10.40625 \nL 48.78125 2.09375 \nQ 45.015625 0.34375 40.984375 -0.53125 \nQ 36.96875 -1.421875 32.421875 -1.421875 \nQ 20.0625 -1.421875 12.78125 6.34375 \nQ 5.515625 14.109375 5.515625 27.296875 \nQ 5.515625 40.671875 12.859375 48.328125 \nQ 20.21875 56 33.015625 56 \nQ 37.15625 56 41.109375 55.140625 \nQ 45.0625 54.296875 48.78125 52.59375 \nz\n\" id=\"DejaVuSans-63\"/>\n     </defs>\n     <g transform=\"translate(18.597656 315.459609)rotate(-90)scale(0.15 -0.15)\">\n      <use xlink:href=\"#DejaVuSans-4e\"/>\n      <use x=\"74.804688\" xlink:href=\"#DejaVuSans-6f\"/>\n      <use x=\"135.986328\" xlink:href=\"#DejaVuSans-72\"/>\n      <use x=\"177.083984\" xlink:href=\"#DejaVuSans-6d\"/>\n      <use x=\"274.496094\" xlink:href=\"#DejaVuSans-61\"/>\n      <use x=\"335.775391\" xlink:href=\"#DejaVuSans-6c\"/>\n      <use x=\"363.558594\" xlink:href=\"#DejaVuSans-69\"/>\n      <use x=\"391.341797\" xlink:href=\"#DejaVuSans-7a\"/>\n      <use x=\"443.832031\" xlink:href=\"#DejaVuSans-65\"/>\n      <use x=\"505.355469\" xlink:href=\"#DejaVuSans-64\"/>\n      <use x=\"568.832031\" xlink:href=\"#DejaVuSans-20\"/>\n      <use x=\"600.619141\" xlink:href=\"#DejaVuSans-61\"/>\n      <use x=\"661.898438\" xlink:href=\"#DejaVuSans-76\"/>\n      <use x=\"721.078125\" xlink:href=\"#DejaVuSans-65\"/>\n      <use x=\"782.601562\" xlink:href=\"#DejaVuSans-72\"/>\n      <use x=\"823.714844\" xlink:href=\"#DejaVuSans-61\"/>\n      <use x=\"884.994141\" xlink:href=\"#DejaVuSans-67\"/>\n      <use x=\"948.470703\" xlink:href=\"#DejaVuSans-65\"/>\n      <use x=\"1009.994141\" xlink:href=\"#DejaVuSans-20\"/>\n      <use x=\"1041.78125\" xlink:href=\"#DejaVuSans-70\"/>\n      <use x=\"1105.257812\" xlink:href=\"#DejaVuSans-72\"/>\n      <use x=\"1146.371094\" xlink:href=\"#DejaVuSans-69\"/>\n      <use x=\"1174.154297\" xlink:href=\"#DejaVuSans-63\"/>\n      <use x=\"1229.134766\" xlink:href=\"#DejaVuSans-65\"/>\n     </g>\n    </g>\n   </g>\n   <g id=\"line2d_13\">\n    <path clip-path=\"url(#pbcbaf9d3ed)\" d=\"M 94.274858 108.72236 \nL 132.320313 45.693239 \nL 170.365767 175.101867 \nL 208.411222 286.711575 \nL 246.456676 343.563424 \nL 360.59304 391.620511 \nL 398.638494 315.399248 \nL 436.683949 299.275519 \nL 474.729403 239.596783 \nL 512.774858 326.288 \nL 626.911222 240.643778 \nL 664.956676 83.280373 \nL 703.002131 161.576781 \nL 741.047585 259.908493 \n\" style=\"fill:none;stroke:#4682b4;stroke-linecap:square;stroke-width:1.5;\"/>\n    <defs>\n     <path d=\"M 0 3 \nC 0.795609 3 1.55874 2.683901 2.12132 2.12132 \nC 2.683901 1.55874 3 0.795609 3 0 \nC 3 -0.795609 2.683901 -1.55874 2.12132 -2.12132 \nC 1.55874 -2.683901 0.795609 -3 0 -3 \nC -0.795609 -3 -1.55874 -2.683901 -2.12132 -2.12132 \nC -2.683901 -1.55874 -3 -0.795609 -3 0 \nC -3 0.795609 -2.683901 1.55874 -2.12132 2.12132 \nC -1.55874 2.683901 -0.795609 3 0 3 \nz\n\" id=\"m5aa4cf4d71\" style=\"stroke:#4682b4;\"/>\n    </defs>\n    <g clip-path=\"url(#pbcbaf9d3ed)\">\n     <use style=\"fill:#4682b4;stroke:#4682b4;\" x=\"94.274858\" xlink:href=\"#m5aa4cf4d71\" y=\"108.72236\"/>\n     <use style=\"fill:#4682b4;stroke:#4682b4;\" x=\"132.320313\" xlink:href=\"#m5aa4cf4d71\" y=\"45.693239\"/>\n     <use style=\"fill:#4682b4;stroke:#4682b4;\" x=\"170.365767\" xlink:href=\"#m5aa4cf4d71\" y=\"175.101867\"/>\n     <use style=\"fill:#4682b4;stroke:#4682b4;\" x=\"208.411222\" xlink:href=\"#m5aa4cf4d71\" y=\"286.711575\"/>\n     <use style=\"fill:#4682b4;stroke:#4682b4;\" x=\"246.456676\" xlink:href=\"#m5aa4cf4d71\" y=\"343.563424\"/>\n     <use style=\"fill:#4682b4;stroke:#4682b4;\" x=\"360.59304\" xlink:href=\"#m5aa4cf4d71\" y=\"391.620511\"/>\n     <use style=\"fill:#4682b4;stroke:#4682b4;\" x=\"398.638494\" xlink:href=\"#m5aa4cf4d71\" y=\"315.399248\"/>\n     <use style=\"fill:#4682b4;stroke:#4682b4;\" x=\"436.683949\" xlink:href=\"#m5aa4cf4d71\" y=\"299.275519\"/>\n     <use style=\"fill:#4682b4;stroke:#4682b4;\" x=\"474.729403\" xlink:href=\"#m5aa4cf4d71\" y=\"239.596783\"/>\n     <use style=\"fill:#4682b4;stroke:#4682b4;\" x=\"512.774858\" xlink:href=\"#m5aa4cf4d71\" y=\"326.288\"/>\n     <use style=\"fill:#4682b4;stroke:#4682b4;\" x=\"626.911222\" xlink:href=\"#m5aa4cf4d71\" y=\"240.643778\"/>\n     <use style=\"fill:#4682b4;stroke:#4682b4;\" x=\"664.956676\" xlink:href=\"#m5aa4cf4d71\" y=\"83.280373\"/>\n     <use style=\"fill:#4682b4;stroke:#4682b4;\" x=\"703.002131\" xlink:href=\"#m5aa4cf4d71\" y=\"161.576781\"/>\n     <use style=\"fill:#4682b4;stroke:#4682b4;\" x=\"741.047585\" xlink:href=\"#m5aa4cf4d71\" y=\"259.908493\"/>\n    </g>\n   </g>\n   <g id=\"line2d_14\">\n    <path clip-path=\"url(#pbcbaf9d3ed)\" d=\"M 779.09304 252.091983 \nL 817.138494 254.039513 \nL 855.183949 255.987042 \nL 893.229403 257.934572 \nL 931.274858 259.882101 \nL 969.320312 261.829631 \nL 1007.365767 263.77716 \n\" style=\"fill:none;stroke:#00ff00;stroke-linecap:square;stroke-width:1.5;\"/>\n    <defs>\n     <path d=\"M 0 3 \nC 0.795609 3 1.55874 2.683901 2.12132 2.12132 \nC 2.683901 1.55874 3 0.795609 3 0 \nC 3 -0.795609 2.683901 -1.55874 2.12132 -2.12132 \nC 1.55874 -2.683901 0.795609 -3 0 -3 \nC -0.795609 -3 -1.55874 -2.683901 -2.12132 -2.12132 \nC -2.683901 -1.55874 -3 -0.795609 -3 0 \nC -3 0.795609 -2.683901 1.55874 -2.12132 2.12132 \nC -1.55874 2.683901 -0.795609 3 0 3 \nz\n\" id=\"mc93af8e6bf\" style=\"stroke:#00ff00;\"/>\n    </defs>\n    <g clip-path=\"url(#pbcbaf9d3ed)\">\n     <use style=\"fill:#00ff00;stroke:#00ff00;\" x=\"779.09304\" xlink:href=\"#mc93af8e6bf\" y=\"252.091983\"/>\n     <use style=\"fill:#00ff00;stroke:#00ff00;\" x=\"817.138494\" xlink:href=\"#mc93af8e6bf\" y=\"254.039513\"/>\n     <use style=\"fill:#00ff00;stroke:#00ff00;\" x=\"855.183949\" xlink:href=\"#mc93af8e6bf\" y=\"255.987042\"/>\n     <use style=\"fill:#00ff00;stroke:#00ff00;\" x=\"893.229403\" xlink:href=\"#mc93af8e6bf\" y=\"257.934572\"/>\n     <use style=\"fill:#00ff00;stroke:#00ff00;\" x=\"931.274858\" xlink:href=\"#mc93af8e6bf\" y=\"259.882101\"/>\n     <use style=\"fill:#00ff00;stroke:#00ff00;\" x=\"969.320312\" xlink:href=\"#mc93af8e6bf\" y=\"261.829631\"/>\n     <use style=\"fill:#00ff00;stroke:#00ff00;\" x=\"1007.365767\" xlink:href=\"#mc93af8e6bf\" y=\"263.77716\"/>\n    </g>\n   </g>\n   <g id=\"patch_3\">\n    <path d=\"M 48.620313 408.916875 \nL 48.620313 28.396875 \n\" style=\"fill:none;stroke:#000000;stroke-linecap:square;stroke-linejoin:miter;stroke-width:0.8;\"/>\n   </g>\n   <g id=\"patch_4\">\n    <path d=\"M 1053.020313 408.916875 \nL 1053.020313 28.396875 \n\" style=\"fill:none;stroke:#000000;stroke-linecap:square;stroke-linejoin:miter;stroke-width:0.8;\"/>\n   </g>\n   <g id=\"patch_5\">\n    <path d=\"M 48.620313 408.916875 \nL 1053.020313 408.916875 \n\" style=\"fill:none;stroke:#000000;stroke-linecap:square;stroke-linejoin:miter;stroke-width:0.8;\"/>\n   </g>\n   <g id=\"patch_6\">\n    <path d=\"M 48.620313 28.396875 \nL 1053.020313 28.396875 \n\" style=\"fill:none;stroke:#000000;stroke-linecap:square;stroke-linejoin:miter;stroke-width:0.8;\"/>\n   </g>\n   <g id=\"text_15\">\n    <!-- Normalized Average Price of Apple's Stock Value Time Series for March of 2021 -->\n    <defs>\n     <path d=\"M 34.1875 63.1875 \nL 20.796875 26.90625 \nL 47.609375 26.90625 \nz\nM 28.609375 72.90625 \nL 39.796875 72.90625 \nL 67.578125 0 \nL 57.328125 0 \nL 50.6875 18.703125 \nL 17.828125 18.703125 \nL 11.1875 0 \nL 0.78125 0 \nz\n\" id=\"DejaVuSans-41\"/>\n     <path d=\"M 19.671875 64.796875 \nL 19.671875 37.40625 \nL 32.078125 37.40625 \nQ 38.96875 37.40625 42.71875 40.96875 \nQ 46.484375 44.53125 46.484375 51.125 \nQ 46.484375 57.671875 42.71875 61.234375 \nQ 38.96875 64.796875 32.078125 64.796875 \nz\nM 9.8125 72.90625 \nL 32.078125 72.90625 \nQ 44.34375 72.90625 50.609375 67.359375 \nQ 56.890625 61.8125 56.890625 51.125 \nQ 56.890625 40.328125 50.609375 34.8125 \nQ 44.34375 29.296875 32.078125 29.296875 \nL 19.671875 29.296875 \nL 19.671875 0 \nL 9.8125 0 \nz\n\" id=\"DejaVuSans-50\"/>\n     <path d=\"M 17.921875 72.90625 \nL 17.921875 45.796875 \nL 9.625 45.796875 \nL 9.625 72.90625 \nz\n\" id=\"DejaVuSans-27\"/>\n     <path d=\"M 44.28125 53.078125 \nL 44.28125 44.578125 \nQ 40.484375 46.53125 36.375 47.5 \nQ 32.28125 48.484375 27.875 48.484375 \nQ 21.1875 48.484375 17.84375 46.4375 \nQ 14.5 44.390625 14.5 40.28125 \nQ 14.5 37.15625 16.890625 35.375 \nQ 19.28125 33.59375 26.515625 31.984375 \nL 29.59375 31.296875 \nQ 39.15625 29.25 43.1875 25.515625 \nQ 47.21875 21.78125 47.21875 15.09375 \nQ 47.21875 7.46875 41.1875 3.015625 \nQ 35.15625 -1.421875 24.609375 -1.421875 \nQ 20.21875 -1.421875 15.453125 -0.5625 \nQ 10.6875 0.296875 5.421875 2 \nL 5.421875 11.28125 \nQ 10.40625 8.6875 15.234375 7.390625 \nQ 20.0625 6.109375 24.8125 6.109375 \nQ 31.15625 6.109375 34.5625 8.28125 \nQ 37.984375 10.453125 37.984375 14.40625 \nQ 37.984375 18.0625 35.515625 20.015625 \nQ 33.0625 21.96875 24.703125 23.78125 \nL 21.578125 24.515625 \nQ 13.234375 26.265625 9.515625 29.90625 \nQ 5.8125 33.546875 5.8125 39.890625 \nQ 5.8125 47.609375 11.28125 51.796875 \nQ 16.75 56 26.8125 56 \nQ 31.78125 56 36.171875 55.265625 \nQ 40.578125 54.546875 44.28125 53.078125 \nz\n\" id=\"DejaVuSans-73\"/>\n     <path d=\"M 53.515625 70.515625 \nL 53.515625 60.890625 \nQ 47.90625 63.578125 42.921875 64.890625 \nQ 37.9375 66.21875 33.296875 66.21875 \nQ 25.25 66.21875 20.875 63.09375 \nQ 16.5 59.96875 16.5 54.203125 \nQ 16.5 49.359375 19.40625 46.890625 \nQ 22.3125 44.4375 30.421875 42.921875 \nL 36.375 41.703125 \nQ 47.40625 39.59375 52.65625 34.296875 \nQ 57.90625 29 57.90625 20.125 \nQ 57.90625 9.515625 50.796875 4.046875 \nQ 43.703125 -1.421875 29.984375 -1.421875 \nQ 24.8125 -1.421875 18.96875 -0.25 \nQ 13.140625 0.921875 6.890625 3.21875 \nL 6.890625 13.375 \nQ 12.890625 10.015625 18.65625 8.296875 \nQ 24.421875 6.59375 29.984375 6.59375 \nQ 38.421875 6.59375 43.015625 9.90625 \nQ 47.609375 13.234375 47.609375 19.390625 \nQ 47.609375 24.75 44.3125 27.78125 \nQ 41.015625 30.8125 33.5 32.328125 \nL 27.484375 33.5 \nQ 16.453125 35.6875 11.515625 40.375 \nQ 6.59375 45.0625 6.59375 53.421875 \nQ 6.59375 63.09375 13.40625 68.65625 \nQ 20.21875 74.21875 32.171875 74.21875 \nQ 37.3125 74.21875 42.625 73.28125 \nQ 47.953125 72.359375 53.515625 70.515625 \nz\n\" id=\"DejaVuSans-53\"/>\n     <path d=\"M 9.078125 75.984375 \nL 18.109375 75.984375 \nL 18.109375 31.109375 \nL 44.921875 54.6875 \nL 56.390625 54.6875 \nL 27.390625 29.109375 \nL 57.625 0 \nL 45.90625 0 \nL 18.109375 26.703125 \nL 18.109375 0 \nL 9.078125 0 \nz\n\" id=\"DejaVuSans-6b\"/>\n     <path d=\"M 28.609375 0 \nL 0.78125 72.90625 \nL 11.078125 72.90625 \nL 34.1875 11.53125 \nL 57.328125 72.90625 \nL 67.578125 72.90625 \nL 39.796875 0 \nz\n\" id=\"DejaVuSans-56\"/>\n     <path d=\"M 8.5 21.578125 \nL 8.5 54.6875 \nL 17.484375 54.6875 \nL 17.484375 21.921875 \nQ 17.484375 14.15625 20.5 10.265625 \nQ 23.53125 6.390625 29.59375 6.390625 \nQ 36.859375 6.390625 41.078125 11.03125 \nQ 45.3125 15.671875 45.3125 23.6875 \nL 45.3125 54.6875 \nL 54.296875 54.6875 \nL 54.296875 0 \nL 45.3125 0 \nL 45.3125 8.40625 \nQ 42.046875 3.421875 37.71875 1 \nQ 33.40625 -1.421875 27.6875 -1.421875 \nQ 18.265625 -1.421875 13.375 4.4375 \nQ 8.5 10.296875 8.5 21.578125 \nz\nM 31.109375 56 \nz\n\" id=\"DejaVuSans-75\"/>\n     <path d=\"M -0.296875 72.90625 \nL 61.375 72.90625 \nL 61.375 64.59375 \nL 35.5 64.59375 \nL 35.5 0 \nL 25.59375 0 \nL 25.59375 64.59375 \nL -0.296875 64.59375 \nz\n\" id=\"DejaVuSans-54\"/>\n     <path d=\"M 9.8125 72.90625 \nL 24.515625 72.90625 \nL 43.109375 23.296875 \nL 61.8125 72.90625 \nL 76.515625 72.90625 \nL 76.515625 0 \nL 66.890625 0 \nL 66.890625 64.015625 \nL 48.09375 14.015625 \nL 38.1875 14.015625 \nL 19.390625 64.015625 \nL 19.390625 0 \nL 9.8125 0 \nz\n\" id=\"DejaVuSans-4d\"/>\n    </defs>\n    <g transform=\"translate(152.548437 22.396875)scale(0.2 -0.2)\">\n     <use xlink:href=\"#DejaVuSans-4e\"/>\n     <use x=\"74.804688\" xlink:href=\"#DejaVuSans-6f\"/>\n     <use x=\"135.986328\" xlink:href=\"#DejaVuSans-72\"/>\n     <use x=\"177.083984\" xlink:href=\"#DejaVuSans-6d\"/>\n     <use x=\"274.496094\" xlink:href=\"#DejaVuSans-61\"/>\n     <use x=\"335.775391\" xlink:href=\"#DejaVuSans-6c\"/>\n     <use x=\"363.558594\" xlink:href=\"#DejaVuSans-69\"/>\n     <use x=\"391.341797\" xlink:href=\"#DejaVuSans-7a\"/>\n     <use x=\"443.832031\" xlink:href=\"#DejaVuSans-65\"/>\n     <use x=\"505.355469\" xlink:href=\"#DejaVuSans-64\"/>\n     <use x=\"568.832031\" xlink:href=\"#DejaVuSans-20\"/>\n     <use x=\"600.619141\" xlink:href=\"#DejaVuSans-41\"/>\n     <use x=\"668.949219\" xlink:href=\"#DejaVuSans-76\"/>\n     <use x=\"728.128906\" xlink:href=\"#DejaVuSans-65\"/>\n     <use x=\"789.652344\" xlink:href=\"#DejaVuSans-72\"/>\n     <use x=\"830.765625\" xlink:href=\"#DejaVuSans-61\"/>\n     <use x=\"892.044922\" xlink:href=\"#DejaVuSans-67\"/>\n     <use x=\"955.521484\" xlink:href=\"#DejaVuSans-65\"/>\n     <use x=\"1017.044922\" xlink:href=\"#DejaVuSans-20\"/>\n     <use x=\"1048.832031\" xlink:href=\"#DejaVuSans-50\"/>\n     <use x=\"1109.119141\" xlink:href=\"#DejaVuSans-72\"/>\n     <use x=\"1150.232422\" xlink:href=\"#DejaVuSans-69\"/>\n     <use x=\"1178.015625\" xlink:href=\"#DejaVuSans-63\"/>\n     <use x=\"1232.996094\" xlink:href=\"#DejaVuSans-65\"/>\n     <use x=\"1294.519531\" xlink:href=\"#DejaVuSans-20\"/>\n     <use x=\"1326.306641\" xlink:href=\"#DejaVuSans-6f\"/>\n     <use x=\"1387.488281\" xlink:href=\"#DejaVuSans-66\"/>\n     <use x=\"1422.693359\" xlink:href=\"#DejaVuSans-20\"/>\n     <use x=\"1454.480469\" xlink:href=\"#DejaVuSans-41\"/>\n     <use x=\"1522.888672\" xlink:href=\"#DejaVuSans-70\"/>\n     <use x=\"1586.365234\" xlink:href=\"#DejaVuSans-70\"/>\n     <use x=\"1649.841797\" xlink:href=\"#DejaVuSans-6c\"/>\n     <use x=\"1677.625\" xlink:href=\"#DejaVuSans-65\"/>\n     <use x=\"1739.148438\" xlink:href=\"#DejaVuSans-27\"/>\n     <use x=\"1766.638672\" xlink:href=\"#DejaVuSans-73\"/>\n     <use x=\"1818.738281\" xlink:href=\"#DejaVuSans-20\"/>\n     <use x=\"1850.525391\" xlink:href=\"#DejaVuSans-53\"/>\n     <use x=\"1914.001953\" xlink:href=\"#DejaVuSans-74\"/>\n     <use x=\"1953.210938\" xlink:href=\"#DejaVuSans-6f\"/>\n     <use x=\"2014.392578\" xlink:href=\"#DejaVuSans-63\"/>\n     <use x=\"2069.373047\" xlink:href=\"#DejaVuSans-6b\"/>\n     <use x=\"2127.283203\" xlink:href=\"#DejaVuSans-20\"/>\n     <use x=\"2159.070312\" xlink:href=\"#DejaVuSans-56\"/>\n     <use x=\"2227.369141\" xlink:href=\"#DejaVuSans-61\"/>\n     <use x=\"2288.648438\" xlink:href=\"#DejaVuSans-6c\"/>\n     <use x=\"2316.431641\" xlink:href=\"#DejaVuSans-75\"/>\n     <use x=\"2379.810547\" xlink:href=\"#DejaVuSans-65\"/>\n     <use x=\"2441.333984\" xlink:href=\"#DejaVuSans-20\"/>\n     <use x=\"2473.121094\" xlink:href=\"#DejaVuSans-54\"/>\n     <use x=\"2534.158203\" xlink:href=\"#DejaVuSans-69\"/>\n     <use x=\"2561.941406\" xlink:href=\"#DejaVuSans-6d\"/>\n     <use x=\"2659.353516\" xlink:href=\"#DejaVuSans-65\"/>\n     <use x=\"2720.876953\" xlink:href=\"#DejaVuSans-20\"/>\n     <use x=\"2752.664062\" xlink:href=\"#DejaVuSans-53\"/>\n     <use x=\"2816.140625\" xlink:href=\"#DejaVuSans-65\"/>\n     <use x=\"2877.664062\" xlink:href=\"#DejaVuSans-72\"/>\n     <use x=\"2918.777344\" xlink:href=\"#DejaVuSans-69\"/>\n     <use x=\"2946.560547\" xlink:href=\"#DejaVuSans-65\"/>\n     <use x=\"3008.083984\" xlink:href=\"#DejaVuSans-73\"/>\n     <use x=\"3060.183594\" xlink:href=\"#DejaVuSans-20\"/>\n     <use x=\"3091.970703\" xlink:href=\"#DejaVuSans-66\"/>\n     <use x=\"3127.175781\" xlink:href=\"#DejaVuSans-6f\"/>\n     <use x=\"3188.357422\" xlink:href=\"#DejaVuSans-72\"/>\n     <use x=\"3229.470703\" xlink:href=\"#DejaVuSans-20\"/>\n     <use x=\"3261.257812\" xlink:href=\"#DejaVuSans-4d\"/>\n     <use x=\"3347.537109\" xlink:href=\"#DejaVuSans-61\"/>\n     <use x=\"3408.816406\" xlink:href=\"#DejaVuSans-72\"/>\n     <use x=\"3449.898438\" xlink:href=\"#DejaVuSans-63\"/>\n     <use x=\"3504.878906\" xlink:href=\"#DejaVuSans-68\"/>\n     <use x=\"3568.257812\" xlink:href=\"#DejaVuSans-20\"/>\n     <use x=\"3600.044922\" xlink:href=\"#DejaVuSans-6f\"/>\n     <use x=\"3661.226562\" xlink:href=\"#DejaVuSans-66\"/>\n     <use x=\"3696.431641\" xlink:href=\"#DejaVuSans-20\"/>\n     <use x=\"3728.21875\" xlink:href=\"#DejaVuSans-32\"/>\n     <use x=\"3791.841797\" xlink:href=\"#DejaVuSans-30\"/>\n     <use x=\"3855.464844\" xlink:href=\"#DejaVuSans-32\"/>\n     <use x=\"3919.087891\" xlink:href=\"#DejaVuSans-31\"/>\n    </g>\n   </g>\n   <g id=\"legend_1\">\n    <g id=\"patch_7\">\n     <path d=\"M 930.98125 65.753125 \nL 1046.020313 65.753125 \nQ 1048.020313 65.753125 1048.020313 63.753125 \nL 1048.020313 35.396875 \nQ 1048.020313 33.396875 1046.020313 33.396875 \nL 930.98125 33.396875 \nQ 928.98125 33.396875 928.98125 35.396875 \nL 928.98125 63.753125 \nQ 928.98125 65.753125 930.98125 65.753125 \nz\n\" style=\"fill:#ffffff;opacity:0.8;stroke:#cccccc;stroke-linejoin:miter;\"/>\n    </g>\n    <g id=\"line2d_15\">\n     <path d=\"M 932.98125 41.495312 \nL 952.98125 41.495312 \n\" style=\"fill:none;stroke:#4682b4;stroke-linecap:square;stroke-width:1.5;\"/>\n    </g>\n    <g id=\"line2d_16\">\n     <g>\n      <use style=\"fill:#4682b4;stroke:#4682b4;\" x=\"942.98125\" xlink:href=\"#m5aa4cf4d71\" y=\"41.495312\"/>\n     </g>\n    </g>\n    <g id=\"text_16\">\n     <!-- Real values -->\n     <defs>\n      <path d=\"M 44.390625 34.1875 \nQ 47.5625 33.109375 50.5625 29.59375 \nQ 53.5625 26.078125 56.59375 19.921875 \nL 66.609375 0 \nL 56 0 \nL 46.6875 18.703125 \nQ 43.0625 26.03125 39.671875 28.421875 \nQ 36.28125 30.8125 30.421875 30.8125 \nL 19.671875 30.8125 \nL 19.671875 0 \nL 9.8125 0 \nL 9.8125 72.90625 \nL 32.078125 72.90625 \nQ 44.578125 72.90625 50.734375 67.671875 \nQ 56.890625 62.453125 56.890625 51.90625 \nQ 56.890625 45.015625 53.6875 40.46875 \nQ 50.484375 35.9375 44.390625 34.1875 \nz\nM 19.671875 64.796875 \nL 19.671875 38.921875 \nL 32.078125 38.921875 \nQ 39.203125 38.921875 42.84375 42.21875 \nQ 46.484375 45.515625 46.484375 51.90625 \nQ 46.484375 58.296875 42.84375 61.546875 \nQ 39.203125 64.796875 32.078125 64.796875 \nz\n\" id=\"DejaVuSans-52\"/>\n     </defs>\n     <g transform=\"translate(960.98125 44.995312)scale(0.1 -0.1)\">\n      <use xlink:href=\"#DejaVuSans-52\"/>\n      <use x=\"69.419922\" xlink:href=\"#DejaVuSans-65\"/>\n      <use x=\"130.943359\" xlink:href=\"#DejaVuSans-61\"/>\n      <use x=\"192.222656\" xlink:href=\"#DejaVuSans-6c\"/>\n      <use x=\"220.005859\" xlink:href=\"#DejaVuSans-20\"/>\n      <use x=\"251.792969\" xlink:href=\"#DejaVuSans-76\"/>\n      <use x=\"310.972656\" xlink:href=\"#DejaVuSans-61\"/>\n      <use x=\"372.251953\" xlink:href=\"#DejaVuSans-6c\"/>\n      <use x=\"400.035156\" xlink:href=\"#DejaVuSans-75\"/>\n      <use x=\"463.414062\" xlink:href=\"#DejaVuSans-65\"/>\n      <use x=\"524.9375\" xlink:href=\"#DejaVuSans-73\"/>\n     </g>\n    </g>\n    <g id=\"line2d_17\">\n     <path d=\"M 932.98125 56.173437 \nL 952.98125 56.173437 \n\" style=\"fill:none;stroke:#00ff00;stroke-linecap:square;stroke-width:1.5;\"/>\n    </g>\n    <g id=\"line2d_18\">\n     <g>\n      <use style=\"fill:#00ff00;stroke:#00ff00;\" x=\"942.98125\" xlink:href=\"#mc93af8e6bf\" y=\"56.173437\"/>\n     </g>\n    </g>\n    <g id=\"text_17\">\n     <!-- Predicted values -->\n     <g transform=\"translate(960.98125 59.673437)scale(0.1 -0.1)\">\n      <use xlink:href=\"#DejaVuSans-50\"/>\n      <use x=\"60.287109\" xlink:href=\"#DejaVuSans-72\"/>\n      <use x=\"101.369141\" xlink:href=\"#DejaVuSans-65\"/>\n      <use x=\"162.892578\" xlink:href=\"#DejaVuSans-64\"/>\n      <use x=\"226.369141\" xlink:href=\"#DejaVuSans-69\"/>\n      <use x=\"254.152344\" xlink:href=\"#DejaVuSans-63\"/>\n      <use x=\"309.132812\" xlink:href=\"#DejaVuSans-74\"/>\n      <use x=\"348.341797\" xlink:href=\"#DejaVuSans-65\"/>\n      <use x=\"409.865234\" xlink:href=\"#DejaVuSans-64\"/>\n      <use x=\"473.341797\" xlink:href=\"#DejaVuSans-20\"/>\n      <use x=\"505.128906\" xlink:href=\"#DejaVuSans-76\"/>\n      <use x=\"564.308594\" xlink:href=\"#DejaVuSans-61\"/>\n      <use x=\"625.587891\" xlink:href=\"#DejaVuSans-6c\"/>\n      <use x=\"653.371094\" xlink:href=\"#DejaVuSans-75\"/>\n      <use x=\"716.75\" xlink:href=\"#DejaVuSans-65\"/>\n      <use x=\"778.273438\" xlink:href=\"#DejaVuSans-73\"/>\n     </g>\n    </g>\n   </g>\n  </g>\n </g>\n <defs>\n  <clipPath id=\"pbcbaf9d3ed\">\n   <rect height=\"380.52\" width=\"1004.4\" x=\"48.620313\" y=\"28.396875\"/>\n  </clipPath>\n </defs>\n</svg>\n",
      "image/png": "[encoded data removed]"
     },
     "metadata": {
      "needs_background": "light"
     }
    }
   ],
   "source": [
    "import matplotlib.pyplot as plt\n",
    "fig = plt.figure(figsize=(18,7))\n",
    "plt.plot(dfp.index, dfp.y, marker='o', color='steelblue', label=\"Real values\")\n",
    "plt.plot(predp.index, predp.yhat, marker='o', color='lime', label=\"Predicted values\")\n",
    "\n",
    "plt.legend(loc='best')\n",
    "\n",
    "plt.title(\"Normalized Average Price of Apple's Stock Value Time Series for March of 2021\", fontdict = {'fontsize': '20',\n",
    " 'fontweight' : '300',\n",
    " 'verticalalignment': 'baseline'})\n",
    "plt.ylabel('Normalized average price', fontdict = {'fontsize': '15'})\n",
    "plt.xlabel('Day of month', fontdict = {'fontsize': '15'})\n",
    "\n",
    "\n",
    "\n",
    "plt.show()\n",
    "\n"
   ]
  },
  {
   "source": [
    "# SoaMFlow\n",
    "\n",
    "Putting all together with SoaMFlow.\n",
    "\n",
    "### WORK IN PROGRESS..."
   ],
   "cell_type": "markdown",
   "metadata": {}
  },
  {
   "cell_type": "code",
   "execution_count": 112,
   "metadata": {},
   "outputs": [],
   "source": [
    "from soam.core import SoamFlow\n",
    "from prefect import task"
   ]
  },
  {
   "cell_type": "code",
   "execution_count": 113,
   "metadata": {},
   "outputs": [],
   "source": [
    "@task\n",
    "def load_df(df):\n",
    "    df.to_csv(\"hola.csv\")"
   ]
  },
  {
   "cell_type": "code",
   "execution_count": 114,
   "metadata": {},
   "outputs": [],
   "source": [
    "with SoamFlow(name=\"test\") as test:\n",
    "    df = extractor(build_query_kwargs)\n",
    "    df = ts(data)\n",
    "    load_df(df)"
   ]
  },
  {
   "cell_type": "code",
   "execution_count": 115,
   "metadata": {},
   "outputs": [
    {
     "output_type": "stream",
     "name": "stdout",
     "text": [
      "[2021-03-30 09:36:02-0300] INFO - prefect.FlowRunner | Beginning Flow run for 'test'\n",
      "INFO:prefect.FlowRunner:Beginning Flow run for 'test'\n",
      "[2021-03-30 09:36:02-0300] INFO - prefect.TaskRunner | Task 'TimeSeriesExtractor': Starting task run...\n",
      "INFO:prefect.TaskRunner:Task 'TimeSeriesExtractor': Starting task run...\n",
      "[2021-03-30 09:36:05-0300] INFO - prefect.TaskRunner | Task 'TimeSeriesExtractor': Finished task run for task with final state: 'Success'\n",
      "INFO:prefect.TaskRunner:Task 'TimeSeriesExtractor': Finished task run for task with final state: 'Success'\n",
      "[2021-03-30 09:36:05-0300] INFO - prefect.TaskRunner | Task 'Transformer': Starting task run...\n",
      "INFO:prefect.TaskRunner:Task 'Transformer': Starting task run...\n",
      "[2021-03-30 09:36:05-0300] INFO - prefect.TaskRunner | Task 'Transformer': Finished task run for task with final state: 'Success'\n",
      "INFO:prefect.TaskRunner:Task 'Transformer': Finished task run for task with final state: 'Success'\n",
      "[2021-03-30 09:36:05-0300] INFO - prefect.TaskRunner | Task 'load_df': Starting task run...\n",
      "INFO:prefect.TaskRunner:Task 'load_df': Starting task run...\n",
      "[2021-03-30 09:36:05-0300] ERROR - prefect.TaskRunner | Unexpected error: AttributeError(\"'tuple' object has no attribute 'to_csv'\")\n",
      "Traceback (most recent call last):\n",
      "  File \"/home/scafati98/MUTT/soam/quickstart_env/lib/python3.8/site-packages/prefect/engine/runner.py\", line 48, in inner\n",
      "    new_state = method(self, state, *args, **kwargs)\n",
      "  File \"/home/scafati98/MUTT/soam/quickstart_env/lib/python3.8/site-packages/prefect/engine/task_runner.py\", line 865, in get_task_run_state\n",
      "    value = prefect.utilities.executors.run_task_with_timeout(\n",
      "  File \"/home/scafati98/MUTT/soam/quickstart_env/lib/python3.8/site-packages/prefect/utilities/executors.py\", line 299, in run_task_with_timeout\n",
      "    return task.run(*args, **kwargs)  # type: ignore\n",
      "  File \"<ipython-input-113-580bcac43fd2>\", line 3, in load_df\n",
      "    df.to_csv(\"hola.csv\")\n",
      "AttributeError: 'tuple' object has no attribute 'to_csv'\n",
      "ERROR:prefect.TaskRunner:Unexpected error: AttributeError(\"'tuple' object has no attribute 'to_csv'\")\n",
      "Traceback (most recent call last):\n",
      "  File \"/home/scafati98/MUTT/soam/quickstart_env/lib/python3.8/site-packages/prefect/engine/runner.py\", line 48, in inner\n",
      "    new_state = method(self, state, *args, **kwargs)\n",
      "  File \"/home/scafati98/MUTT/soam/quickstart_env/lib/python3.8/site-packages/prefect/engine/task_runner.py\", line 865, in get_task_run_state\n",
      "    value = prefect.utilities.executors.run_task_with_timeout(\n",
      "  File \"/home/scafati98/MUTT/soam/quickstart_env/lib/python3.8/site-packages/prefect/utilities/executors.py\", line 299, in run_task_with_timeout\n",
      "    return task.run(*args, **kwargs)  # type: ignore\n",
      "  File \"<ipython-input-113-580bcac43fd2>\", line 3, in load_df\n",
      "    df.to_csv(\"hola.csv\")\n",
      "AttributeError: 'tuple' object has no attribute 'to_csv'\n",
      "[2021-03-30 09:36:05-0300] INFO - prefect.TaskRunner | Task 'load_df': Finished task run for task with final state: 'Failed'\n",
      "INFO:prefect.TaskRunner:Task 'load_df': Finished task run for task with final state: 'Failed'\n",
      "[2021-03-30 09:36:05-0300] INFO - prefect.FlowRunner | Flow run FAILED: some reference tasks failed.\n",
      "INFO:prefect.FlowRunner:Flow run FAILED: some reference tasks failed.\n"
     ]
    },
    {
     "output_type": "execute_result",
     "data": {
      "text/plain": [
       "<Failed: \"Some reference tasks failed.\">"
      ]
     },
     "metadata": {},
     "execution_count": 115
    }
   ],
   "source": [
    "test.run()"
   ]
  },
  {
   "cell_type": "code",
   "execution_count": null,
   "metadata": {},
   "outputs": [],
   "source": []
  }
 ]
}