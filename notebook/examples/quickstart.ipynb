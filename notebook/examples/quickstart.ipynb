{
 "metadata": {
  "language_info": {
   "codemirror_mode": {
    "name": "ipython",
    "version": 3
   },
   "file_extension": ".py",
   "mimetype": "text/x-python",
   "name": "python",
   "nbconvert_exporter": "python",
   "pygments_lexer": "ipython3",
   "version": "3.8.2-final"
  },
  "orig_nbformat": 2,
  "kernelspec": {
   "name": "python38264bitsoampipenvd935c3e85a8642968f9f9240671058a4",
   "display_name": "Python 3.8.2 64-bit ('soam': pipenv)",
   "language": "python"
  }
 },
 "nbformat": 4,
 "nbformat_minor": 2,
 "cells": [
  {
   "source": [
    "# SOAM Quickstart\n",
    "How to make an end to end project using SOAM modules and tools.\n",
    "\n",
    "![soam_pipeline](documentation/images/SoaM_diagram.png)\n",
    "\n",
    "\n",
    "This library pipeline supports any data source.\n",
    "The process is structured in different stages:\n",
    "* Extraction: manages the connection with the database, the time granularity and the aggregation level of the input data.\n",
    "* Preprocessing: lets select among out of the box tools to perform standard tasks as normalization or fill nan values.\n",
    "* Forecasting: fits a model and predict results.\n",
    "* Postprocessing: modifies the results based on business/real information or create analysis with the predicted values,\n",
    " such as an anomaly detection.\n"
   ],
   "cell_type": "markdown",
   "metadata": {}
  },
  {
   "source": [
    "## Extraction"
   ],
   "cell_type": "markdown",
   "metadata": {}
  },
  {
   "source": [
    "This stage extracts data from the needed sources to build the condensed dataset for the next steps. This tends to be project dependent."
   ],
   "cell_type": "markdown",
   "metadata": {}
  },
  {
   "source": [
    "### Establish the connection with the database"
   ],
   "cell_type": "markdown",
   "metadata": {}
  },
  {
   "cell_type": "code",
   "execution_count": 32,
   "metadata": {},
   "outputs": [],
   "source": [
    "from soam.workflow.time_series_extractor import TimeSeriesExtractor\n",
    "from muttlib.dbconn import get_client"
   ]
  },
  {
   "cell_type": "code",
   "execution_count": 67,
   "metadata": {},
   "outputs": [],
   "source": [
    "pg_cfg = {\n",
    "    \"host\": \"localhost\",\n",
    "    \"port\": 5432,\n",
    "    \"db_type\": \"postgres\",\n",
    "    \"username\": \"mutt\",\n",
    "    \"password\": \"mutt\",\n",
    "    \"database\": \"sqlalchemy\"\n",
    "}"
   ]
  },
  {
   "cell_type": "code",
   "execution_count": 68,
   "metadata": {},
   "outputs": [],
   "source": [
    "pg_client = get_client(pg_cfg)[1]"
   ]
  },
  {
   "cell_type": "code",
   "execution_count": 69,
   "metadata": {},
   "outputs": [
    {
     "output_type": "execute_result",
     "data": {
      "text/plain": [
       "<muttlib.dbconn.postgres.PgClient at 0x7f1969940040>"
      ]
     },
     "metadata": {},
     "execution_count": 69
    }
   ],
   "source": [
    "pg_client"
   ]
  },
  {
   "cell_type": "code",
   "execution_count": 70,
   "metadata": {},
   "outputs": [
    {
     "output_type": "execute_result",
     "data": {
      "text/plain": [
       "<muttlib.dbconn.postgres.PgClient at 0x7f1969940040>"
      ]
     },
     "metadata": {},
     "execution_count": 70
    }
   ],
   "source": [
    "pg_client"
   ]
  },
  {
   "cell_type": "code",
   "execution_count": 71,
   "metadata": {},
   "outputs": [],
   "source": [
    "Extractor = TimeSeriesExtractor(db=pg_client, table_name='stocks_valuation')"
   ]
  },
  {
   "source": [
    "#### Then it converts the full dataset to the desired time granularity and aggregation level by some categorical attribute/s and return it as a pandas data frame.\n",
    "In this case we define the following: <br>\n",
    "- Time granularity: <br>\n",
    "     - Start date: 2021-03-01 <br>\n",
    "     - End date: 2021-03-20\n",
    "- Aggregation Level:\n",
    "    - Just stay with Apple's (AAPL) stock information."
   ],
   "cell_type": "markdown",
   "metadata": {}
  },
  {
   "cell_type": "code",
   "execution_count": 94,
   "metadata": {},
   "outputs": [
    {
     "output_type": "execute_result",
     "data": {
      "text/plain": [
       "    index        date symbol  avg_num_trades  avg_price\n",
       "0       0  2021-03-18   AAPL    84353.996528  121.75000\n",
       "1       1  2021-03-17   AAPL    77730.997222  124.09795\n",
       "2       2  2021-03-16   AAPL    80019.400000  125.96750\n",
       "3       3  2021-03-15   AAPL    64298.996528  122.21000\n",
       "4       4  2021-03-12   AAPL    61184.062500  120.16500\n",
       "5       5  2021-03-11   AAPL    71546.190278  122.23500\n",
       "6       6  2021-03-10   AAPL    77738.420833  120.81000\n",
       "7       7  2021-03-09   AAPL    89948.458333  120.42500\n",
       "8       8  2021-03-08   AAPL   107205.979167  118.60500\n",
       "9       9  2021-03-05   AAPL   106782.361806  119.75250\n",
       "10     10  2021-03-04   AAPL   123718.732639  121.11000\n",
       "11     11  2021-03-03   AAPL    78448.847222  123.77500\n",
       "12     12  2021-03-02   AAPL    71014.545139  126.86500\n",
       "13     13  2021-03-01   AAPL    80769.369444  125.36000"
      ],
      "text/html": "<div>\n<style scoped>\n    .dataframe tbody tr th:only-of-type {\n        vertical-align: middle;\n    }\n\n    .dataframe tbody tr th {\n        vertical-align: top;\n    }\n\n    .dataframe thead th {\n        text-align: right;\n    }\n</style>\n<table border=\"1\" class=\"dataframe\">\n  <thead>\n    <tr style=\"text-align: right;\">\n      <th></th>\n      <th>index</th>\n      <th>date</th>\n      <th>symbol</th>\n      <th>avg_num_trades</th>\n      <th>avg_price</th>\n    </tr>\n  </thead>\n  <tbody>\n    <tr>\n      <th>0</th>\n      <td>0</td>\n      <td>2021-03-18</td>\n      <td>AAPL</td>\n      <td>84353.996528</td>\n      <td>121.75000</td>\n    </tr>\n    <tr>\n      <th>1</th>\n      <td>1</td>\n      <td>2021-03-17</td>\n      <td>AAPL</td>\n      <td>77730.997222</td>\n      <td>124.09795</td>\n    </tr>\n    <tr>\n      <th>2</th>\n      <td>2</td>\n      <td>2021-03-16</td>\n      <td>AAPL</td>\n      <td>80019.400000</td>\n      <td>125.96750</td>\n    </tr>\n    <tr>\n      <th>3</th>\n      <td>3</td>\n      <td>2021-03-15</td>\n      <td>AAPL</td>\n      <td>64298.996528</td>\n      <td>122.21000</td>\n    </tr>\n    <tr>\n      <th>4</th>\n      <td>4</td>\n      <td>2021-03-12</td>\n      <td>AAPL</td>\n      <td>61184.062500</td>\n      <td>120.16500</td>\n    </tr>\n    <tr>\n      <th>5</th>\n      <td>5</td>\n      <td>2021-03-11</td>\n      <td>AAPL</td>\n      <td>71546.190278</td>\n      <td>122.23500</td>\n    </tr>\n    <tr>\n      <th>6</th>\n      <td>6</td>\n      <td>2021-03-10</td>\n      <td>AAPL</td>\n      <td>77738.420833</td>\n      <td>120.81000</td>\n    </tr>\n    <tr>\n      <th>7</th>\n      <td>7</td>\n      <td>2021-03-09</td>\n      <td>AAPL</td>\n      <td>89948.458333</td>\n      <td>120.42500</td>\n    </tr>\n    <tr>\n      <th>8</th>\n      <td>8</td>\n      <td>2021-03-08</td>\n      <td>AAPL</td>\n      <td>107205.979167</td>\n      <td>118.60500</td>\n    </tr>\n    <tr>\n      <th>9</th>\n      <td>9</td>\n      <td>2021-03-05</td>\n      <td>AAPL</td>\n      <td>106782.361806</td>\n      <td>119.75250</td>\n    </tr>\n    <tr>\n      <th>10</th>\n      <td>10</td>\n      <td>2021-03-04</td>\n      <td>AAPL</td>\n      <td>123718.732639</td>\n      <td>121.11000</td>\n    </tr>\n    <tr>\n      <th>11</th>\n      <td>11</td>\n      <td>2021-03-03</td>\n      <td>AAPL</td>\n      <td>78448.847222</td>\n      <td>123.77500</td>\n    </tr>\n    <tr>\n      <th>12</th>\n      <td>12</td>\n      <td>2021-03-02</td>\n      <td>AAPL</td>\n      <td>71014.545139</td>\n      <td>126.86500</td>\n    </tr>\n    <tr>\n      <th>13</th>\n      <td>13</td>\n      <td>2021-03-01</td>\n      <td>AAPL</td>\n      <td>80769.369444</td>\n      <td>125.36000</td>\n    </tr>\n  </tbody>\n</table>\n</div>"
     },
     "metadata": {},
     "execution_count": 94
    }
   ],
   "source": [
    "Extractor.extract(build_query_kwargs={\n",
    "    'columns': '*',\n",
    "    'timestamp_col': 'date',\n",
    "    'start_date': \"2021-03-01\",\n",
    "    'end_date': \"2021-03-20\",\n",
    "    'extra_where_conditions': [\"symbol = 'AAPL'\"]\n",
    "})"
   ]
  },
  {
   "source": [
    "Store the query into a <b>pandas dataframe</b> to facilitate data manipulation."
   ],
   "cell_type": "markdown",
   "metadata": {}
  },
  {
   "cell_type": "code",
   "execution_count": 98,
   "metadata": {},
   "outputs": [
    {
     "output_type": "execute_result",
     "data": {
      "text/plain": [
       "   index        date symbol  avg_num_trades  avg_price\n",
       "0      0  2021-03-18   AAPL    84353.996528  121.75000\n",
       "1      1  2021-03-17   AAPL    77730.997222  124.09795\n",
       "2      2  2021-03-16   AAPL    80019.400000  125.96750\n",
       "3      3  2021-03-15   AAPL    64298.996528  122.21000\n",
       "4      4  2021-03-12   AAPL    61184.062500  120.16500"
      ],
      "text/html": "<div>\n<style scoped>\n    .dataframe tbody tr th:only-of-type {\n        vertical-align: middle;\n    }\n\n    .dataframe tbody tr th {\n        vertical-align: top;\n    }\n\n    .dataframe thead th {\n        text-align: right;\n    }\n</style>\n<table border=\"1\" class=\"dataframe\">\n  <thead>\n    <tr style=\"text-align: right;\">\n      <th></th>\n      <th>index</th>\n      <th>date</th>\n      <th>symbol</th>\n      <th>avg_num_trades</th>\n      <th>avg_price</th>\n    </tr>\n  </thead>\n  <tbody>\n    <tr>\n      <th>0</th>\n      <td>0</td>\n      <td>2021-03-18</td>\n      <td>AAPL</td>\n      <td>84353.996528</td>\n      <td>121.75000</td>\n    </tr>\n    <tr>\n      <th>1</th>\n      <td>1</td>\n      <td>2021-03-17</td>\n      <td>AAPL</td>\n      <td>77730.997222</td>\n      <td>124.09795</td>\n    </tr>\n    <tr>\n      <th>2</th>\n      <td>2</td>\n      <td>2021-03-16</td>\n      <td>AAPL</td>\n      <td>80019.400000</td>\n      <td>125.96750</td>\n    </tr>\n    <tr>\n      <th>3</th>\n      <td>3</td>\n      <td>2021-03-15</td>\n      <td>AAPL</td>\n      <td>64298.996528</td>\n      <td>122.21000</td>\n    </tr>\n    <tr>\n      <th>4</th>\n      <td>4</td>\n      <td>2021-03-12</td>\n      <td>AAPL</td>\n      <td>61184.062500</td>\n      <td>120.16500</td>\n    </tr>\n  </tbody>\n</table>\n</div>"
     },
     "metadata": {},
     "execution_count": 98
    }
   ],
   "source": [
    "import pandas as pd\n",
    "df = Extractor.extract(build_query_kwargs={\n",
    "    'columns': '*',\n",
    "    'timestamp_col': 'date',\n",
    "    'start_date': \"2021-03-01\",\n",
    "    'end_date': \"2021-03-20\",\n",
    "    'extra_where_conditions': [\"symbol = 'AAPL'\"]\n",
    "})\n",
    "\n",
    "df.head()"
   ]
  },
  {
   "source": [
    "## Preprocessing"
   ],
   "cell_type": "markdown",
   "metadata": {}
  },
  {
   "cell_type": "code",
   "execution_count": null,
   "metadata": {},
   "outputs": [],
   "source": []
  }
 ]
}