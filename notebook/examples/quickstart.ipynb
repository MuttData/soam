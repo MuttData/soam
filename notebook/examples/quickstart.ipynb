{
 "cells": [
  {
   "attachments": {},
   "cell_type": "markdown",
   "metadata": {},
   "source": [
    "# SOAM Quickstart\n",
    "How to make an end to end project using SOAM modules and tools.\n",
    "\n",
    "This notebook pretends to show in a disaggregated manner how the methods and modules of the SoaM library works by taking as an example a model that predicts Apple's Stock Price Value for a pre-established time horizon. To see how these steps can be implemented more directly by leveraging the SoaM Flow power check the [soamflowrun notebook](https://gitlab.com/mutt_data/soam/-/blob/master/notebook/examples/soamflowrun.ipynb).\n",
    "\n",
    "This library pipeline supports any data source.\n",
    "The process is structured in different stages:\n",
    "* Extraction: manages the connection with the database, the time granularity and the aggregation level of the input data.\n",
    "* Preprocessing: lets you select among out of the box tools to perform standard tasks such as normalization or fill nan values.\n",
    "* Forecasting: fits a model and predict results.\n",
    "* Postprocessing: modifies the results based on business/real information or create analysis with the predicted values.\n",
    "* Plotting and Reporting: generates plots and automates reports such as sending a mail or a message to a slack group.\n",
    "\n",
    "\n",
    "*Note: please ignore the # NBVAL_SKIP at the beginning of the cells!*\n"
   ]
  },
  {
   "attachments": {},
   "cell_type": "markdown",
   "metadata": {},
   "source": [
    "## Extraction\n",
    "First of all we need the data, this stage takes care of that by extracting our data from the needed sources to build the condensed dataset for the next steps. This tends to be project dependent.\n",
    "\n",
    "Steps in this section: <br>\n",
    "\n",
    "1. DB Connection using `muttlib`. <br>\n",
    "2. `SOAM Extractor` object initialization.\n",
    "3. `SQL Query` constructed <br>\n",
    "4. `Extractor.run` method executed to extract the data from the DB based on the specified query and save it as a `pandas.DataFrame` object."
   ]
  },
  {
   "attachments": {},
   "cell_type": "markdown",
   "metadata": {},
   "source": [
    "1) DB Connection using `muttlib`. We have to set up the sqlite config and then retrieve it using the muttlib's `get_client()` method."
   ]
  },
  {
   "cell_type": "code",
   "execution_count": 1,
   "metadata": {},
   "outputs": [],
   "source": [
    "from soam.workflow.time_series_extractor import TimeSeriesExtractor\n",
    "from muttlib.dbconn import get_client"
   ]
  },
  {
   "cell_type": "code",
   "execution_count": 2,
   "metadata": {},
   "outputs": [],
   "source": [
    "sqlite_cfg = {\n",
    "    \"db_type\": \"sqlite\",\n",
    "    \"database\": \"soam_quickstart.db\"\n",
    "}\n",
    "\n",
    "sqlite_client = get_client(sqlite_cfg)[1]"
   ]
  },
  {
   "attachments": {},
   "cell_type": "markdown",
   "metadata": {},
   "source": [
    "2) `SOAM Extractor` object initialization with the sqlite client of our DB and the table name given as input."
   ]
  },
  {
   "cell_type": "code",
   "execution_count": 3,
   "metadata": {},
   "outputs": [],
   "source": [
    "extractor = TimeSeriesExtractor(db=sqlite_client, table_name='stock')"
   ]
  },
  {
   "attachments": {},
   "cell_type": "markdown",
   "metadata": {},
   "source": [
    "3) `SQL Query` constructed using a dictionary to set the configuration of the extraction query. The idea is to convert the full dataset to the desired time granularity and aggregation level by some categorical attribute/s.\n",
    "\n",
    "In this case we define the following: <br>\n",
    "- Time granularity: <br>\n",
    "     - Start date: 2021-03-01 <br>\n",
    "     - End date: 2021-03-20\n",
    "- Aggregation Level:\n",
    "    - Order the date ascendantly.\n",
    "    - Just stay with Apple's (AAPL) stock information.\n",
    "\n",
    "\n",
    "*Note: The `build_query_kwargs` is a dictionary that sets the configuration of the extraction query to be used for the extraction. To see further options on how to build more complex queries check the `TimeSeriesExtractor` documentation by executing `??TimeSeriesExtractor`*"
   ]
  },
  {
   "cell_type": "code",
   "execution_count": 4,
   "metadata": {},
   "outputs": [],
   "source": [
    "build_query_kwargs={\n",
    "    'columns': '*',\n",
    "    'timestamp_col': 'date',\n",
    "    'start_date': \"2021-03-01\",\n",
    "    'end_date': \"2021-03-20\",\n",
    "    'extra_where_conditions': [\"symbol = 'AAPL'\"],\n",
    "    'order_by': [\"date ASC\"]\n",
    "}"
   ]
  },
  {
   "attachments": {},
   "cell_type": "markdown",
   "metadata": {},
   "source": [
    "4) `Extractor.run` method executed to extract the data from the DB based on the specified query *(given as a parameter)* and save it as a `pandas.DataFrame` object to facilitate data manipulation.\n"
   ]
  },
  {
   "cell_type": "code",
   "execution_count": 5,
   "metadata": {},
   "outputs": [
    {
     "data": {
      "text/html": [
       "<div>\n",
       "<style scoped>\n",
       "    .dataframe tbody tr th:only-of-type {\n",
       "        vertical-align: middle;\n",
       "    }\n",
       "\n",
       "    .dataframe tbody tr th {\n",
       "        vertical-align: top;\n",
       "    }\n",
       "\n",
       "    .dataframe thead th {\n",
       "        text-align: right;\n",
       "    }\n",
       "</style>\n",
       "<table border=\"1\" class=\"dataframe\">\n",
       "  <thead>\n",
       "    <tr style=\"text-align: right;\">\n",
       "      <th></th>\n",
       "      <th>id</th>\n",
       "      <th>date</th>\n",
       "      <th>symbol</th>\n",
       "      <th>avg_num_trades</th>\n",
       "      <th>avg_price</th>\n",
       "    </tr>\n",
       "  </thead>\n",
       "  <tbody>\n",
       "    <tr>\n",
       "      <th>0</th>\n",
       "      <td>1</td>\n",
       "      <td>2021-03-01</td>\n",
       "      <td>AAPL</td>\n",
       "      <td>80000.0</td>\n",
       "      <td>125.0</td>\n",
       "    </tr>\n",
       "    <tr>\n",
       "      <th>1</th>\n",
       "      <td>2</td>\n",
       "      <td>2021-03-02</td>\n",
       "      <td>AAPL</td>\n",
       "      <td>70000.0</td>\n",
       "      <td>126.0</td>\n",
       "    </tr>\n",
       "    <tr>\n",
       "      <th>2</th>\n",
       "      <td>3</td>\n",
       "      <td>2021-03-03</td>\n",
       "      <td>AAPL</td>\n",
       "      <td>80000.0</td>\n",
       "      <td>123.0</td>\n",
       "    </tr>\n",
       "    <tr>\n",
       "      <th>3</th>\n",
       "      <td>4</td>\n",
       "      <td>2021-03-04</td>\n",
       "      <td>AAPL</td>\n",
       "      <td>70000.0</td>\n",
       "      <td>121.0</td>\n",
       "    </tr>\n",
       "    <tr>\n",
       "      <th>4</th>\n",
       "      <td>5</td>\n",
       "      <td>2021-03-05</td>\n",
       "      <td>AAPL</td>\n",
       "      <td>80000.0</td>\n",
       "      <td>119.0</td>\n",
       "    </tr>\n",
       "  </tbody>\n",
       "</table>\n",
       "</div>"
      ],
      "text/plain": [
       "   id        date symbol  avg_num_trades  avg_price\n",
       "0   1  2021-03-01   AAPL         80000.0      125.0\n",
       "1   2  2021-03-02   AAPL         70000.0      126.0\n",
       "2   3  2021-03-03   AAPL         80000.0      123.0\n",
       "3   4  2021-03-04   AAPL         70000.0      121.0\n",
       "4   5  2021-03-05   AAPL         80000.0      119.0"
      ]
     },
     "execution_count": 5,
     "metadata": {},
     "output_type": "execute_result"
    }
   ],
   "source": [
    "import pandas as pd\n",
    "df = extractor.run(build_query_kwargs = build_query_kwargs)\n",
    "\n",
    "df.head()"
   ]
  },
  {
   "attachments": {},
   "cell_type": "markdown",
   "metadata": {},
   "source": [
    "## Preprocessing\n",
    "\n",
    "Now that we have our dataframe loaded, it's time to preprocess the data to our desired shape and state.\n",
    "\n",
    "Steps in this section:\n",
    "\n",
    "1. `SOAM Transformer` object initialization. <br>\n",
    "2. Custom transformations made to set the dataframe to the desired format. <br>\n",
    "3. `Transformer.run` method execution to scale the data with the selected method."
   ]
  },
  {
   "attachments": {},
   "cell_type": "markdown",
   "metadata": {},
   "source": [
    "1) Create the Transformer object and pass the scaler as the transformer parameter. In this case we are using the `MinMaxScaler()` from the `sklearn.preprocessing` library."
   ]
  },
  {
   "cell_type": "code",
   "execution_count": 6,
   "metadata": {},
   "outputs": [],
   "source": [
    "from soam.workflow import Transformer\n",
    "from sklearn.preprocessing import MinMaxScaler\n",
    "scaler = MinMaxScaler()\n",
    "ts = Transformer(transformer = scaler)"
   ]
  },
  {
   "attachments": {},
   "cell_type": "markdown",
   "metadata": {},
   "source": [
    "2) Custom transformations: We want to normalize the average price values.\n",
    "\n",
    "2.1) We convert the column to an array and swap the axes to pass it to the scaler."
   ]
  },
  {
   "cell_type": "code",
   "execution_count": 7,
   "metadata": {},
   "outputs": [],
   "source": [
    "import numpy as np\n",
    "data = np.array([df.avg_price])\n",
    "data = np.swapaxes(data, 0, 1)"
   ]
  },
  {
   "attachments": {},
   "cell_type": "markdown",
   "metadata": {},
   "source": [
    "2.2) We drop the unnecesary columns and adapt the column names for the Fb Prophet for the Forecasting.\n",
    "\n",
    "\n",
    "2.3) We need a `ds` column of type DateTime to indicate the moment of observation in the time series and a `y` column for it's value."
   ]
  },
  {
   "cell_type": "code",
   "execution_count": 8,
   "metadata": {},
   "outputs": [
    {
     "data": {
      "text/html": [
       "<div>\n",
       "<style scoped>\n",
       "    .dataframe tbody tr th:only-of-type {\n",
       "        vertical-align: middle;\n",
       "    }\n",
       "\n",
       "    .dataframe tbody tr th {\n",
       "        vertical-align: top;\n",
       "    }\n",
       "\n",
       "    .dataframe thead th {\n",
       "        text-align: right;\n",
       "    }\n",
       "</style>\n",
       "<table border=\"1\" class=\"dataframe\">\n",
       "  <thead>\n",
       "    <tr style=\"text-align: right;\">\n",
       "      <th></th>\n",
       "      <th>ds</th>\n",
       "      <th>y</th>\n",
       "    </tr>\n",
       "  </thead>\n",
       "  <tbody>\n",
       "    <tr>\n",
       "      <th>0</th>\n",
       "      <td>2021-03-01</td>\n",
       "      <td>125.0</td>\n",
       "    </tr>\n",
       "    <tr>\n",
       "      <th>1</th>\n",
       "      <td>2021-03-02</td>\n",
       "      <td>126.0</td>\n",
       "    </tr>\n",
       "    <tr>\n",
       "      <th>2</th>\n",
       "      <td>2021-03-03</td>\n",
       "      <td>123.0</td>\n",
       "    </tr>\n",
       "    <tr>\n",
       "      <th>3</th>\n",
       "      <td>2021-03-04</td>\n",
       "      <td>121.0</td>\n",
       "    </tr>\n",
       "    <tr>\n",
       "      <th>4</th>\n",
       "      <td>2021-03-05</td>\n",
       "      <td>119.0</td>\n",
       "    </tr>\n",
       "  </tbody>\n",
       "</table>\n",
       "</div>"
      ],
      "text/plain": [
       "          ds      y\n",
       "0 2021-03-01  125.0\n",
       "1 2021-03-02  126.0\n",
       "2 2021-03-03  123.0\n",
       "3 2021-03-04  121.0\n",
       "4 2021-03-05  119.0"
      ]
     },
     "execution_count": 8,
     "metadata": {},
     "output_type": "execute_result"
    }
   ],
   "source": [
    "df = df[['date', 'avg_price']]\n",
    "df.rename(columns = {\n",
    "    'date': 'ds',\n",
    "    'avg_price': 'y'}, inplace = True)\n",
    "df.ds =  pd.to_datetime(df.ds, infer_datetime_format=True)\n",
    "df.head()"
   ]
  },
  {
   "attachments": {},
   "cell_type": "markdown",
   "metadata": {},
   "source": [
    "3) `Transformer.run` method executed to scale the data with the `MinMaxScaler()` method."
   ]
  },
  {
   "cell_type": "code",
   "execution_count": 9,
   "metadata": {},
   "outputs": [
    {
     "data": {
      "text/html": [
       "<div>\n",
       "<style scoped>\n",
       "    .dataframe tbody tr th:only-of-type {\n",
       "        vertical-align: middle;\n",
       "    }\n",
       "\n",
       "    .dataframe tbody tr th {\n",
       "        vertical-align: top;\n",
       "    }\n",
       "\n",
       "    .dataframe thead th {\n",
       "        text-align: right;\n",
       "    }\n",
       "</style>\n",
       "<table border=\"1\" class=\"dataframe\">\n",
       "  <thead>\n",
       "    <tr style=\"text-align: right;\">\n",
       "      <th></th>\n",
       "      <th>ds</th>\n",
       "      <th>y</th>\n",
       "    </tr>\n",
       "  </thead>\n",
       "  <tbody>\n",
       "    <tr>\n",
       "      <th>0</th>\n",
       "      <td>2021-03-01</td>\n",
       "      <td>0.409091</td>\n",
       "    </tr>\n",
       "    <tr>\n",
       "      <th>1</th>\n",
       "      <td>2021-03-02</td>\n",
       "      <td>0.454545</td>\n",
       "    </tr>\n",
       "    <tr>\n",
       "      <th>2</th>\n",
       "      <td>2021-03-03</td>\n",
       "      <td>0.318182</td>\n",
       "    </tr>\n",
       "    <tr>\n",
       "      <th>3</th>\n",
       "      <td>2021-03-04</td>\n",
       "      <td>0.227273</td>\n",
       "    </tr>\n",
       "    <tr>\n",
       "      <th>4</th>\n",
       "      <td>2021-03-05</td>\n",
       "      <td>0.136364</td>\n",
       "    </tr>\n",
       "  </tbody>\n",
       "</table>\n",
       "</div>"
      ],
      "text/plain": [
       "          ds         y\n",
       "0 2021-03-01  0.409091\n",
       "1 2021-03-02  0.454545\n",
       "2 2021-03-03  0.318182\n",
       "3 2021-03-04  0.227273\n",
       "4 2021-03-05  0.136364"
      ]
     },
     "execution_count": 9,
     "metadata": {},
     "output_type": "execute_result"
    }
   ],
   "source": [
    "df.y = ts.run(data)[0]\n",
    "df.head()"
   ]
  },
  {
   "attachments": {},
   "cell_type": "markdown",
   "metadata": {},
   "source": [
    "## Forecasting\n",
    "\n",
    "Now that we have our training data already clean it's time to fit our model and forecast future values! For this we use `SoaM Wrappers` to wrap our selected model.\n",
    "\n",
    "In this example we will use the [prophet](https://facebook.github.io/prophet/) model.\n",
    "\n",
    "Steps in this section:\n",
    "\n",
    "1. Forecasting object initialization. <br>\n",
    "2. `SOAM Forecaster` object initialization.\n",
    "3. `Forecaster.run` method executed to forecast our time-series."
   ]
  },
  {
   "attachments": {},
   "cell_type": "markdown",
   "metadata": {},
   "source": [
    "1) Forecasting object initialization, we selected `FbProphet` as a forecasting method and we set to `False` the seasonality calculations for simplicity. <br>\n",
    "\n",
    "You'll need to run `pip install \"soam[prophet] @ git+https://gitlab.com/mutt_data/soam\"` in order for this to work."
   ]
  },
  {
   "cell_type": "code",
   "execution_count": 10,
   "metadata": {},
   "outputs": [],
   "source": [
    "%%capture #hide\n",
    "\n",
    "from soam.models.prophet import SkProphet\n",
    "my_model = SkProphet(weekly_seasonality=False, daily_seasonality=False)"
   ]
  },
  {
   "attachments": {},
   "cell_type": "markdown",
   "metadata": {},
   "source": [
    "2) `SOAM Forecaster` object initialization and pass the forecasting model to the constructor. "
   ]
  },
  {
   "cell_type": "code",
   "execution_count": 11,
   "metadata": {},
   "outputs": [],
   "source": [
    "from soam.workflow.forecaster import Forecaster\n",
    "forecaster = Forecaster(my_model, output_length=7)"
   ]
  },
  {
   "attachments": {},
   "cell_type": "markdown",
   "metadata": {},
   "source": [
    "3) `Forecaster.run` method executed to forecast our time-series.\n",
    "\n",
    "Now we use the `run` method of the forecaster instance that we just created to fit the model to the data and make a prediction.  \n",
    "\n",
    "The `run` method requires as input a Pandas DataFrame with at least a `ds` column of type DateTime to indicate the moment of observation in the time series and a `y` column for it's value.  \n",
    "\n",
    "Note that both prediction and trained model will be initially stored as attributes of the `Forecaster` instance.\n",
    "\n",
    "The `output length` parameter is passed to indicate the number of points that we want to predict in the future.\n",
    "\n",
    "In the `add_future_dates` method, the amount of periods to predict is passed as a parameter as well as the frequency (time granularity) of those periods. In this case we use 7 days.\n",
    "\n",
    "*Note that some models may fails if output length is larger than input length.*\n"
   ]
  },
  {
   "cell_type": "code",
   "execution_count": 12,
   "metadata": {},
   "outputs": [],
   "source": [
    "%%capture #hide\n",
    "\n",
    "from soam.utilities.utils import add_future_dates\n",
    "df = add_future_dates(df, periods=7, frequency=\"d\")\n",
    "predictions, time_series, model = forecaster.run(time_series=df)"
   ]
  },
  {
   "attachments": {},
   "cell_type": "markdown",
   "metadata": {},
   "source": [
    "As you can see, the `forecaster.run` method returns a tuple of:\n",
    "\n",
    "- Predictions dataset. <br>\n",
    "- Time series dataset (training set used with the future dates). <br>\n",
    "- Fitted model."
   ]
  },
  {
   "cell_type": "code",
   "execution_count": 13,
   "metadata": {},
   "outputs": [
    {
     "data": {
      "text/plain": [
       "(          ds      yhat\n",
       " 0 2021-03-21  0.900359\n",
       " 1 2021-03-22  0.935243\n",
       " 2 2021-03-23  0.970128\n",
       " 3 2021-03-24  1.005013\n",
       " 4 2021-03-25  1.039897,\n",
       "           ds         y\n",
       " 0 2021-03-01  0.409091\n",
       " 1 2021-03-02  0.454545\n",
       " 2 2021-03-03  0.318182\n",
       " 3 2021-03-04  0.227273\n",
       " 4 2021-03-05  0.136364,\n",
       " SkProphet(daily_seasonality=False, fit_params={}, weekly_seasonality=False))"
      ]
     },
     "execution_count": 13,
     "metadata": {},
     "output_type": "execute_result"
    }
   ],
   "source": [
    "(predictions.head(), time_series.head(), model)"
   ]
  },
  {
   "attachments": {},
   "cell_type": "markdown",
   "metadata": {},
   "source": [
    "## Plotting\n",
    "Now that we have our predictions, let's plot the results to compare the predicted values with the expected ones visually!\n",
    "\n",
    "Steps in this section:\n",
    "\n",
    "1. Import the `plot_configs`.\n",
    "2. `ForecastPlotterTask` object initialization.\n",
    "3. `ForecastPlotterTask.run` execution to plot the figure."
   ]
  },
  {
   "cell_type": "code",
   "execution_count": 14,
   "metadata": {},
   "outputs": [],
   "source": [
    "from soam.plotting.forecast_plotter import ForecastPlotterTask\n",
    "from soam.constants import PLOT_CONFIG\n",
    "from copy import deepcopy\n",
    "from pathlib import Path"
   ]
  },
  {
   "attachments": {},
   "cell_type": "markdown",
   "metadata": {},
   "source": [
    "1) Import the `plot_configs`. <br>\n",
    "2) `ForecastPlotterTask` object initialization to whom we give as parameters: \n",
    "- the `Path` object where we want to save the file,\n",
    "- the name of the metric being analyzed, *Apple's Stock Price* in this case,\n",
    "- and the plot configs that are obtained through the `PLOT_CONFIG` constant."
   ]
  },
  {
   "cell_type": "code",
   "execution_count": 15,
   "metadata": {},
   "outputs": [],
   "source": [
    "plot_config = deepcopy(PLOT_CONFIG)\n",
    "forecast_plotter = ForecastPlotterTask(path = Path('img/applestockprice'), metric_name = \"Apple's Stock Price\", plot_config = plot_config)"
   ]
  },
  {
   "attachments": {},
   "cell_type": "markdown",
   "metadata": {},
   "source": [
    "3) `ForecastPlotterTask.run` execution to plot the figure."
   ]
  },
  {
   "cell_type": "code",
   "execution_count": 16,
   "metadata": {},
   "outputs": [
    {
     "data": {
      "image/png": "[encoded data removed]",
      "text/plain": [
       "<Figure size 720x432 with 1 Axes>"
      ]
     },
     "metadata": {
      "needs_background": "light"
     },
     "output_type": "display_data"
    }
   ],
   "source": [
    "plot_fn = forecast_plotter.run(forecaster.time_series, forecaster.prediction)"
   ]
  },
  {
   "attachments": {},
   "cell_type": "markdown",
   "metadata": {},
   "source": [
    "## Postprocessing\n",
    "Let's now focus on the things we can do once the analysis is done.\n",
    "\n",
    "We are going to ilustrate how to send an email with the report of the results. Other posibility is to send messages via slack to specific chennels. The process to execute this kind of report is pretty similar to the one for email reporting, therefore, we are not going to dive into the details. To get further info, please refer to the [SlackReportTask documentation.](./soam/reporting/slack_report.py)"
   ]
  },
  {
   "attachments": {},
   "cell_type": "markdown",
   "metadata": {},
   "source": [
    "###  Mail Report\n",
    "\n",
    "Ok. Everything is done, let's now share our results with the rest of the team by sending an email to them!\n",
    "\n",
    "The class `MailReport` has everything you need for sending an email report, you'll just need a SMTP enabled email account. \n",
    "\n",
    "Your gmail account should have 2FA (Two-Factor Authentication) and Third-Party apps permissions active, with that you'll be able to create an App Pasword for your smtp settings. [Official Gmail guide](https://support.google.com/mail/answer/185833?hl=en)\n",
    "\n",
    "Make sure to add your SMTP credentials to `settings.ini` *(located in the root file of your project)*. If using a Gmail account, you won't have to modify the `SMTP_HOST` and `SMTP_PORT`.\n",
    "\n",
    "*Note that you can find a sample `settings.ini` file in your generated package root `your-project-name/settings_sample.ini` *\n",
    "\n",
    "Steps in this section:\n",
    "\n",
    "1. `SOAM Mail Report` object initialization.\n",
    "2. `MailReportTask.run` execution to send the email."
   ]
  },
  {
   "attachments": {},
   "cell_type": "markdown",
   "metadata": {},
   "source": [
    "1) `SOAM Mail Report` object initialization and definition of its parameters:\n",
    "- list of mails that will receive the report.\n",
    "- name of the metric being analyzed."
   ]
  },
  {
   "cell_type": "code",
   "execution_count": 27,
   "metadata": {},
   "outputs": [],
   "source": [
    "# NBVAL_SKIP\n",
    "from soam.reporting.mail_report import MailReportTask\n",
    "mr = MailReportTask(\n",
    "    # recipients mails separated by commas\n",
    "    mail_recipients_list = [\"mail@muttdata.ai\"],\n",
    "    # the metric name will be in the title\n",
    "    metric_name = \"Apple's Stock Price\" \n",
    ")"
   ]
  },
  {
   "attachments": {},
   "cell_type": "markdown",
   "metadata": {},
   "source": [
    "2) `MailReportTask.run` execution to send the email and definition of its parameters:\n",
    "- start_date and end_date as strings with *yyyymmddhh* format.\n",
    "- current_date as string with *yyyy-mm-dd* format.\n",
    "- plot_filename showing the relative path of the plot."
   ]
  },
  {
   "cell_type": "code",
   "execution_count": 29,
   "metadata": {},
   "outputs": [],
   "source": [
    "# NBVAL_SKIP\n",
    "\n",
    "start_date='2021030100'\n",
    "end_date='2021031900'\n",
    "mr.run(\n",
    "    current_date = \"2021-04-12\",\n",
    "    plot_filename = f'img/applestockprice/0_forecast_{start_date}_{end_date}_.png'\n",
    ")"
   ]
  },
  {
   "attachments": {},
   "cell_type": "markdown",
   "metadata": {},
   "source": [
    "### Email sent\n",
    "\n",
    "Screenshot of the email received."
   ]
  },
  {
   "cell_type": "code",
   "execution_count": 26,
   "metadata": {},
   "outputs": [
    {
     "data": {
      "image/png": "[encoded data removed]",
      "text/plain": [
       "<IPython.core.display.Image object>"
      ]
     },
     "metadata": {},
     "output_type": "display_data"
    }
   ],
   "source": [
    "from IPython.display import display, Image\n",
    "\n",
    "display(Image(filename='img/emailreport_apple.png'))"
   ]
  },
  {
   "attachments": {},
   "cell_type": "markdown",
   "metadata": {},
   "source": [
    "Voilà!"
   ]
  }
 ],
 "metadata": {
  "kernelspec": {
   "display_name": "Python 3",
   "language": "python",
   "name": "python3"
  },
  "language_info": {
   "codemirror_mode": {
    "name": "ipython",
    "version": 3
   },
   "file_extension": ".py",
   "mimetype": "text/x-python",
   "name": "python",
   "nbconvert_exporter": "python",
   "pygments_lexer": "ipython3",
   "version": "3.8.5"
  }
 },
 "nbformat": 4,
 "nbformat_minor": 2
}
