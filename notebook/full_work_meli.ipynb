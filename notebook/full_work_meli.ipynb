{
 "cells": [
  {
   "cell_type": "code",
   "execution_count": 1,
   "metadata": {},
   "outputs": [],
   "source": [
    "from soam.workflow import TimeSeriesExtractor\n",
    "from muttlib.dbconn import BigQueryClient\n"
   ]
  },
  {
   "cell_type": "code",
   "execution_count": 2,
   "metadata": {},
   "outputs": [],
   "source": [
    "db = \"COSTS\"\n",
    "table =  \"LK_GOOGLE_TOOLS_COST\"\n",
    "project = \"meli-marketing\"\n",
    "bqcli = BigQueryClient(auth_file=\"meli-roioptimizer/pomopt/configs/bigquery_secret.json\", db=db, table=table, project= project, auth=None)\n",
    "tsstep = TimeSeriesExtractor(bqcli, bqcli.table_id)"
   ]
  },
  {
   "cell_type": "code",
   "execution_count": 7,
   "metadata": {},
   "outputs": [],
   "source": [
    "columns = [\n",
    "    \"tim_day\",\n",
    "    \"sit_site_id\",\n",
    "    \"account_id\",\n",
    "    \"account_name\",\n",
    "    \"tool_id\",\n",
    "    \"campaign_id\",\n",
    "    \"campaign_name\",\n",
    "    \"impressions\",\n",
    "    \"clicks\",\n",
    "    \"cost_lc\",\n",
    "    \"cost_usd\",\n",
    "    \"budget_amount\",\n",
    "    \"budget_id\",\n",
    "]\n",
    "dimensions = [\"#account_id\"]\n",
    "dimensions_values = [3086755263]\n",
    "extra_where_conditions =[\n",
    "    \"campaign_id IS NOT NULL\", \n",
    "    \"sit_site_id = 'MLM' \"\n",
    "]\n",
    "\n",
    "build_query_kwargs = {\n",
    "    \"columns\": columns,\n",
    "    \"dimensions\": dimensions, \n",
    "    \"dimensions_values\": dimensions_values,\n",
    "    \"timestamp_col\": \"tim_day\",\n",
    "    \"start_date\": \"2020-07-10\",\n",
    "    \"extra_where_conditions\": extra_where_conditions\n",
    "}"
   ]
  },
  {
   "source": [
    "query = tsstep.build_query(**build_query_kwargs)\n",
    "print(query[0])"
   ],
   "cell_type": "code",
   "metadata": {},
   "execution_count": 8,
   "outputs": [
    {
     "output_type": "stream",
     "name": "stdout",
     "text": [
      "['#account_id']\n[3086755263]\nNone\n['campaign_id IS NOT NULL', \"sit_site_id = 'MLM' \"]\nNone\n['account_id'] [False] [3086755263]\n\n          SELECT tim_day, sit_site_id, account_id, account_name, tool_id, campaign_id, campaign_name, impressions, clicks, cost_lc, cost_usd, budget_amount, budget_id\n          FROM meli-marketing.COSTS.LK_GOOGLE_TOOLS_COST\n          \n          \n          WHERE account_id = 3086755263 AND tim_day >= '2020-07-10' AND campaign_id IS NOT NULL AND sit_site_id = 'MLM' \n          \n          \n          \n          \n        \n"
     ]
    }
   ]
  },
  {
   "source": [
    "### Cache query data"
   ],
   "cell_type": "markdown",
   "metadata": {}
  },
  {
   "cell_type": "code",
   "execution_count": 6,
   "metadata": {},
   "outputs": [],
   "source": [
    "df = tsstep.run(build_query_kwargs)\n",
    "df.to_csv(\"test_meli_camps_all.csv\")"
   ]
  },
  {
   "cell_type": "code",
   "execution_count": 32,
   "metadata": {},
   "outputs": [
    {
     "output_type": "execute_result",
     "data": {
      "text/plain": [
       "   Unnamed: 0     tim_day sit_site_id  account_id  \\\n",
       "0           0  2020-08-23         MLM  3086755263   \n",
       "1           1  2020-08-21         MLM  3086755263   \n",
       "2           2  2020-07-14         MLM  3086755263   \n",
       "3           3  2020-07-31         MLM  3086755263   \n",
       "4           4  2020-07-21         MLM  3086755263   \n",
       "\n",
       "                                        account_name  tool_id  campaign_id  \\\n",
       "0  MLM_ML_G_AO_SEARCH_MLM1000-Electrónica, Audio ...  6181903    104048113   \n",
       "1  MLM_ML_G_AO_SEARCH_MLM1000-Electrónica, Audio ...  6181903    104048113   \n",
       "2  MLM_ML_G_AO_SEARCH_MLM1000-Electrónica, Audio ...  6181903    104048113   \n",
       "3  MLM_ML_G_AO_SEARCH_MLM1000-Electrónica, Audio ...  6181903    104048113   \n",
       "4  MLM_ML_G_AO_SEARCH_MLM1000-Electrónica, Audio ...  6181903    104048113   \n",
       "\n",
       "                                       campaign_name  impressions  clicks  \\\n",
       "0  MLM_ML_G_AO_MLM1000-Electronica, Audio y Video...         3156     402   \n",
       "1  MLM_ML_G_AO_MLM1000-Electronica, Audio y Video...         2794     378   \n",
       "2  MLM_ML_G_AO_MLM1000-Electronica, Audio y Video...         3579     537   \n",
       "3  MLM_ML_G_AO_MLM1000-Electronica, Audio y Video...         4040     620   \n",
       "4  MLM_ML_G_AO_MLM1000-Electronica, Audio y Video...         4472     750   \n",
       "\n",
       "   cost_lc  cost_usd  budget_amount     budget_id  \n",
       "0   296.57   13.4585         6000.0  6.942559e+09  \n",
       "1   313.65   14.2215         6000.0  6.942559e+09  \n",
       "2   535.50   23.7661            NaN           NaN  \n",
       "3   581.30   26.4245         6000.0  6.942559e+09  \n",
       "4   813.81   36.1830         8000.0  6.942559e+09  "
      ],
      "text/html": "<div>\n<style scoped>\n    .dataframe tbody tr th:only-of-type {\n        vertical-align: middle;\n    }\n\n    .dataframe tbody tr th {\n        vertical-align: top;\n    }\n\n    .dataframe thead th {\n        text-align: right;\n    }\n</style>\n<table border=\"1\" class=\"dataframe\">\n  <thead>\n    <tr style=\"text-align: right;\">\n      <th></th>\n      <th>Unnamed: 0</th>\n      <th>tim_day</th>\n      <th>sit_site_id</th>\n      <th>account_id</th>\n      <th>account_name</th>\n      <th>tool_id</th>\n      <th>campaign_id</th>\n      <th>campaign_name</th>\n      <th>impressions</th>\n      <th>clicks</th>\n      <th>cost_lc</th>\n      <th>cost_usd</th>\n      <th>budget_amount</th>\n      <th>budget_id</th>\n    </tr>\n  </thead>\n  <tbody>\n    <tr>\n      <th>0</th>\n      <td>0</td>\n      <td>2020-08-23</td>\n      <td>MLM</td>\n      <td>3086755263</td>\n      <td>MLM_ML_G_AO_SEARCH_MLM1000-Electrónica, Audio ...</td>\n      <td>6181903</td>\n      <td>104048113</td>\n      <td>MLM_ML_G_AO_MLM1000-Electronica, Audio y Video...</td>\n      <td>3156</td>\n      <td>402</td>\n      <td>296.57</td>\n      <td>13.4585</td>\n      <td>6000.0</td>\n      <td>6.942559e+09</td>\n    </tr>\n    <tr>\n      <th>1</th>\n      <td>1</td>\n      <td>2020-08-21</td>\n      <td>MLM</td>\n      <td>3086755263</td>\n      <td>MLM_ML_G_AO_SEARCH_MLM1000-Electrónica, Audio ...</td>\n      <td>6181903</td>\n      <td>104048113</td>\n      <td>MLM_ML_G_AO_MLM1000-Electronica, Audio y Video...</td>\n      <td>2794</td>\n      <td>378</td>\n      <td>313.65</td>\n      <td>14.2215</td>\n      <td>6000.0</td>\n      <td>6.942559e+09</td>\n    </tr>\n    <tr>\n      <th>2</th>\n      <td>2</td>\n      <td>2020-07-14</td>\n      <td>MLM</td>\n      <td>3086755263</td>\n      <td>MLM_ML_G_AO_SEARCH_MLM1000-Electrónica, Audio ...</td>\n      <td>6181903</td>\n      <td>104048113</td>\n      <td>MLM_ML_G_AO_MLM1000-Electronica, Audio y Video...</td>\n      <td>3579</td>\n      <td>537</td>\n      <td>535.50</td>\n      <td>23.7661</td>\n      <td>NaN</td>\n      <td>NaN</td>\n    </tr>\n    <tr>\n      <th>3</th>\n      <td>3</td>\n      <td>2020-07-31</td>\n      <td>MLM</td>\n      <td>3086755263</td>\n      <td>MLM_ML_G_AO_SEARCH_MLM1000-Electrónica, Audio ...</td>\n      <td>6181903</td>\n      <td>104048113</td>\n      <td>MLM_ML_G_AO_MLM1000-Electronica, Audio y Video...</td>\n      <td>4040</td>\n      <td>620</td>\n      <td>581.30</td>\n      <td>26.4245</td>\n      <td>6000.0</td>\n      <td>6.942559e+09</td>\n    </tr>\n    <tr>\n      <th>4</th>\n      <td>4</td>\n      <td>2020-07-21</td>\n      <td>MLM</td>\n      <td>3086755263</td>\n      <td>MLM_ML_G_AO_SEARCH_MLM1000-Electrónica, Audio ...</td>\n      <td>6181903</td>\n      <td>104048113</td>\n      <td>MLM_ML_G_AO_MLM1000-Electronica, Audio y Video...</td>\n      <td>4472</td>\n      <td>750</td>\n      <td>813.81</td>\n      <td>36.1830</td>\n      <td>8000.0</td>\n      <td>6.942559e+09</td>\n    </tr>\n  </tbody>\n</table>\n</div>"
     },
     "metadata": {},
     "execution_count": 32
    }
   ],
   "source": [
    "df = pd.read_csv(\"test_meli_camps_all.csv\")\n",
    "df.head()"
   ]
  },
  {
   "source": [
    "# SoaM XD"
   ],
   "cell_type": "markdown",
   "metadata": {}
  },
  {
   "cell_type": "code",
   "execution_count": 9,
   "metadata": {},
   "outputs": [],
   "source": [
    "from soam.models.prophet import SkProphet\n",
    "from soam.workflow import Forecaster, Slicer, Anomaly, MergeConcat\n",
    "from soam.core import SoamFlow\n",
    "from prefect import task\n",
    "import pandas as pd"
   ]
  },
  {
   "cell_type": "code",
   "execution_count": 10,
   "metadata": {},
   "outputs": [],
   "source": [
    "proph = SkProphet(date_column=\"tim_day\", yhat_only=False)\n",
    "forecasting = Forecaster(proph, ds_col=\"tim_day\", keep_cols=\"campaign_id\", drop_after=True)\n",
    "detecting = Anomaly(ds_col=\"tim_day\", value_cols=[\"yhat_lower\", \"yhat_upper\"],keep_cols=\"campaign_id\")\n",
    "slicing = Slicer(dimensions=\"campaign_id\", metrics=[\"clicks\", \"cost_lc\", \"impressions\"], ds_col=\"tim_day\")\n",
    "merge_con = MergeConcat(keys=[\"tim_day\", \"campaign_id\"])\n",
    "\n",
    "@task\n",
    "def read_data():\n",
    "    return pd.read_csv(\"test_meli_camps_all.csv\")\n",
    "\n",
    "@task\n",
    "def save_df(df):\n",
    "    df.to_csv(\"test_meli_outliear.csv\")"
   ]
  },
  {
   "cell_type": "code",
   "execution_count": 13,
   "metadata": {},
   "outputs": [],
   "source": [
    "with SoamFlow(name=\"meli_metrics_ouliears\") as fs:\n",
    "    # df = tsstep(build_query_kwargs)\n",
    "    df = read_data()\n",
    "    dfs_sliced = slicing(df)\n",
    "    # dfs_sliced = dfs_sliced[:12]\n",
    "    forecasted = forecasting.map(dfs_sliced)\n",
    "    anomalies = detecting.map(forecasted)\n",
    "    final_df = merge_con(anomalies)\n",
    "    save_df(final_df)"
   ]
  },
  {
   "cell_type": "code",
   "execution_count": 14,
   "metadata": {
    "tags": [
     "outputPrepend"
    ]
   },
   "outputs": [
    {
     "output_type": "stream",
     "name": "stdout",
     "text": [
      "refect.TaskRunner | Task 'Anomaly[79]': Starting task run...\n",
      "INFO:prefect.TaskRunner:Task 'Anomaly[79]': Starting task run...\n",
      "[2020-10-30 14:52:49] INFO - prefect.TaskRunner | Task 'Anomaly[79]': Finished task run for task with final state: 'Success'\n",
      "INFO:prefect.TaskRunner:Task 'Anomaly[79]': Finished task run for task with final state: 'Success'\n",
      "[2020-10-30 14:52:49] INFO - prefect.TaskRunner | Task 'Anomaly[80]': Starting task run...\n",
      "INFO:prefect.TaskRunner:Task 'Anomaly[80]': Starting task run...\n",
      "[2020-10-30 14:52:49] INFO - prefect.TaskRunner | Task 'Anomaly[80]': Finished task run for task with final state: 'Success'\n",
      "INFO:prefect.TaskRunner:Task 'Anomaly[80]': Finished task run for task with final state: 'Success'\n",
      "[2020-10-30 14:52:49] INFO - prefect.TaskRunner | Task 'Anomaly[81]': Starting task run...\n",
      "INFO:prefect.TaskRunner:Task 'Anomaly[81]': Starting task run...\n",
      "[2020-10-30 14:52:49] INFO - prefect.TaskRunner | Task 'Anomaly[81]': Finished task run for task with final state: 'Success'\n",
      "INFO:prefect.TaskRunner:Task 'Anomaly[81]': Finished task run for task with final state: 'Success'\n",
      "[2020-10-30 14:52:49] INFO - prefect.TaskRunner | Task 'Anomaly[82]': Starting task run...\n",
      "INFO:prefect.TaskRunner:Task 'Anomaly[82]': Starting task run...\n",
      "[2020-10-30 14:52:49] INFO - prefect.TaskRunner | Task 'Anomaly[82]': Finished task run for task with final state: 'Success'\n",
      "INFO:prefect.TaskRunner:Task 'Anomaly[82]': Finished task run for task with final state: 'Success'\n",
      "[2020-10-30 14:52:50] INFO - prefect.TaskRunner | Task 'Anomaly[83]': Starting task run...\n",
      "INFO:prefect.TaskRunner:Task 'Anomaly[83]': Starting task run...\n",
      "[2020-10-30 14:52:50] INFO - prefect.TaskRunner | Task 'Anomaly[83]': Finished task run for task with final state: 'Success'\n",
      "INFO:prefect.TaskRunner:Task 'Anomaly[83]': Finished task run for task with final state: 'Success'\n",
      "[2020-10-30 14:52:50] INFO - prefect.TaskRunner | Task 'Anomaly[84]': Starting task run...\n",
      "INFO:prefect.TaskRunner:Task 'Anomaly[84]': Starting task run...\n",
      "[2020-10-30 14:52:50] INFO - prefect.TaskRunner | Task 'Anomaly[84]': Finished task run for task with final state: 'Success'\n",
      "INFO:prefect.TaskRunner:Task 'Anomaly[84]': Finished task run for task with final state: 'Success'\n",
      "[2020-10-30 14:52:50] INFO - prefect.TaskRunner | Task 'Anomaly[85]': Starting task run...\n",
      "INFO:prefect.TaskRunner:Task 'Anomaly[85]': Starting task run...\n",
      "[2020-10-30 14:52:50] INFO - prefect.TaskRunner | Task 'Anomaly[85]': Finished task run for task with final state: 'Success'\n",
      "INFO:prefect.TaskRunner:Task 'Anomaly[85]': Finished task run for task with final state: 'Success'\n",
      "[2020-10-30 14:52:50] INFO - prefect.TaskRunner | Task 'Anomaly[86]': Starting task run...\n",
      "INFO:prefect.TaskRunner:Task 'Anomaly[86]': Starting task run...\n",
      "[2020-10-30 14:52:50] INFO - prefect.TaskRunner | Task 'Anomaly[86]': Finished task run for task with final state: 'Success'\n",
      "INFO:prefect.TaskRunner:Task 'Anomaly[86]': Finished task run for task with final state: 'Success'\n",
      "[2020-10-30 14:52:50] INFO - prefect.TaskRunner | Task 'Anomaly[87]': Starting task run...\n",
      "INFO:prefect.TaskRunner:Task 'Anomaly[87]': Starting task run...\n",
      "[2020-10-30 14:52:50] INFO - prefect.TaskRunner | Task 'Anomaly[87]': Finished task run for task with final state: 'Success'\n",
      "INFO:prefect.TaskRunner:Task 'Anomaly[87]': Finished task run for task with final state: 'Success'\n",
      "[2020-10-30 14:52:50] INFO - prefect.TaskRunner | Task 'Anomaly[88]': Starting task run...\n",
      "INFO:prefect.TaskRunner:Task 'Anomaly[88]': Starting task run...\n",
      "[2020-10-30 14:52:50] INFO - prefect.TaskRunner | Task 'Anomaly[88]': Finished task run for task with final state: 'Success'\n",
      "INFO:prefect.TaskRunner:Task 'Anomaly[88]': Finished task run for task with final state: 'Success'\n",
      "[2020-10-30 14:52:50] INFO - prefect.TaskRunner | Task 'Anomaly[89]': Starting task run...\n",
      "INFO:prefect.TaskRunner:Task 'Anomaly[89]': Starting task run...\n",
      "[2020-10-30 14:52:50] INFO - prefect.TaskRunner | Task 'Anomaly[89]': Finished task run for task with final state: 'Success'\n",
      "INFO:prefect.TaskRunner:Task 'Anomaly[89]': Finished task run for task with final state: 'Success'\n",
      "[2020-10-30 14:52:50] INFO - prefect.TaskRunner | Task 'Anomaly[90]': Starting task run...\n",
      "INFO:prefect.TaskRunner:Task 'Anomaly[90]': Starting task run...\n",
      "[2020-10-30 14:52:50] INFO - prefect.TaskRunner | Task 'Anomaly[90]': Finished task run for task with final state: 'Success'\n",
      "INFO:prefect.TaskRunner:Task 'Anomaly[90]': Finished task run for task with final state: 'Success'\n",
      "[2020-10-30 14:52:50] INFO - prefect.TaskRunner | Task 'Anomaly[91]': Starting task run...\n",
      "INFO:prefect.TaskRunner:Task 'Anomaly[91]': Starting task run...\n",
      "[2020-10-30 14:52:50] INFO - prefect.TaskRunner | Task 'Anomaly[91]': Finished task run for task with final state: 'Success'\n",
      "INFO:prefect.TaskRunner:Task 'Anomaly[91]': Finished task run for task with final state: 'Success'\n",
      "[2020-10-30 14:52:50] INFO - prefect.TaskRunner | Task 'Anomaly[92]': Starting task run...\n",
      "INFO:prefect.TaskRunner:Task 'Anomaly[92]': Starting task run...\n",
      "[2020-10-30 14:52:50] INFO - prefect.TaskRunner | Task 'Anomaly[92]': Finished task run for task with final state: 'Success'\n",
      "INFO:prefect.TaskRunner:Task 'Anomaly[92]': Finished task run for task with final state: 'Success'\n",
      "[2020-10-30 14:52:50] INFO - prefect.TaskRunner | Task 'Anomaly[93]': Starting task run...\n",
      "INFO:prefect.TaskRunner:Task 'Anomaly[93]': Starting task run...\n",
      "[2020-10-30 14:52:50] INFO - prefect.TaskRunner | Task 'Anomaly[93]': Finished task run for task with final state: 'Success'\n",
      "INFO:prefect.TaskRunner:Task 'Anomaly[93]': Finished task run for task with final state: 'Success'\n",
      "[2020-10-30 14:52:50] INFO - prefect.TaskRunner | Task 'Anomaly[94]': Starting task run...\n",
      "INFO:prefect.TaskRunner:Task 'Anomaly[94]': Starting task run...\n",
      "[2020-10-30 14:52:50] INFO - prefect.TaskRunner | Task 'Anomaly[94]': Finished task run for task with final state: 'Success'\n",
      "INFO:prefect.TaskRunner:Task 'Anomaly[94]': Finished task run for task with final state: 'Success'\n",
      "[2020-10-30 14:52:50] INFO - prefect.TaskRunner | Task 'Anomaly[95]': Starting task run...\n",
      "INFO:prefect.TaskRunner:Task 'Anomaly[95]': Starting task run...\n",
      "[2020-10-30 14:52:50] INFO - prefect.TaskRunner | Task 'Anomaly[95]': Finished task run for task with final state: 'Success'\n",
      "INFO:prefect.TaskRunner:Task 'Anomaly[95]': Finished task run for task with final state: 'Success'\n",
      "[2020-10-30 14:52:51] INFO - prefect.TaskRunner | Task 'Anomaly[96]': Starting task run...\n",
      "INFO:prefect.TaskRunner:Task 'Anomaly[96]': Starting task run...\n",
      "[2020-10-30 14:52:51] INFO - prefect.TaskRunner | Task 'Anomaly[96]': Finished task run for task with final state: 'Success'\n",
      "INFO:prefect.TaskRunner:Task 'Anomaly[96]': Finished task run for task with final state: 'Success'\n",
      "[2020-10-30 14:52:51] INFO - prefect.TaskRunner | Task 'Anomaly[97]': Starting task run...\n",
      "INFO:prefect.TaskRunner:Task 'Anomaly[97]': Starting task run...\n",
      "[2020-10-30 14:52:51] INFO - prefect.TaskRunner | Task 'Anomaly[97]': Finished task run for task with final state: 'Success'\n",
      "INFO:prefect.TaskRunner:Task 'Anomaly[97]': Finished task run for task with final state: 'Success'\n",
      "[2020-10-30 14:52:51] INFO - prefect.TaskRunner | Task 'Anomaly[98]': Starting task run...\n",
      "INFO:prefect.TaskRunner:Task 'Anomaly[98]': Starting task run...\n",
      "[2020-10-30 14:52:51] INFO - prefect.TaskRunner | Task 'Anomaly[98]': Finished task run for task with final state: 'Success'\n",
      "INFO:prefect.TaskRunner:Task 'Anomaly[98]': Finished task run for task with final state: 'Success'\n",
      "[2020-10-30 14:52:51] INFO - prefect.TaskRunner | Task 'Anomaly[99]': Starting task run...\n",
      "INFO:prefect.TaskRunner:Task 'Anomaly[99]': Starting task run...\n",
      "[2020-10-30 14:52:51] INFO - prefect.TaskRunner | Task 'Anomaly[99]': Finished task run for task with final state: 'Success'\n",
      "INFO:prefect.TaskRunner:Task 'Anomaly[99]': Finished task run for task with final state: 'Success'\n",
      "[2020-10-30 14:52:51] INFO - prefect.TaskRunner | Task 'Anomaly[100]': Starting task run...\n",
      "INFO:prefect.TaskRunner:Task 'Anomaly[100]': Starting task run...\n",
      "[2020-10-30 14:52:51] INFO - prefect.TaskRunner | Task 'Anomaly[100]': Finished task run for task with final state: 'Success'\n",
      "INFO:prefect.TaskRunner:Task 'Anomaly[100]': Finished task run for task with final state: 'Success'\n",
      "[2020-10-30 14:52:51] INFO - prefect.TaskRunner | Task 'Anomaly[101]': Starting task run...\n",
      "INFO:prefect.TaskRunner:Task 'Anomaly[101]': Starting task run...\n",
      "[2020-10-30 14:52:51] INFO - prefect.TaskRunner | Task 'Anomaly[101]': Finished task run for task with final state: 'Success'\n",
      "INFO:prefect.TaskRunner:Task 'Anomaly[101]': Finished task run for task with final state: 'Success'\n",
      "[2020-10-30 14:52:51] INFO - prefect.TaskRunner | Task 'Anomaly[102]': Starting task run...\n",
      "INFO:prefect.TaskRunner:Task 'Anomaly[102]': Starting task run...\n",
      "[2020-10-30 14:52:51] INFO - prefect.TaskRunner | Task 'Anomaly[102]': Finished task run for task with final state: 'Success'\n",
      "INFO:prefect.TaskRunner:Task 'Anomaly[102]': Finished task run for task with final state: 'Success'\n",
      "[2020-10-30 14:52:51] INFO - prefect.TaskRunner | Task 'Anomaly[103]': Starting task run...\n",
      "INFO:prefect.TaskRunner:Task 'Anomaly[103]': Starting task run...\n",
      "[2020-10-30 14:52:51] INFO - prefect.TaskRunner | Task 'Anomaly[103]': Finished task run for task with final state: 'Success'\n",
      "INFO:prefect.TaskRunner:Task 'Anomaly[103]': Finished task run for task with final state: 'Success'\n",
      "[2020-10-30 14:52:51] INFO - prefect.TaskRunner | Task 'Anomaly[104]': Starting task run...\n",
      "INFO:prefect.TaskRunner:Task 'Anomaly[104]': Starting task run...\n",
      "[2020-10-30 14:52:51] INFO - prefect.TaskRunner | Task 'Anomaly[104]': Finished task run for task with final state: 'Success'\n",
      "INFO:prefect.TaskRunner:Task 'Anomaly[104]': Finished task run for task with final state: 'Success'\n",
      "[2020-10-30 14:52:51] INFO - prefect.TaskRunner | Task 'Anomaly[105]': Starting task run...\n",
      "INFO:prefect.TaskRunner:Task 'Anomaly[105]': Starting task run...\n",
      "[2020-10-30 14:52:51] INFO - prefect.TaskRunner | Task 'Anomaly[105]': Finished task run for task with final state: 'Success'\n",
      "INFO:prefect.TaskRunner:Task 'Anomaly[105]': Finished task run for task with final state: 'Success'\n",
      "[2020-10-30 14:52:51] INFO - prefect.TaskRunner | Task 'Anomaly[106]': Starting task run...\n",
      "INFO:prefect.TaskRunner:Task 'Anomaly[106]': Starting task run...\n",
      "[2020-10-30 14:52:51] INFO - prefect.TaskRunner | Task 'Anomaly[106]': Finished task run for task with final state: 'Success'\n",
      "INFO:prefect.TaskRunner:Task 'Anomaly[106]': Finished task run for task with final state: 'Success'\n",
      "[2020-10-30 14:52:51] INFO - prefect.TaskRunner | Task 'Anomaly[107]': Starting task run...\n",
      "INFO:prefect.TaskRunner:Task 'Anomaly[107]': Starting task run...\n",
      "[2020-10-30 14:52:51] INFO - prefect.TaskRunner | Task 'Anomaly[107]': Finished task run for task with final state: 'Success'\n",
      "INFO:prefect.TaskRunner:Task 'Anomaly[107]': Finished task run for task with final state: 'Success'\n",
      "[2020-10-30 14:52:51] INFO - prefect.TaskRunner | Task 'Anomaly[108]': Starting task run...\n",
      "INFO:prefect.TaskRunner:Task 'Anomaly[108]': Starting task run...\n",
      "[2020-10-30 14:52:51] INFO - prefect.TaskRunner | Task 'Anomaly[108]': Finished task run for task with final state: 'Success'\n",
      "INFO:prefect.TaskRunner:Task 'Anomaly[108]': Finished task run for task with final state: 'Success'\n",
      "[2020-10-30 14:52:51] INFO - prefect.TaskRunner | Task 'Anomaly[109]': Starting task run...\n",
      "INFO:prefect.TaskRunner:Task 'Anomaly[109]': Starting task run...\n",
      "[2020-10-30 14:52:51] INFO - prefect.TaskRunner | Task 'Anomaly[109]': Finished task run for task with final state: 'Success'\n",
      "INFO:prefect.TaskRunner:Task 'Anomaly[109]': Finished task run for task with final state: 'Success'\n",
      "[2020-10-30 14:52:52] INFO - prefect.TaskRunner | Task 'Anomaly[110]': Starting task run...\n",
      "INFO:prefect.TaskRunner:Task 'Anomaly[110]': Starting task run...\n",
      "[2020-10-30 14:52:52] INFO - prefect.TaskRunner | Task 'Anomaly[110]': Finished task run for task with final state: 'Success'\n",
      "INFO:prefect.TaskRunner:Task 'Anomaly[110]': Finished task run for task with final state: 'Success'\n",
      "[2020-10-30 14:52:52] INFO - prefect.TaskRunner | Task 'Anomaly[111]': Starting task run...\n",
      "INFO:prefect.TaskRunner:Task 'Anomaly[111]': Starting task run...\n",
      "[2020-10-30 14:52:52] INFO - prefect.TaskRunner | Task 'Anomaly[111]': Finished task run for task with final state: 'Success'\n",
      "INFO:prefect.TaskRunner:Task 'Anomaly[111]': Finished task run for task with final state: 'Success'\n",
      "[2020-10-30 14:52:52] INFO - prefect.TaskRunner | Task 'Anomaly[112]': Starting task run...\n",
      "INFO:prefect.TaskRunner:Task 'Anomaly[112]': Starting task run...\n",
      "[2020-10-30 14:52:52] INFO - prefect.TaskRunner | Task 'Anomaly[112]': Finished task run for task with final state: 'Success'\n",
      "INFO:prefect.TaskRunner:Task 'Anomaly[112]': Finished task run for task with final state: 'Success'\n",
      "[2020-10-30 14:52:52] INFO - prefect.TaskRunner | Task 'Anomaly[113]': Starting task run...\n",
      "INFO:prefect.TaskRunner:Task 'Anomaly[113]': Starting task run...\n",
      "[2020-10-30 14:52:52] INFO - prefect.TaskRunner | Task 'Anomaly[113]': Finished task run for task with final state: 'Success'\n",
      "INFO:prefect.TaskRunner:Task 'Anomaly[113]': Finished task run for task with final state: 'Success'\n",
      "[2020-10-30 14:52:52] INFO - prefect.TaskRunner | Task 'Anomaly[114]': Starting task run...\n",
      "INFO:prefect.TaskRunner:Task 'Anomaly[114]': Starting task run...\n",
      "[2020-10-30 14:52:52] INFO - prefect.TaskRunner | Task 'Anomaly[114]': Finished task run for task with final state: 'Success'\n",
      "INFO:prefect.TaskRunner:Task 'Anomaly[114]': Finished task run for task with final state: 'Success'\n",
      "[2020-10-30 14:52:52] INFO - prefect.TaskRunner | Task 'Anomaly[115]': Starting task run...\n",
      "INFO:prefect.TaskRunner:Task 'Anomaly[115]': Starting task run...\n",
      "[2020-10-30 14:52:52] INFO - prefect.TaskRunner | Task 'Anomaly[115]': Finished task run for task with final state: 'Success'\n",
      "INFO:prefect.TaskRunner:Task 'Anomaly[115]': Finished task run for task with final state: 'Success'\n",
      "[2020-10-30 14:52:52] INFO - prefect.TaskRunner | Task 'Anomaly[116]': Starting task run...\n",
      "INFO:prefect.TaskRunner:Task 'Anomaly[116]': Starting task run...\n",
      "[2020-10-30 14:52:52] INFO - prefect.TaskRunner | Task 'Anomaly[116]': Finished task run for task with final state: 'Success'\n",
      "INFO:prefect.TaskRunner:Task 'Anomaly[116]': Finished task run for task with final state: 'Success'\n",
      "[2020-10-30 14:52:52] INFO - prefect.TaskRunner | Task 'Anomaly[117]': Starting task run...\n",
      "INFO:prefect.TaskRunner:Task 'Anomaly[117]': Starting task run...\n",
      "[2020-10-30 14:52:52] INFO - prefect.TaskRunner | Task 'Anomaly[117]': Finished task run for task with final state: 'Success'\n",
      "INFO:prefect.TaskRunner:Task 'Anomaly[117]': Finished task run for task with final state: 'Success'\n",
      "[2020-10-30 14:52:52] INFO - prefect.TaskRunner | Task 'Anomaly[118]': Starting task run...\n",
      "INFO:prefect.TaskRunner:Task 'Anomaly[118]': Starting task run...\n",
      "[2020-10-30 14:52:52] INFO - prefect.TaskRunner | Task 'Anomaly[118]': Finished task run for task with final state: 'Success'\n",
      "INFO:prefect.TaskRunner:Task 'Anomaly[118]': Finished task run for task with final state: 'Success'\n",
      "[2020-10-30 14:52:52] INFO - prefect.TaskRunner | Task 'Anomaly[119]': Starting task run...\n",
      "INFO:prefect.TaskRunner:Task 'Anomaly[119]': Starting task run...\n",
      "[2020-10-30 14:52:52] INFO - prefect.TaskRunner | Task 'Anomaly[119]': Finished task run for task with final state: 'Success'\n",
      "INFO:prefect.TaskRunner:Task 'Anomaly[119]': Finished task run for task with final state: 'Success'\n",
      "[2020-10-30 14:52:52] INFO - prefect.TaskRunner | Task 'Anomaly[120]': Starting task run...\n",
      "INFO:prefect.TaskRunner:Task 'Anomaly[120]': Starting task run...\n",
      "[2020-10-30 14:52:52] INFO - prefect.TaskRunner | Task 'Anomaly[120]': Finished task run for task with final state: 'Success'\n",
      "INFO:prefect.TaskRunner:Task 'Anomaly[120]': Finished task run for task with final state: 'Success'\n",
      "[2020-10-30 14:52:52] INFO - prefect.TaskRunner | Task 'Anomaly[121]': Starting task run...\n",
      "INFO:prefect.TaskRunner:Task 'Anomaly[121]': Starting task run...\n",
      "[2020-10-30 14:52:52] INFO - prefect.TaskRunner | Task 'Anomaly[121]': Finished task run for task with final state: 'Success'\n",
      "INFO:prefect.TaskRunner:Task 'Anomaly[121]': Finished task run for task with final state: 'Success'\n",
      "[2020-10-30 14:52:52] INFO - prefect.TaskRunner | Task 'Anomaly[122]': Starting task run...\n",
      "INFO:prefect.TaskRunner:Task 'Anomaly[122]': Starting task run...\n",
      "[2020-10-30 14:52:53] INFO - prefect.TaskRunner | Task 'Anomaly[122]': Finished task run for task with final state: 'Success'\n",
      "INFO:prefect.TaskRunner:Task 'Anomaly[122]': Finished task run for task with final state: 'Success'\n",
      "[2020-10-30 14:52:53] INFO - prefect.TaskRunner | Task 'Anomaly[123]': Starting task run...\n",
      "INFO:prefect.TaskRunner:Task 'Anomaly[123]': Starting task run...\n",
      "[2020-10-30 14:52:53] INFO - prefect.TaskRunner | Task 'Anomaly[123]': Finished task run for task with final state: 'Success'\n",
      "INFO:prefect.TaskRunner:Task 'Anomaly[123]': Finished task run for task with final state: 'Success'\n",
      "[2020-10-30 14:52:53] INFO - prefect.TaskRunner | Task 'Anomaly[124]': Starting task run...\n",
      "INFO:prefect.TaskRunner:Task 'Anomaly[124]': Starting task run...\n",
      "[2020-10-30 14:52:53] INFO - prefect.TaskRunner | Task 'Anomaly[124]': Finished task run for task with final state: 'Success'\n",
      "INFO:prefect.TaskRunner:Task 'Anomaly[124]': Finished task run for task with final state: 'Success'\n",
      "[2020-10-30 14:52:53] INFO - prefect.TaskRunner | Task 'Anomaly[125]': Starting task run...\n",
      "INFO:prefect.TaskRunner:Task 'Anomaly[125]': Starting task run...\n",
      "[2020-10-30 14:52:53] INFO - prefect.TaskRunner | Task 'Anomaly[125]': Finished task run for task with final state: 'Success'\n",
      "INFO:prefect.TaskRunner:Task 'Anomaly[125]': Finished task run for task with final state: 'Success'\n",
      "[2020-10-30 14:52:53] INFO - prefect.TaskRunner | Task 'Anomaly[126]': Starting task run...\n",
      "INFO:prefect.TaskRunner:Task 'Anomaly[126]': Starting task run...\n",
      "[2020-10-30 14:52:53] INFO - prefect.TaskRunner | Task 'Anomaly[126]': Finished task run for task with final state: 'Success'\n",
      "INFO:prefect.TaskRunner:Task 'Anomaly[126]': Finished task run for task with final state: 'Success'\n",
      "[2020-10-30 14:52:53] INFO - prefect.TaskRunner | Task 'Anomaly[127]': Starting task run...\n",
      "INFO:prefect.TaskRunner:Task 'Anomaly[127]': Starting task run...\n",
      "[2020-10-30 14:52:53] INFO - prefect.TaskRunner | Task 'Anomaly[127]': Finished task run for task with final state: 'Success'\n",
      "INFO:prefect.TaskRunner:Task 'Anomaly[127]': Finished task run for task with final state: 'Success'\n",
      "[2020-10-30 14:52:53] INFO - prefect.TaskRunner | Task 'Anomaly[128]': Starting task run...\n",
      "INFO:prefect.TaskRunner:Task 'Anomaly[128]': Starting task run...\n",
      "[2020-10-30 14:52:53] INFO - prefect.TaskRunner | Task 'Anomaly[128]': Finished task run for task with final state: 'Success'\n",
      "INFO:prefect.TaskRunner:Task 'Anomaly[128]': Finished task run for task with final state: 'Success'\n",
      "[2020-10-30 14:52:53] INFO - prefect.TaskRunner | Task 'MergeConcat': Starting task run...\n",
      "INFO:prefect.TaskRunner:Task 'MergeConcat': Starting task run...\n",
      "[2020-10-30 14:52:56] INFO - prefect.TaskRunner | Task 'MergeConcat': Finished task run for task with final state: 'Success'\n",
      "INFO:prefect.TaskRunner:Task 'MergeConcat': Finished task run for task with final state: 'Success'\n",
      "[2020-10-30 14:52:56] INFO - prefect.TaskRunner | Task 'save_df': Starting task run...\n",
      "INFO:prefect.TaskRunner:Task 'save_df': Starting task run...\n",
      "[2020-10-30 14:52:56] INFO - prefect.TaskRunner | Task 'save_df': Finished task run for task with final state: 'Success'\n",
      "INFO:prefect.TaskRunner:Task 'save_df': Finished task run for task with final state: 'Success'\n",
      "[2020-10-30 14:52:56] INFO - prefect.FlowRunner | Flow run SUCCESS: all reference tasks succeeded\n",
      "INFO:prefect.FlowRunner:Flow run SUCCESS: all reference tasks succeeded\n"
     ]
    },
    {
     "output_type": "execute_result",
     "data": {
      "text/plain": [
       "<Success: \"All reference tasks succeeded.\">"
      ]
     },
     "metadata": {},
     "execution_count": 14
    }
   ],
   "source": [
    "fs.run()"
   ]
  },
  {
   "cell_type": "code",
   "execution_count": 22,
   "metadata": {},
   "outputs": [],
   "source": [
    "df1 = pd.read_csv(\"test_meli_outliear.csv\")"
   ]
  },
  {
   "cell_type": "code",
   "execution_count": 24,
   "metadata": {},
   "outputs": [],
   "source": [
    "del df1[\"Unnamed: 0\"]"
   ]
  },
  {
   "cell_type": "code",
   "execution_count": 25,
   "metadata": {},
   "outputs": [
    {
     "output_type": "execute_result",
     "data": {
      "text/plain": [
       "   campaign_id  clicks  cost_lc  impressions  outlier_lower_clicks  \\\n",
       "0    104047993   190.0   311.80       5220.0                 False   \n",
       "1    104048113   508.0   618.68       4357.0                 False   \n",
       "2    104048233    39.0    96.20        778.0                 False   \n",
       "3    104048353  1505.0  2035.83      18396.0                 False   \n",
       "4    104048593   457.0   664.27       5968.0                 False   \n",
       "\n",
       "   outlier_lower_cost_lc  outlier_lower_impressions  outlier_upper_clicks  \\\n",
       "0                  False                      False                 False   \n",
       "1                  False                      False                 False   \n",
       "2                  False                      False                 False   \n",
       "3                  False                      False                 False   \n",
       "4                  False                      False                 False   \n",
       "\n",
       "   outlier_upper_cost_lc  outlier_upper_impressions     tim_day  \\\n",
       "0                  False                      False  2020-10-28   \n",
       "1                  False                      False  2020-10-28   \n",
       "2                  False                      False  2020-10-28   \n",
       "3                  False                      False  2020-10-28   \n",
       "4                  False                      False  2020-10-28   \n",
       "\n",
       "   yhat_lower_clicks  yhat_lower_cost_lc  yhat_lower_impressions  \\\n",
       "0         128.706934          192.559241             4413.236178   \n",
       "1         331.902867          327.028289             2962.324740   \n",
       "2          14.239132           50.272620              596.876542   \n",
       "3        1324.278527         1739.395796            16853.367464   \n",
       "4         399.513700          509.756742             5896.125302   \n",
       "\n",
       "   yhat_upper_clicks  yhat_upper_cost_lc  yhat_upper_impressions  \n",
       "0         204.933339          342.425145             5981.313870  \n",
       "1         673.226635          778.261029             4694.022727  \n",
       "2          51.221185          121.371218              995.154476  \n",
       "3        1821.521302         2495.562377            22524.673588  \n",
       "4         591.687030          783.385750             7941.763638  "
      ],
      "text/html": "<div>\n<style scoped>\n    .dataframe tbody tr th:only-of-type {\n        vertical-align: middle;\n    }\n\n    .dataframe tbody tr th {\n        vertical-align: top;\n    }\n\n    .dataframe thead th {\n        text-align: right;\n    }\n</style>\n<table border=\"1\" class=\"dataframe\">\n  <thead>\n    <tr style=\"text-align: right;\">\n      <th></th>\n      <th>campaign_id</th>\n      <th>clicks</th>\n      <th>cost_lc</th>\n      <th>impressions</th>\n      <th>outlier_lower_clicks</th>\n      <th>outlier_lower_cost_lc</th>\n      <th>outlier_lower_impressions</th>\n      <th>outlier_upper_clicks</th>\n      <th>outlier_upper_cost_lc</th>\n      <th>outlier_upper_impressions</th>\n      <th>tim_day</th>\n      <th>yhat_lower_clicks</th>\n      <th>yhat_lower_cost_lc</th>\n      <th>yhat_lower_impressions</th>\n      <th>yhat_upper_clicks</th>\n      <th>yhat_upper_cost_lc</th>\n      <th>yhat_upper_impressions</th>\n    </tr>\n  </thead>\n  <tbody>\n    <tr>\n      <th>0</th>\n      <td>104047993</td>\n      <td>190.0</td>\n      <td>311.80</td>\n      <td>5220.0</td>\n      <td>False</td>\n      <td>False</td>\n      <td>False</td>\n      <td>False</td>\n      <td>False</td>\n      <td>False</td>\n      <td>2020-10-28</td>\n      <td>128.706934</td>\n      <td>192.559241</td>\n      <td>4413.236178</td>\n      <td>204.933339</td>\n      <td>342.425145</td>\n      <td>5981.313870</td>\n    </tr>\n    <tr>\n      <th>1</th>\n      <td>104048113</td>\n      <td>508.0</td>\n      <td>618.68</td>\n      <td>4357.0</td>\n      <td>False</td>\n      <td>False</td>\n      <td>False</td>\n      <td>False</td>\n      <td>False</td>\n      <td>False</td>\n      <td>2020-10-28</td>\n      <td>331.902867</td>\n      <td>327.028289</td>\n      <td>2962.324740</td>\n      <td>673.226635</td>\n      <td>778.261029</td>\n      <td>4694.022727</td>\n    </tr>\n    <tr>\n      <th>2</th>\n      <td>104048233</td>\n      <td>39.0</td>\n      <td>96.20</td>\n      <td>778.0</td>\n      <td>False</td>\n      <td>False</td>\n      <td>False</td>\n      <td>False</td>\n      <td>False</td>\n      <td>False</td>\n      <td>2020-10-28</td>\n      <td>14.239132</td>\n      <td>50.272620</td>\n      <td>596.876542</td>\n      <td>51.221185</td>\n      <td>121.371218</td>\n      <td>995.154476</td>\n    </tr>\n    <tr>\n      <th>3</th>\n      <td>104048353</td>\n      <td>1505.0</td>\n      <td>2035.83</td>\n      <td>18396.0</td>\n      <td>False</td>\n      <td>False</td>\n      <td>False</td>\n      <td>False</td>\n      <td>False</td>\n      <td>False</td>\n      <td>2020-10-28</td>\n      <td>1324.278527</td>\n      <td>1739.395796</td>\n      <td>16853.367464</td>\n      <td>1821.521302</td>\n      <td>2495.562377</td>\n      <td>22524.673588</td>\n    </tr>\n    <tr>\n      <th>4</th>\n      <td>104048593</td>\n      <td>457.0</td>\n      <td>664.27</td>\n      <td>5968.0</td>\n      <td>False</td>\n      <td>False</td>\n      <td>False</td>\n      <td>False</td>\n      <td>False</td>\n      <td>False</td>\n      <td>2020-10-28</td>\n      <td>399.513700</td>\n      <td>509.756742</td>\n      <td>5896.125302</td>\n      <td>591.687030</td>\n      <td>783.385750</td>\n      <td>7941.763638</td>\n    </tr>\n  </tbody>\n</table>\n</div>"
     },
     "metadata": {},
     "execution_count": 25
    }
   ],
   "source": [
    "df1.head()"
   ]
  }
 ],
 "metadata": {
  "kernelspec": {
   "display_name": "Python 3",
   "language": "python",
   "name": "python3"
  },
  "language_info": {
   "codemirror_mode": {
    "name": "ipython",
    "version": 3
   },
   "file_extension": ".py",
   "mimetype": "text/x-python",
   "name": "python",
   "nbconvert_exporter": "python",
   "pygments_lexer": "ipython3",
   "version": "3.7.6-final"
  },
  "toc-autonumbering": true
 },
 "nbformat": 4,
 "nbformat_minor": 4
}